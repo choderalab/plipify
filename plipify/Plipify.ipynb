{
 "cells": [
  {
   "cell_type": "markdown",
   "metadata": {},
   "source": [
    "# Plipify\n",
    "\n",
    "## Aim of this notebook\n",
    "\n",
    "- Create fingerprints for individual structures of the same protein\n",
    "- Create a frequency fingerprint across multiple structures of the same protein\n",
    "- Visualize the frequency fingerpint"
   ]
  },
  {
   "cell_type": "markdown",
   "metadata": {},
   "source": [
    "## Data\n",
    "\n",
    "> To contribute to the global effort to combat COVID-19, Diamond has been able to solve a new structure of the SARS-CoV-2 main protease (MPro) at high resolution (PDB ID: 6YB7), and complete a large XChem crystallographic fragment screen against it (detailed below). Data have been deposited with the PDB, but we are making the results available immediately to the world on this page; additional work is ongoing, and updates will be continually posted here in coming days and weeks.\n",
    "\n",
    "https://www.diamond.ac.uk/covid-19/for-scientists/Main-protease-structure-and-XChem.html "
   ]
  },
  {
   "cell_type": "markdown",
   "metadata": {},
   "source": [
    "### Next to-dos:\n",
    "- class design for frequency fp\n",
    "- wrap visualization code in functions and move to .py file\n",
    "- KLIF like visualization\n",
    "- wave visualization"
   ]
  },
  {
   "cell_type": "markdown",
   "metadata": {},
   "source": [
    "### Optional: Show all data acquired from PLIP in Data Frame."
   ]
  },
  {
   "cell_type": "code",
   "execution_count": 1,
   "metadata": {},
   "outputs": [
    {
     "data": {
      "application/vnd.jupyter.widget-view+json": {
       "model_id": "6407c8f1a4c1430597271b5ad7dedbf3",
       "version_major": 2,
       "version_minor": 0
      },
      "text/plain": [
       "HBox(children=(FloatProgress(value=0.0, max=22.0), HTML(value=u'')))"
      ]
     },
     "metadata": {},
     "output_type": "display_data"
    },
    {
     "name": "stdout",
     "output_type": "stream",
     "text": [
      "('File', './data/diamond_xchem_screen_mpro_all_pdbs/Mpro-x0397.pdb', 'does not exist?')\n",
      "('File', './data/diamond_xchem_screen_mpro_all_pdbs/Mpro-x0426.pdb', 'does not exist?')\n",
      "('File', './data/diamond_xchem_screen_mpro_all_pdbs/Mpro-x0395.pdb', 'does not exist?')\n",
      "\n"
     ]
    },
    {
     "data": {
      "text/markdown": [
       "# Structure Mpro-x0946.pdb"
      ],
      "text/plain": [
       "<IPython.core.display.Markdown object>"
      ]
     },
     "metadata": {},
     "output_type": "display_data"
    },
    {
     "data": {
      "text/markdown": [
       "## Site LIG:A:1101"
      ],
      "text/plain": [
       "<IPython.core.display.Markdown object>"
      ]
     },
     "metadata": {},
     "output_type": "display_data"
    },
    {
     "data": {
      "text/markdown": [
       "### waterbridge"
      ],
      "text/plain": [
       "<IPython.core.display.Markdown object>"
      ]
     },
     "metadata": {},
     "output_type": "display_data"
    },
    {
     "data": {
      "text/html": [
       "<div>\n",
       "<style scoped>\n",
       "    .dataframe tbody tr th:only-of-type {\n",
       "        vertical-align: middle;\n",
       "    }\n",
       "\n",
       "    .dataframe tbody tr th {\n",
       "        vertical-align: top;\n",
       "    }\n",
       "\n",
       "    .dataframe thead th {\n",
       "        text-align: right;\n",
       "    }\n",
       "</style>\n",
       "<table border=\"1\" class=\"dataframe\">\n",
       "  <thead>\n",
       "    <tr style=\"text-align: right;\">\n",
       "      <th></th>\n",
       "      <th>RESNR</th>\n",
       "      <th>RESTYPE</th>\n",
       "      <th>RESCHAIN</th>\n",
       "      <th>RESNR_LIG</th>\n",
       "      <th>RESTYPE_LIG</th>\n",
       "      <th>RESCHAIN_LIG</th>\n",
       "      <th>DIST_A-W</th>\n",
       "      <th>DIST_D-W</th>\n",
       "      <th>DON_ANGLE</th>\n",
       "      <th>WATER_ANGLE</th>\n",
       "      <th>PROTISDON</th>\n",
       "      <th>DONOR_IDX</th>\n",
       "      <th>DONORTYPE</th>\n",
       "      <th>ACCEPTOR_IDX</th>\n",
       "      <th>ACCEPTORTYPE</th>\n",
       "      <th>WATER_IDX</th>\n",
       "      <th>LIGCOO</th>\n",
       "      <th>PROTCOO</th>\n",
       "      <th>WATERCOO</th>\n",
       "    </tr>\n",
       "  </thead>\n",
       "  <tbody>\n",
       "    <tr>\n",
       "      <th>0</th>\n",
       "      <td>166</td>\n",
       "      <td>GLU</td>\n",
       "      <td>A</td>\n",
       "      <td>1101</td>\n",
       "      <td>LIG</td>\n",
       "      <td>A</td>\n",
       "      <td>4.03</td>\n",
       "      <td>3.11</td>\n",
       "      <td>173.92</td>\n",
       "      <td>93.79</td>\n",
       "      <td>True</td>\n",
       "      <td>1288</td>\n",
       "      <td>Nam</td>\n",
       "      <td>2383</td>\n",
       "      <td>N3</td>\n",
       "      <td>2434</td>\n",
       "      <td>(9.554, 5.104, 22.977)</td>\n",
       "      <td>(9.904, 2.716, 18.584)</td>\n",
       "      <td>(9.307, 1.422, 21.348)</td>\n",
       "    </tr>\n",
       "  </tbody>\n",
       "</table>\n",
       "</div>"
      ],
      "text/plain": [
       "   RESNR RESTYPE RESCHAIN  RESNR_LIG RESTYPE_LIG RESCHAIN_LIG DIST_A-W  \\\n",
       "0    166     GLU        A       1101         LIG            A     4.03   \n",
       "\n",
       "  DIST_D-W DON_ANGLE WATER_ANGLE  PROTISDON  DONOR_IDX DONORTYPE  \\\n",
       "0     3.11    173.92       93.79       True       1288       Nam   \n",
       "\n",
       "   ACCEPTOR_IDX ACCEPTORTYPE  WATER_IDX                  LIGCOO  \\\n",
       "0          2383           N3       2434  (9.554, 5.104, 22.977)   \n",
       "\n",
       "                  PROTCOO                WATERCOO  \n",
       "0  (9.904, 2.716, 18.584)  (9.307, 1.422, 21.348)  "
      ]
     },
     "metadata": {},
     "output_type": "display_data"
    },
    {
     "data": {
      "text/markdown": [
       "### hbond"
      ],
      "text/plain": [
       "<IPython.core.display.Markdown object>"
      ]
     },
     "metadata": {},
     "output_type": "display_data"
    },
    {
     "data": {
      "text/html": [
       "<div>\n",
       "<style scoped>\n",
       "    .dataframe tbody tr th:only-of-type {\n",
       "        vertical-align: middle;\n",
       "    }\n",
       "\n",
       "    .dataframe tbody tr th {\n",
       "        vertical-align: top;\n",
       "    }\n",
       "\n",
       "    .dataframe thead th {\n",
       "        text-align: right;\n",
       "    }\n",
       "</style>\n",
       "<table border=\"1\" class=\"dataframe\">\n",
       "  <thead>\n",
       "    <tr style=\"text-align: right;\">\n",
       "      <th></th>\n",
       "      <th>RESNR</th>\n",
       "      <th>RESTYPE</th>\n",
       "      <th>RESCHAIN</th>\n",
       "      <th>RESNR_LIG</th>\n",
       "      <th>RESTYPE_LIG</th>\n",
       "      <th>RESCHAIN_LIG</th>\n",
       "      <th>SIDECHAIN</th>\n",
       "      <th>DIST_H-A</th>\n",
       "      <th>DIST_D-A</th>\n",
       "      <th>DON_ANGLE</th>\n",
       "      <th>PROTISDON</th>\n",
       "      <th>DONORIDX</th>\n",
       "      <th>DONORTYPE</th>\n",
       "      <th>ACCEPTORIDX</th>\n",
       "      <th>ACCEPTORTYPE</th>\n",
       "      <th>LIGCOO</th>\n",
       "      <th>PROTCOO</th>\n",
       "    </tr>\n",
       "  </thead>\n",
       "  <tbody>\n",
       "    <tr>\n",
       "      <th>0</th>\n",
       "      <td>166</td>\n",
       "      <td>GLU</td>\n",
       "      <td>A</td>\n",
       "      <td>1101</td>\n",
       "      <td>LIG</td>\n",
       "      <td>A</td>\n",
       "      <td>False</td>\n",
       "      <td>1.82</td>\n",
       "      <td>2.83</td>\n",
       "      <td>174.51</td>\n",
       "      <td>False</td>\n",
       "      <td>2383</td>\n",
       "      <td>N3</td>\n",
       "      <td>1291</td>\n",
       "      <td>O2</td>\n",
       "      <td>(9.554, 5.104, 22.977)</td>\n",
       "      <td>(10.336, 4.819, 20.27)</td>\n",
       "    </tr>\n",
       "  </tbody>\n",
       "</table>\n",
       "</div>"
      ],
      "text/plain": [
       "   RESNR RESTYPE RESCHAIN  RESNR_LIG RESTYPE_LIG RESCHAIN_LIG  SIDECHAIN  \\\n",
       "0    166     GLU        A       1101         LIG            A      False   \n",
       "\n",
       "  DIST_H-A DIST_D-A DON_ANGLE  PROTISDON  DONORIDX DONORTYPE  ACCEPTORIDX  \\\n",
       "0     1.82     2.83    174.51      False      2383        N3         1291   \n",
       "\n",
       "  ACCEPTORTYPE                  LIGCOO                 PROTCOO  \n",
       "0           O2  (9.554, 5.104, 22.977)  (10.336, 4.819, 20.27)  "
      ]
     },
     "metadata": {},
     "output_type": "display_data"
    },
    {
     "data": {
      "text/markdown": [
       "### hydrophobic"
      ],
      "text/plain": [
       "<IPython.core.display.Markdown object>"
      ]
     },
     "metadata": {},
     "output_type": "display_data"
    },
    {
     "data": {
      "text/html": [
       "<div>\n",
       "<style scoped>\n",
       "    .dataframe tbody tr th:only-of-type {\n",
       "        vertical-align: middle;\n",
       "    }\n",
       "\n",
       "    .dataframe tbody tr th {\n",
       "        vertical-align: top;\n",
       "    }\n",
       "\n",
       "    .dataframe thead th {\n",
       "        text-align: right;\n",
       "    }\n",
       "</style>\n",
       "<table border=\"1\" class=\"dataframe\">\n",
       "  <thead>\n",
       "    <tr style=\"text-align: right;\">\n",
       "      <th></th>\n",
       "      <th>RESNR</th>\n",
       "      <th>RESTYPE</th>\n",
       "      <th>RESCHAIN</th>\n",
       "      <th>RESNR_LIG</th>\n",
       "      <th>RESTYPE_LIG</th>\n",
       "      <th>RESCHAIN_LIG</th>\n",
       "      <th>DIST</th>\n",
       "      <th>LIGCARBONIDX</th>\n",
       "      <th>PROTCARBONIDX</th>\n",
       "      <th>LIGCOO</th>\n",
       "      <th>PROTCOO</th>\n",
       "    </tr>\n",
       "  </thead>\n",
       "  <tbody>\n",
       "    <tr>\n",
       "      <th>0</th>\n",
       "      <td>165</td>\n",
       "      <td>MET</td>\n",
       "      <td>A</td>\n",
       "      <td>1101</td>\n",
       "      <td>LIG</td>\n",
       "      <td>A</td>\n",
       "      <td>3.78</td>\n",
       "      <td>2390</td>\n",
       "      <td>1284</td>\n",
       "      <td>(13.336, 2.198, 22.754)</td>\n",
       "      <td>(12.359, 1.056, 19.282)</td>\n",
       "    </tr>\n",
       "    <tr>\n",
       "      <th>1</th>\n",
       "      <td>189</td>\n",
       "      <td>GLN</td>\n",
       "      <td>A</td>\n",
       "      <td>1101</td>\n",
       "      <td>LIG</td>\n",
       "      <td>A</td>\n",
       "      <td>3.91</td>\n",
       "      <td>2387</td>\n",
       "      <td>1469</td>\n",
       "      <td>(10.861, 2.392, 24.027)</td>\n",
       "      <td>(11.848, 3.317, 27.693)</td>\n",
       "    </tr>\n",
       "  </tbody>\n",
       "</table>\n",
       "</div>"
      ],
      "text/plain": [
       "   RESNR RESTYPE RESCHAIN  RESNR_LIG RESTYPE_LIG RESCHAIN_LIG  DIST  \\\n",
       "0    165     MET        A       1101         LIG            A  3.78   \n",
       "1    189     GLN        A       1101         LIG            A  3.91   \n",
       "\n",
       "   LIGCARBONIDX  PROTCARBONIDX                   LIGCOO  \\\n",
       "0          2390           1284  (13.336, 2.198, 22.754)   \n",
       "1          2387           1469  (10.861, 2.392, 24.027)   \n",
       "\n",
       "                   PROTCOO  \n",
       "0  (12.359, 1.056, 19.282)  \n",
       "1  (11.848, 3.317, 27.693)  "
      ]
     },
     "metadata": {},
     "output_type": "display_data"
    },
    {
     "data": {
      "text/markdown": [
       "# Structure Mpro-x0107.pdb"
      ],
      "text/plain": [
       "<IPython.core.display.Markdown object>"
      ]
     },
     "metadata": {},
     "output_type": "display_data"
    },
    {
     "data": {
      "text/markdown": [
       "## Site LIG:A:1101"
      ],
      "text/plain": [
       "<IPython.core.display.Markdown object>"
      ]
     },
     "metadata": {},
     "output_type": "display_data"
    },
    {
     "data": {
      "text/markdown": [
       "### hbond"
      ],
      "text/plain": [
       "<IPython.core.display.Markdown object>"
      ]
     },
     "metadata": {},
     "output_type": "display_data"
    },
    {
     "data": {
      "text/html": [
       "<div>\n",
       "<style scoped>\n",
       "    .dataframe tbody tr th:only-of-type {\n",
       "        vertical-align: middle;\n",
       "    }\n",
       "\n",
       "    .dataframe tbody tr th {\n",
       "        vertical-align: top;\n",
       "    }\n",
       "\n",
       "    .dataframe thead th {\n",
       "        text-align: right;\n",
       "    }\n",
       "</style>\n",
       "<table border=\"1\" class=\"dataframe\">\n",
       "  <thead>\n",
       "    <tr style=\"text-align: right;\">\n",
       "      <th></th>\n",
       "      <th>RESNR</th>\n",
       "      <th>RESTYPE</th>\n",
       "      <th>RESCHAIN</th>\n",
       "      <th>RESNR_LIG</th>\n",
       "      <th>RESTYPE_LIG</th>\n",
       "      <th>RESCHAIN_LIG</th>\n",
       "      <th>SIDECHAIN</th>\n",
       "      <th>DIST_H-A</th>\n",
       "      <th>DIST_D-A</th>\n",
       "      <th>DON_ANGLE</th>\n",
       "      <th>PROTISDON</th>\n",
       "      <th>DONORIDX</th>\n",
       "      <th>DONORTYPE</th>\n",
       "      <th>ACCEPTORIDX</th>\n",
       "      <th>ACCEPTORTYPE</th>\n",
       "      <th>LIGCOO</th>\n",
       "      <th>PROTCOO</th>\n",
       "    </tr>\n",
       "  </thead>\n",
       "  <tbody>\n",
       "    <tr>\n",
       "      <th>0</th>\n",
       "      <td>166</td>\n",
       "      <td>GLU</td>\n",
       "      <td>A</td>\n",
       "      <td>1101</td>\n",
       "      <td>LIG</td>\n",
       "      <td>A</td>\n",
       "      <td>False</td>\n",
       "      <td>1.97</td>\n",
       "      <td>2.93</td>\n",
       "      <td>165.31</td>\n",
       "      <td>True</td>\n",
       "      <td>1288</td>\n",
       "      <td>Nam</td>\n",
       "      <td>2393</td>\n",
       "      <td>O2</td>\n",
       "      <td>(9.346, 0.96, 20.955)</td>\n",
       "      <td>(9.663, 2.532, 18.498)</td>\n",
       "    </tr>\n",
       "  </tbody>\n",
       "</table>\n",
       "</div>"
      ],
      "text/plain": [
       "   RESNR RESTYPE RESCHAIN  RESNR_LIG RESTYPE_LIG RESCHAIN_LIG  SIDECHAIN  \\\n",
       "0    166     GLU        A       1101         LIG            A      False   \n",
       "\n",
       "  DIST_H-A DIST_D-A DON_ANGLE  PROTISDON  DONORIDX DONORTYPE  ACCEPTORIDX  \\\n",
       "0     1.97     2.93    165.31       True      1288       Nam         2393   \n",
       "\n",
       "  ACCEPTORTYPE                 LIGCOO                 PROTCOO  \n",
       "0           O2  (9.346, 0.96, 20.955)  (9.663, 2.532, 18.498)  "
      ]
     },
     "metadata": {},
     "output_type": "display_data"
    },
    {
     "data": {
      "text/markdown": [
       "### hydrophobic"
      ],
      "text/plain": [
       "<IPython.core.display.Markdown object>"
      ]
     },
     "metadata": {},
     "output_type": "display_data"
    },
    {
     "data": {
      "text/html": [
       "<div>\n",
       "<style scoped>\n",
       "    .dataframe tbody tr th:only-of-type {\n",
       "        vertical-align: middle;\n",
       "    }\n",
       "\n",
       "    .dataframe tbody tr th {\n",
       "        vertical-align: top;\n",
       "    }\n",
       "\n",
       "    .dataframe thead th {\n",
       "        text-align: right;\n",
       "    }\n",
       "</style>\n",
       "<table border=\"1\" class=\"dataframe\">\n",
       "  <thead>\n",
       "    <tr style=\"text-align: right;\">\n",
       "      <th></th>\n",
       "      <th>RESNR</th>\n",
       "      <th>RESTYPE</th>\n",
       "      <th>RESCHAIN</th>\n",
       "      <th>RESNR_LIG</th>\n",
       "      <th>RESTYPE_LIG</th>\n",
       "      <th>RESCHAIN_LIG</th>\n",
       "      <th>DIST</th>\n",
       "      <th>LIGCARBONIDX</th>\n",
       "      <th>PROTCARBONIDX</th>\n",
       "      <th>LIGCOO</th>\n",
       "      <th>PROTCOO</th>\n",
       "    </tr>\n",
       "  </thead>\n",
       "  <tbody>\n",
       "    <tr>\n",
       "      <th>0</th>\n",
       "      <td>166</td>\n",
       "      <td>GLU</td>\n",
       "      <td>A</td>\n",
       "      <td>1101</td>\n",
       "      <td>LIG</td>\n",
       "      <td>A</td>\n",
       "      <td>3.96</td>\n",
       "      <td>2388</td>\n",
       "      <td>1292</td>\n",
       "      <td>(4.96, 1.058, 19.367)</td>\n",
       "      <td>(7.648, 3.931, 18.879)</td>\n",
       "    </tr>\n",
       "  </tbody>\n",
       "</table>\n",
       "</div>"
      ],
      "text/plain": [
       "   RESNR RESTYPE RESCHAIN  RESNR_LIG RESTYPE_LIG RESCHAIN_LIG  DIST  \\\n",
       "0    166     GLU        A       1101         LIG            A  3.96   \n",
       "\n",
       "   LIGCARBONIDX  PROTCARBONIDX                 LIGCOO                 PROTCOO  \n",
       "0          2388           1292  (4.96, 1.058, 19.367)  (7.648, 3.931, 18.879)  "
      ]
     },
     "metadata": {},
     "output_type": "display_data"
    },
    {
     "data": {
      "text/markdown": [
       "# Structure Mpro-x0354.pdb"
      ],
      "text/plain": [
       "<IPython.core.display.Markdown object>"
      ]
     },
     "metadata": {},
     "output_type": "display_data"
    },
    {
     "data": {
      "text/markdown": [
       "## Site LIG:A:701"
      ],
      "text/plain": [
       "<IPython.core.display.Markdown object>"
      ]
     },
     "metadata": {},
     "output_type": "display_data"
    },
    {
     "data": {
      "text/markdown": [
       "### pistacking"
      ],
      "text/plain": [
       "<IPython.core.display.Markdown object>"
      ]
     },
     "metadata": {},
     "output_type": "display_data"
    },
    {
     "data": {
      "text/html": [
       "<div>\n",
       "<style scoped>\n",
       "    .dataframe tbody tr th:only-of-type {\n",
       "        vertical-align: middle;\n",
       "    }\n",
       "\n",
       "    .dataframe tbody tr th {\n",
       "        vertical-align: top;\n",
       "    }\n",
       "\n",
       "    .dataframe thead th {\n",
       "        text-align: right;\n",
       "    }\n",
       "</style>\n",
       "<table border=\"1\" class=\"dataframe\">\n",
       "  <thead>\n",
       "    <tr style=\"text-align: right;\">\n",
       "      <th></th>\n",
       "      <th>RESNR</th>\n",
       "      <th>RESTYPE</th>\n",
       "      <th>RESCHAIN</th>\n",
       "      <th>RESNR_LIG</th>\n",
       "      <th>RESTYPE_LIG</th>\n",
       "      <th>RESCHAIN_LIG</th>\n",
       "      <th>CENTDIST</th>\n",
       "      <th>ANGLE</th>\n",
       "      <th>OFFSET</th>\n",
       "      <th>TYPE</th>\n",
       "      <th>LIG_IDX_LIST</th>\n",
       "      <th>LIGCOO</th>\n",
       "      <th>PROTCOO</th>\n",
       "    </tr>\n",
       "  </thead>\n",
       "  <tbody>\n",
       "    <tr>\n",
       "      <th>0</th>\n",
       "      <td>41</td>\n",
       "      <td>HIS</td>\n",
       "      <td>A</td>\n",
       "      <td>701</td>\n",
       "      <td>LIG</td>\n",
       "      <td>A</td>\n",
       "      <td>4.82</td>\n",
       "      <td>75.36</td>\n",
       "      <td>0.64</td>\n",
       "      <td>T</td>\n",
       "      <td>2510,2511,2513,2514,2521,2522</td>\n",
       "      <td>(11.218166666666667, -1.441, 24.432)</td>\n",
       "      <td>(11.959999999999999, -4.989599999999999, 21.2556)</td>\n",
       "    </tr>\n",
       "  </tbody>\n",
       "</table>\n",
       "</div>"
      ],
      "text/plain": [
       "   RESNR RESTYPE RESCHAIN  RESNR_LIG RESTYPE_LIG RESCHAIN_LIG CENTDIST  ANGLE  \\\n",
       "0     41     HIS        A        701         LIG            A     4.82  75.36   \n",
       "\n",
       "  OFFSET TYPE                   LIG_IDX_LIST  \\\n",
       "0   0.64    T  2510,2511,2513,2514,2521,2522   \n",
       "\n",
       "                                 LIGCOO  \\\n",
       "0  (11.218166666666667, -1.441, 24.432)   \n",
       "\n",
       "                                             PROTCOO  \n",
       "0  (11.959999999999999, -4.989599999999999, 21.2556)  "
      ]
     },
     "metadata": {},
     "output_type": "display_data"
    },
    {
     "data": {
      "text/markdown": [
       "### hydrophobic"
      ],
      "text/plain": [
       "<IPython.core.display.Markdown object>"
      ]
     },
     "metadata": {},
     "output_type": "display_data"
    },
    {
     "data": {
      "text/html": [
       "<div>\n",
       "<style scoped>\n",
       "    .dataframe tbody tr th:only-of-type {\n",
       "        vertical-align: middle;\n",
       "    }\n",
       "\n",
       "    .dataframe tbody tr th {\n",
       "        vertical-align: top;\n",
       "    }\n",
       "\n",
       "    .dataframe thead th {\n",
       "        text-align: right;\n",
       "    }\n",
       "</style>\n",
       "<table border=\"1\" class=\"dataframe\">\n",
       "  <thead>\n",
       "    <tr style=\"text-align: right;\">\n",
       "      <th></th>\n",
       "      <th>RESNR</th>\n",
       "      <th>RESTYPE</th>\n",
       "      <th>RESCHAIN</th>\n",
       "      <th>RESNR_LIG</th>\n",
       "      <th>RESTYPE_LIG</th>\n",
       "      <th>RESCHAIN_LIG</th>\n",
       "      <th>DIST</th>\n",
       "      <th>LIGCARBONIDX</th>\n",
       "      <th>PROTCARBONIDX</th>\n",
       "      <th>LIGCOO</th>\n",
       "      <th>PROTCOO</th>\n",
       "    </tr>\n",
       "  </thead>\n",
       "  <tbody>\n",
       "    <tr>\n",
       "      <th>0</th>\n",
       "      <td>41</td>\n",
       "      <td>HIS</td>\n",
       "      <td>A</td>\n",
       "      <td>701</td>\n",
       "      <td>LIG</td>\n",
       "      <td>A</td>\n",
       "      <td>3.86</td>\n",
       "      <td>2510</td>\n",
       "      <td>319</td>\n",
       "      <td>(11.769, -2.569, 23.891)</td>\n",
       "      <td>(13.888, -5.653, 22.94)</td>\n",
       "    </tr>\n",
       "  </tbody>\n",
       "</table>\n",
       "</div>"
      ],
      "text/plain": [
       "   RESNR RESTYPE RESCHAIN  RESNR_LIG RESTYPE_LIG RESCHAIN_LIG  DIST  \\\n",
       "0     41     HIS        A        701         LIG            A  3.86   \n",
       "\n",
       "   LIGCARBONIDX  PROTCARBONIDX                    LIGCOO  \\\n",
       "0          2510            319  (11.769, -2.569, 23.891)   \n",
       "\n",
       "                   PROTCOO  \n",
       "0  (13.888, -5.653, 22.94)  "
      ]
     },
     "metadata": {},
     "output_type": "display_data"
    },
    {
     "data": {
      "text/markdown": [
       "# Structure Mpro-x0072.pdb"
      ],
      "text/plain": [
       "<IPython.core.display.Markdown object>"
      ]
     },
     "metadata": {},
     "output_type": "display_data"
    },
    {
     "data": {
      "text/markdown": [
       "## Site LIG:A:1101"
      ],
      "text/plain": [
       "<IPython.core.display.Markdown object>"
      ]
     },
     "metadata": {},
     "output_type": "display_data"
    },
    {
     "data": {
      "text/markdown": [
       "### hbond"
      ],
      "text/plain": [
       "<IPython.core.display.Markdown object>"
      ]
     },
     "metadata": {},
     "output_type": "display_data"
    },
    {
     "data": {
      "text/html": [
       "<div>\n",
       "<style scoped>\n",
       "    .dataframe tbody tr th:only-of-type {\n",
       "        vertical-align: middle;\n",
       "    }\n",
       "\n",
       "    .dataframe tbody tr th {\n",
       "        vertical-align: top;\n",
       "    }\n",
       "\n",
       "    .dataframe thead th {\n",
       "        text-align: right;\n",
       "    }\n",
       "</style>\n",
       "<table border=\"1\" class=\"dataframe\">\n",
       "  <thead>\n",
       "    <tr style=\"text-align: right;\">\n",
       "      <th></th>\n",
       "      <th>RESNR</th>\n",
       "      <th>RESTYPE</th>\n",
       "      <th>RESCHAIN</th>\n",
       "      <th>RESNR_LIG</th>\n",
       "      <th>RESTYPE_LIG</th>\n",
       "      <th>RESCHAIN_LIG</th>\n",
       "      <th>SIDECHAIN</th>\n",
       "      <th>DIST_H-A</th>\n",
       "      <th>DIST_D-A</th>\n",
       "      <th>DON_ANGLE</th>\n",
       "      <th>PROTISDON</th>\n",
       "      <th>DONORIDX</th>\n",
       "      <th>DONORTYPE</th>\n",
       "      <th>ACCEPTORIDX</th>\n",
       "      <th>ACCEPTORTYPE</th>\n",
       "      <th>LIGCOO</th>\n",
       "      <th>PROTCOO</th>\n",
       "    </tr>\n",
       "  </thead>\n",
       "  <tbody>\n",
       "    <tr>\n",
       "      <th>0</th>\n",
       "      <td>25</td>\n",
       "      <td>THR</td>\n",
       "      <td>A</td>\n",
       "      <td>1101</td>\n",
       "      <td>LIG</td>\n",
       "      <td>A</td>\n",
       "      <td>True</td>\n",
       "      <td>3.27</td>\n",
       "      <td>3.78</td>\n",
       "      <td>115.00</td>\n",
       "      <td>True</td>\n",
       "      <td>178</td>\n",
       "      <td>O3</td>\n",
       "      <td>2393</td>\n",
       "      <td>O2</td>\n",
       "      <td>(9.235, -5.584, 26.122)</td>\n",
       "      <td>(8.019, -9.051, 27.017)</td>\n",
       "    </tr>\n",
       "  </tbody>\n",
       "</table>\n",
       "</div>"
      ],
      "text/plain": [
       "   RESNR RESTYPE RESCHAIN  RESNR_LIG RESTYPE_LIG RESCHAIN_LIG  SIDECHAIN  \\\n",
       "0     25     THR        A       1101         LIG            A       True   \n",
       "\n",
       "  DIST_H-A DIST_D-A DON_ANGLE  PROTISDON  DONORIDX DONORTYPE  ACCEPTORIDX  \\\n",
       "0     3.27     3.78    115.00       True       178        O3         2393   \n",
       "\n",
       "  ACCEPTORTYPE                   LIGCOO                  PROTCOO  \n",
       "0           O2  (9.235, -5.584, 26.122)  (8.019, -9.051, 27.017)  "
      ]
     },
     "metadata": {},
     "output_type": "display_data"
    },
    {
     "data": {
      "text/markdown": [
       "### pistacking"
      ],
      "text/plain": [
       "<IPython.core.display.Markdown object>"
      ]
     },
     "metadata": {},
     "output_type": "display_data"
    },
    {
     "data": {
      "text/html": [
       "<div>\n",
       "<style scoped>\n",
       "    .dataframe tbody tr th:only-of-type {\n",
       "        vertical-align: middle;\n",
       "    }\n",
       "\n",
       "    .dataframe tbody tr th {\n",
       "        vertical-align: top;\n",
       "    }\n",
       "\n",
       "    .dataframe thead th {\n",
       "        text-align: right;\n",
       "    }\n",
       "</style>\n",
       "<table border=\"1\" class=\"dataframe\">\n",
       "  <thead>\n",
       "    <tr style=\"text-align: right;\">\n",
       "      <th></th>\n",
       "      <th>RESNR</th>\n",
       "      <th>RESTYPE</th>\n",
       "      <th>RESCHAIN</th>\n",
       "      <th>RESNR_LIG</th>\n",
       "      <th>RESTYPE_LIG</th>\n",
       "      <th>RESCHAIN_LIG</th>\n",
       "      <th>CENTDIST</th>\n",
       "      <th>ANGLE</th>\n",
       "      <th>OFFSET</th>\n",
       "      <th>TYPE</th>\n",
       "      <th>LIG_IDX_LIST</th>\n",
       "      <th>LIGCOO</th>\n",
       "      <th>PROTCOO</th>\n",
       "    </tr>\n",
       "  </thead>\n",
       "  <tbody>\n",
       "    <tr>\n",
       "      <th>0</th>\n",
       "      <td>41</td>\n",
       "      <td>HIS</td>\n",
       "      <td>A</td>\n",
       "      <td>1101</td>\n",
       "      <td>LIG</td>\n",
       "      <td>A</td>\n",
       "      <td>4.80</td>\n",
       "      <td>79.18</td>\n",
       "      <td>1.16</td>\n",
       "      <td>T</td>\n",
       "      <td>2386,2387,2388,2389,2390,2391</td>\n",
       "      <td>(12.043333333333335, -0.7759999999999999, 23.4...</td>\n",
       "      <td>(11.8164, -5.1314, 21.399800000000003)</td>\n",
       "    </tr>\n",
       "  </tbody>\n",
       "</table>\n",
       "</div>"
      ],
      "text/plain": [
       "   RESNR RESTYPE RESCHAIN  RESNR_LIG RESTYPE_LIG RESCHAIN_LIG CENTDIST  ANGLE  \\\n",
       "0     41     HIS        A       1101         LIG            A     4.80  79.18   \n",
       "\n",
       "  OFFSET TYPE                   LIG_IDX_LIST  \\\n",
       "0   1.16    T  2386,2387,2388,2389,2390,2391   \n",
       "\n",
       "                                              LIGCOO  \\\n",
       "0  (12.043333333333335, -0.7759999999999999, 23.4...   \n",
       "\n",
       "                                  PROTCOO  \n",
       "0  (11.8164, -5.1314, 21.399800000000003)  "
      ]
     },
     "metadata": {},
     "output_type": "display_data"
    },
    {
     "data": {
      "text/markdown": [
       "### hydrophobic"
      ],
      "text/plain": [
       "<IPython.core.display.Markdown object>"
      ]
     },
     "metadata": {},
     "output_type": "display_data"
    },
    {
     "data": {
      "text/html": [
       "<div>\n",
       "<style scoped>\n",
       "    .dataframe tbody tr th:only-of-type {\n",
       "        vertical-align: middle;\n",
       "    }\n",
       "\n",
       "    .dataframe tbody tr th {\n",
       "        vertical-align: top;\n",
       "    }\n",
       "\n",
       "    .dataframe thead th {\n",
       "        text-align: right;\n",
       "    }\n",
       "</style>\n",
       "<table border=\"1\" class=\"dataframe\">\n",
       "  <thead>\n",
       "    <tr style=\"text-align: right;\">\n",
       "      <th></th>\n",
       "      <th>RESNR</th>\n",
       "      <th>RESTYPE</th>\n",
       "      <th>RESCHAIN</th>\n",
       "      <th>RESNR_LIG</th>\n",
       "      <th>RESTYPE_LIG</th>\n",
       "      <th>RESCHAIN_LIG</th>\n",
       "      <th>DIST</th>\n",
       "      <th>LIGCARBONIDX</th>\n",
       "      <th>PROTCARBONIDX</th>\n",
       "      <th>LIGCOO</th>\n",
       "      <th>PROTCOO</th>\n",
       "    </tr>\n",
       "  </thead>\n",
       "  <tbody>\n",
       "    <tr>\n",
       "      <th>0</th>\n",
       "      <td>189</td>\n",
       "      <td>GLN</td>\n",
       "      <td>A</td>\n",
       "      <td>1101</td>\n",
       "      <td>LIG</td>\n",
       "      <td>A</td>\n",
       "      <td>3.86</td>\n",
       "      <td>2388</td>\n",
       "      <td>1468</td>\n",
       "      <td>(12.358, 0.271, 24.254)</td>\n",
       "      <td>(12.928, 2.477, 27.368)</td>\n",
       "    </tr>\n",
       "  </tbody>\n",
       "</table>\n",
       "</div>"
      ],
      "text/plain": [
       "   RESNR RESTYPE RESCHAIN  RESNR_LIG RESTYPE_LIG RESCHAIN_LIG  DIST  \\\n",
       "0    189     GLN        A       1101         LIG            A  3.86   \n",
       "\n",
       "   LIGCARBONIDX  PROTCARBONIDX                   LIGCOO  \\\n",
       "0          2388           1468  (12.358, 0.271, 24.254)   \n",
       "\n",
       "                   PROTCOO  \n",
       "0  (12.928, 2.477, 27.368)  "
      ]
     },
     "metadata": {},
     "output_type": "display_data"
    },
    {
     "data": {
      "text/markdown": [
       "# Structure Mpro-x0161.pdb"
      ],
      "text/plain": [
       "<IPython.core.display.Markdown object>"
      ]
     },
     "metadata": {},
     "output_type": "display_data"
    },
    {
     "data": {
      "text/markdown": [
       "## Site LIG:A:1101"
      ],
      "text/plain": [
       "<IPython.core.display.Markdown object>"
      ]
     },
     "metadata": {},
     "output_type": "display_data"
    },
    {
     "data": {
      "text/markdown": [
       "### waterbridge"
      ],
      "text/plain": [
       "<IPython.core.display.Markdown object>"
      ]
     },
     "metadata": {},
     "output_type": "display_data"
    },
    {
     "data": {
      "text/html": [
       "<div>\n",
       "<style scoped>\n",
       "    .dataframe tbody tr th:only-of-type {\n",
       "        vertical-align: middle;\n",
       "    }\n",
       "\n",
       "    .dataframe tbody tr th {\n",
       "        vertical-align: top;\n",
       "    }\n",
       "\n",
       "    .dataframe thead th {\n",
       "        text-align: right;\n",
       "    }\n",
       "</style>\n",
       "<table border=\"1\" class=\"dataframe\">\n",
       "  <thead>\n",
       "    <tr style=\"text-align: right;\">\n",
       "      <th></th>\n",
       "      <th>RESNR</th>\n",
       "      <th>RESTYPE</th>\n",
       "      <th>RESCHAIN</th>\n",
       "      <th>RESNR_LIG</th>\n",
       "      <th>RESTYPE_LIG</th>\n",
       "      <th>RESCHAIN_LIG</th>\n",
       "      <th>DIST_A-W</th>\n",
       "      <th>DIST_D-W</th>\n",
       "      <th>DON_ANGLE</th>\n",
       "      <th>WATER_ANGLE</th>\n",
       "      <th>PROTISDON</th>\n",
       "      <th>DONOR_IDX</th>\n",
       "      <th>DONORTYPE</th>\n",
       "      <th>ACCEPTOR_IDX</th>\n",
       "      <th>ACCEPTORTYPE</th>\n",
       "      <th>WATER_IDX</th>\n",
       "      <th>LIGCOO</th>\n",
       "      <th>PROTCOO</th>\n",
       "      <th>WATERCOO</th>\n",
       "    </tr>\n",
       "  </thead>\n",
       "  <tbody>\n",
       "    <tr>\n",
       "      <th>0</th>\n",
       "      <td>166</td>\n",
       "      <td>GLU</td>\n",
       "      <td>A</td>\n",
       "      <td>1101</td>\n",
       "      <td>LIG</td>\n",
       "      <td>A</td>\n",
       "      <td>4.01</td>\n",
       "      <td>2.87</td>\n",
       "      <td>172.42</td>\n",
       "      <td>89.78</td>\n",
       "      <td>True</td>\n",
       "      <td>1288</td>\n",
       "      <td>Nam</td>\n",
       "      <td>2391</td>\n",
       "      <td>N3</td>\n",
       "      <td>2433</td>\n",
       "      <td>(9.311, 5.041, 22.782)</td>\n",
       "      <td>(9.967, 2.685, 18.385)</td>\n",
       "      <td>(9.274, 1.499, 20.904)</td>\n",
       "    </tr>\n",
       "  </tbody>\n",
       "</table>\n",
       "</div>"
      ],
      "text/plain": [
       "   RESNR RESTYPE RESCHAIN  RESNR_LIG RESTYPE_LIG RESCHAIN_LIG DIST_A-W  \\\n",
       "0    166     GLU        A       1101         LIG            A     4.01   \n",
       "\n",
       "  DIST_D-W DON_ANGLE WATER_ANGLE  PROTISDON  DONOR_IDX DONORTYPE  \\\n",
       "0     2.87    172.42       89.78       True       1288       Nam   \n",
       "\n",
       "   ACCEPTOR_IDX ACCEPTORTYPE  WATER_IDX                  LIGCOO  \\\n",
       "0          2391           N3       2433  (9.311, 5.041, 22.782)   \n",
       "\n",
       "                  PROTCOO                WATERCOO  \n",
       "0  (9.967, 2.685, 18.385)  (9.274, 1.499, 20.904)  "
      ]
     },
     "metadata": {},
     "output_type": "display_data"
    },
    {
     "data": {
      "text/markdown": [
       "### saltbridge"
      ],
      "text/plain": [
       "<IPython.core.display.Markdown object>"
      ]
     },
     "metadata": {},
     "output_type": "display_data"
    },
    {
     "data": {
      "text/html": [
       "<div>\n",
       "<style scoped>\n",
       "    .dataframe tbody tr th:only-of-type {\n",
       "        vertical-align: middle;\n",
       "    }\n",
       "\n",
       "    .dataframe tbody tr th {\n",
       "        vertical-align: top;\n",
       "    }\n",
       "\n",
       "    .dataframe thead th {\n",
       "        text-align: right;\n",
       "    }\n",
       "</style>\n",
       "<table border=\"1\" class=\"dataframe\">\n",
       "  <thead>\n",
       "    <tr style=\"text-align: right;\">\n",
       "      <th></th>\n",
       "      <th>RESNR</th>\n",
       "      <th>RESTYPE</th>\n",
       "      <th>RESCHAIN</th>\n",
       "      <th>RESNR_LIG</th>\n",
       "      <th>RESTYPE_LIG</th>\n",
       "      <th>RESCHAIN_LIG</th>\n",
       "      <th>DIST</th>\n",
       "      <th>PROTISPOS</th>\n",
       "      <th>LIG_GROUP</th>\n",
       "      <th>LIG_IDX_LIST</th>\n",
       "      <th>LIGCOO</th>\n",
       "      <th>PROTCOO</th>\n",
       "    </tr>\n",
       "  </thead>\n",
       "  <tbody>\n",
       "    <tr>\n",
       "      <th>0</th>\n",
       "      <td>41</td>\n",
       "      <td>HIS</td>\n",
       "      <td>A</td>\n",
       "      <td>1101</td>\n",
       "      <td>LIG</td>\n",
       "      <td>A</td>\n",
       "      <td>5.18</td>\n",
       "      <td>True</td>\n",
       "      <td>Carboxylate</td>\n",
       "      <td>2392,2393</td>\n",
       "      <td>(13.9435, -0.877, 23.3495)</td>\n",
       "      <td>(11.7745, -4.8115000000000006, 20.7695)</td>\n",
       "    </tr>\n",
       "  </tbody>\n",
       "</table>\n",
       "</div>"
      ],
      "text/plain": [
       "   RESNR RESTYPE RESCHAIN  RESNR_LIG RESTYPE_LIG RESCHAIN_LIG  DIST  \\\n",
       "0     41     HIS        A       1101         LIG            A  5.18   \n",
       "\n",
       "   PROTISPOS    LIG_GROUP LIG_IDX_LIST                      LIGCOO  \\\n",
       "0       True  Carboxylate    2392,2393  (13.9435, -0.877, 23.3495)   \n",
       "\n",
       "                                   PROTCOO  \n",
       "0  (11.7745, -4.8115000000000006, 20.7695)  "
      ]
     },
     "metadata": {},
     "output_type": "display_data"
    },
    {
     "data": {
      "text/markdown": [
       "### hbond"
      ],
      "text/plain": [
       "<IPython.core.display.Markdown object>"
      ]
     },
     "metadata": {},
     "output_type": "display_data"
    },
    {
     "data": {
      "text/html": [
       "<div>\n",
       "<style scoped>\n",
       "    .dataframe tbody tr th:only-of-type {\n",
       "        vertical-align: middle;\n",
       "    }\n",
       "\n",
       "    .dataframe tbody tr th {\n",
       "        vertical-align: top;\n",
       "    }\n",
       "\n",
       "    .dataframe thead th {\n",
       "        text-align: right;\n",
       "    }\n",
       "</style>\n",
       "<table border=\"1\" class=\"dataframe\">\n",
       "  <thead>\n",
       "    <tr style=\"text-align: right;\">\n",
       "      <th></th>\n",
       "      <th>RESNR</th>\n",
       "      <th>RESTYPE</th>\n",
       "      <th>RESCHAIN</th>\n",
       "      <th>RESNR_LIG</th>\n",
       "      <th>RESTYPE_LIG</th>\n",
       "      <th>RESCHAIN_LIG</th>\n",
       "      <th>SIDECHAIN</th>\n",
       "      <th>DIST_H-A</th>\n",
       "      <th>DIST_D-A</th>\n",
       "      <th>DON_ANGLE</th>\n",
       "      <th>PROTISDON</th>\n",
       "      <th>DONORIDX</th>\n",
       "      <th>DONORTYPE</th>\n",
       "      <th>ACCEPTORIDX</th>\n",
       "      <th>ACCEPTORTYPE</th>\n",
       "      <th>LIGCOO</th>\n",
       "      <th>PROTCOO</th>\n",
       "    </tr>\n",
       "  </thead>\n",
       "  <tbody>\n",
       "    <tr>\n",
       "      <th>0</th>\n",
       "      <td>189</td>\n",
       "      <td>GLN</td>\n",
       "      <td>A</td>\n",
       "      <td>1101</td>\n",
       "      <td>LIG</td>\n",
       "      <td>A</td>\n",
       "      <td>True</td>\n",
       "      <td>3.08</td>\n",
       "      <td>3.67</td>\n",
       "      <td>120.00</td>\n",
       "      <td>True</td>\n",
       "      <td>1472</td>\n",
       "      <td>Nam</td>\n",
       "      <td>2395</td>\n",
       "      <td>O2</td>\n",
       "      <td>(10.485, 5.379, 25.107)</td>\n",
       "      <td>(10.139, 4.011, 28.5)</td>\n",
       "    </tr>\n",
       "    <tr>\n",
       "      <th>1</th>\n",
       "      <td>166</td>\n",
       "      <td>GLU</td>\n",
       "      <td>A</td>\n",
       "      <td>1101</td>\n",
       "      <td>LIG</td>\n",
       "      <td>A</td>\n",
       "      <td>False</td>\n",
       "      <td>2.01</td>\n",
       "      <td>2.99</td>\n",
       "      <td>161.20</td>\n",
       "      <td>False</td>\n",
       "      <td>2391</td>\n",
       "      <td>N3</td>\n",
       "      <td>1291</td>\n",
       "      <td>O2</td>\n",
       "      <td>(9.311, 5.041, 22.782)</td>\n",
       "      <td>(10.444, 4.777, 20.029)</td>\n",
       "    </tr>\n",
       "  </tbody>\n",
       "</table>\n",
       "</div>"
      ],
      "text/plain": [
       "   RESNR RESTYPE RESCHAIN  RESNR_LIG RESTYPE_LIG RESCHAIN_LIG  SIDECHAIN  \\\n",
       "0    189     GLN        A       1101         LIG            A       True   \n",
       "1    166     GLU        A       1101         LIG            A      False   \n",
       "\n",
       "  DIST_H-A DIST_D-A DON_ANGLE  PROTISDON  DONORIDX DONORTYPE  ACCEPTORIDX  \\\n",
       "0     3.08     3.67    120.00       True      1472       Nam         2395   \n",
       "1     2.01     2.99    161.20      False      2391        N3         1291   \n",
       "\n",
       "  ACCEPTORTYPE                   LIGCOO                  PROTCOO  \n",
       "0           O2  (10.485, 5.379, 25.107)    (10.139, 4.011, 28.5)  \n",
       "1           O2   (9.311, 5.041, 22.782)  (10.444, 4.777, 20.029)  "
      ]
     },
     "metadata": {},
     "output_type": "display_data"
    },
    {
     "data": {
      "text/markdown": [
       "### hydrophobic"
      ],
      "text/plain": [
       "<IPython.core.display.Markdown object>"
      ]
     },
     "metadata": {},
     "output_type": "display_data"
    },
    {
     "data": {
      "text/html": [
       "<div>\n",
       "<style scoped>\n",
       "    .dataframe tbody tr th:only-of-type {\n",
       "        vertical-align: middle;\n",
       "    }\n",
       "\n",
       "    .dataframe tbody tr th {\n",
       "        vertical-align: top;\n",
       "    }\n",
       "\n",
       "    .dataframe thead th {\n",
       "        text-align: right;\n",
       "    }\n",
       "</style>\n",
       "<table border=\"1\" class=\"dataframe\">\n",
       "  <thead>\n",
       "    <tr style=\"text-align: right;\">\n",
       "      <th></th>\n",
       "      <th>RESNR</th>\n",
       "      <th>RESTYPE</th>\n",
       "      <th>RESCHAIN</th>\n",
       "      <th>RESNR_LIG</th>\n",
       "      <th>RESTYPE_LIG</th>\n",
       "      <th>RESCHAIN_LIG</th>\n",
       "      <th>DIST</th>\n",
       "      <th>LIGCARBONIDX</th>\n",
       "      <th>PROTCARBONIDX</th>\n",
       "      <th>LIGCOO</th>\n",
       "      <th>PROTCOO</th>\n",
       "    </tr>\n",
       "  </thead>\n",
       "  <tbody>\n",
       "    <tr>\n",
       "      <th>0</th>\n",
       "      <td>165</td>\n",
       "      <td>MET</td>\n",
       "      <td>A</td>\n",
       "      <td>1101</td>\n",
       "      <td>LIG</td>\n",
       "      <td>A</td>\n",
       "      <td>3.96</td>\n",
       "      <td>2390</td>\n",
       "      <td>1284</td>\n",
       "      <td>(13.459, 2.162, 22.819)</td>\n",
       "      <td>(12.458, 1.105, 19.137)</td>\n",
       "    </tr>\n",
       "    <tr>\n",
       "      <th>1</th>\n",
       "      <td>189</td>\n",
       "      <td>GLN</td>\n",
       "      <td>A</td>\n",
       "      <td>1101</td>\n",
       "      <td>LIG</td>\n",
       "      <td>A</td>\n",
       "      <td>3.75</td>\n",
       "      <td>2386</td>\n",
       "      <td>1468</td>\n",
       "      <td>(11.707, 1.106, 24.084)</td>\n",
       "      <td>(13.298, 2.52, 27.177)</td>\n",
       "    </tr>\n",
       "    <tr>\n",
       "      <th>2</th>\n",
       "      <td>189</td>\n",
       "      <td>GLN</td>\n",
       "      <td>A</td>\n",
       "      <td>1101</td>\n",
       "      <td>LIG</td>\n",
       "      <td>A</td>\n",
       "      <td>3.68</td>\n",
       "      <td>2387</td>\n",
       "      <td>1469</td>\n",
       "      <td>(11.044, 2.322, 24.179)</td>\n",
       "      <td>(12.243, 3.597, 27.411)</td>\n",
       "    </tr>\n",
       "  </tbody>\n",
       "</table>\n",
       "</div>"
      ],
      "text/plain": [
       "   RESNR RESTYPE RESCHAIN  RESNR_LIG RESTYPE_LIG RESCHAIN_LIG  DIST  \\\n",
       "0    165     MET        A       1101         LIG            A  3.96   \n",
       "1    189     GLN        A       1101         LIG            A  3.75   \n",
       "2    189     GLN        A       1101         LIG            A  3.68   \n",
       "\n",
       "   LIGCARBONIDX  PROTCARBONIDX                   LIGCOO  \\\n",
       "0          2390           1284  (13.459, 2.162, 22.819)   \n",
       "1          2386           1468  (11.707, 1.106, 24.084)   \n",
       "2          2387           1469  (11.044, 2.322, 24.179)   \n",
       "\n",
       "                   PROTCOO  \n",
       "0  (12.458, 1.105, 19.137)  \n",
       "1   (13.298, 2.52, 27.177)  \n",
       "2  (12.243, 3.597, 27.411)  "
      ]
     },
     "metadata": {},
     "output_type": "display_data"
    },
    {
     "data": {
      "text/markdown": [
       "# Structure Mpro-x0104.pdb"
      ],
      "text/plain": [
       "<IPython.core.display.Markdown object>"
      ]
     },
     "metadata": {},
     "output_type": "display_data"
    },
    {
     "data": {
      "text/markdown": [
       "## Site LIG:A:1101"
      ],
      "text/plain": [
       "<IPython.core.display.Markdown object>"
      ]
     },
     "metadata": {},
     "output_type": "display_data"
    },
    {
     "data": {
      "text/markdown": [
       "### hbond"
      ],
      "text/plain": [
       "<IPython.core.display.Markdown object>"
      ]
     },
     "metadata": {},
     "output_type": "display_data"
    },
    {
     "data": {
      "text/html": [
       "<div>\n",
       "<style scoped>\n",
       "    .dataframe tbody tr th:only-of-type {\n",
       "        vertical-align: middle;\n",
       "    }\n",
       "\n",
       "    .dataframe tbody tr th {\n",
       "        vertical-align: top;\n",
       "    }\n",
       "\n",
       "    .dataframe thead th {\n",
       "        text-align: right;\n",
       "    }\n",
       "</style>\n",
       "<table border=\"1\" class=\"dataframe\">\n",
       "  <thead>\n",
       "    <tr style=\"text-align: right;\">\n",
       "      <th></th>\n",
       "      <th>RESNR</th>\n",
       "      <th>RESTYPE</th>\n",
       "      <th>RESCHAIN</th>\n",
       "      <th>RESNR_LIG</th>\n",
       "      <th>RESTYPE_LIG</th>\n",
       "      <th>RESCHAIN_LIG</th>\n",
       "      <th>SIDECHAIN</th>\n",
       "      <th>DIST_H-A</th>\n",
       "      <th>DIST_D-A</th>\n",
       "      <th>DON_ANGLE</th>\n",
       "      <th>PROTISDON</th>\n",
       "      <th>DONORIDX</th>\n",
       "      <th>DONORTYPE</th>\n",
       "      <th>ACCEPTORIDX</th>\n",
       "      <th>ACCEPTORTYPE</th>\n",
       "      <th>LIGCOO</th>\n",
       "      <th>PROTCOO</th>\n",
       "    </tr>\n",
       "  </thead>\n",
       "  <tbody>\n",
       "    <tr>\n",
       "      <th>0</th>\n",
       "      <td>190</td>\n",
       "      <td>THR</td>\n",
       "      <td>A</td>\n",
       "      <td>1101</td>\n",
       "      <td>LIG</td>\n",
       "      <td>A</td>\n",
       "      <td>False</td>\n",
       "      <td>3.16</td>\n",
       "      <td>3.81</td>\n",
       "      <td>124.31</td>\n",
       "      <td>False</td>\n",
       "      <td>2396</td>\n",
       "      <td>Nam</td>\n",
       "      <td>1476</td>\n",
       "      <td>O2</td>\n",
       "      <td>(12.067, 5.468, 23.761)</td>\n",
       "      <td>(15.692, 6.519, 24.25)</td>\n",
       "    </tr>\n",
       "    <tr>\n",
       "      <th>1</th>\n",
       "      <td>189</td>\n",
       "      <td>GLN</td>\n",
       "      <td>A</td>\n",
       "      <td>1101</td>\n",
       "      <td>LIG</td>\n",
       "      <td>A</td>\n",
       "      <td>True</td>\n",
       "      <td>3.51</td>\n",
       "      <td>3.96</td>\n",
       "      <td>110.23</td>\n",
       "      <td>False</td>\n",
       "      <td>2397</td>\n",
       "      <td>Nar</td>\n",
       "      <td>1471</td>\n",
       "      <td>O2</td>\n",
       "      <td>(10.416, 1.465, 24.34)</td>\n",
       "      <td>(10.199, 1.734, 28.289)</td>\n",
       "    </tr>\n",
       "  </tbody>\n",
       "</table>\n",
       "</div>"
      ],
      "text/plain": [
       "   RESNR RESTYPE RESCHAIN  RESNR_LIG RESTYPE_LIG RESCHAIN_LIG  SIDECHAIN  \\\n",
       "0    190     THR        A       1101         LIG            A      False   \n",
       "1    189     GLN        A       1101         LIG            A       True   \n",
       "\n",
       "  DIST_H-A DIST_D-A DON_ANGLE  PROTISDON  DONORIDX DONORTYPE  ACCEPTORIDX  \\\n",
       "0     3.16     3.81    124.31      False      2396       Nam         1476   \n",
       "1     3.51     3.96    110.23      False      2397       Nar         1471   \n",
       "\n",
       "  ACCEPTORTYPE                   LIGCOO                  PROTCOO  \n",
       "0           O2  (12.067, 5.468, 23.761)   (15.692, 6.519, 24.25)  \n",
       "1           O2   (10.416, 1.465, 24.34)  (10.199, 1.734, 28.289)  "
      ]
     },
     "metadata": {},
     "output_type": "display_data"
    },
    {
     "data": {
      "text/markdown": [
       "### pistacking"
      ],
      "text/plain": [
       "<IPython.core.display.Markdown object>"
      ]
     },
     "metadata": {},
     "output_type": "display_data"
    },
    {
     "data": {
      "text/html": [
       "<div>\n",
       "<style scoped>\n",
       "    .dataframe tbody tr th:only-of-type {\n",
       "        vertical-align: middle;\n",
       "    }\n",
       "\n",
       "    .dataframe tbody tr th {\n",
       "        vertical-align: top;\n",
       "    }\n",
       "\n",
       "    .dataframe thead th {\n",
       "        text-align: right;\n",
       "    }\n",
       "</style>\n",
       "<table border=\"1\" class=\"dataframe\">\n",
       "  <thead>\n",
       "    <tr style=\"text-align: right;\">\n",
       "      <th></th>\n",
       "      <th>RESNR</th>\n",
       "      <th>RESTYPE</th>\n",
       "      <th>RESCHAIN</th>\n",
       "      <th>RESNR_LIG</th>\n",
       "      <th>RESTYPE_LIG</th>\n",
       "      <th>RESCHAIN_LIG</th>\n",
       "      <th>CENTDIST</th>\n",
       "      <th>ANGLE</th>\n",
       "      <th>OFFSET</th>\n",
       "      <th>TYPE</th>\n",
       "      <th>LIG_IDX_LIST</th>\n",
       "      <th>LIGCOO</th>\n",
       "      <th>PROTCOO</th>\n",
       "    </tr>\n",
       "  </thead>\n",
       "  <tbody>\n",
       "    <tr>\n",
       "      <th>0</th>\n",
       "      <td>41</td>\n",
       "      <td>HIS</td>\n",
       "      <td>A</td>\n",
       "      <td>1101</td>\n",
       "      <td>LIG</td>\n",
       "      <td>A</td>\n",
       "      <td>5.03</td>\n",
       "      <td>77.98</td>\n",
       "      <td>1.74</td>\n",
       "      <td>T</td>\n",
       "      <td>2389,2390,2391,2392,2393,2394</td>\n",
       "      <td>(11.979, -0.32616666666666666, 22.96666666666667)</td>\n",
       "      <td>(11.515, -5.099600000000001, 21.4428)</td>\n",
       "    </tr>\n",
       "  </tbody>\n",
       "</table>\n",
       "</div>"
      ],
      "text/plain": [
       "   RESNR RESTYPE RESCHAIN  RESNR_LIG RESTYPE_LIG RESCHAIN_LIG CENTDIST  ANGLE  \\\n",
       "0     41     HIS        A       1101         LIG            A     5.03  77.98   \n",
       "\n",
       "  OFFSET TYPE                   LIG_IDX_LIST  \\\n",
       "0   1.74    T  2389,2390,2391,2392,2393,2394   \n",
       "\n",
       "                                              LIGCOO  \\\n",
       "0  (11.979, -0.32616666666666666, 22.96666666666667)   \n",
       "\n",
       "                                 PROTCOO  \n",
       "0  (11.515, -5.099600000000001, 21.4428)  "
      ]
     },
     "metadata": {},
     "output_type": "display_data"
    },
    {
     "data": {
      "text/markdown": [
       "### hydrophobic"
      ],
      "text/plain": [
       "<IPython.core.display.Markdown object>"
      ]
     },
     "metadata": {},
     "output_type": "display_data"
    },
    {
     "data": {
      "text/html": [
       "<div>\n",
       "<style scoped>\n",
       "    .dataframe tbody tr th:only-of-type {\n",
       "        vertical-align: middle;\n",
       "    }\n",
       "\n",
       "    .dataframe tbody tr th {\n",
       "        vertical-align: top;\n",
       "    }\n",
       "\n",
       "    .dataframe thead th {\n",
       "        text-align: right;\n",
       "    }\n",
       "</style>\n",
       "<table border=\"1\" class=\"dataframe\">\n",
       "  <thead>\n",
       "    <tr style=\"text-align: right;\">\n",
       "      <th></th>\n",
       "      <th>RESNR</th>\n",
       "      <th>RESTYPE</th>\n",
       "      <th>RESCHAIN</th>\n",
       "      <th>RESNR_LIG</th>\n",
       "      <th>RESTYPE_LIG</th>\n",
       "      <th>RESCHAIN_LIG</th>\n",
       "      <th>DIST</th>\n",
       "      <th>LIGCARBONIDX</th>\n",
       "      <th>PROTCARBONIDX</th>\n",
       "      <th>LIGCOO</th>\n",
       "      <th>PROTCOO</th>\n",
       "    </tr>\n",
       "  </thead>\n",
       "  <tbody>\n",
       "    <tr>\n",
       "      <th>0</th>\n",
       "      <td>189</td>\n",
       "      <td>GLN</td>\n",
       "      <td>A</td>\n",
       "      <td>1101</td>\n",
       "      <td>LIG</td>\n",
       "      <td>A</td>\n",
       "      <td>3.91</td>\n",
       "      <td>2387</td>\n",
       "      <td>1468</td>\n",
       "      <td>(12.151, 2.44, 23.396)</td>\n",
       "      <td>(12.716, 2.386, 27.269)</td>\n",
       "    </tr>\n",
       "    <tr>\n",
       "      <th>1</th>\n",
       "      <td>165</td>\n",
       "      <td>MET</td>\n",
       "      <td>A</td>\n",
       "      <td>1101</td>\n",
       "      <td>LIG</td>\n",
       "      <td>A</td>\n",
       "      <td>3.37</td>\n",
       "      <td>2393</td>\n",
       "      <td>1284</td>\n",
       "      <td>(13.096, 0.246, 22.356)</td>\n",
       "      <td>(12.168, 1.081, 19.222)</td>\n",
       "    </tr>\n",
       "  </tbody>\n",
       "</table>\n",
       "</div>"
      ],
      "text/plain": [
       "   RESNR RESTYPE RESCHAIN  RESNR_LIG RESTYPE_LIG RESCHAIN_LIG  DIST  \\\n",
       "0    189     GLN        A       1101         LIG            A  3.91   \n",
       "1    165     MET        A       1101         LIG            A  3.37   \n",
       "\n",
       "   LIGCARBONIDX  PROTCARBONIDX                   LIGCOO  \\\n",
       "0          2387           1468   (12.151, 2.44, 23.396)   \n",
       "1          2393           1284  (13.096, 0.246, 22.356)   \n",
       "\n",
       "                   PROTCOO  \n",
       "0  (12.716, 2.386, 27.269)  \n",
       "1  (12.168, 1.081, 19.222)  "
      ]
     },
     "metadata": {},
     "output_type": "display_data"
    },
    {
     "data": {
      "text/markdown": [
       "# Structure Mpro-x1093.pdb"
      ],
      "text/plain": [
       "<IPython.core.display.Markdown object>"
      ]
     },
     "metadata": {},
     "output_type": "display_data"
    },
    {
     "data": {
      "text/markdown": [
       "## Site LIG:A:1101"
      ],
      "text/plain": [
       "<IPython.core.display.Markdown object>"
      ]
     },
     "metadata": {},
     "output_type": "display_data"
    },
    {
     "data": {
      "text/markdown": [
       "### waterbridge"
      ],
      "text/plain": [
       "<IPython.core.display.Markdown object>"
      ]
     },
     "metadata": {},
     "output_type": "display_data"
    },
    {
     "data": {
      "text/html": [
       "<div>\n",
       "<style scoped>\n",
       "    .dataframe tbody tr th:only-of-type {\n",
       "        vertical-align: middle;\n",
       "    }\n",
       "\n",
       "    .dataframe tbody tr th {\n",
       "        vertical-align: top;\n",
       "    }\n",
       "\n",
       "    .dataframe thead th {\n",
       "        text-align: right;\n",
       "    }\n",
       "</style>\n",
       "<table border=\"1\" class=\"dataframe\">\n",
       "  <thead>\n",
       "    <tr style=\"text-align: right;\">\n",
       "      <th></th>\n",
       "      <th>RESNR</th>\n",
       "      <th>RESTYPE</th>\n",
       "      <th>RESCHAIN</th>\n",
       "      <th>RESNR_LIG</th>\n",
       "      <th>RESTYPE_LIG</th>\n",
       "      <th>RESCHAIN_LIG</th>\n",
       "      <th>DIST_A-W</th>\n",
       "      <th>DIST_D-W</th>\n",
       "      <th>DON_ANGLE</th>\n",
       "      <th>WATER_ANGLE</th>\n",
       "      <th>PROTISDON</th>\n",
       "      <th>DONOR_IDX</th>\n",
       "      <th>DONORTYPE</th>\n",
       "      <th>ACCEPTOR_IDX</th>\n",
       "      <th>ACCEPTORTYPE</th>\n",
       "      <th>WATER_IDX</th>\n",
       "      <th>LIGCOO</th>\n",
       "      <th>PROTCOO</th>\n",
       "      <th>WATERCOO</th>\n",
       "    </tr>\n",
       "  </thead>\n",
       "  <tbody>\n",
       "    <tr>\n",
       "      <th>0</th>\n",
       "      <td>189</td>\n",
       "      <td>GLN</td>\n",
       "      <td>A</td>\n",
       "      <td>1101</td>\n",
       "      <td>LIG</td>\n",
       "      <td>A</td>\n",
       "      <td>4.00</td>\n",
       "      <td>3.46</td>\n",
       "      <td>159.02</td>\n",
       "      <td>89.58</td>\n",
       "      <td>True</td>\n",
       "      <td>1486</td>\n",
       "      <td>Nam</td>\n",
       "      <td>2447</td>\n",
       "      <td>O2</td>\n",
       "      <td>2636</td>\n",
       "      <td>(9.135, 1.338, 21.148)</td>\n",
       "      <td>(9.617, 2.175, 26.575)</td>\n",
       "      <td>(7.034, 1.086, 24.544)</td>\n",
       "    </tr>\n",
       "  </tbody>\n",
       "</table>\n",
       "</div>"
      ],
      "text/plain": [
       "   RESNR RESTYPE RESCHAIN  RESNR_LIG RESTYPE_LIG RESCHAIN_LIG DIST_A-W  \\\n",
       "0    189     GLN        A       1101         LIG            A     4.00   \n",
       "\n",
       "  DIST_D-W DON_ANGLE WATER_ANGLE  PROTISDON  DONOR_IDX DONORTYPE  \\\n",
       "0     3.46    159.02       89.58       True       1486       Nam   \n",
       "\n",
       "   ACCEPTOR_IDX ACCEPTORTYPE  WATER_IDX                  LIGCOO  \\\n",
       "0          2447           O2       2636  (9.135, 1.338, 21.148)   \n",
       "\n",
       "                  PROTCOO                WATERCOO  \n",
       "0  (9.617, 2.175, 26.575)  (7.034, 1.086, 24.544)  "
      ]
     },
     "metadata": {},
     "output_type": "display_data"
    },
    {
     "data": {
      "text/markdown": [
       "### hbond"
      ],
      "text/plain": [
       "<IPython.core.display.Markdown object>"
      ]
     },
     "metadata": {},
     "output_type": "display_data"
    },
    {
     "data": {
      "text/html": [
       "<div>\n",
       "<style scoped>\n",
       "    .dataframe tbody tr th:only-of-type {\n",
       "        vertical-align: middle;\n",
       "    }\n",
       "\n",
       "    .dataframe tbody tr th {\n",
       "        vertical-align: top;\n",
       "    }\n",
       "\n",
       "    .dataframe thead th {\n",
       "        text-align: right;\n",
       "    }\n",
       "</style>\n",
       "<table border=\"1\" class=\"dataframe\">\n",
       "  <thead>\n",
       "    <tr style=\"text-align: right;\">\n",
       "      <th></th>\n",
       "      <th>RESNR</th>\n",
       "      <th>RESTYPE</th>\n",
       "      <th>RESCHAIN</th>\n",
       "      <th>RESNR_LIG</th>\n",
       "      <th>RESTYPE_LIG</th>\n",
       "      <th>RESCHAIN_LIG</th>\n",
       "      <th>SIDECHAIN</th>\n",
       "      <th>DIST_H-A</th>\n",
       "      <th>DIST_D-A</th>\n",
       "      <th>DON_ANGLE</th>\n",
       "      <th>PROTISDON</th>\n",
       "      <th>DONORIDX</th>\n",
       "      <th>DONORTYPE</th>\n",
       "      <th>ACCEPTORIDX</th>\n",
       "      <th>ACCEPTORTYPE</th>\n",
       "      <th>LIGCOO</th>\n",
       "      <th>PROTCOO</th>\n",
       "    </tr>\n",
       "  </thead>\n",
       "  <tbody>\n",
       "    <tr>\n",
       "      <th>0</th>\n",
       "      <td>166</td>\n",
       "      <td>GLU</td>\n",
       "      <td>A</td>\n",
       "      <td>1101</td>\n",
       "      <td>LIG</td>\n",
       "      <td>A</td>\n",
       "      <td>False</td>\n",
       "      <td>2.03</td>\n",
       "      <td>3.01</td>\n",
       "      <td>171.69</td>\n",
       "      <td>True</td>\n",
       "      <td>1302</td>\n",
       "      <td>Nam</td>\n",
       "      <td>2447</td>\n",
       "      <td>O2</td>\n",
       "      <td>(9.135, 1.338, 21.148)</td>\n",
       "      <td>(9.719, 2.676, 18.521)</td>\n",
       "    </tr>\n",
       "  </tbody>\n",
       "</table>\n",
       "</div>"
      ],
      "text/plain": [
       "   RESNR RESTYPE RESCHAIN  RESNR_LIG RESTYPE_LIG RESCHAIN_LIG  SIDECHAIN  \\\n",
       "0    166     GLU        A       1101         LIG            A      False   \n",
       "\n",
       "  DIST_H-A DIST_D-A DON_ANGLE  PROTISDON  DONORIDX DONORTYPE  ACCEPTORIDX  \\\n",
       "0     2.03     3.01    171.69       True      1302       Nam         2447   \n",
       "\n",
       "  ACCEPTORTYPE                  LIGCOO                 PROTCOO  \n",
       "0           O2  (9.135, 1.338, 21.148)  (9.719, 2.676, 18.521)  "
      ]
     },
     "metadata": {},
     "output_type": "display_data"
    },
    {
     "data": {
      "text/markdown": [
       "# Structure Mpro-x1077.pdb"
      ],
      "text/plain": [
       "<IPython.core.display.Markdown object>"
      ]
     },
     "metadata": {},
     "output_type": "display_data"
    },
    {
     "data": {
      "text/markdown": [
       "## Site LIG:A:1101"
      ],
      "text/plain": [
       "<IPython.core.display.Markdown object>"
      ]
     },
     "metadata": {},
     "output_type": "display_data"
    },
    {
     "data": {
      "text/markdown": [
       "### hbond"
      ],
      "text/plain": [
       "<IPython.core.display.Markdown object>"
      ]
     },
     "metadata": {},
     "output_type": "display_data"
    },
    {
     "data": {
      "text/html": [
       "<div>\n",
       "<style scoped>\n",
       "    .dataframe tbody tr th:only-of-type {\n",
       "        vertical-align: middle;\n",
       "    }\n",
       "\n",
       "    .dataframe tbody tr th {\n",
       "        vertical-align: top;\n",
       "    }\n",
       "\n",
       "    .dataframe thead th {\n",
       "        text-align: right;\n",
       "    }\n",
       "</style>\n",
       "<table border=\"1\" class=\"dataframe\">\n",
       "  <thead>\n",
       "    <tr style=\"text-align: right;\">\n",
       "      <th></th>\n",
       "      <th>RESNR</th>\n",
       "      <th>RESTYPE</th>\n",
       "      <th>RESCHAIN</th>\n",
       "      <th>RESNR_LIG</th>\n",
       "      <th>RESTYPE_LIG</th>\n",
       "      <th>RESCHAIN_LIG</th>\n",
       "      <th>SIDECHAIN</th>\n",
       "      <th>DIST_H-A</th>\n",
       "      <th>DIST_D-A</th>\n",
       "      <th>DON_ANGLE</th>\n",
       "      <th>PROTISDON</th>\n",
       "      <th>DONORIDX</th>\n",
       "      <th>DONORTYPE</th>\n",
       "      <th>ACCEPTORIDX</th>\n",
       "      <th>ACCEPTORTYPE</th>\n",
       "      <th>LIGCOO</th>\n",
       "      <th>PROTCOO</th>\n",
       "    </tr>\n",
       "  </thead>\n",
       "  <tbody>\n",
       "    <tr>\n",
       "      <th>0</th>\n",
       "      <td>166</td>\n",
       "      <td>GLU</td>\n",
       "      <td>A</td>\n",
       "      <td>1101</td>\n",
       "      <td>LIG</td>\n",
       "      <td>A</td>\n",
       "      <td>False</td>\n",
       "      <td>2.07</td>\n",
       "      <td>3.03</td>\n",
       "      <td>164.49</td>\n",
       "      <td>True</td>\n",
       "      <td>1288</td>\n",
       "      <td>Nam</td>\n",
       "      <td>2383</td>\n",
       "      <td>N1</td>\n",
       "      <td>(9.978, 1.48, 21.333)</td>\n",
       "      <td>(9.961, 2.675, 18.544)</td>\n",
       "    </tr>\n",
       "  </tbody>\n",
       "</table>\n",
       "</div>"
      ],
      "text/plain": [
       "   RESNR RESTYPE RESCHAIN  RESNR_LIG RESTYPE_LIG RESCHAIN_LIG  SIDECHAIN  \\\n",
       "0    166     GLU        A       1101         LIG            A      False   \n",
       "\n",
       "  DIST_H-A DIST_D-A DON_ANGLE  PROTISDON  DONORIDX DONORTYPE  ACCEPTORIDX  \\\n",
       "0     2.07     3.03    164.49       True      1288       Nam         2383   \n",
       "\n",
       "  ACCEPTORTYPE                 LIGCOO                 PROTCOO  \n",
       "0           N1  (9.978, 1.48, 21.333)  (9.961, 2.675, 18.544)  "
      ]
     },
     "metadata": {},
     "output_type": "display_data"
    },
    {
     "data": {
      "text/markdown": [
       "### pistacking"
      ],
      "text/plain": [
       "<IPython.core.display.Markdown object>"
      ]
     },
     "metadata": {},
     "output_type": "display_data"
    },
    {
     "data": {
      "text/html": [
       "<div>\n",
       "<style scoped>\n",
       "    .dataframe tbody tr th:only-of-type {\n",
       "        vertical-align: middle;\n",
       "    }\n",
       "\n",
       "    .dataframe tbody tr th {\n",
       "        vertical-align: top;\n",
       "    }\n",
       "\n",
       "    .dataframe thead th {\n",
       "        text-align: right;\n",
       "    }\n",
       "</style>\n",
       "<table border=\"1\" class=\"dataframe\">\n",
       "  <thead>\n",
       "    <tr style=\"text-align: right;\">\n",
       "      <th></th>\n",
       "      <th>RESNR</th>\n",
       "      <th>RESTYPE</th>\n",
       "      <th>RESCHAIN</th>\n",
       "      <th>RESNR_LIG</th>\n",
       "      <th>RESTYPE_LIG</th>\n",
       "      <th>RESCHAIN_LIG</th>\n",
       "      <th>CENTDIST</th>\n",
       "      <th>ANGLE</th>\n",
       "      <th>OFFSET</th>\n",
       "      <th>TYPE</th>\n",
       "      <th>LIG_IDX_LIST</th>\n",
       "      <th>LIGCOO</th>\n",
       "      <th>PROTCOO</th>\n",
       "    </tr>\n",
       "  </thead>\n",
       "  <tbody>\n",
       "    <tr>\n",
       "      <th>0</th>\n",
       "      <td>41</td>\n",
       "      <td>HIS</td>\n",
       "      <td>A</td>\n",
       "      <td>1101</td>\n",
       "      <td>LIG</td>\n",
       "      <td>A</td>\n",
       "      <td>4.77</td>\n",
       "      <td>89.86</td>\n",
       "      <td>1.34</td>\n",
       "      <td>T</td>\n",
       "      <td>2386,2388,2389,2390,2391,2396</td>\n",
       "      <td>(9.587666666666665, -1.7124999999999997, 23.5445)</td>\n",
       "      <td>(11.974799999999998, -5.0318, 21.091)</td>\n",
       "    </tr>\n",
       "  </tbody>\n",
       "</table>\n",
       "</div>"
      ],
      "text/plain": [
       "   RESNR RESTYPE RESCHAIN  RESNR_LIG RESTYPE_LIG RESCHAIN_LIG CENTDIST  ANGLE  \\\n",
       "0     41     HIS        A       1101         LIG            A     4.77  89.86   \n",
       "\n",
       "  OFFSET TYPE                   LIG_IDX_LIST  \\\n",
       "0   1.34    T  2386,2388,2389,2390,2391,2396   \n",
       "\n",
       "                                              LIGCOO  \\\n",
       "0  (9.587666666666665, -1.7124999999999997, 23.5445)   \n",
       "\n",
       "                                 PROTCOO  \n",
       "0  (11.974799999999998, -5.0318, 21.091)  "
      ]
     },
     "metadata": {},
     "output_type": "display_data"
    },
    {
     "data": {
      "text/markdown": [
       "### hydrophobic"
      ],
      "text/plain": [
       "<IPython.core.display.Markdown object>"
      ]
     },
     "metadata": {},
     "output_type": "display_data"
    },
    {
     "data": {
      "text/html": [
       "<div>\n",
       "<style scoped>\n",
       "    .dataframe tbody tr th:only-of-type {\n",
       "        vertical-align: middle;\n",
       "    }\n",
       "\n",
       "    .dataframe tbody tr th {\n",
       "        vertical-align: top;\n",
       "    }\n",
       "\n",
       "    .dataframe thead th {\n",
       "        text-align: right;\n",
       "    }\n",
       "</style>\n",
       "<table border=\"1\" class=\"dataframe\">\n",
       "  <thead>\n",
       "    <tr style=\"text-align: right;\">\n",
       "      <th></th>\n",
       "      <th>RESNR</th>\n",
       "      <th>RESTYPE</th>\n",
       "      <th>RESCHAIN</th>\n",
       "      <th>RESNR_LIG</th>\n",
       "      <th>RESTYPE_LIG</th>\n",
       "      <th>RESCHAIN_LIG</th>\n",
       "      <th>DIST</th>\n",
       "      <th>LIGCARBONIDX</th>\n",
       "      <th>PROTCARBONIDX</th>\n",
       "      <th>LIGCOO</th>\n",
       "      <th>PROTCOO</th>\n",
       "    </tr>\n",
       "  </thead>\n",
       "  <tbody>\n",
       "    <tr>\n",
       "      <th>0</th>\n",
       "      <td>25</td>\n",
       "      <td>THR</td>\n",
       "      <td>A</td>\n",
       "      <td>1101</td>\n",
       "      <td>LIG</td>\n",
       "      <td>A</td>\n",
       "      <td>3.38</td>\n",
       "      <td>2393</td>\n",
       "      <td>179</td>\n",
       "      <td>(8.975, -5.856, 23.587)</td>\n",
       "      <td>(7.829, -8.893, 24.538)</td>\n",
       "    </tr>\n",
       "  </tbody>\n",
       "</table>\n",
       "</div>"
      ],
      "text/plain": [
       "   RESNR RESTYPE RESCHAIN  RESNR_LIG RESTYPE_LIG RESCHAIN_LIG  DIST  \\\n",
       "0     25     THR        A       1101         LIG            A  3.38   \n",
       "\n",
       "   LIGCARBONIDX  PROTCARBONIDX                   LIGCOO  \\\n",
       "0          2393            179  (8.975, -5.856, 23.587)   \n",
       "\n",
       "                   PROTCOO  \n",
       "0  (7.829, -8.893, 24.538)  "
      ]
     },
     "metadata": {},
     "output_type": "display_data"
    },
    {
     "data": {
      "text/markdown": [
       "# Structure Mpro-x0967.pdb"
      ],
      "text/plain": [
       "<IPython.core.display.Markdown object>"
      ]
     },
     "metadata": {},
     "output_type": "display_data"
    },
    {
     "data": {
      "text/markdown": [
       "## Site LIG:A:1101"
      ],
      "text/plain": [
       "<IPython.core.display.Markdown object>"
      ]
     },
     "metadata": {},
     "output_type": "display_data"
    },
    {
     "data": {
      "text/markdown": [
       "### hbond"
      ],
      "text/plain": [
       "<IPython.core.display.Markdown object>"
      ]
     },
     "metadata": {},
     "output_type": "display_data"
    },
    {
     "data": {
      "text/html": [
       "<div>\n",
       "<style scoped>\n",
       "    .dataframe tbody tr th:only-of-type {\n",
       "        vertical-align: middle;\n",
       "    }\n",
       "\n",
       "    .dataframe tbody tr th {\n",
       "        vertical-align: top;\n",
       "    }\n",
       "\n",
       "    .dataframe thead th {\n",
       "        text-align: right;\n",
       "    }\n",
       "</style>\n",
       "<table border=\"1\" class=\"dataframe\">\n",
       "  <thead>\n",
       "    <tr style=\"text-align: right;\">\n",
       "      <th></th>\n",
       "      <th>RESNR</th>\n",
       "      <th>RESTYPE</th>\n",
       "      <th>RESCHAIN</th>\n",
       "      <th>RESNR_LIG</th>\n",
       "      <th>RESTYPE_LIG</th>\n",
       "      <th>RESCHAIN_LIG</th>\n",
       "      <th>SIDECHAIN</th>\n",
       "      <th>DIST_H-A</th>\n",
       "      <th>DIST_D-A</th>\n",
       "      <th>DON_ANGLE</th>\n",
       "      <th>PROTISDON</th>\n",
       "      <th>DONORIDX</th>\n",
       "      <th>DONORTYPE</th>\n",
       "      <th>ACCEPTORIDX</th>\n",
       "      <th>ACCEPTORTYPE</th>\n",
       "      <th>LIGCOO</th>\n",
       "      <th>PROTCOO</th>\n",
       "    </tr>\n",
       "  </thead>\n",
       "  <tbody>\n",
       "    <tr>\n",
       "      <th>0</th>\n",
       "      <td>166</td>\n",
       "      <td>GLU</td>\n",
       "      <td>A</td>\n",
       "      <td>1101</td>\n",
       "      <td>LIG</td>\n",
       "      <td>A</td>\n",
       "      <td>False</td>\n",
       "      <td>2.45</td>\n",
       "      <td>3.38</td>\n",
       "      <td>159.01</td>\n",
       "      <td>True</td>\n",
       "      <td>1288</td>\n",
       "      <td>Nam</td>\n",
       "      <td>2401</td>\n",
       "      <td>O2</td>\n",
       "      <td>(9.866, 1.017, 21.611)</td>\n",
       "      <td>(9.749, 2.544, 18.594)</td>\n",
       "    </tr>\n",
       "    <tr>\n",
       "      <th>1</th>\n",
       "      <td>144</td>\n",
       "      <td>SER</td>\n",
       "      <td>A</td>\n",
       "      <td>1101</td>\n",
       "      <td>LIG</td>\n",
       "      <td>A</td>\n",
       "      <td>True</td>\n",
       "      <td>3.17</td>\n",
       "      <td>3.50</td>\n",
       "      <td>102.20</td>\n",
       "      <td>True</td>\n",
       "      <td>1121</td>\n",
       "      <td>O3</td>\n",
       "      <td>2400</td>\n",
       "      <td>O3</td>\n",
       "      <td>(5.702, 0.784, 16.93)</td>\n",
       "      <td>(4.607, -2.264, 15.598)</td>\n",
       "    </tr>\n",
       "    <tr>\n",
       "      <th>2</th>\n",
       "      <td>163</td>\n",
       "      <td>HIS</td>\n",
       "      <td>A</td>\n",
       "      <td>1101</td>\n",
       "      <td>LIG</td>\n",
       "      <td>A</td>\n",
       "      <td>True</td>\n",
       "      <td>2.22</td>\n",
       "      <td>3.05</td>\n",
       "      <td>147.85</td>\n",
       "      <td>False</td>\n",
       "      <td>2400</td>\n",
       "      <td>O3</td>\n",
       "      <td>1269</td>\n",
       "      <td>Nar</td>\n",
       "      <td>(5.702, 0.784, 16.93)</td>\n",
       "      <td>(8.069, -0.282, 15.326)</td>\n",
       "    </tr>\n",
       "    <tr>\n",
       "      <th>3</th>\n",
       "      <td>166</td>\n",
       "      <td>GLU</td>\n",
       "      <td>A</td>\n",
       "      <td>1101</td>\n",
       "      <td>LIG</td>\n",
       "      <td>A</td>\n",
       "      <td>False</td>\n",
       "      <td>2.60</td>\n",
       "      <td>3.48</td>\n",
       "      <td>148.07</td>\n",
       "      <td>False</td>\n",
       "      <td>2397</td>\n",
       "      <td>Nam</td>\n",
       "      <td>1291</td>\n",
       "      <td>O2</td>\n",
       "      <td>(7.991, 2.594, 22.44)</td>\n",
       "      <td>(9.994, 4.559, 20.389)</td>\n",
       "    </tr>\n",
       "  </tbody>\n",
       "</table>\n",
       "</div>"
      ],
      "text/plain": [
       "   RESNR RESTYPE RESCHAIN  RESNR_LIG RESTYPE_LIG RESCHAIN_LIG  SIDECHAIN  \\\n",
       "0    166     GLU        A       1101         LIG            A      False   \n",
       "1    144     SER        A       1101         LIG            A       True   \n",
       "2    163     HIS        A       1101         LIG            A       True   \n",
       "3    166     GLU        A       1101         LIG            A      False   \n",
       "\n",
       "  DIST_H-A DIST_D-A DON_ANGLE  PROTISDON  DONORIDX DONORTYPE  ACCEPTORIDX  \\\n",
       "0     2.45     3.38    159.01       True      1288       Nam         2401   \n",
       "1     3.17     3.50    102.20       True      1121        O3         2400   \n",
       "2     2.22     3.05    147.85      False      2400        O3         1269   \n",
       "3     2.60     3.48    148.07      False      2397       Nam         1291   \n",
       "\n",
       "  ACCEPTORTYPE                  LIGCOO                  PROTCOO  \n",
       "0           O2  (9.866, 1.017, 21.611)   (9.749, 2.544, 18.594)  \n",
       "1           O3   (5.702, 0.784, 16.93)  (4.607, -2.264, 15.598)  \n",
       "2          Nar   (5.702, 0.784, 16.93)  (8.069, -0.282, 15.326)  \n",
       "3           O2   (7.991, 2.594, 22.44)   (9.994, 4.559, 20.389)  "
      ]
     },
     "metadata": {},
     "output_type": "display_data"
    },
    {
     "data": {
      "text/markdown": [
       "### hydrophobic"
      ],
      "text/plain": [
       "<IPython.core.display.Markdown object>"
      ]
     },
     "metadata": {},
     "output_type": "display_data"
    },
    {
     "data": {
      "text/html": [
       "<div>\n",
       "<style scoped>\n",
       "    .dataframe tbody tr th:only-of-type {\n",
       "        vertical-align: middle;\n",
       "    }\n",
       "\n",
       "    .dataframe tbody tr th {\n",
       "        vertical-align: top;\n",
       "    }\n",
       "\n",
       "    .dataframe thead th {\n",
       "        text-align: right;\n",
       "    }\n",
       "</style>\n",
       "<table border=\"1\" class=\"dataframe\">\n",
       "  <thead>\n",
       "    <tr style=\"text-align: right;\">\n",
       "      <th></th>\n",
       "      <th>RESNR</th>\n",
       "      <th>RESTYPE</th>\n",
       "      <th>RESCHAIN</th>\n",
       "      <th>RESNR_LIG</th>\n",
       "      <th>RESTYPE_LIG</th>\n",
       "      <th>RESCHAIN_LIG</th>\n",
       "      <th>DIST</th>\n",
       "      <th>LIGCARBONIDX</th>\n",
       "      <th>PROTCARBONIDX</th>\n",
       "      <th>LIGCOO</th>\n",
       "      <th>PROTCOO</th>\n",
       "    </tr>\n",
       "  </thead>\n",
       "  <tbody>\n",
       "    <tr>\n",
       "      <th>0</th>\n",
       "      <td>165</td>\n",
       "      <td>MET</td>\n",
       "      <td>A</td>\n",
       "      <td>1101</td>\n",
       "      <td>LIG</td>\n",
       "      <td>A</td>\n",
       "      <td>3.99</td>\n",
       "      <td>2387</td>\n",
       "      <td>1284</td>\n",
       "      <td>(11.351, -1.592, 22.376)</td>\n",
       "      <td>(12.152, 0.87, 19.344)</td>\n",
       "    </tr>\n",
       "    <tr>\n",
       "      <th>1</th>\n",
       "      <td>166</td>\n",
       "      <td>GLU</td>\n",
       "      <td>A</td>\n",
       "      <td>1101</td>\n",
       "      <td>LIG</td>\n",
       "      <td>A</td>\n",
       "      <td>3.49</td>\n",
       "      <td>2394</td>\n",
       "      <td>1292</td>\n",
       "      <td>(5.174, 1.599, 19.108)</td>\n",
       "      <td>(7.726, 3.899, 18.494)</td>\n",
       "    </tr>\n",
       "  </tbody>\n",
       "</table>\n",
       "</div>"
      ],
      "text/plain": [
       "   RESNR RESTYPE RESCHAIN  RESNR_LIG RESTYPE_LIG RESCHAIN_LIG  DIST  \\\n",
       "0    165     MET        A       1101         LIG            A  3.99   \n",
       "1    166     GLU        A       1101         LIG            A  3.49   \n",
       "\n",
       "   LIGCARBONIDX  PROTCARBONIDX                    LIGCOO  \\\n",
       "0          2387           1284  (11.351, -1.592, 22.376)   \n",
       "1          2394           1292    (5.174, 1.599, 19.108)   \n",
       "\n",
       "                  PROTCOO  \n",
       "0  (12.152, 0.87, 19.344)  \n",
       "1  (7.726, 3.899, 18.494)  "
      ]
     },
     "metadata": {},
     "output_type": "display_data"
    },
    {
     "data": {
      "text/markdown": [
       "# Structure Mpro-x0995.pdb"
      ],
      "text/plain": [
       "<IPython.core.display.Markdown object>"
      ]
     },
     "metadata": {},
     "output_type": "display_data"
    },
    {
     "data": {
      "text/markdown": [
       "## Site LIG:A:1101"
      ],
      "text/plain": [
       "<IPython.core.display.Markdown object>"
      ]
     },
     "metadata": {},
     "output_type": "display_data"
    },
    {
     "data": {
      "text/markdown": [
       "### waterbridge"
      ],
      "text/plain": [
       "<IPython.core.display.Markdown object>"
      ]
     },
     "metadata": {},
     "output_type": "display_data"
    },
    {
     "data": {
      "text/html": [
       "<div>\n",
       "<style scoped>\n",
       "    .dataframe tbody tr th:only-of-type {\n",
       "        vertical-align: middle;\n",
       "    }\n",
       "\n",
       "    .dataframe tbody tr th {\n",
       "        vertical-align: top;\n",
       "    }\n",
       "\n",
       "    .dataframe thead th {\n",
       "        text-align: right;\n",
       "    }\n",
       "</style>\n",
       "<table border=\"1\" class=\"dataframe\">\n",
       "  <thead>\n",
       "    <tr style=\"text-align: right;\">\n",
       "      <th></th>\n",
       "      <th>RESNR</th>\n",
       "      <th>RESTYPE</th>\n",
       "      <th>RESCHAIN</th>\n",
       "      <th>RESNR_LIG</th>\n",
       "      <th>RESTYPE_LIG</th>\n",
       "      <th>RESCHAIN_LIG</th>\n",
       "      <th>DIST_A-W</th>\n",
       "      <th>DIST_D-W</th>\n",
       "      <th>DON_ANGLE</th>\n",
       "      <th>WATER_ANGLE</th>\n",
       "      <th>PROTISDON</th>\n",
       "      <th>DONOR_IDX</th>\n",
       "      <th>DONORTYPE</th>\n",
       "      <th>ACCEPTOR_IDX</th>\n",
       "      <th>ACCEPTORTYPE</th>\n",
       "      <th>WATER_IDX</th>\n",
       "      <th>LIGCOO</th>\n",
       "      <th>PROTCOO</th>\n",
       "      <th>WATERCOO</th>\n",
       "    </tr>\n",
       "  </thead>\n",
       "  <tbody>\n",
       "    <tr>\n",
       "      <th>0</th>\n",
       "      <td>142</td>\n",
       "      <td>ASN</td>\n",
       "      <td>A</td>\n",
       "      <td>1101</td>\n",
       "      <td>LIG</td>\n",
       "      <td>A</td>\n",
       "      <td>3.99</td>\n",
       "      <td>3.24</td>\n",
       "      <td>170.69</td>\n",
       "      <td>116.26</td>\n",
       "      <td>True</td>\n",
       "      <td>1104</td>\n",
       "      <td>Nam</td>\n",
       "      <td>2383</td>\n",
       "      <td>Npl</td>\n",
       "      <td>2634</td>\n",
       "      <td>(3.78, 2.082, 19.566)</td>\n",
       "      <td>(1.806, -1.075, 19.652)</td>\n",
       "      <td>(0.07, 1.382, 20.847)</td>\n",
       "    </tr>\n",
       "  </tbody>\n",
       "</table>\n",
       "</div>"
      ],
      "text/plain": [
       "   RESNR RESTYPE RESCHAIN  RESNR_LIG RESTYPE_LIG RESCHAIN_LIG DIST_A-W  \\\n",
       "0    142     ASN        A       1101         LIG            A     3.99   \n",
       "\n",
       "  DIST_D-W DON_ANGLE WATER_ANGLE  PROTISDON  DONOR_IDX DONORTYPE  \\\n",
       "0     3.24    170.69      116.26       True       1104       Nam   \n",
       "\n",
       "   ACCEPTOR_IDX ACCEPTORTYPE  WATER_IDX                 LIGCOO  \\\n",
       "0          2383          Npl       2634  (3.78, 2.082, 19.566)   \n",
       "\n",
       "                   PROTCOO               WATERCOO  \n",
       "0  (1.806, -1.075, 19.652)  (0.07, 1.382, 20.847)  "
      ]
     },
     "metadata": {},
     "output_type": "display_data"
    },
    {
     "data": {
      "text/markdown": [
       "### hbond"
      ],
      "text/plain": [
       "<IPython.core.display.Markdown object>"
      ]
     },
     "metadata": {},
     "output_type": "display_data"
    },
    {
     "data": {
      "text/html": [
       "<div>\n",
       "<style scoped>\n",
       "    .dataframe tbody tr th:only-of-type {\n",
       "        vertical-align: middle;\n",
       "    }\n",
       "\n",
       "    .dataframe tbody tr th {\n",
       "        vertical-align: top;\n",
       "    }\n",
       "\n",
       "    .dataframe thead th {\n",
       "        text-align: right;\n",
       "    }\n",
       "</style>\n",
       "<table border=\"1\" class=\"dataframe\">\n",
       "  <thead>\n",
       "    <tr style=\"text-align: right;\">\n",
       "      <th></th>\n",
       "      <th>RESNR</th>\n",
       "      <th>RESTYPE</th>\n",
       "      <th>RESCHAIN</th>\n",
       "      <th>RESNR_LIG</th>\n",
       "      <th>RESTYPE_LIG</th>\n",
       "      <th>RESCHAIN_LIG</th>\n",
       "      <th>SIDECHAIN</th>\n",
       "      <th>DIST_H-A</th>\n",
       "      <th>DIST_D-A</th>\n",
       "      <th>DON_ANGLE</th>\n",
       "      <th>PROTISDON</th>\n",
       "      <th>DONORIDX</th>\n",
       "      <th>DONORTYPE</th>\n",
       "      <th>ACCEPTORIDX</th>\n",
       "      <th>ACCEPTORTYPE</th>\n",
       "      <th>LIGCOO</th>\n",
       "      <th>PROTCOO</th>\n",
       "    </tr>\n",
       "  </thead>\n",
       "  <tbody>\n",
       "    <tr>\n",
       "      <th>0</th>\n",
       "      <td>142</td>\n",
       "      <td>ASN</td>\n",
       "      <td>A</td>\n",
       "      <td>1101</td>\n",
       "      <td>LIG</td>\n",
       "      <td>A</td>\n",
       "      <td>True</td>\n",
       "      <td>2.73</td>\n",
       "      <td>3.53</td>\n",
       "      <td>139.58</td>\n",
       "      <td>False</td>\n",
       "      <td>2383</td>\n",
       "      <td>Npl</td>\n",
       "      <td>1110</td>\n",
       "      <td>O2</td>\n",
       "      <td>(3.78, 2.082, 19.566)</td>\n",
       "      <td>(3.045, 0.014, 22.335)</td>\n",
       "    </tr>\n",
       "  </tbody>\n",
       "</table>\n",
       "</div>"
      ],
      "text/plain": [
       "   RESNR RESTYPE RESCHAIN  RESNR_LIG RESTYPE_LIG RESCHAIN_LIG  SIDECHAIN  \\\n",
       "0    142     ASN        A       1101         LIG            A       True   \n",
       "\n",
       "  DIST_H-A DIST_D-A DON_ANGLE  PROTISDON  DONORIDX DONORTYPE  ACCEPTORIDX  \\\n",
       "0     2.73     3.53    139.58      False      2383       Npl         1110   \n",
       "\n",
       "  ACCEPTORTYPE                 LIGCOO                 PROTCOO  \n",
       "0           O2  (3.78, 2.082, 19.566)  (3.045, 0.014, 22.335)  "
      ]
     },
     "metadata": {},
     "output_type": "display_data"
    },
    {
     "data": {
      "text/markdown": [
       "# Structure Mpro-x0678.pdb"
      ],
      "text/plain": [
       "<IPython.core.display.Markdown object>"
      ]
     },
     "metadata": {},
     "output_type": "display_data"
    },
    {
     "data": {
      "text/markdown": [
       "## Site LIG:A:1101"
      ],
      "text/plain": [
       "<IPython.core.display.Markdown object>"
      ]
     },
     "metadata": {},
     "output_type": "display_data"
    },
    {
     "data": {
      "text/markdown": [
       "### hbond"
      ],
      "text/plain": [
       "<IPython.core.display.Markdown object>"
      ]
     },
     "metadata": {},
     "output_type": "display_data"
    },
    {
     "data": {
      "text/html": [
       "<div>\n",
       "<style scoped>\n",
       "    .dataframe tbody tr th:only-of-type {\n",
       "        vertical-align: middle;\n",
       "    }\n",
       "\n",
       "    .dataframe tbody tr th {\n",
       "        vertical-align: top;\n",
       "    }\n",
       "\n",
       "    .dataframe thead th {\n",
       "        text-align: right;\n",
       "    }\n",
       "</style>\n",
       "<table border=\"1\" class=\"dataframe\">\n",
       "  <thead>\n",
       "    <tr style=\"text-align: right;\">\n",
       "      <th></th>\n",
       "      <th>RESNR</th>\n",
       "      <th>RESTYPE</th>\n",
       "      <th>RESCHAIN</th>\n",
       "      <th>RESNR_LIG</th>\n",
       "      <th>RESTYPE_LIG</th>\n",
       "      <th>RESCHAIN_LIG</th>\n",
       "      <th>SIDECHAIN</th>\n",
       "      <th>DIST_H-A</th>\n",
       "      <th>DIST_D-A</th>\n",
       "      <th>DON_ANGLE</th>\n",
       "      <th>PROTISDON</th>\n",
       "      <th>DONORIDX</th>\n",
       "      <th>DONORTYPE</th>\n",
       "      <th>ACCEPTORIDX</th>\n",
       "      <th>ACCEPTORTYPE</th>\n",
       "      <th>LIGCOO</th>\n",
       "      <th>PROTCOO</th>\n",
       "    </tr>\n",
       "  </thead>\n",
       "  <tbody>\n",
       "    <tr>\n",
       "      <th>0</th>\n",
       "      <td>166</td>\n",
       "      <td>GLU</td>\n",
       "      <td>A</td>\n",
       "      <td>1101</td>\n",
       "      <td>LIG</td>\n",
       "      <td>A</td>\n",
       "      <td>False</td>\n",
       "      <td>2.00</td>\n",
       "      <td>2.97</td>\n",
       "      <td>168.31</td>\n",
       "      <td>True</td>\n",
       "      <td>1288</td>\n",
       "      <td>Nam</td>\n",
       "      <td>2398</td>\n",
       "      <td>O2</td>\n",
       "      <td>(10.0, 0.972, 20.694)</td>\n",
       "      <td>(10.388, 2.544, 18.208)</td>\n",
       "    </tr>\n",
       "  </tbody>\n",
       "</table>\n",
       "</div>"
      ],
      "text/plain": [
       "   RESNR RESTYPE RESCHAIN  RESNR_LIG RESTYPE_LIG RESCHAIN_LIG  SIDECHAIN  \\\n",
       "0    166     GLU        A       1101         LIG            A      False   \n",
       "\n",
       "  DIST_H-A DIST_D-A DON_ANGLE  PROTISDON  DONORIDX DONORTYPE  ACCEPTORIDX  \\\n",
       "0     2.00     2.97    168.31       True      1288       Nam         2398   \n",
       "\n",
       "  ACCEPTORTYPE                 LIGCOO                  PROTCOO  \n",
       "0           O2  (10.0, 0.972, 20.694)  (10.388, 2.544, 18.208)  "
      ]
     },
     "metadata": {},
     "output_type": "display_data"
    },
    {
     "data": {
      "text/markdown": [
       "### hydrophobic"
      ],
      "text/plain": [
       "<IPython.core.display.Markdown object>"
      ]
     },
     "metadata": {},
     "output_type": "display_data"
    },
    {
     "data": {
      "text/html": [
       "<div>\n",
       "<style scoped>\n",
       "    .dataframe tbody tr th:only-of-type {\n",
       "        vertical-align: middle;\n",
       "    }\n",
       "\n",
       "    .dataframe tbody tr th {\n",
       "        vertical-align: top;\n",
       "    }\n",
       "\n",
       "    .dataframe thead th {\n",
       "        text-align: right;\n",
       "    }\n",
       "</style>\n",
       "<table border=\"1\" class=\"dataframe\">\n",
       "  <thead>\n",
       "    <tr style=\"text-align: right;\">\n",
       "      <th></th>\n",
       "      <th>RESNR</th>\n",
       "      <th>RESTYPE</th>\n",
       "      <th>RESCHAIN</th>\n",
       "      <th>RESNR_LIG</th>\n",
       "      <th>RESTYPE_LIG</th>\n",
       "      <th>RESCHAIN_LIG</th>\n",
       "      <th>DIST</th>\n",
       "      <th>LIGCARBONIDX</th>\n",
       "      <th>PROTCARBONIDX</th>\n",
       "      <th>LIGCOO</th>\n",
       "      <th>PROTCOO</th>\n",
       "    </tr>\n",
       "  </thead>\n",
       "  <tbody>\n",
       "    <tr>\n",
       "      <th>0</th>\n",
       "      <td>166</td>\n",
       "      <td>GLU</td>\n",
       "      <td>A</td>\n",
       "      <td>1101</td>\n",
       "      <td>LIG</td>\n",
       "      <td>A</td>\n",
       "      <td>3.82</td>\n",
       "      <td>2393</td>\n",
       "      <td>1292</td>\n",
       "      <td>(5.662, 1.106, 18.846)</td>\n",
       "      <td>(8.292, 3.838, 18.353)</td>\n",
       "    </tr>\n",
       "    <tr>\n",
       "      <th>1</th>\n",
       "      <td>41</td>\n",
       "      <td>HIS</td>\n",
       "      <td>A</td>\n",
       "      <td>1101</td>\n",
       "      <td>LIG</td>\n",
       "      <td>A</td>\n",
       "      <td>3.93</td>\n",
       "      <td>2387</td>\n",
       "      <td>307</td>\n",
       "      <td>(13.446, -1.874, 22.213)</td>\n",
       "      <td>(14.064, -5.733, 22.67)</td>\n",
       "    </tr>\n",
       "    <tr>\n",
       "      <th>2</th>\n",
       "      <td>189</td>\n",
       "      <td>GLN</td>\n",
       "      <td>A</td>\n",
       "      <td>1101</td>\n",
       "      <td>LIG</td>\n",
       "      <td>A</td>\n",
       "      <td>3.82</td>\n",
       "      <td>2389</td>\n",
       "      <td>1468</td>\n",
       "      <td>(13.497, -0.339, 24.265)</td>\n",
       "      <td>(13.447, 2.536, 26.776)</td>\n",
       "    </tr>\n",
       "    <tr>\n",
       "      <th>3</th>\n",
       "      <td>49</td>\n",
       "      <td>MET</td>\n",
       "      <td>A</td>\n",
       "      <td>1101</td>\n",
       "      <td>LIG</td>\n",
       "      <td>A</td>\n",
       "      <td>3.79</td>\n",
       "      <td>2389</td>\n",
       "      <td>368</td>\n",
       "      <td>(13.497, -0.339, 24.265)</td>\n",
       "      <td>(12.993, -1.667, 27.783)</td>\n",
       "    </tr>\n",
       "  </tbody>\n",
       "</table>\n",
       "</div>"
      ],
      "text/plain": [
       "   RESNR RESTYPE RESCHAIN  RESNR_LIG RESTYPE_LIG RESCHAIN_LIG  DIST  \\\n",
       "0    166     GLU        A       1101         LIG            A  3.82   \n",
       "1     41     HIS        A       1101         LIG            A  3.93   \n",
       "2    189     GLN        A       1101         LIG            A  3.82   \n",
       "3     49     MET        A       1101         LIG            A  3.79   \n",
       "\n",
       "   LIGCARBONIDX  PROTCARBONIDX                    LIGCOO  \\\n",
       "0          2393           1292    (5.662, 1.106, 18.846)   \n",
       "1          2387            307  (13.446, -1.874, 22.213)   \n",
       "2          2389           1468  (13.497, -0.339, 24.265)   \n",
       "3          2389            368  (13.497, -0.339, 24.265)   \n",
       "\n",
       "                    PROTCOO  \n",
       "0    (8.292, 3.838, 18.353)  \n",
       "1   (14.064, -5.733, 22.67)  \n",
       "2   (13.447, 2.536, 26.776)  \n",
       "3  (12.993, -1.667, 27.783)  "
      ]
     },
     "metadata": {},
     "output_type": "display_data"
    },
    {
     "data": {
      "text/markdown": [
       "# Structure Mpro-x0991.pdb"
      ],
      "text/plain": [
       "<IPython.core.display.Markdown object>"
      ]
     },
     "metadata": {},
     "output_type": "display_data"
    },
    {
     "data": {
      "text/markdown": [
       "## Site LIG:A:1101"
      ],
      "text/plain": [
       "<IPython.core.display.Markdown object>"
      ]
     },
     "metadata": {},
     "output_type": "display_data"
    },
    {
     "data": {
      "text/markdown": [
       "### hbond"
      ],
      "text/plain": [
       "<IPython.core.display.Markdown object>"
      ]
     },
     "metadata": {},
     "output_type": "display_data"
    },
    {
     "data": {
      "text/html": [
       "<div>\n",
       "<style scoped>\n",
       "    .dataframe tbody tr th:only-of-type {\n",
       "        vertical-align: middle;\n",
       "    }\n",
       "\n",
       "    .dataframe tbody tr th {\n",
       "        vertical-align: top;\n",
       "    }\n",
       "\n",
       "    .dataframe thead th {\n",
       "        text-align: right;\n",
       "    }\n",
       "</style>\n",
       "<table border=\"1\" class=\"dataframe\">\n",
       "  <thead>\n",
       "    <tr style=\"text-align: right;\">\n",
       "      <th></th>\n",
       "      <th>RESNR</th>\n",
       "      <th>RESTYPE</th>\n",
       "      <th>RESCHAIN</th>\n",
       "      <th>RESNR_LIG</th>\n",
       "      <th>RESTYPE_LIG</th>\n",
       "      <th>RESCHAIN_LIG</th>\n",
       "      <th>SIDECHAIN</th>\n",
       "      <th>DIST_H-A</th>\n",
       "      <th>DIST_D-A</th>\n",
       "      <th>DON_ANGLE</th>\n",
       "      <th>PROTISDON</th>\n",
       "      <th>DONORIDX</th>\n",
       "      <th>DONORTYPE</th>\n",
       "      <th>ACCEPTORIDX</th>\n",
       "      <th>ACCEPTORTYPE</th>\n",
       "      <th>LIGCOO</th>\n",
       "      <th>PROTCOO</th>\n",
       "    </tr>\n",
       "  </thead>\n",
       "  <tbody>\n",
       "    <tr>\n",
       "      <th>0</th>\n",
       "      <td>25</td>\n",
       "      <td>THR</td>\n",
       "      <td>A</td>\n",
       "      <td>1101</td>\n",
       "      <td>LIG</td>\n",
       "      <td>A</td>\n",
       "      <td>True</td>\n",
       "      <td>3.53</td>\n",
       "      <td>3.91</td>\n",
       "      <td>106.27</td>\n",
       "      <td>True</td>\n",
       "      <td>178</td>\n",
       "      <td>O3</td>\n",
       "      <td>2387</td>\n",
       "      <td>Ng+</td>\n",
       "      <td>(8.523, -4.964, 26.462)</td>\n",
       "      <td>(7.873, -8.788, 26.952)</td>\n",
       "    </tr>\n",
       "    <tr>\n",
       "      <th>1</th>\n",
       "      <td>45</td>\n",
       "      <td>THR</td>\n",
       "      <td>A</td>\n",
       "      <td>1101</td>\n",
       "      <td>LIG</td>\n",
       "      <td>A</td>\n",
       "      <td>False</td>\n",
       "      <td>3.20</td>\n",
       "      <td>4.09</td>\n",
       "      <td>150.78</td>\n",
       "      <td>False</td>\n",
       "      <td>2387</td>\n",
       "      <td>Ng+</td>\n",
       "      <td>337</td>\n",
       "      <td>O2</td>\n",
       "      <td>(8.523, -4.964, 26.462)</td>\n",
       "      <td>(11.093, -4.54, 29.613)</td>\n",
       "    </tr>\n",
       "    <tr>\n",
       "      <th>2</th>\n",
       "      <td>41</td>\n",
       "      <td>HIS</td>\n",
       "      <td>A</td>\n",
       "      <td>1101</td>\n",
       "      <td>LIG</td>\n",
       "      <td>A</td>\n",
       "      <td>False</td>\n",
       "      <td>2.29</td>\n",
       "      <td>2.71</td>\n",
       "      <td>104.83</td>\n",
       "      <td>False</td>\n",
       "      <td>2383</td>\n",
       "      <td>Ng+</td>\n",
       "      <td>306</td>\n",
       "      <td>O2</td>\n",
       "      <td>(10.203, -5.727, 25.115)</td>\n",
       "      <td>(12.032, -7.656, 24.576)</td>\n",
       "    </tr>\n",
       "  </tbody>\n",
       "</table>\n",
       "</div>"
      ],
      "text/plain": [
       "   RESNR RESTYPE RESCHAIN  RESNR_LIG RESTYPE_LIG RESCHAIN_LIG  SIDECHAIN  \\\n",
       "0     25     THR        A       1101         LIG            A       True   \n",
       "1     45     THR        A       1101         LIG            A      False   \n",
       "2     41     HIS        A       1101         LIG            A      False   \n",
       "\n",
       "  DIST_H-A DIST_D-A DON_ANGLE  PROTISDON  DONORIDX DONORTYPE  ACCEPTORIDX  \\\n",
       "0     3.53     3.91    106.27       True       178        O3         2387   \n",
       "1     3.20     4.09    150.78      False      2387       Ng+          337   \n",
       "2     2.29     2.71    104.83      False      2383       Ng+          306   \n",
       "\n",
       "  ACCEPTORTYPE                    LIGCOO                   PROTCOO  \n",
       "0          Ng+   (8.523, -4.964, 26.462)   (7.873, -8.788, 26.952)  \n",
       "1           O2   (8.523, -4.964, 26.462)   (11.093, -4.54, 29.613)  \n",
       "2           O2  (10.203, -5.727, 25.115)  (12.032, -7.656, 24.576)  "
      ]
     },
     "metadata": {},
     "output_type": "display_data"
    },
    {
     "data": {
      "text/markdown": [
       "### hydrophobic"
      ],
      "text/plain": [
       "<IPython.core.display.Markdown object>"
      ]
     },
     "metadata": {},
     "output_type": "display_data"
    },
    {
     "data": {
      "text/html": [
       "<div>\n",
       "<style scoped>\n",
       "    .dataframe tbody tr th:only-of-type {\n",
       "        vertical-align: middle;\n",
       "    }\n",
       "\n",
       "    .dataframe tbody tr th {\n",
       "        vertical-align: top;\n",
       "    }\n",
       "\n",
       "    .dataframe thead th {\n",
       "        text-align: right;\n",
       "    }\n",
       "</style>\n",
       "<table border=\"1\" class=\"dataframe\">\n",
       "  <thead>\n",
       "    <tr style=\"text-align: right;\">\n",
       "      <th></th>\n",
       "      <th>RESNR</th>\n",
       "      <th>RESTYPE</th>\n",
       "      <th>RESCHAIN</th>\n",
       "      <th>RESNR_LIG</th>\n",
       "      <th>RESTYPE_LIG</th>\n",
       "      <th>RESCHAIN_LIG</th>\n",
       "      <th>DIST</th>\n",
       "      <th>LIGCARBONIDX</th>\n",
       "      <th>PROTCARBONIDX</th>\n",
       "      <th>LIGCOO</th>\n",
       "      <th>PROTCOO</th>\n",
       "    </tr>\n",
       "  </thead>\n",
       "  <tbody>\n",
       "    <tr>\n",
       "      <th>0</th>\n",
       "      <td>25</td>\n",
       "      <td>THR</td>\n",
       "      <td>A</td>\n",
       "      <td>1101</td>\n",
       "      <td>LIG</td>\n",
       "      <td>A</td>\n",
       "      <td>3.96</td>\n",
       "      <td>2385</td>\n",
       "      <td>179</td>\n",
       "      <td>(8.148, -4.725, 24.034)</td>\n",
       "      <td>(7.746, -8.624, 24.575)</td>\n",
       "    </tr>\n",
       "  </tbody>\n",
       "</table>\n",
       "</div>"
      ],
      "text/plain": [
       "   RESNR RESTYPE RESCHAIN  RESNR_LIG RESTYPE_LIG RESCHAIN_LIG  DIST  \\\n",
       "0     25     THR        A       1101         LIG            A  3.96   \n",
       "\n",
       "   LIGCARBONIDX  PROTCARBONIDX                   LIGCOO  \\\n",
       "0          2385            179  (8.148, -4.725, 24.034)   \n",
       "\n",
       "                   PROTCOO  \n",
       "0  (7.746, -8.624, 24.575)  "
      ]
     },
     "metadata": {},
     "output_type": "display_data"
    },
    {
     "data": {
      "text/markdown": [
       "# Structure Mpro-x0305.pdb"
      ],
      "text/plain": [
       "<IPython.core.display.Markdown object>"
      ]
     },
     "metadata": {},
     "output_type": "display_data"
    },
    {
     "data": {
      "text/markdown": [
       "## Site LIG:A:1101"
      ],
      "text/plain": [
       "<IPython.core.display.Markdown object>"
      ]
     },
     "metadata": {},
     "output_type": "display_data"
    },
    {
     "data": {
      "text/markdown": [
       "### waterbridge"
      ],
      "text/plain": [
       "<IPython.core.display.Markdown object>"
      ]
     },
     "metadata": {},
     "output_type": "display_data"
    },
    {
     "data": {
      "text/html": [
       "<div>\n",
       "<style scoped>\n",
       "    .dataframe tbody tr th:only-of-type {\n",
       "        vertical-align: middle;\n",
       "    }\n",
       "\n",
       "    .dataframe tbody tr th {\n",
       "        vertical-align: top;\n",
       "    }\n",
       "\n",
       "    .dataframe thead th {\n",
       "        text-align: right;\n",
       "    }\n",
       "</style>\n",
       "<table border=\"1\" class=\"dataframe\">\n",
       "  <thead>\n",
       "    <tr style=\"text-align: right;\">\n",
       "      <th></th>\n",
       "      <th>RESNR</th>\n",
       "      <th>RESTYPE</th>\n",
       "      <th>RESCHAIN</th>\n",
       "      <th>RESNR_LIG</th>\n",
       "      <th>RESTYPE_LIG</th>\n",
       "      <th>RESCHAIN_LIG</th>\n",
       "      <th>DIST_A-W</th>\n",
       "      <th>DIST_D-W</th>\n",
       "      <th>DON_ANGLE</th>\n",
       "      <th>WATER_ANGLE</th>\n",
       "      <th>PROTISDON</th>\n",
       "      <th>DONOR_IDX</th>\n",
       "      <th>DONORTYPE</th>\n",
       "      <th>ACCEPTOR_IDX</th>\n",
       "      <th>ACCEPTORTYPE</th>\n",
       "      <th>WATER_IDX</th>\n",
       "      <th>LIGCOO</th>\n",
       "      <th>PROTCOO</th>\n",
       "      <th>WATERCOO</th>\n",
       "    </tr>\n",
       "  </thead>\n",
       "  <tbody>\n",
       "    <tr>\n",
       "      <th>0</th>\n",
       "      <td>164</td>\n",
       "      <td>HIS</td>\n",
       "      <td>A</td>\n",
       "      <td>1101</td>\n",
       "      <td>LIG</td>\n",
       "      <td>A</td>\n",
       "      <td>4.02</td>\n",
       "      <td>2.88</td>\n",
       "      <td>142.75</td>\n",
       "      <td>116.95</td>\n",
       "      <td>True</td>\n",
       "      <td>1276</td>\n",
       "      <td>Nar</td>\n",
       "      <td>2392</td>\n",
       "      <td>N1</td>\n",
       "      <td>2400</td>\n",
       "      <td>(14.122, -1.82, 20.508)</td>\n",
       "      <td>(15.081, -4.706, 17.493)</td>\n",
       "      <td>(15.605, -5.539, 20.201)</td>\n",
       "    </tr>\n",
       "  </tbody>\n",
       "</table>\n",
       "</div>"
      ],
      "text/plain": [
       "   RESNR RESTYPE RESCHAIN  RESNR_LIG RESTYPE_LIG RESCHAIN_LIG DIST_A-W  \\\n",
       "0    164     HIS        A       1101         LIG            A     4.02   \n",
       "\n",
       "  DIST_D-W DON_ANGLE WATER_ANGLE  PROTISDON  DONOR_IDX DONORTYPE  \\\n",
       "0     2.88    142.75      116.95       True       1276       Nar   \n",
       "\n",
       "   ACCEPTOR_IDX ACCEPTORTYPE  WATER_IDX                   LIGCOO  \\\n",
       "0          2392           N1       2400  (14.122, -1.82, 20.508)   \n",
       "\n",
       "                    PROTCOO                  WATERCOO  \n",
       "0  (15.081, -4.706, 17.493)  (15.605, -5.539, 20.201)  "
      ]
     },
     "metadata": {},
     "output_type": "display_data"
    },
    {
     "data": {
      "text/markdown": [
       "### hbond"
      ],
      "text/plain": [
       "<IPython.core.display.Markdown object>"
      ]
     },
     "metadata": {},
     "output_type": "display_data"
    },
    {
     "data": {
      "text/html": [
       "<div>\n",
       "<style scoped>\n",
       "    .dataframe tbody tr th:only-of-type {\n",
       "        vertical-align: middle;\n",
       "    }\n",
       "\n",
       "    .dataframe tbody tr th {\n",
       "        vertical-align: top;\n",
       "    }\n",
       "\n",
       "    .dataframe thead th {\n",
       "        text-align: right;\n",
       "    }\n",
       "</style>\n",
       "<table border=\"1\" class=\"dataframe\">\n",
       "  <thead>\n",
       "    <tr style=\"text-align: right;\">\n",
       "      <th></th>\n",
       "      <th>RESNR</th>\n",
       "      <th>RESTYPE</th>\n",
       "      <th>RESCHAIN</th>\n",
       "      <th>RESNR_LIG</th>\n",
       "      <th>RESTYPE_LIG</th>\n",
       "      <th>RESCHAIN_LIG</th>\n",
       "      <th>SIDECHAIN</th>\n",
       "      <th>DIST_H-A</th>\n",
       "      <th>DIST_D-A</th>\n",
       "      <th>DON_ANGLE</th>\n",
       "      <th>PROTISDON</th>\n",
       "      <th>DONORIDX</th>\n",
       "      <th>DONORTYPE</th>\n",
       "      <th>ACCEPTORIDX</th>\n",
       "      <th>ACCEPTORTYPE</th>\n",
       "      <th>LIGCOO</th>\n",
       "      <th>PROTCOO</th>\n",
       "    </tr>\n",
       "  </thead>\n",
       "  <tbody>\n",
       "    <tr>\n",
       "      <th>0</th>\n",
       "      <td>41</td>\n",
       "      <td>HIS</td>\n",
       "      <td>A</td>\n",
       "      <td>1101</td>\n",
       "      <td>LIG</td>\n",
       "      <td>A</td>\n",
       "      <td>True</td>\n",
       "      <td>2.48</td>\n",
       "      <td>3.11</td>\n",
       "      <td>121.14</td>\n",
       "      <td>True</td>\n",
       "      <td>309</td>\n",
       "      <td>Nar</td>\n",
       "      <td>2392</td>\n",
       "      <td>N1</td>\n",
       "      <td>(14.122, -1.82, 20.508)</td>\n",
       "      <td>(12.877, -4.624, 21.017)</td>\n",
       "    </tr>\n",
       "    <tr>\n",
       "      <th>1</th>\n",
       "      <td>189</td>\n",
       "      <td>GLN</td>\n",
       "      <td>A</td>\n",
       "      <td>1101</td>\n",
       "      <td>LIG</td>\n",
       "      <td>A</td>\n",
       "      <td>True</td>\n",
       "      <td>2.37</td>\n",
       "      <td>3.16</td>\n",
       "      <td>136.75</td>\n",
       "      <td>False</td>\n",
       "      <td>2391</td>\n",
       "      <td>Npl</td>\n",
       "      <td>1471</td>\n",
       "      <td>O2</td>\n",
       "      <td>(10.162, 0.163, 25.71)</td>\n",
       "      <td>(10.373, 1.776, 28.414)</td>\n",
       "    </tr>\n",
       "  </tbody>\n",
       "</table>\n",
       "</div>"
      ],
      "text/plain": [
       "   RESNR RESTYPE RESCHAIN  RESNR_LIG RESTYPE_LIG RESCHAIN_LIG  SIDECHAIN  \\\n",
       "0     41     HIS        A       1101         LIG            A       True   \n",
       "1    189     GLN        A       1101         LIG            A       True   \n",
       "\n",
       "  DIST_H-A DIST_D-A DON_ANGLE  PROTISDON  DONORIDX DONORTYPE  ACCEPTORIDX  \\\n",
       "0     2.48     3.11    121.14       True       309       Nar         2392   \n",
       "1     2.37     3.16    136.75      False      2391       Npl         1471   \n",
       "\n",
       "  ACCEPTORTYPE                   LIGCOO                   PROTCOO  \n",
       "0           N1  (14.122, -1.82, 20.508)  (12.877, -4.624, 21.017)  \n",
       "1           O2   (10.162, 0.163, 25.71)   (10.373, 1.776, 28.414)  "
      ]
     },
     "metadata": {},
     "output_type": "display_data"
    },
    {
     "data": {
      "text/markdown": [
       "### pistacking"
      ],
      "text/plain": [
       "<IPython.core.display.Markdown object>"
      ]
     },
     "metadata": {},
     "output_type": "display_data"
    },
    {
     "data": {
      "text/html": [
       "<div>\n",
       "<style scoped>\n",
       "    .dataframe tbody tr th:only-of-type {\n",
       "        vertical-align: middle;\n",
       "    }\n",
       "\n",
       "    .dataframe tbody tr th {\n",
       "        vertical-align: top;\n",
       "    }\n",
       "\n",
       "    .dataframe thead th {\n",
       "        text-align: right;\n",
       "    }\n",
       "</style>\n",
       "<table border=\"1\" class=\"dataframe\">\n",
       "  <thead>\n",
       "    <tr style=\"text-align: right;\">\n",
       "      <th></th>\n",
       "      <th>RESNR</th>\n",
       "      <th>RESTYPE</th>\n",
       "      <th>RESCHAIN</th>\n",
       "      <th>RESNR_LIG</th>\n",
       "      <th>RESTYPE_LIG</th>\n",
       "      <th>RESCHAIN_LIG</th>\n",
       "      <th>CENTDIST</th>\n",
       "      <th>ANGLE</th>\n",
       "      <th>OFFSET</th>\n",
       "      <th>TYPE</th>\n",
       "      <th>LIG_IDX_LIST</th>\n",
       "      <th>LIGCOO</th>\n",
       "      <th>PROTCOO</th>\n",
       "    </tr>\n",
       "  </thead>\n",
       "  <tbody>\n",
       "    <tr>\n",
       "      <th>0</th>\n",
       "      <td>41</td>\n",
       "      <td>HIS</td>\n",
       "      <td>A</td>\n",
       "      <td>1101</td>\n",
       "      <td>LIG</td>\n",
       "      <td>A</td>\n",
       "      <td>4.88</td>\n",
       "      <td>77.20</td>\n",
       "      <td>0.62</td>\n",
       "      <td>T</td>\n",
       "      <td>2385,2386,2387,2388,2390,2393</td>\n",
       "      <td>(11.750833333333334, -0.6871666666666666, 23.5...</td>\n",
       "      <td>(11.877, -5.0280000000000005, 21.3542)</td>\n",
       "    </tr>\n",
       "  </tbody>\n",
       "</table>\n",
       "</div>"
      ],
      "text/plain": [
       "   RESNR RESTYPE RESCHAIN  RESNR_LIG RESTYPE_LIG RESCHAIN_LIG CENTDIST  ANGLE  \\\n",
       "0     41     HIS        A       1101         LIG            A     4.88  77.20   \n",
       "\n",
       "  OFFSET TYPE                   LIG_IDX_LIST  \\\n",
       "0   0.62    T  2385,2386,2387,2388,2390,2393   \n",
       "\n",
       "                                              LIGCOO  \\\n",
       "0  (11.750833333333334, -0.6871666666666666, 23.5...   \n",
       "\n",
       "                                  PROTCOO  \n",
       "0  (11.877, -5.0280000000000005, 21.3542)  "
      ]
     },
     "metadata": {},
     "output_type": "display_data"
    },
    {
     "data": {
      "text/markdown": [
       "# Structure Mpro-x0540.pdb"
      ],
      "text/plain": [
       "<IPython.core.display.Markdown object>"
      ]
     },
     "metadata": {},
     "output_type": "display_data"
    },
    {
     "data": {
      "text/markdown": [
       "## Site LIG:A:1101"
      ],
      "text/plain": [
       "<IPython.core.display.Markdown object>"
      ]
     },
     "metadata": {},
     "output_type": "display_data"
    },
    {
     "data": {
      "text/markdown": [
       "### waterbridge"
      ],
      "text/plain": [
       "<IPython.core.display.Markdown object>"
      ]
     },
     "metadata": {},
     "output_type": "display_data"
    },
    {
     "data": {
      "text/html": [
       "<div>\n",
       "<style scoped>\n",
       "    .dataframe tbody tr th:only-of-type {\n",
       "        vertical-align: middle;\n",
       "    }\n",
       "\n",
       "    .dataframe tbody tr th {\n",
       "        vertical-align: top;\n",
       "    }\n",
       "\n",
       "    .dataframe thead th {\n",
       "        text-align: right;\n",
       "    }\n",
       "</style>\n",
       "<table border=\"1\" class=\"dataframe\">\n",
       "  <thead>\n",
       "    <tr style=\"text-align: right;\">\n",
       "      <th></th>\n",
       "      <th>RESNR</th>\n",
       "      <th>RESTYPE</th>\n",
       "      <th>RESCHAIN</th>\n",
       "      <th>RESNR_LIG</th>\n",
       "      <th>RESTYPE_LIG</th>\n",
       "      <th>RESCHAIN_LIG</th>\n",
       "      <th>DIST_A-W</th>\n",
       "      <th>DIST_D-W</th>\n",
       "      <th>DON_ANGLE</th>\n",
       "      <th>WATER_ANGLE</th>\n",
       "      <th>PROTISDON</th>\n",
       "      <th>DONOR_IDX</th>\n",
       "      <th>DONORTYPE</th>\n",
       "      <th>ACCEPTOR_IDX</th>\n",
       "      <th>ACCEPTORTYPE</th>\n",
       "      <th>WATER_IDX</th>\n",
       "      <th>LIGCOO</th>\n",
       "      <th>PROTCOO</th>\n",
       "      <th>WATERCOO</th>\n",
       "    </tr>\n",
       "  </thead>\n",
       "  <tbody>\n",
       "    <tr>\n",
       "      <th>0</th>\n",
       "      <td>166</td>\n",
       "      <td>GLU</td>\n",
       "      <td>A</td>\n",
       "      <td>1101</td>\n",
       "      <td>LIG</td>\n",
       "      <td>A</td>\n",
       "      <td>3.50</td>\n",
       "      <td>3.83</td>\n",
       "      <td>141.78</td>\n",
       "      <td>102.95</td>\n",
       "      <td>False</td>\n",
       "      <td>2399</td>\n",
       "      <td>Nam</td>\n",
       "      <td>1295</td>\n",
       "      <td>O3</td>\n",
       "      <td>2556</td>\n",
       "      <td>(2.294, 3.164, 23.244)</td>\n",
       "      <td>(4.854, 4.81, 19.435)</td>\n",
       "      <td>(1.389, 4.396, 19.734)</td>\n",
       "    </tr>\n",
       "  </tbody>\n",
       "</table>\n",
       "</div>"
      ],
      "text/plain": [
       "   RESNR RESTYPE RESCHAIN  RESNR_LIG RESTYPE_LIG RESCHAIN_LIG DIST_A-W  \\\n",
       "0    166     GLU        A       1101         LIG            A     3.50   \n",
       "\n",
       "  DIST_D-W DON_ANGLE WATER_ANGLE  PROTISDON  DONOR_IDX DONORTYPE  \\\n",
       "0     3.83    141.78      102.95      False       2399       Nam   \n",
       "\n",
       "   ACCEPTOR_IDX ACCEPTORTYPE  WATER_IDX                  LIGCOO  \\\n",
       "0          1295           O3       2556  (2.294, 3.164, 23.244)   \n",
       "\n",
       "                 PROTCOO                WATERCOO  \n",
       "0  (4.854, 4.81, 19.435)  (1.389, 4.396, 19.734)  "
      ]
     },
     "metadata": {},
     "output_type": "display_data"
    },
    {
     "data": {
      "text/markdown": [
       "### hbond"
      ],
      "text/plain": [
       "<IPython.core.display.Markdown object>"
      ]
     },
     "metadata": {},
     "output_type": "display_data"
    },
    {
     "data": {
      "text/html": [
       "<div>\n",
       "<style scoped>\n",
       "    .dataframe tbody tr th:only-of-type {\n",
       "        vertical-align: middle;\n",
       "    }\n",
       "\n",
       "    .dataframe tbody tr th {\n",
       "        vertical-align: top;\n",
       "    }\n",
       "\n",
       "    .dataframe thead th {\n",
       "        text-align: right;\n",
       "    }\n",
       "</style>\n",
       "<table border=\"1\" class=\"dataframe\">\n",
       "  <thead>\n",
       "    <tr style=\"text-align: right;\">\n",
       "      <th></th>\n",
       "      <th>RESNR</th>\n",
       "      <th>RESTYPE</th>\n",
       "      <th>RESCHAIN</th>\n",
       "      <th>RESNR_LIG</th>\n",
       "      <th>RESTYPE_LIG</th>\n",
       "      <th>RESCHAIN_LIG</th>\n",
       "      <th>SIDECHAIN</th>\n",
       "      <th>DIST_H-A</th>\n",
       "      <th>DIST_D-A</th>\n",
       "      <th>DON_ANGLE</th>\n",
       "      <th>PROTISDON</th>\n",
       "      <th>DONORIDX</th>\n",
       "      <th>DONORTYPE</th>\n",
       "      <th>ACCEPTORIDX</th>\n",
       "      <th>ACCEPTORTYPE</th>\n",
       "      <th>LIGCOO</th>\n",
       "      <th>PROTCOO</th>\n",
       "    </tr>\n",
       "  </thead>\n",
       "  <tbody>\n",
       "    <tr>\n",
       "      <th>0</th>\n",
       "      <td>166</td>\n",
       "      <td>GLU</td>\n",
       "      <td>A</td>\n",
       "      <td>1101</td>\n",
       "      <td>LIG</td>\n",
       "      <td>A</td>\n",
       "      <td>True</td>\n",
       "      <td>3.46</td>\n",
       "      <td>3.98</td>\n",
       "      <td>117.82</td>\n",
       "      <td>True</td>\n",
       "      <td>1295</td>\n",
       "      <td>O3</td>\n",
       "      <td>2397</td>\n",
       "      <td>Nam</td>\n",
       "      <td>(4.501, 2.341, 22.538)</td>\n",
       "      <td>(4.854, 4.81, 19.435)</td>\n",
       "    </tr>\n",
       "    <tr>\n",
       "      <th>1</th>\n",
       "      <td>142</td>\n",
       "      <td>ASN</td>\n",
       "      <td>A</td>\n",
       "      <td>1101</td>\n",
       "      <td>LIG</td>\n",
       "      <td>A</td>\n",
       "      <td>True</td>\n",
       "      <td>2.57</td>\n",
       "      <td>3.04</td>\n",
       "      <td>108.86</td>\n",
       "      <td>True</td>\n",
       "      <td>1111</td>\n",
       "      <td>Nam</td>\n",
       "      <td>2400</td>\n",
       "      <td>O2</td>\n",
       "      <td>(3.33, 1.358, 24.276)</td>\n",
       "      <td>(2.686, -1.609, 24.166)</td>\n",
       "    </tr>\n",
       "    <tr>\n",
       "      <th>2</th>\n",
       "      <td>166</td>\n",
       "      <td>GLU</td>\n",
       "      <td>A</td>\n",
       "      <td>1101</td>\n",
       "      <td>LIG</td>\n",
       "      <td>A</td>\n",
       "      <td>True</td>\n",
       "      <td>3.02</td>\n",
       "      <td>3.98</td>\n",
       "      <td>166.54</td>\n",
       "      <td>False</td>\n",
       "      <td>2397</td>\n",
       "      <td>Nam</td>\n",
       "      <td>1295</td>\n",
       "      <td>O3</td>\n",
       "      <td>(4.501, 2.341, 22.538)</td>\n",
       "      <td>(4.854, 4.81, 19.435)</td>\n",
       "    </tr>\n",
       "  </tbody>\n",
       "</table>\n",
       "</div>"
      ],
      "text/plain": [
       "   RESNR RESTYPE RESCHAIN  RESNR_LIG RESTYPE_LIG RESCHAIN_LIG  SIDECHAIN  \\\n",
       "0    166     GLU        A       1101         LIG            A       True   \n",
       "1    142     ASN        A       1101         LIG            A       True   \n",
       "2    166     GLU        A       1101         LIG            A       True   \n",
       "\n",
       "  DIST_H-A DIST_D-A DON_ANGLE  PROTISDON  DONORIDX DONORTYPE  ACCEPTORIDX  \\\n",
       "0     3.46     3.98    117.82       True      1295        O3         2397   \n",
       "1     2.57     3.04    108.86       True      1111       Nam         2400   \n",
       "2     3.02     3.98    166.54      False      2397       Nam         1295   \n",
       "\n",
       "  ACCEPTORTYPE                  LIGCOO                  PROTCOO  \n",
       "0          Nam  (4.501, 2.341, 22.538)    (4.854, 4.81, 19.435)  \n",
       "1           O2   (3.33, 1.358, 24.276)  (2.686, -1.609, 24.166)  \n",
       "2           O3  (4.501, 2.341, 22.538)    (4.854, 4.81, 19.435)  "
      ]
     },
     "metadata": {},
     "output_type": "display_data"
    },
    {
     "data": {
      "text/markdown": [
       "### hydrophobic"
      ],
      "text/plain": [
       "<IPython.core.display.Markdown object>"
      ]
     },
     "metadata": {},
     "output_type": "display_data"
    },
    {
     "data": {
      "text/html": [
       "<div>\n",
       "<style scoped>\n",
       "    .dataframe tbody tr th:only-of-type {\n",
       "        vertical-align: middle;\n",
       "    }\n",
       "\n",
       "    .dataframe tbody tr th {\n",
       "        vertical-align: top;\n",
       "    }\n",
       "\n",
       "    .dataframe thead th {\n",
       "        text-align: right;\n",
       "    }\n",
       "</style>\n",
       "<table border=\"1\" class=\"dataframe\">\n",
       "  <thead>\n",
       "    <tr style=\"text-align: right;\">\n",
       "      <th></th>\n",
       "      <th>RESNR</th>\n",
       "      <th>RESTYPE</th>\n",
       "      <th>RESCHAIN</th>\n",
       "      <th>RESNR_LIG</th>\n",
       "      <th>RESTYPE_LIG</th>\n",
       "      <th>RESCHAIN_LIG</th>\n",
       "      <th>DIST</th>\n",
       "      <th>LIGCARBONIDX</th>\n",
       "      <th>PROTCARBONIDX</th>\n",
       "      <th>LIGCOO</th>\n",
       "      <th>PROTCOO</th>\n",
       "    </tr>\n",
       "  </thead>\n",
       "  <tbody>\n",
       "    <tr>\n",
       "      <th>0</th>\n",
       "      <td>166</td>\n",
       "      <td>GLU</td>\n",
       "      <td>A</td>\n",
       "      <td>1101</td>\n",
       "      <td>LIG</td>\n",
       "      <td>A</td>\n",
       "      <td>3.90</td>\n",
       "      <td>2390</td>\n",
       "      <td>1292</td>\n",
       "      <td>(5.02, 1.202, 19.424)</td>\n",
       "      <td>(7.898, 3.809, 19.075)</td>\n",
       "    </tr>\n",
       "  </tbody>\n",
       "</table>\n",
       "</div>"
      ],
      "text/plain": [
       "   RESNR RESTYPE RESCHAIN  RESNR_LIG RESTYPE_LIG RESCHAIN_LIG  DIST  \\\n",
       "0    166     GLU        A       1101         LIG            A  3.90   \n",
       "\n",
       "   LIGCARBONIDX  PROTCARBONIDX                 LIGCOO                 PROTCOO  \n",
       "0          2390           1292  (5.02, 1.202, 19.424)  (7.898, 3.809, 19.075)  "
      ]
     },
     "metadata": {},
     "output_type": "display_data"
    },
    {
     "data": {
      "text/markdown": [
       "# Structure Mpro-x0195.pdb"
      ],
      "text/plain": [
       "<IPython.core.display.Markdown object>"
      ]
     },
     "metadata": {},
     "output_type": "display_data"
    },
    {
     "data": {
      "text/markdown": [
       "## Site LIG:A:801"
      ],
      "text/plain": [
       "<IPython.core.display.Markdown object>"
      ]
     },
     "metadata": {},
     "output_type": "display_data"
    },
    {
     "data": {
      "text/markdown": [
       "### hbond"
      ],
      "text/plain": [
       "<IPython.core.display.Markdown object>"
      ]
     },
     "metadata": {},
     "output_type": "display_data"
    },
    {
     "data": {
      "text/html": [
       "<div>\n",
       "<style scoped>\n",
       "    .dataframe tbody tr th:only-of-type {\n",
       "        vertical-align: middle;\n",
       "    }\n",
       "\n",
       "    .dataframe tbody tr th {\n",
       "        vertical-align: top;\n",
       "    }\n",
       "\n",
       "    .dataframe thead th {\n",
       "        text-align: right;\n",
       "    }\n",
       "</style>\n",
       "<table border=\"1\" class=\"dataframe\">\n",
       "  <thead>\n",
       "    <tr style=\"text-align: right;\">\n",
       "      <th></th>\n",
       "      <th>RESNR</th>\n",
       "      <th>RESTYPE</th>\n",
       "      <th>RESCHAIN</th>\n",
       "      <th>RESNR_LIG</th>\n",
       "      <th>RESTYPE_LIG</th>\n",
       "      <th>RESCHAIN_LIG</th>\n",
       "      <th>SIDECHAIN</th>\n",
       "      <th>DIST_H-A</th>\n",
       "      <th>DIST_D-A</th>\n",
       "      <th>DON_ANGLE</th>\n",
       "      <th>PROTISDON</th>\n",
       "      <th>DONORIDX</th>\n",
       "      <th>DONORTYPE</th>\n",
       "      <th>ACCEPTORIDX</th>\n",
       "      <th>ACCEPTORTYPE</th>\n",
       "      <th>LIGCOO</th>\n",
       "      <th>PROTCOO</th>\n",
       "    </tr>\n",
       "  </thead>\n",
       "  <tbody>\n",
       "    <tr>\n",
       "      <th>0</th>\n",
       "      <td>190</td>\n",
       "      <td>THR</td>\n",
       "      <td>A</td>\n",
       "      <td>801</td>\n",
       "      <td>LIG</td>\n",
       "      <td>A</td>\n",
       "      <td>False</td>\n",
       "      <td>2.97</td>\n",
       "      <td>3.85</td>\n",
       "      <td>144.47</td>\n",
       "      <td>False</td>\n",
       "      <td>2394</td>\n",
       "      <td>N3</td>\n",
       "      <td>1476</td>\n",
       "      <td>O2</td>\n",
       "      <td>(12.368, 6.143, 23.209)</td>\n",
       "      <td>(15.917, 7.208, 24.257)</td>\n",
       "    </tr>\n",
       "  </tbody>\n",
       "</table>\n",
       "</div>"
      ],
      "text/plain": [
       "   RESNR RESTYPE RESCHAIN  RESNR_LIG RESTYPE_LIG RESCHAIN_LIG  SIDECHAIN  \\\n",
       "0    190     THR        A        801         LIG            A      False   \n",
       "\n",
       "  DIST_H-A DIST_D-A DON_ANGLE  PROTISDON  DONORIDX DONORTYPE  ACCEPTORIDX  \\\n",
       "0     2.97     3.85    144.47      False      2394        N3         1476   \n",
       "\n",
       "  ACCEPTORTYPE                   LIGCOO                  PROTCOO  \n",
       "0           O2  (12.368, 6.143, 23.209)  (15.917, 7.208, 24.257)  "
      ]
     },
     "metadata": {},
     "output_type": "display_data"
    },
    {
     "data": {
      "text/markdown": [
       "### hydrophobic"
      ],
      "text/plain": [
       "<IPython.core.display.Markdown object>"
      ]
     },
     "metadata": {},
     "output_type": "display_data"
    },
    {
     "data": {
      "text/html": [
       "<div>\n",
       "<style scoped>\n",
       "    .dataframe tbody tr th:only-of-type {\n",
       "        vertical-align: middle;\n",
       "    }\n",
       "\n",
       "    .dataframe tbody tr th {\n",
       "        vertical-align: top;\n",
       "    }\n",
       "\n",
       "    .dataframe thead th {\n",
       "        text-align: right;\n",
       "    }\n",
       "</style>\n",
       "<table border=\"1\" class=\"dataframe\">\n",
       "  <thead>\n",
       "    <tr style=\"text-align: right;\">\n",
       "      <th></th>\n",
       "      <th>RESNR</th>\n",
       "      <th>RESTYPE</th>\n",
       "      <th>RESCHAIN</th>\n",
       "      <th>RESNR_LIG</th>\n",
       "      <th>RESTYPE_LIG</th>\n",
       "      <th>RESCHAIN_LIG</th>\n",
       "      <th>DIST</th>\n",
       "      <th>LIGCARBONIDX</th>\n",
       "      <th>PROTCARBONIDX</th>\n",
       "      <th>LIGCOO</th>\n",
       "      <th>PROTCOO</th>\n",
       "    </tr>\n",
       "  </thead>\n",
       "  <tbody>\n",
       "    <tr>\n",
       "      <th>0</th>\n",
       "      <td>189</td>\n",
       "      <td>GLN</td>\n",
       "      <td>A</td>\n",
       "      <td>801</td>\n",
       "      <td>LIG</td>\n",
       "      <td>A</td>\n",
       "      <td>3.71</td>\n",
       "      <td>2391</td>\n",
       "      <td>1468</td>\n",
       "      <td>(11.761, 2.061, 23.574)</td>\n",
       "      <td>(13.71, 2.3, 26.72)</td>\n",
       "    </tr>\n",
       "    <tr>\n",
       "      <th>1</th>\n",
       "      <td>165</td>\n",
       "      <td>MET</td>\n",
       "      <td>A</td>\n",
       "      <td>801</td>\n",
       "      <td>LIG</td>\n",
       "      <td>A</td>\n",
       "      <td>3.76</td>\n",
       "      <td>2387</td>\n",
       "      <td>1284</td>\n",
       "      <td>(13.7, 0.904, 22.706)</td>\n",
       "      <td>(12.46, 0.984, 19.16)</td>\n",
       "    </tr>\n",
       "  </tbody>\n",
       "</table>\n",
       "</div>"
      ],
      "text/plain": [
       "   RESNR RESTYPE RESCHAIN  RESNR_LIG RESTYPE_LIG RESCHAIN_LIG  DIST  \\\n",
       "0    189     GLN        A        801         LIG            A  3.71   \n",
       "1    165     MET        A        801         LIG            A  3.76   \n",
       "\n",
       "   LIGCARBONIDX  PROTCARBONIDX                   LIGCOO                PROTCOO  \n",
       "0          2391           1468  (11.761, 2.061, 23.574)    (13.71, 2.3, 26.72)  \n",
       "1          2387           1284    (13.7, 0.904, 22.706)  (12.46, 0.984, 19.16)  "
      ]
     },
     "metadata": {},
     "output_type": "display_data"
    },
    {
     "data": {
      "text/markdown": [
       "# Structure Mpro-x0434.pdb"
      ],
      "text/plain": [
       "<IPython.core.display.Markdown object>"
      ]
     },
     "metadata": {},
     "output_type": "display_data"
    },
    {
     "data": {
      "text/markdown": [
       "## Site LIG:A:1101"
      ],
      "text/plain": [
       "<IPython.core.display.Markdown object>"
      ]
     },
     "metadata": {},
     "output_type": "display_data"
    },
    {
     "data": {
      "text/markdown": [
       "### hbond"
      ],
      "text/plain": [
       "<IPython.core.display.Markdown object>"
      ]
     },
     "metadata": {},
     "output_type": "display_data"
    },
    {
     "data": {
      "text/html": [
       "<div>\n",
       "<style scoped>\n",
       "    .dataframe tbody tr th:only-of-type {\n",
       "        vertical-align: middle;\n",
       "    }\n",
       "\n",
       "    .dataframe tbody tr th {\n",
       "        vertical-align: top;\n",
       "    }\n",
       "\n",
       "    .dataframe thead th {\n",
       "        text-align: right;\n",
       "    }\n",
       "</style>\n",
       "<table border=\"1\" class=\"dataframe\">\n",
       "  <thead>\n",
       "    <tr style=\"text-align: right;\">\n",
       "      <th></th>\n",
       "      <th>RESNR</th>\n",
       "      <th>RESTYPE</th>\n",
       "      <th>RESCHAIN</th>\n",
       "      <th>RESNR_LIG</th>\n",
       "      <th>RESTYPE_LIG</th>\n",
       "      <th>RESCHAIN_LIG</th>\n",
       "      <th>SIDECHAIN</th>\n",
       "      <th>DIST_H-A</th>\n",
       "      <th>DIST_D-A</th>\n",
       "      <th>DON_ANGLE</th>\n",
       "      <th>PROTISDON</th>\n",
       "      <th>DONORIDX</th>\n",
       "      <th>DONORTYPE</th>\n",
       "      <th>ACCEPTORIDX</th>\n",
       "      <th>ACCEPTORTYPE</th>\n",
       "      <th>LIGCOO</th>\n",
       "      <th>PROTCOO</th>\n",
       "    </tr>\n",
       "  </thead>\n",
       "  <tbody>\n",
       "    <tr>\n",
       "      <th>0</th>\n",
       "      <td>166</td>\n",
       "      <td>GLU</td>\n",
       "      <td>A</td>\n",
       "      <td>1101</td>\n",
       "      <td>LIG</td>\n",
       "      <td>A</td>\n",
       "      <td>False</td>\n",
       "      <td>2.06</td>\n",
       "      <td>3.00</td>\n",
       "      <td>160.71</td>\n",
       "      <td>True</td>\n",
       "      <td>1288</td>\n",
       "      <td>Nam</td>\n",
       "      <td>2398</td>\n",
       "      <td>O2</td>\n",
       "      <td>(9.192, 0.679, 20.85)</td>\n",
       "      <td>(9.816, 2.578, 18.607)</td>\n",
       "    </tr>\n",
       "    <tr>\n",
       "      <th>1</th>\n",
       "      <td>142</td>\n",
       "      <td>ASN</td>\n",
       "      <td>A</td>\n",
       "      <td>1101</td>\n",
       "      <td>LIG</td>\n",
       "      <td>A</td>\n",
       "      <td>True</td>\n",
       "      <td>3.22</td>\n",
       "      <td>3.82</td>\n",
       "      <td>121.61</td>\n",
       "      <td>False</td>\n",
       "      <td>2396</td>\n",
       "      <td>Nam</td>\n",
       "      <td>1110</td>\n",
       "      <td>O2</td>\n",
       "      <td>(7.33, -0.662, 20.931)</td>\n",
       "      <td>(4.21, -1.088, 23.102)</td>\n",
       "    </tr>\n",
       "  </tbody>\n",
       "</table>\n",
       "</div>"
      ],
      "text/plain": [
       "   RESNR RESTYPE RESCHAIN  RESNR_LIG RESTYPE_LIG RESCHAIN_LIG  SIDECHAIN  \\\n",
       "0    166     GLU        A       1101         LIG            A      False   \n",
       "1    142     ASN        A       1101         LIG            A       True   \n",
       "\n",
       "  DIST_H-A DIST_D-A DON_ANGLE  PROTISDON  DONORIDX DONORTYPE  ACCEPTORIDX  \\\n",
       "0     2.06     3.00    160.71       True      1288       Nam         2398   \n",
       "1     3.22     3.82    121.61      False      2396       Nam         1110   \n",
       "\n",
       "  ACCEPTORTYPE                  LIGCOO                 PROTCOO  \n",
       "0           O2   (9.192, 0.679, 20.85)  (9.816, 2.578, 18.607)  \n",
       "1           O2  (7.33, -0.662, 20.931)  (4.21, -1.088, 23.102)  "
      ]
     },
     "metadata": {},
     "output_type": "display_data"
    },
    {
     "data": {
      "text/markdown": [
       "### pistacking"
      ],
      "text/plain": [
       "<IPython.core.display.Markdown object>"
      ]
     },
     "metadata": {},
     "output_type": "display_data"
    },
    {
     "data": {
      "text/html": [
       "<div>\n",
       "<style scoped>\n",
       "    .dataframe tbody tr th:only-of-type {\n",
       "        vertical-align: middle;\n",
       "    }\n",
       "\n",
       "    .dataframe tbody tr th {\n",
       "        vertical-align: top;\n",
       "    }\n",
       "\n",
       "    .dataframe thead th {\n",
       "        text-align: right;\n",
       "    }\n",
       "</style>\n",
       "<table border=\"1\" class=\"dataframe\">\n",
       "  <thead>\n",
       "    <tr style=\"text-align: right;\">\n",
       "      <th></th>\n",
       "      <th>RESNR</th>\n",
       "      <th>RESTYPE</th>\n",
       "      <th>RESCHAIN</th>\n",
       "      <th>RESNR_LIG</th>\n",
       "      <th>RESTYPE_LIG</th>\n",
       "      <th>RESCHAIN_LIG</th>\n",
       "      <th>CENTDIST</th>\n",
       "      <th>ANGLE</th>\n",
       "      <th>OFFSET</th>\n",
       "      <th>TYPE</th>\n",
       "      <th>LIG_IDX_LIST</th>\n",
       "      <th>LIGCOO</th>\n",
       "      <th>PROTCOO</th>\n",
       "    </tr>\n",
       "  </thead>\n",
       "  <tbody>\n",
       "    <tr>\n",
       "      <th>0</th>\n",
       "      <td>41</td>\n",
       "      <td>HIS</td>\n",
       "      <td>A</td>\n",
       "      <td>1101</td>\n",
       "      <td>LIG</td>\n",
       "      <td>A</td>\n",
       "      <td>5.20</td>\n",
       "      <td>71.19</td>\n",
       "      <td>1.60</td>\n",
       "      <td>T</td>\n",
       "      <td>2384,2385,2386,2387,2388,2389</td>\n",
       "      <td>(11.763666666666667, 0.01999999999999998, 23.2...</td>\n",
       "      <td>(11.7332, -4.842599999999999, 21.3876)</td>\n",
       "    </tr>\n",
       "  </tbody>\n",
       "</table>\n",
       "</div>"
      ],
      "text/plain": [
       "   RESNR RESTYPE RESCHAIN  RESNR_LIG RESTYPE_LIG RESCHAIN_LIG CENTDIST  ANGLE  \\\n",
       "0     41     HIS        A       1101         LIG            A     5.20  71.19   \n",
       "\n",
       "  OFFSET TYPE                   LIG_IDX_LIST  \\\n",
       "0   1.60    T  2384,2385,2386,2387,2388,2389   \n",
       "\n",
       "                                              LIGCOO  \\\n",
       "0  (11.763666666666667, 0.01999999999999998, 23.2...   \n",
       "\n",
       "                                  PROTCOO  \n",
       "0  (11.7332, -4.842599999999999, 21.3876)  "
      ]
     },
     "metadata": {},
     "output_type": "display_data"
    },
    {
     "data": {
      "text/markdown": [
       "### hydrophobic"
      ],
      "text/plain": [
       "<IPython.core.display.Markdown object>"
      ]
     },
     "metadata": {},
     "output_type": "display_data"
    },
    {
     "data": {
      "text/html": [
       "<div>\n",
       "<style scoped>\n",
       "    .dataframe tbody tr th:only-of-type {\n",
       "        vertical-align: middle;\n",
       "    }\n",
       "\n",
       "    .dataframe tbody tr th {\n",
       "        vertical-align: top;\n",
       "    }\n",
       "\n",
       "    .dataframe thead th {\n",
       "        text-align: right;\n",
       "    }\n",
       "</style>\n",
       "<table border=\"1\" class=\"dataframe\">\n",
       "  <thead>\n",
       "    <tr style=\"text-align: right;\">\n",
       "      <th></th>\n",
       "      <th>RESNR</th>\n",
       "      <th>RESTYPE</th>\n",
       "      <th>RESCHAIN</th>\n",
       "      <th>RESNR_LIG</th>\n",
       "      <th>RESTYPE_LIG</th>\n",
       "      <th>RESCHAIN_LIG</th>\n",
       "      <th>DIST</th>\n",
       "      <th>LIGCARBONIDX</th>\n",
       "      <th>PROTCARBONIDX</th>\n",
       "      <th>LIGCOO</th>\n",
       "      <th>PROTCOO</th>\n",
       "    </tr>\n",
       "  </thead>\n",
       "  <tbody>\n",
       "    <tr>\n",
       "      <th>0</th>\n",
       "      <td>166</td>\n",
       "      <td>GLU</td>\n",
       "      <td>A</td>\n",
       "      <td>1101</td>\n",
       "      <td>LIG</td>\n",
       "      <td>A</td>\n",
       "      <td>3.99</td>\n",
       "      <td>2392</td>\n",
       "      <td>1292</td>\n",
       "      <td>(4.815, 1.312, 19.109)</td>\n",
       "      <td>(7.757, 3.972, 18.67)</td>\n",
       "    </tr>\n",
       "    <tr>\n",
       "      <th>1</th>\n",
       "      <td>189</td>\n",
       "      <td>GLN</td>\n",
       "      <td>A</td>\n",
       "      <td>1101</td>\n",
       "      <td>LIG</td>\n",
       "      <td>A</td>\n",
       "      <td>3.59</td>\n",
       "      <td>2386</td>\n",
       "      <td>1468</td>\n",
       "      <td>(11.811, 0.848, 24.344)</td>\n",
       "      <td>(12.84, 2.528, 27.347)</td>\n",
       "    </tr>\n",
       "  </tbody>\n",
       "</table>\n",
       "</div>"
      ],
      "text/plain": [
       "   RESNR RESTYPE RESCHAIN  RESNR_LIG RESTYPE_LIG RESCHAIN_LIG  DIST  \\\n",
       "0    166     GLU        A       1101         LIG            A  3.99   \n",
       "1    189     GLN        A       1101         LIG            A  3.59   \n",
       "\n",
       "   LIGCARBONIDX  PROTCARBONIDX                   LIGCOO  \\\n",
       "0          2392           1292   (4.815, 1.312, 19.109)   \n",
       "1          2386           1468  (11.811, 0.848, 24.344)   \n",
       "\n",
       "                  PROTCOO  \n",
       "0   (7.757, 3.972, 18.67)  \n",
       "1  (12.84, 2.528, 27.347)  "
      ]
     },
     "metadata": {},
     "output_type": "display_data"
    },
    {
     "data": {
      "text/markdown": [
       "# Structure Mpro-x0387.pdb"
      ],
      "text/plain": [
       "<IPython.core.display.Markdown object>"
      ]
     },
     "metadata": {},
     "output_type": "display_data"
    },
    {
     "data": {
      "text/markdown": [
       "## Site LIG:A:1101"
      ],
      "text/plain": [
       "<IPython.core.display.Markdown object>"
      ]
     },
     "metadata": {},
     "output_type": "display_data"
    },
    {
     "data": {
      "text/markdown": [
       "### pistacking"
      ],
      "text/plain": [
       "<IPython.core.display.Markdown object>"
      ]
     },
     "metadata": {},
     "output_type": "display_data"
    },
    {
     "data": {
      "text/html": [
       "<div>\n",
       "<style scoped>\n",
       "    .dataframe tbody tr th:only-of-type {\n",
       "        vertical-align: middle;\n",
       "    }\n",
       "\n",
       "    .dataframe tbody tr th {\n",
       "        vertical-align: top;\n",
       "    }\n",
       "\n",
       "    .dataframe thead th {\n",
       "        text-align: right;\n",
       "    }\n",
       "</style>\n",
       "<table border=\"1\" class=\"dataframe\">\n",
       "  <thead>\n",
       "    <tr style=\"text-align: right;\">\n",
       "      <th></th>\n",
       "      <th>RESNR</th>\n",
       "      <th>RESTYPE</th>\n",
       "      <th>RESCHAIN</th>\n",
       "      <th>RESNR_LIG</th>\n",
       "      <th>RESTYPE_LIG</th>\n",
       "      <th>RESCHAIN_LIG</th>\n",
       "      <th>CENTDIST</th>\n",
       "      <th>ANGLE</th>\n",
       "      <th>OFFSET</th>\n",
       "      <th>TYPE</th>\n",
       "      <th>LIG_IDX_LIST</th>\n",
       "      <th>LIGCOO</th>\n",
       "      <th>PROTCOO</th>\n",
       "    </tr>\n",
       "  </thead>\n",
       "  <tbody>\n",
       "    <tr>\n",
       "      <th>0</th>\n",
       "      <td>41</td>\n",
       "      <td>HIS</td>\n",
       "      <td>A</td>\n",
       "      <td>1101</td>\n",
       "      <td>LIG</td>\n",
       "      <td>A</td>\n",
       "      <td>4.60</td>\n",
       "      <td>72.90</td>\n",
       "      <td>1.44</td>\n",
       "      <td>T</td>\n",
       "      <td>2387,2388,2389,2390,2395</td>\n",
       "      <td>(12.3836, -0.9454, 23.1674)</td>\n",
       "      <td>(11.9174, -5.1104, 21.279199999999996)</td>\n",
       "    </tr>\n",
       "  </tbody>\n",
       "</table>\n",
       "</div>"
      ],
      "text/plain": [
       "   RESNR RESTYPE RESCHAIN  RESNR_LIG RESTYPE_LIG RESCHAIN_LIG CENTDIST  ANGLE  \\\n",
       "0     41     HIS        A       1101         LIG            A     4.60  72.90   \n",
       "\n",
       "  OFFSET TYPE              LIG_IDX_LIST                       LIGCOO  \\\n",
       "0   1.44    T  2387,2388,2389,2390,2395  (12.3836, -0.9454, 23.1674)   \n",
       "\n",
       "                                  PROTCOO  \n",
       "0  (11.9174, -5.1104, 21.279199999999996)  "
      ]
     },
     "metadata": {},
     "output_type": "display_data"
    },
    {
     "data": {
      "text/markdown": [
       "# Structure Mpro-x0874.pdb"
      ],
      "text/plain": [
       "<IPython.core.display.Markdown object>"
      ]
     },
     "metadata": {},
     "output_type": "display_data"
    },
    {
     "data": {
      "text/markdown": [
       "## Site LIG:A:1101"
      ],
      "text/plain": [
       "<IPython.core.display.Markdown object>"
      ]
     },
     "metadata": {},
     "output_type": "display_data"
    },
    {
     "data": {
      "text/markdown": [
       "### hbond"
      ],
      "text/plain": [
       "<IPython.core.display.Markdown object>"
      ]
     },
     "metadata": {},
     "output_type": "display_data"
    },
    {
     "data": {
      "text/html": [
       "<div>\n",
       "<style scoped>\n",
       "    .dataframe tbody tr th:only-of-type {\n",
       "        vertical-align: middle;\n",
       "    }\n",
       "\n",
       "    .dataframe tbody tr th {\n",
       "        vertical-align: top;\n",
       "    }\n",
       "\n",
       "    .dataframe thead th {\n",
       "        text-align: right;\n",
       "    }\n",
       "</style>\n",
       "<table border=\"1\" class=\"dataframe\">\n",
       "  <thead>\n",
       "    <tr style=\"text-align: right;\">\n",
       "      <th></th>\n",
       "      <th>RESNR</th>\n",
       "      <th>RESTYPE</th>\n",
       "      <th>RESCHAIN</th>\n",
       "      <th>RESNR_LIG</th>\n",
       "      <th>RESTYPE_LIG</th>\n",
       "      <th>RESCHAIN_LIG</th>\n",
       "      <th>SIDECHAIN</th>\n",
       "      <th>DIST_H-A</th>\n",
       "      <th>DIST_D-A</th>\n",
       "      <th>DON_ANGLE</th>\n",
       "      <th>PROTISDON</th>\n",
       "      <th>DONORIDX</th>\n",
       "      <th>DONORTYPE</th>\n",
       "      <th>ACCEPTORIDX</th>\n",
       "      <th>ACCEPTORTYPE</th>\n",
       "      <th>LIGCOO</th>\n",
       "      <th>PROTCOO</th>\n",
       "    </tr>\n",
       "  </thead>\n",
       "  <tbody>\n",
       "    <tr>\n",
       "      <th>0</th>\n",
       "      <td>166</td>\n",
       "      <td>GLU</td>\n",
       "      <td>A</td>\n",
       "      <td>1101</td>\n",
       "      <td>LIG</td>\n",
       "      <td>A</td>\n",
       "      <td>False</td>\n",
       "      <td>2.01</td>\n",
       "      <td>2.99</td>\n",
       "      <td>177.99</td>\n",
       "      <td>True</td>\n",
       "      <td>1288</td>\n",
       "      <td>Nam</td>\n",
       "      <td>2394</td>\n",
       "      <td>O2</td>\n",
       "      <td>(9.329, 1.303, 21.126)</td>\n",
       "      <td>(9.997, 2.593, 18.511)</td>\n",
       "    </tr>\n",
       "    <tr>\n",
       "      <th>1</th>\n",
       "      <td>166</td>\n",
       "      <td>GLU</td>\n",
       "      <td>A</td>\n",
       "      <td>1101</td>\n",
       "      <td>LIG</td>\n",
       "      <td>A</td>\n",
       "      <td>False</td>\n",
       "      <td>1.75</td>\n",
       "      <td>2.62</td>\n",
       "      <td>145.86</td>\n",
       "      <td>False</td>\n",
       "      <td>2393</td>\n",
       "      <td>Nam</td>\n",
       "      <td>1291</td>\n",
       "      <td>O2</td>\n",
       "      <td>(10.468, 3.035, 22.181)</td>\n",
       "      <td>(10.354, 4.748, 20.197)</td>\n",
       "    </tr>\n",
       "  </tbody>\n",
       "</table>\n",
       "</div>"
      ],
      "text/plain": [
       "   RESNR RESTYPE RESCHAIN  RESNR_LIG RESTYPE_LIG RESCHAIN_LIG  SIDECHAIN  \\\n",
       "0    166     GLU        A       1101         LIG            A      False   \n",
       "1    166     GLU        A       1101         LIG            A      False   \n",
       "\n",
       "  DIST_H-A DIST_D-A DON_ANGLE  PROTISDON  DONORIDX DONORTYPE  ACCEPTORIDX  \\\n",
       "0     2.01     2.99    177.99       True      1288       Nam         2394   \n",
       "1     1.75     2.62    145.86      False      2393       Nam         1291   \n",
       "\n",
       "  ACCEPTORTYPE                   LIGCOO                  PROTCOO  \n",
       "0           O2   (9.329, 1.303, 21.126)   (9.997, 2.593, 18.511)  \n",
       "1           O2  (10.468, 3.035, 22.181)  (10.354, 4.748, 20.197)  "
      ]
     },
     "metadata": {},
     "output_type": "display_data"
    },
    {
     "data": {
      "text/markdown": [
       "### pistacking"
      ],
      "text/plain": [
       "<IPython.core.display.Markdown object>"
      ]
     },
     "metadata": {},
     "output_type": "display_data"
    },
    {
     "data": {
      "text/html": [
       "<div>\n",
       "<style scoped>\n",
       "    .dataframe tbody tr th:only-of-type {\n",
       "        vertical-align: middle;\n",
       "    }\n",
       "\n",
       "    .dataframe tbody tr th {\n",
       "        vertical-align: top;\n",
       "    }\n",
       "\n",
       "    .dataframe thead th {\n",
       "        text-align: right;\n",
       "    }\n",
       "</style>\n",
       "<table border=\"1\" class=\"dataframe\">\n",
       "  <thead>\n",
       "    <tr style=\"text-align: right;\">\n",
       "      <th></th>\n",
       "      <th>RESNR</th>\n",
       "      <th>RESTYPE</th>\n",
       "      <th>RESCHAIN</th>\n",
       "      <th>RESNR_LIG</th>\n",
       "      <th>RESTYPE_LIG</th>\n",
       "      <th>RESCHAIN_LIG</th>\n",
       "      <th>CENTDIST</th>\n",
       "      <th>ANGLE</th>\n",
       "      <th>OFFSET</th>\n",
       "      <th>TYPE</th>\n",
       "      <th>LIG_IDX_LIST</th>\n",
       "      <th>LIGCOO</th>\n",
       "      <th>PROTCOO</th>\n",
       "    </tr>\n",
       "  </thead>\n",
       "  <tbody>\n",
       "    <tr>\n",
       "      <th>0</th>\n",
       "      <td>41</td>\n",
       "      <td>HIS</td>\n",
       "      <td>A</td>\n",
       "      <td>1101</td>\n",
       "      <td>LIG</td>\n",
       "      <td>A</td>\n",
       "      <td>4.72</td>\n",
       "      <td>81.00</td>\n",
       "      <td>1.68</td>\n",
       "      <td>T</td>\n",
       "      <td>2389,2390,2391,2392,2395</td>\n",
       "      <td>(12.423599999999999, -0.53, 22.5898)</td>\n",
       "      <td>(11.9448, -5.0318000000000005, 21.2454)</td>\n",
       "    </tr>\n",
       "  </tbody>\n",
       "</table>\n",
       "</div>"
      ],
      "text/plain": [
       "   RESNR RESTYPE RESCHAIN  RESNR_LIG RESTYPE_LIG RESCHAIN_LIG CENTDIST  ANGLE  \\\n",
       "0     41     HIS        A       1101         LIG            A     4.72  81.00   \n",
       "\n",
       "  OFFSET TYPE              LIG_IDX_LIST                                LIGCOO  \\\n",
       "0   1.68    T  2389,2390,2391,2392,2395  (12.423599999999999, -0.53, 22.5898)   \n",
       "\n",
       "                                   PROTCOO  \n",
       "0  (11.9448, -5.0318000000000005, 21.2454)  "
      ]
     },
     "metadata": {},
     "output_type": "display_data"
    },
    {
     "data": {
      "text/markdown": [
       "# Structure Mpro-x1249.pdb"
      ],
      "text/plain": [
       "<IPython.core.display.Markdown object>"
      ]
     },
     "metadata": {},
     "output_type": "display_data"
    },
    {
     "data": {
      "text/markdown": [
       "## Site LIG:A:1101"
      ],
      "text/plain": [
       "<IPython.core.display.Markdown object>"
      ]
     },
     "metadata": {},
     "output_type": "display_data"
    },
    {
     "data": {
      "text/markdown": [
       "### waterbridge"
      ],
      "text/plain": [
       "<IPython.core.display.Markdown object>"
      ]
     },
     "metadata": {},
     "output_type": "display_data"
    },
    {
     "data": {
      "text/html": [
       "<div>\n",
       "<style scoped>\n",
       "    .dataframe tbody tr th:only-of-type {\n",
       "        vertical-align: middle;\n",
       "    }\n",
       "\n",
       "    .dataframe tbody tr th {\n",
       "        vertical-align: top;\n",
       "    }\n",
       "\n",
       "    .dataframe thead th {\n",
       "        text-align: right;\n",
       "    }\n",
       "</style>\n",
       "<table border=\"1\" class=\"dataframe\">\n",
       "  <thead>\n",
       "    <tr style=\"text-align: right;\">\n",
       "      <th></th>\n",
       "      <th>RESNR</th>\n",
       "      <th>RESTYPE</th>\n",
       "      <th>RESCHAIN</th>\n",
       "      <th>RESNR_LIG</th>\n",
       "      <th>RESTYPE_LIG</th>\n",
       "      <th>RESCHAIN_LIG</th>\n",
       "      <th>DIST_A-W</th>\n",
       "      <th>DIST_D-W</th>\n",
       "      <th>DON_ANGLE</th>\n",
       "      <th>WATER_ANGLE</th>\n",
       "      <th>PROTISDON</th>\n",
       "      <th>DONOR_IDX</th>\n",
       "      <th>DONORTYPE</th>\n",
       "      <th>ACCEPTOR_IDX</th>\n",
       "      <th>ACCEPTORTYPE</th>\n",
       "      <th>WATER_IDX</th>\n",
       "      <th>LIGCOO</th>\n",
       "      <th>PROTCOO</th>\n",
       "      <th>WATERCOO</th>\n",
       "    </tr>\n",
       "  </thead>\n",
       "  <tbody>\n",
       "    <tr>\n",
       "      <th>0</th>\n",
       "      <td>164</td>\n",
       "      <td>HIS</td>\n",
       "      <td>A</td>\n",
       "      <td>1101</td>\n",
       "      <td>LIG</td>\n",
       "      <td>A</td>\n",
       "      <td>4.10</td>\n",
       "      <td>2.87</td>\n",
       "      <td>138.43</td>\n",
       "      <td>120.06</td>\n",
       "      <td>True</td>\n",
       "      <td>1290</td>\n",
       "      <td>Nar</td>\n",
       "      <td>2444</td>\n",
       "      <td>N1</td>\n",
       "      <td>2453</td>\n",
       "      <td>(14.061, -1.841, 20.54)</td>\n",
       "      <td>(15.054, -4.686, 17.535)</td>\n",
       "      <td>(15.594, -5.624, 20.196)</td>\n",
       "    </tr>\n",
       "  </tbody>\n",
       "</table>\n",
       "</div>"
      ],
      "text/plain": [
       "   RESNR RESTYPE RESCHAIN  RESNR_LIG RESTYPE_LIG RESCHAIN_LIG DIST_A-W  \\\n",
       "0    164     HIS        A       1101         LIG            A     4.10   \n",
       "\n",
       "  DIST_D-W DON_ANGLE WATER_ANGLE  PROTISDON  DONOR_IDX DONORTYPE  \\\n",
       "0     2.87    138.43      120.06       True       1290       Nar   \n",
       "\n",
       "   ACCEPTOR_IDX ACCEPTORTYPE  WATER_IDX                   LIGCOO  \\\n",
       "0          2444           N1       2453  (14.061, -1.841, 20.54)   \n",
       "\n",
       "                    PROTCOO                  WATERCOO  \n",
       "0  (15.054, -4.686, 17.535)  (15.594, -5.624, 20.196)  "
      ]
     },
     "metadata": {},
     "output_type": "display_data"
    },
    {
     "data": {
      "text/markdown": [
       "### hbond"
      ],
      "text/plain": [
       "<IPython.core.display.Markdown object>"
      ]
     },
     "metadata": {},
     "output_type": "display_data"
    },
    {
     "data": {
      "text/html": [
       "<div>\n",
       "<style scoped>\n",
       "    .dataframe tbody tr th:only-of-type {\n",
       "        vertical-align: middle;\n",
       "    }\n",
       "\n",
       "    .dataframe tbody tr th {\n",
       "        vertical-align: top;\n",
       "    }\n",
       "\n",
       "    .dataframe thead th {\n",
       "        text-align: right;\n",
       "    }\n",
       "</style>\n",
       "<table border=\"1\" class=\"dataframe\">\n",
       "  <thead>\n",
       "    <tr style=\"text-align: right;\">\n",
       "      <th></th>\n",
       "      <th>RESNR</th>\n",
       "      <th>RESTYPE</th>\n",
       "      <th>RESCHAIN</th>\n",
       "      <th>RESNR_LIG</th>\n",
       "      <th>RESTYPE_LIG</th>\n",
       "      <th>RESCHAIN_LIG</th>\n",
       "      <th>SIDECHAIN</th>\n",
       "      <th>DIST_H-A</th>\n",
       "      <th>DIST_D-A</th>\n",
       "      <th>DON_ANGLE</th>\n",
       "      <th>PROTISDON</th>\n",
       "      <th>DONORIDX</th>\n",
       "      <th>DONORTYPE</th>\n",
       "      <th>ACCEPTORIDX</th>\n",
       "      <th>ACCEPTORTYPE</th>\n",
       "      <th>LIGCOO</th>\n",
       "      <th>PROTCOO</th>\n",
       "    </tr>\n",
       "  </thead>\n",
       "  <tbody>\n",
       "    <tr>\n",
       "      <th>0</th>\n",
       "      <td>41</td>\n",
       "      <td>HIS</td>\n",
       "      <td>A</td>\n",
       "      <td>1101</td>\n",
       "      <td>LIG</td>\n",
       "      <td>A</td>\n",
       "      <td>True</td>\n",
       "      <td>2.44</td>\n",
       "      <td>3.08</td>\n",
       "      <td>122.60</td>\n",
       "      <td>True</td>\n",
       "      <td>309</td>\n",
       "      <td>Nar</td>\n",
       "      <td>2444</td>\n",
       "      <td>N1</td>\n",
       "      <td>(14.061, -1.841, 20.54)</td>\n",
       "      <td>(12.794, -4.607, 21.042)</td>\n",
       "    </tr>\n",
       "  </tbody>\n",
       "</table>\n",
       "</div>"
      ],
      "text/plain": [
       "   RESNR RESTYPE RESCHAIN  RESNR_LIG RESTYPE_LIG RESCHAIN_LIG  SIDECHAIN  \\\n",
       "0     41     HIS        A       1101         LIG            A       True   \n",
       "\n",
       "  DIST_H-A DIST_D-A DON_ANGLE  PROTISDON  DONORIDX DONORTYPE  ACCEPTORIDX  \\\n",
       "0     2.44     3.08    122.60       True       309       Nar         2444   \n",
       "\n",
       "  ACCEPTORTYPE                   LIGCOO                   PROTCOO  \n",
       "0           N1  (14.061, -1.841, 20.54)  (12.794, -4.607, 21.042)  "
      ]
     },
     "metadata": {},
     "output_type": "display_data"
    },
    {
     "data": {
      "text/markdown": [
       "### pistacking"
      ],
      "text/plain": [
       "<IPython.core.display.Markdown object>"
      ]
     },
     "metadata": {},
     "output_type": "display_data"
    },
    {
     "data": {
      "text/html": [
       "<div>\n",
       "<style scoped>\n",
       "    .dataframe tbody tr th:only-of-type {\n",
       "        vertical-align: middle;\n",
       "    }\n",
       "\n",
       "    .dataframe tbody tr th {\n",
       "        vertical-align: top;\n",
       "    }\n",
       "\n",
       "    .dataframe thead th {\n",
       "        text-align: right;\n",
       "    }\n",
       "</style>\n",
       "<table border=\"1\" class=\"dataframe\">\n",
       "  <thead>\n",
       "    <tr style=\"text-align: right;\">\n",
       "      <th></th>\n",
       "      <th>RESNR</th>\n",
       "      <th>RESTYPE</th>\n",
       "      <th>RESCHAIN</th>\n",
       "      <th>RESNR_LIG</th>\n",
       "      <th>RESTYPE_LIG</th>\n",
       "      <th>RESCHAIN_LIG</th>\n",
       "      <th>CENTDIST</th>\n",
       "      <th>ANGLE</th>\n",
       "      <th>OFFSET</th>\n",
       "      <th>TYPE</th>\n",
       "      <th>LIG_IDX_LIST</th>\n",
       "      <th>LIGCOO</th>\n",
       "      <th>PROTCOO</th>\n",
       "    </tr>\n",
       "  </thead>\n",
       "  <tbody>\n",
       "    <tr>\n",
       "      <th>0</th>\n",
       "      <td>41</td>\n",
       "      <td>HIS</td>\n",
       "      <td>A</td>\n",
       "      <td>1101</td>\n",
       "      <td>LIG</td>\n",
       "      <td>A</td>\n",
       "      <td>5.14</td>\n",
       "      <td>87.37</td>\n",
       "      <td>1.26</td>\n",
       "      <td>T</td>\n",
       "      <td>2436,2437,2438,2439,2441,2442</td>\n",
       "      <td>(11.690833333333332, -0.2608333333333333, 23.2...</td>\n",
       "      <td>(11.795599999999999, -5.0338, 21.373)</td>\n",
       "    </tr>\n",
       "  </tbody>\n",
       "</table>\n",
       "</div>"
      ],
      "text/plain": [
       "   RESNR RESTYPE RESCHAIN  RESNR_LIG RESTYPE_LIG RESCHAIN_LIG CENTDIST  ANGLE  \\\n",
       "0     41     HIS        A       1101         LIG            A     5.14  87.37   \n",
       "\n",
       "  OFFSET TYPE                   LIG_IDX_LIST  \\\n",
       "0   1.26    T  2436,2437,2438,2439,2441,2442   \n",
       "\n",
       "                                              LIGCOO  \\\n",
       "0  (11.690833333333332, -0.2608333333333333, 23.2...   \n",
       "\n",
       "                                 PROTCOO  \n",
       "0  (11.795599999999999, -5.0338, 21.373)  "
      ]
     },
     "metadata": {},
     "output_type": "display_data"
    },
    {
     "data": {
      "text/markdown": [
       "### hydrophobic"
      ],
      "text/plain": [
       "<IPython.core.display.Markdown object>"
      ]
     },
     "metadata": {},
     "output_type": "display_data"
    },
    {
     "data": {
      "text/html": [
       "<div>\n",
       "<style scoped>\n",
       "    .dataframe tbody tr th:only-of-type {\n",
       "        vertical-align: middle;\n",
       "    }\n",
       "\n",
       "    .dataframe tbody tr th {\n",
       "        vertical-align: top;\n",
       "    }\n",
       "\n",
       "    .dataframe thead th {\n",
       "        text-align: right;\n",
       "    }\n",
       "</style>\n",
       "<table border=\"1\" class=\"dataframe\">\n",
       "  <thead>\n",
       "    <tr style=\"text-align: right;\">\n",
       "      <th></th>\n",
       "      <th>RESNR</th>\n",
       "      <th>RESTYPE</th>\n",
       "      <th>RESCHAIN</th>\n",
       "      <th>RESNR_LIG</th>\n",
       "      <th>RESTYPE_LIG</th>\n",
       "      <th>RESCHAIN_LIG</th>\n",
       "      <th>DIST</th>\n",
       "      <th>LIGCARBONIDX</th>\n",
       "      <th>PROTCARBONIDX</th>\n",
       "      <th>LIGCOO</th>\n",
       "      <th>PROTCOO</th>\n",
       "    </tr>\n",
       "  </thead>\n",
       "  <tbody>\n",
       "    <tr>\n",
       "      <th>0</th>\n",
       "      <td>189</td>\n",
       "      <td>GLN</td>\n",
       "      <td>A</td>\n",
       "      <td>1101</td>\n",
       "      <td>LIG</td>\n",
       "      <td>A</td>\n",
       "      <td>3.85</td>\n",
       "      <td>2437</td>\n",
       "      <td>1482</td>\n",
       "      <td>(12.014, 0.979, 23.834)</td>\n",
       "      <td>(12.876, 2.521, 27.25)</td>\n",
       "    </tr>\n",
       "  </tbody>\n",
       "</table>\n",
       "</div>"
      ],
      "text/plain": [
       "   RESNR RESTYPE RESCHAIN  RESNR_LIG RESTYPE_LIG RESCHAIN_LIG  DIST  \\\n",
       "0    189     GLN        A       1101         LIG            A  3.85   \n",
       "\n",
       "   LIGCARBONIDX  PROTCARBONIDX                   LIGCOO  \\\n",
       "0          2437           1482  (12.014, 0.979, 23.834)   \n",
       "\n",
       "                  PROTCOO  \n",
       "0  (12.876, 2.521, 27.25)  "
      ]
     },
     "metadata": {},
     "output_type": "display_data"
    }
   ],
   "source": [
    "from plip_fingerprints import get_plip_data, show_plip_data\n",
    "interactions = get_plip_data(\"./data/diamond_xchem_screen_mpro_all_pdbs\",\"diamond_xchem_screen_mpro_non_covalent_pdbs.dat\")\n",
    "show_plip_data(interactions)"
   ]
  },
  {
   "cell_type": "markdown",
   "metadata": {},
   "source": [
    "# Fingerprint Calculation"
   ]
  },
  {
   "cell_type": "markdown",
   "metadata": {},
   "source": [
    "### Interaction Fingerprints\n",
    "\n",
    "The calculation of the interactions frequency fingerprint is done in two steps.\n",
    "- calculate individual count fingerprints for each given structure\n",
    "- calculate one frequency fingerprint based on all individual fingerprints\n",
    "\n",
    "The interaction fingerprints for individual structures are count based fingerprints which's length depends on the number of pre-defined residues and the number of interaction types. PLIP provides data for eight interaction types, so each residue is represented with eight bits, one for each type, in the fingerprint.\n",
    "\n",
    "<img src = \"./data/ifps.png\">\n",
    "\n",
    "When multiple structures of the same protein are analyzed, the indiviual fingerprints are summed up and a frequency value is calculated for each bit.\n"
   ]
  },
  {
   "cell_type": "markdown",
   "metadata": {},
   "source": [
    "#### Import neccessary packages"
   ]
  },
  {
   "cell_type": "code",
   "execution_count": 3,
   "metadata": {},
   "outputs": [],
   "source": [
    "from plip_fingerprints import read_residues\n",
    "from core import Structure\n",
    "from fingerprints import MappedFingerprint"
   ]
  },
  {
   "cell_type": "code",
   "execution_count": 4,
   "metadata": {},
   "outputs": [],
   "source": [
    "import csv\n",
    "import os\n",
    "import pandas as pd\n",
    "from tqdm.notebook import tqdm"
   ]
  },
  {
   "cell_type": "markdown",
   "metadata": {},
   "source": [
    "### Parameters\n",
    "- residue_file = Pre-defined binding site residues as a csv file with ','-delimited residue numbers\n",
    "- structure_folder = Folder containing the protein structures\n",
    "- name_file = File containing the names of the structures in folder\n",
    "- (add visualization type parameter?) "
   ]
  },
  {
   "cell_type": "code",
   "execution_count": 5,
   "metadata": {},
   "outputs": [],
   "source": [
    "residue_file = './data/MPro_residues.csv'\n",
    "structure_folder = \"./data/diamond_xchem_screen_mpro_all_pdbs\"\n",
    "name_file = \"diamond_xchem_screen_mpro_non_covalent_pdbs.dat\""
   ]
  },
  {
   "cell_type": "markdown",
   "metadata": {},
   "source": [
    "### Main function"
   ]
  },
  {
   "cell_type": "code",
   "execution_count": 6,
   "metadata": {},
   "outputs": [],
   "source": [
    "def frequency_fingerprint(data, name_file, residue_file):\n",
    "    \"\"\"\n",
    "    Get PLIP data for multiple structures of the same protein and calculate a frequency fingerprint.\n",
    "    \"\"\"\n",
    "    residues = read_residues(residue_file) # consider other formats?\n",
    "    fp_list = []\n",
    "    \n",
    "    with open(os.path.join(data, name_file)) as f:\n",
    "        non_covalent_filenames = [l.strip() for l in f if l.strip()]\n",
    "    interactions = {}\n",
    "    for filename in tqdm(non_covalent_filenames):\n",
    "        full_filename = os.path.join(data, filename)\n",
    "        if not os.path.isfile(full_filename):\n",
    "            print(\"File\", full_filename, \"does not exist?\")\n",
    "            continue\n",
    "        s = Structure.from_pdbfile(full_filename, only_ligands=[\"LIG\"])\n",
    "        fpf = MappedFingerprint(residues)\n",
    "        fp = fpf.calculate(s)\n",
    "        fp_list.append(fp)\n",
    "    count_fp = [sum(i) for i in zip(*fp_list)]\n",
    "    frequency_fp = [float(i) / len(fp_list) for i in count_fp]\n",
    "    return frequency_fp\n",
    "    #return count_fp\n"
   ]
  },
  {
   "cell_type": "markdown",
   "metadata": {},
   "source": [
    "### MPro Frequency Fingerprint"
   ]
  },
  {
   "cell_type": "code",
   "execution_count": 7,
   "metadata": {},
   "outputs": [
    {
     "data": {
      "application/vnd.jupyter.widget-view+json": {
       "model_id": "2a3ddfd6004d447e9de5bde2992d8e6d",
       "version_major": 2,
       "version_minor": 0
      },
      "text/plain": [
       "HBox(children=(FloatProgress(value=0.0, max=22.0), HTML(value=u'')))"
      ]
     },
     "metadata": {},
     "output_type": "display_data"
    },
    {
     "name": "stdout",
     "output_type": "stream",
     "text": [
      "('File', './data/diamond_xchem_screen_mpro_all_pdbs/Mpro-x0397.pdb', 'does not exist?')\n",
      "('File', './data/diamond_xchem_screen_mpro_all_pdbs/Mpro-x0426.pdb', 'does not exist?')\n",
      "('File', './data/diamond_xchem_screen_mpro_all_pdbs/Mpro-x0395.pdb', 'does not exist?')\n",
      "\n"
     ]
    }
   ],
   "source": [
    "freq_fp = frequency_fingerprint(structure_folder, name_file, residue_file)"
   ]
  },
  {
   "cell_type": "code",
   "execution_count": 8,
   "metadata": {},
   "outputs": [
    {
     "data": {
      "text/plain": [
       "[0.0,\n",
       " 0.0,\n",
       " 0.0,\n",
       " 0.0,\n",
       " 0.0,\n",
       " 0.0,\n",
       " 0.0,\n",
       " 0.0,\n",
       " 0.0,\n",
       " 0.0,\n",
       " 0.0,\n",
       " 0.0,\n",
       " 0.0,\n",
       " 0.0,\n",
       " 0.0,\n",
       " 0.0,\n",
       " 0.0,\n",
       " 0.0,\n",
       " 0.0,\n",
       " 0.0,\n",
       " 0.0,\n",
       " 0.0,\n",
       " 0.0,\n",
       " 0.0,\n",
       " 0.0,\n",
       " 0.0,\n",
       " 0.0,\n",
       " 0.0,\n",
       " 0.0,\n",
       " 0.0,\n",
       " 0.0,\n",
       " 0.0,\n",
       " 0.0,\n",
       " 0.0,\n",
       " 0.0,\n",
       " 0.0,\n",
       " 0.0,\n",
       " 0.0,\n",
       " 0.0,\n",
       " 0.0,\n",
       " 0.10526315789473684,\n",
       " 0.10526315789473684,\n",
       " 0.0,\n",
       " 0.0,\n",
       " 0.0,\n",
       " 0.0,\n",
       " 0.0,\n",
       " 0.0,\n",
       " 0.0,\n",
       " 0.0,\n",
       " 0.0,\n",
       " 0.0,\n",
       " 0.0,\n",
       " 0.0,\n",
       " 0.0,\n",
       " 0.0,\n",
       " 0.0,\n",
       " 0.0,\n",
       " 0.0,\n",
       " 0.0,\n",
       " 0.0,\n",
       " 0.0,\n",
       " 0.0,\n",
       " 0.0,\n",
       " 0.0,\n",
       " 0.0,\n",
       " 0.0,\n",
       " 0.0,\n",
       " 0.0,\n",
       " 0.0,\n",
       " 0.0,\n",
       " 0.0,\n",
       " 0.0,\n",
       " 0.0,\n",
       " 0.0,\n",
       " 0.0,\n",
       " 0.0,\n",
       " 0.0,\n",
       " 0.0,\n",
       " 0.0,\n",
       " 0.0,\n",
       " 0.0,\n",
       " 0.0,\n",
       " 0.0,\n",
       " 0.0,\n",
       " 0.0,\n",
       " 0.0,\n",
       " 0.0,\n",
       " 0.0,\n",
       " 0.0,\n",
       " 0.0,\n",
       " 0.0,\n",
       " 0.0,\n",
       " 0.0,\n",
       " 0.0,\n",
       " 0.0,\n",
       " 0.0,\n",
       " 0.0,\n",
       " 0.0,\n",
       " 0.0,\n",
       " 0.0,\n",
       " 0.0,\n",
       " 0.0,\n",
       " 0.0,\n",
       " 0.0,\n",
       " 0.0,\n",
       " 0.0,\n",
       " 0.0,\n",
       " 0.0,\n",
       " 0.0,\n",
       " 0.0,\n",
       " 0.0,\n",
       " 0.10526315789473684,\n",
       " 0.15789473684210525,\n",
       " 0.0,\n",
       " 0.05263157894736842,\n",
       " 0.47368421052631576,\n",
       " 0.0,\n",
       " 0.0,\n",
       " 0.0,\n",
       " 0.0,\n",
       " 0.0,\n",
       " 0.0,\n",
       " 0.0,\n",
       " 0.0,\n",
       " 0.0,\n",
       " 0.0,\n",
       " 0.0,\n",
       " 0.0,\n",
       " 0.0,\n",
       " 0.0,\n",
       " 0.0,\n",
       " 0.0,\n",
       " 0.0,\n",
       " 0.0,\n",
       " 0.0,\n",
       " 0.0,\n",
       " 0.0,\n",
       " 0.0,\n",
       " 0.0,\n",
       " 0.0,\n",
       " 0.0,\n",
       " 0.0,\n",
       " 0.0,\n",
       " 0.0,\n",
       " 0.05263157894736842,\n",
       " 0.0,\n",
       " 0.0,\n",
       " 0.0,\n",
       " 0.0,\n",
       " 0.0,\n",
       " 0.0,\n",
       " 0.0,\n",
       " 0.0,\n",
       " 0.0,\n",
       " 0.0,\n",
       " 0.0,\n",
       " 0.0,\n",
       " 0.0,\n",
       " 0.0,\n",
       " 0.0,\n",
       " 0.0,\n",
       " 0.0,\n",
       " 0.0,\n",
       " 0.0,\n",
       " 0.0,\n",
       " 0.0,\n",
       " 0.0,\n",
       " 0.0,\n",
       " 0.0,\n",
       " 0.0,\n",
       " 0.0,\n",
       " 0.0,\n",
       " 0.0,\n",
       " 0.0,\n",
       " 0.0,\n",
       " 0.05263157894736842,\n",
       " 0.0,\n",
       " 0.0,\n",
       " 0.0,\n",
       " 0.0,\n",
       " 0.0,\n",
       " 0.0,\n",
       " 0.0,\n",
       " 0.0,\n",
       " 0.0,\n",
       " 0.0,\n",
       " 0.0,\n",
       " 0.0,\n",
       " 0.0,\n",
       " 0.0,\n",
       " 0.0,\n",
       " 0.0,\n",
       " 0.0,\n",
       " 0.0,\n",
       " 0.0,\n",
       " 0.0,\n",
       " 0.0,\n",
       " 0.0,\n",
       " 0.0,\n",
       " 0.0,\n",
       " 0.0,\n",
       " 0.0,\n",
       " 0.0,\n",
       " 0.0,\n",
       " 0.0,\n",
       " 0.0,\n",
       " 0.0,\n",
       " 0.0,\n",
       " 0.0,\n",
       " 0.0,\n",
       " 0.0,\n",
       " 0.0,\n",
       " 0.0,\n",
       " 0.0,\n",
       " 0.0,\n",
       " 0.0,\n",
       " 0.0,\n",
       " 0.0,\n",
       " 0.0,\n",
       " 0.0,\n",
       " 0.0,\n",
       " 0.0,\n",
       " 0.0,\n",
       " 0.0,\n",
       " 0.0,\n",
       " 0.0,\n",
       " 0.0,\n",
       " 0.0,\n",
       " 0.0,\n",
       " 0.0,\n",
       " 0.0,\n",
       " 0.0,\n",
       " 0.0,\n",
       " 0.0,\n",
       " 0.0,\n",
       " 0.0,\n",
       " 0.0,\n",
       " 0.0,\n",
       " 0.0,\n",
       " 0.0,\n",
       " 0.0,\n",
       " 0.0,\n",
       " 0.0,\n",
       " 0.0,\n",
       " 0.0,\n",
       " 0.0,\n",
       " 0.0,\n",
       " 0.0,\n",
       " 0.0,\n",
       " 0.0,\n",
       " 0.0,\n",
       " 0.0,\n",
       " 0.0,\n",
       " 0.0,\n",
       " 0.0,\n",
       " 0.0,\n",
       " 0.0,\n",
       " 0.0,\n",
       " 0.0,\n",
       " 0.0,\n",
       " 0.0,\n",
       " 0.0,\n",
       " 0.0,\n",
       " 0.0,\n",
       " 0.0,\n",
       " 0.0,\n",
       " 0.0,\n",
       " 0.0,\n",
       " 0.0,\n",
       " 0.0,\n",
       " 0.0,\n",
       " 0.0,\n",
       " 0.0,\n",
       " 0.0,\n",
       " 0.0,\n",
       " 0.0,\n",
       " 0.0,\n",
       " 0.0,\n",
       " 0.0,\n",
       " 0.0,\n",
       " 0.0,\n",
       " 0.0,\n",
       " 0.0,\n",
       " 0.0,\n",
       " 0.0,\n",
       " 0.0,\n",
       " 0.0,\n",
       " 0.0,\n",
       " 0.0,\n",
       " 0.0,\n",
       " 0.0,\n",
       " 0.0,\n",
       " 0.0,\n",
       " 0.0,\n",
       " 0.0,\n",
       " 0.0,\n",
       " 0.0,\n",
       " 0.0,\n",
       " 0.0,\n",
       " 0.0,\n",
       " 0.0,\n",
       " 0.0,\n",
       " 0.0,\n",
       " 0.0,\n",
       " 0.0,\n",
       " 0.0,\n",
       " 0.0,\n",
       " 0.0,\n",
       " 0.0,\n",
       " 0.0,\n",
       " 0.0,\n",
       " 0.0,\n",
       " 0.0,\n",
       " 0.0,\n",
       " 0.0,\n",
       " 0.0,\n",
       " 0.0,\n",
       " 0.0,\n",
       " 0.0,\n",
       " 0.0,\n",
       " 0.0,\n",
       " 0.0,\n",
       " 0.0,\n",
       " 0.0,\n",
       " 0.0,\n",
       " 0.0,\n",
       " 0.0,\n",
       " 0.0,\n",
       " 0.15789473684210525,\n",
       " 0.05263157894736842,\n",
       " 0.0,\n",
       " 0.0,\n",
       " 0.0,\n",
       " 0.0,\n",
       " 0.0,\n",
       " 0.0,\n",
       " 0.0,\n",
       " 0.0,\n",
       " 0.0,\n",
       " 0.0,\n",
       " 0.0,\n",
       " 0.0,\n",
       " 0.0,\n",
       " 0.0,\n",
       " 0.05263157894736842,\n",
       " 0.0,\n",
       " 0.0,\n",
       " 0.0,\n",
       " 0.0,\n",
       " 0.0,\n",
       " 0.0,\n",
       " 0.0,\n",
       " 0.0,\n",
       " 0.0,\n",
       " 0.0,\n",
       " 0.0,\n",
       " 0.0,\n",
       " 0.0,\n",
       " 0.0,\n",
       " 0.0,\n",
       " 0.0,\n",
       " 0.0,\n",
       " 0.0,\n",
       " 0.0,\n",
       " 0.0,\n",
       " 0.0,\n",
       " 0.0,\n",
       " 0.0,\n",
       " 0.0,\n",
       " 0.0,\n",
       " 0.0,\n",
       " 0.0,\n",
       " 0.0,\n",
       " 0.0,\n",
       " 0.0,\n",
       " 0.0,\n",
       " 0.0,\n",
       " 0.0,\n",
       " 0.0,\n",
       " 0.0,\n",
       " 0.0,\n",
       " 0.0,\n",
       " 0.0,\n",
       " 0.0,\n",
       " 0.0,\n",
       " 0.0,\n",
       " 0.0,\n",
       " 0.0,\n",
       " 0.0,\n",
       " 0.0,\n",
       " 0.0,\n",
       " 0.0,\n",
       " 0.05263157894736842,\n",
       " 0.0,\n",
       " 0.0,\n",
       " 0.0,\n",
       " 0.0,\n",
       " 0.0,\n",
       " 0.0,\n",
       " 0.0,\n",
       " 0.0,\n",
       " 0.10526315789473684,\n",
       " 0.0,\n",
       " 0.0,\n",
       " 0.0,\n",
       " 0.0,\n",
       " 0.0,\n",
       " 0.2631578947368421,\n",
       " 0.0,\n",
       " 0.0,\n",
       " 0.0,\n",
       " 0.0,\n",
       " 0.0,\n",
       " 0.0,\n",
       " 0.0,\n",
       " 0.2631578947368421,\n",
       " 0.6842105263157895,\n",
       " 0.15789473684210525,\n",
       " 0.0,\n",
       " 0.0,\n",
       " 0.0,\n",
       " 0.0,\n",
       " 0.0,\n",
       " 0.0,\n",
       " 0.0,\n",
       " 0.0,\n",
       " 0.0,\n",
       " 0.0,\n",
       " 0.0,\n",
       " 0.0,\n",
       " 0.0,\n",
       " 0.0,\n",
       " 0.0,\n",
       " 0.0,\n",
       " 0.0,\n",
       " 0.0,\n",
       " 0.0,\n",
       " 0.0,\n",
       " 0.0,\n",
       " 0.0,\n",
       " 0.0,\n",
       " 0.0,\n",
       " 0.0,\n",
       " 0.0,\n",
       " 0.0,\n",
       " 0.0,\n",
       " 0.0,\n",
       " 0.0,\n",
       " 0.0,\n",
       " 0.0,\n",
       " 0.0,\n",
       " 0.0,\n",
       " 0.0,\n",
       " 0.0,\n",
       " 0.0,\n",
       " 0.0,\n",
       " 0.0,\n",
       " 0.0,\n",
       " 0.0,\n",
       " 0.0,\n",
       " 0.0,\n",
       " 0.0,\n",
       " 0.0,\n",
       " 0.0,\n",
       " 0.0,\n",
       " 0.0,\n",
       " 0.0,\n",
       " 0.0,\n",
       " 0.0,\n",
       " 0.0,\n",
       " 0.0,\n",
       " 0.0,\n",
       " 0.0,\n",
       " 0.0,\n",
       " 0.0,\n",
       " 0.0,\n",
       " 0.0,\n",
       " 0.0,\n",
       " 0.0,\n",
       " 0.0,\n",
       " 0.0,\n",
       " 0.0,\n",
       " 0.0,\n",
       " 0.0,\n",
       " 0.0,\n",
       " 0.0,\n",
       " 0.0,\n",
       " 0.0,\n",
       " 0.0,\n",
       " 0.0,\n",
       " 0.0,\n",
       " 0.0,\n",
       " 0.0,\n",
       " 0.0,\n",
       " 0.0,\n",
       " 0.0,\n",
       " 0.0,\n",
       " 0.0,\n",
       " 0.0,\n",
       " 0.0,\n",
       " 0.0,\n",
       " 0.0,\n",
       " 0.0,\n",
       " 0.0,\n",
       " 0.0,\n",
       " 0.0,\n",
       " 0.0,\n",
       " 0.0,\n",
       " 0.0,\n",
       " 0.0,\n",
       " 0.0,\n",
       " 0.0,\n",
       " 0.0,\n",
       " 0.0,\n",
       " 0.0,\n",
       " 0.0,\n",
       " 0.0,\n",
       " 0.0,\n",
       " 0.0,\n",
       " 0.47368421052631576,\n",
       " 0.15789473684210525,\n",
       " 0.05263157894736842,\n",
       " 0.0,\n",
       " 0.0,\n",
       " 0.0,\n",
       " 0.0,\n",
       " 0.0,\n",
       " 0.0,\n",
       " 0.10526315789473684,\n",
       " 0.0,\n",
       " 0.0,\n",
       " 0.0,\n",
       " 0.0,\n",
       " 0.0,\n",
       " 0.0,\n",
       " 0.0,\n",
       " 0.0,\n",
       " 0.0,\n",
       " 0.0,\n",
       " 0.0,\n",
       " 0.0,\n",
       " 0.0,\n",
       " 0.0]"
      ]
     },
     "execution_count": 8,
     "metadata": {},
     "output_type": "execute_result"
    }
   ],
   "source": [
    "freq_fp"
   ]
  },
  {
   "cell_type": "markdown",
   "metadata": {},
   "source": [
    "## 2D Visualization"
   ]
  },
  {
   "cell_type": "markdown",
   "metadata": {},
   "source": [
    "### Data Preparation"
   ]
  },
  {
   "cell_type": "code",
   "execution_count": 9,
   "metadata": {},
   "outputs": [],
   "source": [
    "from plip_fingerprints import divide_list\n",
    "int_types = [\"hydrophobic\", \"hbond\", \"waterbridge\", \"saltbridge\", \"pistacking\", \"pication\", \"halogen\", \"metal\"] "
   ]
  },
  {
   "cell_type": "code",
   "execution_count": 10,
   "metadata": {},
   "outputs": [],
   "source": [
    "# create dataframe from fp\n",
    "residues = read_residues(residue_file)\n",
    "res_fp = list(divide_list(freq_fp,len(int_types)))\n",
    "fp_df = pd.DataFrame(res_fp, columns = int_types, index = residues)"
   ]
  },
  {
   "cell_type": "code",
   "execution_count": 11,
   "metadata": {},
   "outputs": [
    {
     "data": {
      "text/html": [
       "<div>\n",
       "<style scoped>\n",
       "    .dataframe tbody tr th:only-of-type {\n",
       "        vertical-align: middle;\n",
       "    }\n",
       "\n",
       "    .dataframe tbody tr th {\n",
       "        vertical-align: top;\n",
       "    }\n",
       "\n",
       "    .dataframe thead th {\n",
       "        text-align: right;\n",
       "    }\n",
       "</style>\n",
       "<table border=\"1\" class=\"dataframe\">\n",
       "  <thead>\n",
       "    <tr style=\"text-align: right;\">\n",
       "      <th></th>\n",
       "      <th>20</th>\n",
       "      <th>21</th>\n",
       "      <th>22</th>\n",
       "      <th>23</th>\n",
       "      <th>24</th>\n",
       "      <th>25</th>\n",
       "      <th>26</th>\n",
       "      <th>27</th>\n",
       "      <th>28</th>\n",
       "      <th>29</th>\n",
       "      <th>...</th>\n",
       "      <th>173</th>\n",
       "      <th>174</th>\n",
       "      <th>175</th>\n",
       "      <th>181</th>\n",
       "      <th>186</th>\n",
       "      <th>187</th>\n",
       "      <th>188</th>\n",
       "      <th>189</th>\n",
       "      <th>190</th>\n",
       "      <th>192</th>\n",
       "    </tr>\n",
       "  </thead>\n",
       "  <tbody>\n",
       "    <tr>\n",
       "      <th>hydrophobic</th>\n",
       "      <td>0.0</td>\n",
       "      <td>0.0</td>\n",
       "      <td>0.0</td>\n",
       "      <td>0.0</td>\n",
       "      <td>0.0</td>\n",
       "      <td>0.105263</td>\n",
       "      <td>0.0</td>\n",
       "      <td>0.0</td>\n",
       "      <td>0.0</td>\n",
       "      <td>0.0</td>\n",
       "      <td>...</td>\n",
       "      <td>0.0</td>\n",
       "      <td>0.0</td>\n",
       "      <td>0.0</td>\n",
       "      <td>0.0</td>\n",
       "      <td>0.0</td>\n",
       "      <td>0.0</td>\n",
       "      <td>0.0</td>\n",
       "      <td>0.473684</td>\n",
       "      <td>0.000000</td>\n",
       "      <td>0.0</td>\n",
       "    </tr>\n",
       "    <tr>\n",
       "      <th>hbond</th>\n",
       "      <td>0.0</td>\n",
       "      <td>0.0</td>\n",
       "      <td>0.0</td>\n",
       "      <td>0.0</td>\n",
       "      <td>0.0</td>\n",
       "      <td>0.105263</td>\n",
       "      <td>0.0</td>\n",
       "      <td>0.0</td>\n",
       "      <td>0.0</td>\n",
       "      <td>0.0</td>\n",
       "      <td>...</td>\n",
       "      <td>0.0</td>\n",
       "      <td>0.0</td>\n",
       "      <td>0.0</td>\n",
       "      <td>0.0</td>\n",
       "      <td>0.0</td>\n",
       "      <td>0.0</td>\n",
       "      <td>0.0</td>\n",
       "      <td>0.157895</td>\n",
       "      <td>0.105263</td>\n",
       "      <td>0.0</td>\n",
       "    </tr>\n",
       "    <tr>\n",
       "      <th>waterbridge</th>\n",
       "      <td>0.0</td>\n",
       "      <td>0.0</td>\n",
       "      <td>0.0</td>\n",
       "      <td>0.0</td>\n",
       "      <td>0.0</td>\n",
       "      <td>0.000000</td>\n",
       "      <td>0.0</td>\n",
       "      <td>0.0</td>\n",
       "      <td>0.0</td>\n",
       "      <td>0.0</td>\n",
       "      <td>...</td>\n",
       "      <td>0.0</td>\n",
       "      <td>0.0</td>\n",
       "      <td>0.0</td>\n",
       "      <td>0.0</td>\n",
       "      <td>0.0</td>\n",
       "      <td>0.0</td>\n",
       "      <td>0.0</td>\n",
       "      <td>0.052632</td>\n",
       "      <td>0.000000</td>\n",
       "      <td>0.0</td>\n",
       "    </tr>\n",
       "    <tr>\n",
       "      <th>saltbridge</th>\n",
       "      <td>0.0</td>\n",
       "      <td>0.0</td>\n",
       "      <td>0.0</td>\n",
       "      <td>0.0</td>\n",
       "      <td>0.0</td>\n",
       "      <td>0.000000</td>\n",
       "      <td>0.0</td>\n",
       "      <td>0.0</td>\n",
       "      <td>0.0</td>\n",
       "      <td>0.0</td>\n",
       "      <td>...</td>\n",
       "      <td>0.0</td>\n",
       "      <td>0.0</td>\n",
       "      <td>0.0</td>\n",
       "      <td>0.0</td>\n",
       "      <td>0.0</td>\n",
       "      <td>0.0</td>\n",
       "      <td>0.0</td>\n",
       "      <td>0.000000</td>\n",
       "      <td>0.000000</td>\n",
       "      <td>0.0</td>\n",
       "    </tr>\n",
       "    <tr>\n",
       "      <th>pistacking</th>\n",
       "      <td>0.0</td>\n",
       "      <td>0.0</td>\n",
       "      <td>0.0</td>\n",
       "      <td>0.0</td>\n",
       "      <td>0.0</td>\n",
       "      <td>0.000000</td>\n",
       "      <td>0.0</td>\n",
       "      <td>0.0</td>\n",
       "      <td>0.0</td>\n",
       "      <td>0.0</td>\n",
       "      <td>...</td>\n",
       "      <td>0.0</td>\n",
       "      <td>0.0</td>\n",
       "      <td>0.0</td>\n",
       "      <td>0.0</td>\n",
       "      <td>0.0</td>\n",
       "      <td>0.0</td>\n",
       "      <td>0.0</td>\n",
       "      <td>0.000000</td>\n",
       "      <td>0.000000</td>\n",
       "      <td>0.0</td>\n",
       "    </tr>\n",
       "    <tr>\n",
       "      <th>pication</th>\n",
       "      <td>0.0</td>\n",
       "      <td>0.0</td>\n",
       "      <td>0.0</td>\n",
       "      <td>0.0</td>\n",
       "      <td>0.0</td>\n",
       "      <td>0.000000</td>\n",
       "      <td>0.0</td>\n",
       "      <td>0.0</td>\n",
       "      <td>0.0</td>\n",
       "      <td>0.0</td>\n",
       "      <td>...</td>\n",
       "      <td>0.0</td>\n",
       "      <td>0.0</td>\n",
       "      <td>0.0</td>\n",
       "      <td>0.0</td>\n",
       "      <td>0.0</td>\n",
       "      <td>0.0</td>\n",
       "      <td>0.0</td>\n",
       "      <td>0.000000</td>\n",
       "      <td>0.000000</td>\n",
       "      <td>0.0</td>\n",
       "    </tr>\n",
       "    <tr>\n",
       "      <th>halogen</th>\n",
       "      <td>0.0</td>\n",
       "      <td>0.0</td>\n",
       "      <td>0.0</td>\n",
       "      <td>0.0</td>\n",
       "      <td>0.0</td>\n",
       "      <td>0.000000</td>\n",
       "      <td>0.0</td>\n",
       "      <td>0.0</td>\n",
       "      <td>0.0</td>\n",
       "      <td>0.0</td>\n",
       "      <td>...</td>\n",
       "      <td>0.0</td>\n",
       "      <td>0.0</td>\n",
       "      <td>0.0</td>\n",
       "      <td>0.0</td>\n",
       "      <td>0.0</td>\n",
       "      <td>0.0</td>\n",
       "      <td>0.0</td>\n",
       "      <td>0.000000</td>\n",
       "      <td>0.000000</td>\n",
       "      <td>0.0</td>\n",
       "    </tr>\n",
       "    <tr>\n",
       "      <th>metal</th>\n",
       "      <td>0.0</td>\n",
       "      <td>0.0</td>\n",
       "      <td>0.0</td>\n",
       "      <td>0.0</td>\n",
       "      <td>0.0</td>\n",
       "      <td>0.000000</td>\n",
       "      <td>0.0</td>\n",
       "      <td>0.0</td>\n",
       "      <td>0.0</td>\n",
       "      <td>0.0</td>\n",
       "      <td>...</td>\n",
       "      <td>0.0</td>\n",
       "      <td>0.0</td>\n",
       "      <td>0.0</td>\n",
       "      <td>0.0</td>\n",
       "      <td>0.0</td>\n",
       "      <td>0.0</td>\n",
       "      <td>0.0</td>\n",
       "      <td>0.000000</td>\n",
       "      <td>0.000000</td>\n",
       "      <td>0.0</td>\n",
       "    </tr>\n",
       "  </tbody>\n",
       "</table>\n",
       "<p>8 rows × 68 columns</p>\n",
       "</div>"
      ],
      "text/plain": [
       "             20   21   22   23   24        25   26   27   28   29   ...  173  \\\n",
       "hydrophobic  0.0  0.0  0.0  0.0  0.0  0.105263  0.0  0.0  0.0  0.0  ...  0.0   \n",
       "hbond        0.0  0.0  0.0  0.0  0.0  0.105263  0.0  0.0  0.0  0.0  ...  0.0   \n",
       "waterbridge  0.0  0.0  0.0  0.0  0.0  0.000000  0.0  0.0  0.0  0.0  ...  0.0   \n",
       "saltbridge   0.0  0.0  0.0  0.0  0.0  0.000000  0.0  0.0  0.0  0.0  ...  0.0   \n",
       "pistacking   0.0  0.0  0.0  0.0  0.0  0.000000  0.0  0.0  0.0  0.0  ...  0.0   \n",
       "pication     0.0  0.0  0.0  0.0  0.0  0.000000  0.0  0.0  0.0  0.0  ...  0.0   \n",
       "halogen      0.0  0.0  0.0  0.0  0.0  0.000000  0.0  0.0  0.0  0.0  ...  0.0   \n",
       "metal        0.0  0.0  0.0  0.0  0.0  0.000000  0.0  0.0  0.0  0.0  ...  0.0   \n",
       "\n",
       "             174  175  181  186  187  188       189       190  192  \n",
       "hydrophobic  0.0  0.0  0.0  0.0  0.0  0.0  0.473684  0.000000  0.0  \n",
       "hbond        0.0  0.0  0.0  0.0  0.0  0.0  0.157895  0.105263  0.0  \n",
       "waterbridge  0.0  0.0  0.0  0.0  0.0  0.0  0.052632  0.000000  0.0  \n",
       "saltbridge   0.0  0.0  0.0  0.0  0.0  0.0  0.000000  0.000000  0.0  \n",
       "pistacking   0.0  0.0  0.0  0.0  0.0  0.0  0.000000  0.000000  0.0  \n",
       "pication     0.0  0.0  0.0  0.0  0.0  0.0  0.000000  0.000000  0.0  \n",
       "halogen      0.0  0.0  0.0  0.0  0.0  0.0  0.000000  0.000000  0.0  \n",
       "metal        0.0  0.0  0.0  0.0  0.0  0.0  0.000000  0.000000  0.0  \n",
       "\n",
       "[8 rows x 68 columns]"
      ]
     },
     "execution_count": 11,
     "metadata": {},
     "output_type": "execute_result"
    }
   ],
   "source": [
    "#fp_df['interaction_type'] = int_types\n",
    "fp_df.T"
   ]
  },
  {
   "cell_type": "markdown",
   "metadata": {},
   "source": [
    "### Bar Plot\n",
    "#### Prepare Data"
   ]
  },
  {
   "cell_type": "code",
   "execution_count": 12,
   "metadata": {},
   "outputs": [],
   "source": [
    "# Prepare dataframe for plot\n",
    "df_plot2 = fp_df.loc[:, (fp_df != 0).any(axis=0)]\n",
    "\n",
    "fp_df = fp_df.T\n",
    "df_plot = fp_df.loc[:, (fp_df != 0).any(axis=0)] # drop empty columns\n",
    "#df_plot"
   ]
  },
  {
   "cell_type": "markdown",
   "metadata": {},
   "source": [
    "#### Stacked Bar Plot"
   ]
  },
  {
   "cell_type": "code",
   "execution_count": 16,
   "metadata": {
    "scrolled": true
   },
   "outputs": [
    {
     "data": {
      "text/plain": [
       "Text(0,0.5,'Frequency')"
      ]
     },
     "execution_count": 16,
     "metadata": {},
     "output_type": "execute_result"
    },
    {
     "data": {
      "image/png": "[encoded data removed]",
      "text/plain": [
       "<Figure size 1080x504 with 1 Axes>"
      ]
     },
     "metadata": {
      "needs_background": "light"
     },
     "output_type": "display_data"
    }
   ],
   "source": [
    "import matplotlib\n",
    "import matplotlib.pyplot as plt\n",
    "\n",
    "matplotlib.style.use('bmh')\n",
    "\n",
    "plotdata = df_plot.T\n",
    "plotdata.plot(kind='bar', stacked=True, figsize=(15,7))\n",
    "plt.title(\"Residue Interactions\")\n",
    "plt.xlabel(\"Residues\")\n",
    "plt.ylabel(\"Frequency\")"
   ]
  },
  {
   "cell_type": "markdown",
   "metadata": {},
   "source": [
    "### Bar Chart with Plotly"
   ]
  },
  {
   "cell_type": "code",
   "execution_count": 32,
   "metadata": {},
   "outputs": [
    {
     "data": {
      "application/vnd.plotly.v1+json": {
       "config": {
        "plotlyServerURL": "https://plot.ly"
       },
       "data": [
        {
         "name": "hydrophobic",
         "type": "bar",
         "x": [
          "res 25",
          "res 41",
          "res 45",
          "res 49",
          "res 142",
          "res 144",
          "res 163",
          "res 164",
          "res 165",
          "res 166",
          "res 189",
          "res 190"
         ],
         "y": [
          0.10526315789473684,
          0.10526315789473684,
          0,
          0.05263157894736842,
          0,
          0,
          0,
          0,
          0.2631578947368421,
          0.2631578947368421,
          0.47368421052631576,
          0
         ]
        },
        {
         "name": "hbond",
         "type": "bar",
         "x": [
          "res 25",
          "res 41",
          "res 45",
          "res 49",
          "res 142",
          "res 144",
          "res 163",
          "res 164",
          "res 165",
          "res 166",
          "res 189",
          "res 190"
         ],
         "y": [
          0.10526315789473684,
          0.15789473684210525,
          0.05263157894736842,
          0,
          0.15789473684210525,
          0.05263157894736842,
          0.05263157894736842,
          0,
          0,
          0.6842105263157895,
          0.15789473684210525,
          0.10526315789473684
         ]
        },
        {
         "name": "waterbridge",
         "type": "bar",
         "x": [
          "res 25",
          "res 41",
          "res 45",
          "res 49",
          "res 142",
          "res 144",
          "res 163",
          "res 164",
          "res 165",
          "res 166",
          "res 189",
          "res 190"
         ],
         "y": [
          0,
          0,
          0,
          0,
          0.05263157894736842,
          0,
          0,
          0.10526315789473684,
          0,
          0.15789473684210525,
          0.05263157894736842,
          0
         ]
        },
        {
         "name": "saltbridge",
         "type": "bar",
         "x": [
          "res 25",
          "res 41",
          "res 45",
          "res 49",
          "res 142",
          "res 144",
          "res 163",
          "res 164",
          "res 165",
          "res 166",
          "res 189",
          "res 190"
         ],
         "y": [
          0,
          0.05263157894736842,
          0,
          0,
          0,
          0,
          0,
          0,
          0,
          0,
          0,
          0
         ]
        },
        {
         "name": "pistacking",
         "type": "bar",
         "x": [
          "res 25",
          "res 41",
          "res 45",
          "res 49",
          "res 142",
          "res 144",
          "res 163",
          "res 164",
          "res 165",
          "res 166",
          "res 189",
          "res 190"
         ],
         "y": [
          0,
          0.47368421052631576,
          0,
          0,
          0,
          0,
          0,
          0,
          0,
          0,
          0,
          0
         ]
        },
        {
         "name": "pication",
         "type": "bar",
         "x": [
          "res 25",
          "res 41",
          "res 45",
          "res 49",
          "res 142",
          "res 144",
          "res 163",
          "res 164",
          "res 165",
          "res 166",
          "res 189",
          "res 190"
         ],
         "y": [
          0,
          0,
          0,
          0,
          0,
          0,
          0,
          0,
          0,
          0,
          0,
          0
         ]
        },
        {
         "name": "halogen",
         "type": "bar",
         "x": [
          "res 25",
          "res 41",
          "res 45",
          "res 49",
          "res 142",
          "res 144",
          "res 163",
          "res 164",
          "res 165",
          "res 166",
          "res 189",
          "res 190"
         ],
         "y": [
          0,
          0,
          0,
          0,
          0,
          0,
          0,
          0,
          0,
          0,
          0,
          0
         ]
        },
        {
         "name": "metal",
         "type": "bar",
         "x": [
          "res 25",
          "res 41",
          "res 45",
          "res 49",
          "res 142",
          "res 144",
          "res 163",
          "res 164",
          "res 165",
          "res 166",
          "res 189",
          "res 190"
         ],
         "y": [
          0,
          0,
          0,
          0,
          0,
          0,
          0,
          0,
          0,
          0,
          0,
          0
         ]
        }
       ],
       "layout": {
        "barmode": "stack",
        "template": {
         "data": {
          "bar": [
           {
            "error_x": {
             "color": "#2a3f5f"
            },
            "error_y": {
             "color": "#2a3f5f"
            },
            "marker": {
             "line": {
              "color": "#E5ECF6",
              "width": 0.5
             }
            },
            "type": "bar"
           }
          ],
          "barpolar": [
           {
            "marker": {
             "line": {
              "color": "#E5ECF6",
              "width": 0.5
             }
            },
            "type": "barpolar"
           }
          ],
          "carpet": [
           {
            "aaxis": {
             "endlinecolor": "#2a3f5f",
             "gridcolor": "white",
             "linecolor": "white",
             "minorgridcolor": "white",
             "startlinecolor": "#2a3f5f"
            },
            "baxis": {
             "endlinecolor": "#2a3f5f",
             "gridcolor": "white",
             "linecolor": "white",
             "minorgridcolor": "white",
             "startlinecolor": "#2a3f5f"
            },
            "type": "carpet"
           }
          ],
          "choropleth": [
           {
            "colorbar": {
             "outlinewidth": 0,
             "ticks": ""
            },
            "type": "choropleth"
           }
          ],
          "contour": [
           {
            "colorbar": {
             "outlinewidth": 0,
             "ticks": ""
            },
            "colorscale": [
             [
              0,
              "#0d0887"
             ],
             [
              0.1111111111111111,
              "#46039f"
             ],
             [
              0.2222222222222222,
              "#7201a8"
             ],
             [
              0.3333333333333333,
              "#9c179e"
             ],
             [
              0.4444444444444444,
              "#bd3786"
             ],
             [
              0.5555555555555556,
              "#d8576b"
             ],
             [
              0.6666666666666666,
              "#ed7953"
             ],
             [
              0.7777777777777778,
              "#fb9f3a"
             ],
             [
              0.8888888888888888,
              "#fdca26"
             ],
             [
              1,
              "#f0f921"
             ]
            ],
            "type": "contour"
           }
          ],
          "contourcarpet": [
           {
            "colorbar": {
             "outlinewidth": 0,
             "ticks": ""
            },
            "type": "contourcarpet"
           }
          ],
          "heatmap": [
           {
            "colorbar": {
             "outlinewidth": 0,
             "ticks": ""
            },
            "colorscale": [
             [
              0,
              "#0d0887"
             ],
             [
              0.1111111111111111,
              "#46039f"
             ],
             [
              0.2222222222222222,
              "#7201a8"
             ],
             [
              0.3333333333333333,
              "#9c179e"
             ],
             [
              0.4444444444444444,
              "#bd3786"
             ],
             [
              0.5555555555555556,
              "#d8576b"
             ],
             [
              0.6666666666666666,
              "#ed7953"
             ],
             [
              0.7777777777777778,
              "#fb9f3a"
             ],
             [
              0.8888888888888888,
              "#fdca26"
             ],
             [
              1,
              "#f0f921"
             ]
            ],
            "type": "heatmap"
           }
          ],
          "heatmapgl": [
           {
            "colorbar": {
             "outlinewidth": 0,
             "ticks": ""
            },
            "colorscale": [
             [
              0,
              "#0d0887"
             ],
             [
              0.1111111111111111,
              "#46039f"
             ],
             [
              0.2222222222222222,
              "#7201a8"
             ],
             [
              0.3333333333333333,
              "#9c179e"
             ],
             [
              0.4444444444444444,
              "#bd3786"
             ],
             [
              0.5555555555555556,
              "#d8576b"
             ],
             [
              0.6666666666666666,
              "#ed7953"
             ],
             [
              0.7777777777777778,
              "#fb9f3a"
             ],
             [
              0.8888888888888888,
              "#fdca26"
             ],
             [
              1,
              "#f0f921"
             ]
            ],
            "type": "heatmapgl"
           }
          ],
          "histogram": [
           {
            "marker": {
             "colorbar": {
              "outlinewidth": 0,
              "ticks": ""
             }
            },
            "type": "histogram"
           }
          ],
          "histogram2d": [
           {
            "colorbar": {
             "outlinewidth": 0,
             "ticks": ""
            },
            "colorscale": [
             [
              0,
              "#0d0887"
             ],
             [
              0.1111111111111111,
              "#46039f"
             ],
             [
              0.2222222222222222,
              "#7201a8"
             ],
             [
              0.3333333333333333,
              "#9c179e"
             ],
             [
              0.4444444444444444,
              "#bd3786"
             ],
             [
              0.5555555555555556,
              "#d8576b"
             ],
             [
              0.6666666666666666,
              "#ed7953"
             ],
             [
              0.7777777777777778,
              "#fb9f3a"
             ],
             [
              0.8888888888888888,
              "#fdca26"
             ],
             [
              1,
              "#f0f921"
             ]
            ],
            "type": "histogram2d"
           }
          ],
          "histogram2dcontour": [
           {
            "colorbar": {
             "outlinewidth": 0,
             "ticks": ""
            },
            "colorscale": [
             [
              0,
              "#0d0887"
             ],
             [
              0.1111111111111111,
              "#46039f"
             ],
             [
              0.2222222222222222,
              "#7201a8"
             ],
             [
              0.3333333333333333,
              "#9c179e"
             ],
             [
              0.4444444444444444,
              "#bd3786"
             ],
             [
              0.5555555555555556,
              "#d8576b"
             ],
             [
              0.6666666666666666,
              "#ed7953"
             ],
             [
              0.7777777777777778,
              "#fb9f3a"
             ],
             [
              0.8888888888888888,
              "#fdca26"
             ],
             [
              1,
              "#f0f921"
             ]
            ],
            "type": "histogram2dcontour"
           }
          ],
          "mesh3d": [
           {
            "colorbar": {
             "outlinewidth": 0,
             "ticks": ""
            },
            "type": "mesh3d"
           }
          ],
          "parcoords": [
           {
            "line": {
             "colorbar": {
              "outlinewidth": 0,
              "ticks": ""
             }
            },
            "type": "parcoords"
           }
          ],
          "pie": [
           {
            "automargin": true,
            "type": "pie"
           }
          ],
          "scatter": [
           {
            "marker": {
             "colorbar": {
              "outlinewidth": 0,
              "ticks": ""
             }
            },
            "type": "scatter"
           }
          ],
          "scatter3d": [
           {
            "line": {
             "colorbar": {
              "outlinewidth": 0,
              "ticks": ""
             }
            },
            "marker": {
             "colorbar": {
              "outlinewidth": 0,
              "ticks": ""
             }
            },
            "type": "scatter3d"
           }
          ],
          "scattercarpet": [
           {
            "marker": {
             "colorbar": {
              "outlinewidth": 0,
              "ticks": ""
             }
            },
            "type": "scattercarpet"
           }
          ],
          "scattergeo": [
           {
            "marker": {
             "colorbar": {
              "outlinewidth": 0,
              "ticks": ""
             }
            },
            "type": "scattergeo"
           }
          ],
          "scattergl": [
           {
            "marker": {
             "colorbar": {
              "outlinewidth": 0,
              "ticks": ""
             }
            },
            "type": "scattergl"
           }
          ],
          "scattermapbox": [
           {
            "marker": {
             "colorbar": {
              "outlinewidth": 0,
              "ticks": ""
             }
            },
            "type": "scattermapbox"
           }
          ],
          "scatterpolar": [
           {
            "marker": {
             "colorbar": {
              "outlinewidth": 0,
              "ticks": ""
             }
            },
            "type": "scatterpolar"
           }
          ],
          "scatterpolargl": [
           {
            "marker": {
             "colorbar": {
              "outlinewidth": 0,
              "ticks": ""
             }
            },
            "type": "scatterpolargl"
           }
          ],
          "scatterternary": [
           {
            "marker": {
             "colorbar": {
              "outlinewidth": 0,
              "ticks": ""
             }
            },
            "type": "scatterternary"
           }
          ],
          "surface": [
           {
            "colorbar": {
             "outlinewidth": 0,
             "ticks": ""
            },
            "colorscale": [
             [
              0,
              "#0d0887"
             ],
             [
              0.1111111111111111,
              "#46039f"
             ],
             [
              0.2222222222222222,
              "#7201a8"
             ],
             [
              0.3333333333333333,
              "#9c179e"
             ],
             [
              0.4444444444444444,
              "#bd3786"
             ],
             [
              0.5555555555555556,
              "#d8576b"
             ],
             [
              0.6666666666666666,
              "#ed7953"
             ],
             [
              0.7777777777777778,
              "#fb9f3a"
             ],
             [
              0.8888888888888888,
              "#fdca26"
             ],
             [
              1,
              "#f0f921"
             ]
            ],
            "type": "surface"
           }
          ],
          "table": [
           {
            "cells": {
             "fill": {
              "color": "#EBF0F8"
             },
             "line": {
              "color": "white"
             }
            },
            "header": {
             "fill": {
              "color": "#C8D4E3"
             },
             "line": {
              "color": "white"
             }
            },
            "type": "table"
           }
          ]
         },
         "layout": {
          "annotationdefaults": {
           "arrowcolor": "#2a3f5f",
           "arrowhead": 0,
           "arrowwidth": 1
          },
          "coloraxis": {
           "colorbar": {
            "outlinewidth": 0,
            "ticks": ""
           }
          },
          "colorscale": {
           "diverging": [
            [
             0,
             "#8e0152"
            ],
            [
             0.1,
             "#c51b7d"
            ],
            [
             0.2,
             "#de77ae"
            ],
            [
             0.3,
             "#f1b6da"
            ],
            [
             0.4,
             "#fde0ef"
            ],
            [
             0.5,
             "#f7f7f7"
            ],
            [
             0.6,
             "#e6f5d0"
            ],
            [
             0.7,
             "#b8e186"
            ],
            [
             0.8,
             "#7fbc41"
            ],
            [
             0.9,
             "#4d9221"
            ],
            [
             1,
             "#276419"
            ]
           ],
           "sequential": [
            [
             0,
             "#0d0887"
            ],
            [
             0.1111111111111111,
             "#46039f"
            ],
            [
             0.2222222222222222,
             "#7201a8"
            ],
            [
             0.3333333333333333,
             "#9c179e"
            ],
            [
             0.4444444444444444,
             "#bd3786"
            ],
            [
             0.5555555555555556,
             "#d8576b"
            ],
            [
             0.6666666666666666,
             "#ed7953"
            ],
            [
             0.7777777777777778,
             "#fb9f3a"
            ],
            [
             0.8888888888888888,
             "#fdca26"
            ],
            [
             1,
             "#f0f921"
            ]
           ],
           "sequentialminus": [
            [
             0,
             "#0d0887"
            ],
            [
             0.1111111111111111,
             "#46039f"
            ],
            [
             0.2222222222222222,
             "#7201a8"
            ],
            [
             0.3333333333333333,
             "#9c179e"
            ],
            [
             0.4444444444444444,
             "#bd3786"
            ],
            [
             0.5555555555555556,
             "#d8576b"
            ],
            [
             0.6666666666666666,
             "#ed7953"
            ],
            [
             0.7777777777777778,
             "#fb9f3a"
            ],
            [
             0.8888888888888888,
             "#fdca26"
            ],
            [
             1,
             "#f0f921"
            ]
           ]
          },
          "colorway": [
           "#636efa",
           "#EF553B",
           "#00cc96",
           "#ab63fa",
           "#FFA15A",
           "#19d3f3",
           "#FF6692",
           "#B6E880",
           "#FF97FF",
           "#FECB52"
          ],
          "font": {
           "color": "#2a3f5f"
          },
          "geo": {
           "bgcolor": "white",
           "lakecolor": "white",
           "landcolor": "#E5ECF6",
           "showlakes": true,
           "showland": true,
           "subunitcolor": "white"
          },
          "hoverlabel": {
           "align": "left"
          },
          "hovermode": "closest",
          "mapbox": {
           "style": "light"
          },
          "paper_bgcolor": "white",
          "plot_bgcolor": "#E5ECF6",
          "polar": {
           "angularaxis": {
            "gridcolor": "white",
            "linecolor": "white",
            "ticks": ""
           },
           "bgcolor": "#E5ECF6",
           "radialaxis": {
            "gridcolor": "white",
            "linecolor": "white",
            "ticks": ""
           }
          },
          "scene": {
           "xaxis": {
            "backgroundcolor": "#E5ECF6",
            "gridcolor": "white",
            "gridwidth": 2,
            "linecolor": "white",
            "showbackground": true,
            "ticks": "",
            "zerolinecolor": "white"
           },
           "yaxis": {
            "backgroundcolor": "#E5ECF6",
            "gridcolor": "white",
            "gridwidth": 2,
            "linecolor": "white",
            "showbackground": true,
            "ticks": "",
            "zerolinecolor": "white"
           },
           "zaxis": {
            "backgroundcolor": "#E5ECF6",
            "gridcolor": "white",
            "gridwidth": 2,
            "linecolor": "white",
            "showbackground": true,
            "ticks": "",
            "zerolinecolor": "white"
           }
          },
          "shapedefaults": {
           "line": {
            "color": "#2a3f5f"
           }
          },
          "ternary": {
           "aaxis": {
            "gridcolor": "white",
            "linecolor": "white",
            "ticks": ""
           },
           "baxis": {
            "gridcolor": "white",
            "linecolor": "white",
            "ticks": ""
           },
           "bgcolor": "#E5ECF6",
           "caxis": {
            "gridcolor": "white",
            "linecolor": "white",
            "ticks": ""
           }
          },
          "title": {
           "x": 0.05
          },
          "xaxis": {
           "automargin": true,
           "gridcolor": "white",
           "linecolor": "white",
           "ticks": "",
           "title": {
            "standoff": 15
           },
           "zerolinecolor": "white",
           "zerolinewidth": 2
          },
          "yaxis": {
           "automargin": true,
           "gridcolor": "white",
           "linecolor": "white",
           "ticks": "",
           "title": {
            "standoff": 15
           },
           "zerolinecolor": "white",
           "zerolinewidth": 2
          }
         }
        },
        "title": {
         "text": "Residue Interactions"
        }
       }
      },
      "text/html": [
       "<div>\n",
       "        \n",
       "        \n",
       "            <div id=\"9d3388a7-1ff1-4c20-91a0-ad1aa4e9dfca\" class=\"plotly-graph-div\" style=\"height:525px; width:100%;\"></div>\n",
       "            <script type=\"text/javascript\">\n",
       "                require([\"plotly\"], function(Plotly) {\n",
       "                    window.PLOTLYENV=window.PLOTLYENV || {};\n",
       "                    \n",
       "                if (document.getElementById(\"9d3388a7-1ff1-4c20-91a0-ad1aa4e9dfca\")) {\n",
       "                    Plotly.newPlot(\n",
       "                        '9d3388a7-1ff1-4c20-91a0-ad1aa4e9dfca',\n",
       "                        [{\"name\": \"hydrophobic\", \"type\": \"bar\", \"x\": [\"res 25\", \"res 41\", \"res 45\", \"res 49\", \"res 142\", \"res 144\", \"res 163\", \"res 164\", \"res 165\", \"res 166\", \"res 189\", \"res 190\"], \"y\": [0.10526315789473684, 0.10526315789473684, 0.0, 0.05263157894736842, 0.0, 0.0, 0.0, 0.0, 0.2631578947368421, 0.2631578947368421, 0.47368421052631576, 0.0]}, {\"name\": \"hbond\", \"type\": \"bar\", \"x\": [\"res 25\", \"res 41\", \"res 45\", \"res 49\", \"res 142\", \"res 144\", \"res 163\", \"res 164\", \"res 165\", \"res 166\", \"res 189\", \"res 190\"], \"y\": [0.10526315789473684, 0.15789473684210525, 0.05263157894736842, 0.0, 0.15789473684210525, 0.05263157894736842, 0.05263157894736842, 0.0, 0.0, 0.6842105263157895, 0.15789473684210525, 0.10526315789473684]}, {\"name\": \"waterbridge\", \"type\": \"bar\", \"x\": [\"res 25\", \"res 41\", \"res 45\", \"res 49\", \"res 142\", \"res 144\", \"res 163\", \"res 164\", \"res 165\", \"res 166\", \"res 189\", \"res 190\"], \"y\": [0.0, 0.0, 0.0, 0.0, 0.05263157894736842, 0.0, 0.0, 0.10526315789473684, 0.0, 0.15789473684210525, 0.05263157894736842, 0.0]}, {\"name\": \"saltbridge\", \"type\": \"bar\", \"x\": [\"res 25\", \"res 41\", \"res 45\", \"res 49\", \"res 142\", \"res 144\", \"res 163\", \"res 164\", \"res 165\", \"res 166\", \"res 189\", \"res 190\"], \"y\": [0.0, 0.05263157894736842, 0.0, 0.0, 0.0, 0.0, 0.0, 0.0, 0.0, 0.0, 0.0, 0.0]}, {\"name\": \"pistacking\", \"type\": \"bar\", \"x\": [\"res 25\", \"res 41\", \"res 45\", \"res 49\", \"res 142\", \"res 144\", \"res 163\", \"res 164\", \"res 165\", \"res 166\", \"res 189\", \"res 190\"], \"y\": [0.0, 0.47368421052631576, 0.0, 0.0, 0.0, 0.0, 0.0, 0.0, 0.0, 0.0, 0.0, 0.0]}, {\"name\": \"pication\", \"type\": \"bar\", \"x\": [\"res 25\", \"res 41\", \"res 45\", \"res 49\", \"res 142\", \"res 144\", \"res 163\", \"res 164\", \"res 165\", \"res 166\", \"res 189\", \"res 190\"], \"y\": [0.0, 0.0, 0.0, 0.0, 0.0, 0.0, 0.0, 0.0, 0.0, 0.0, 0.0, 0.0]}, {\"name\": \"halogen\", \"type\": \"bar\", \"x\": [\"res 25\", \"res 41\", \"res 45\", \"res 49\", \"res 142\", \"res 144\", \"res 163\", \"res 164\", \"res 165\", \"res 166\", \"res 189\", \"res 190\"], \"y\": [0.0, 0.0, 0.0, 0.0, 0.0, 0.0, 0.0, 0.0, 0.0, 0.0, 0.0, 0.0]}, {\"name\": \"metal\", \"type\": \"bar\", \"x\": [\"res 25\", \"res 41\", \"res 45\", \"res 49\", \"res 142\", \"res 144\", \"res 163\", \"res 164\", \"res 165\", \"res 166\", \"res 189\", \"res 190\"], \"y\": [0.0, 0.0, 0.0, 0.0, 0.0, 0.0, 0.0, 0.0, 0.0, 0.0, 0.0, 0.0]}],\n",
       "                        {\"barmode\": \"stack\", \"template\": {\"data\": {\"bar\": [{\"error_x\": {\"color\": \"#2a3f5f\"}, \"error_y\": {\"color\": \"#2a3f5f\"}, \"marker\": {\"line\": {\"color\": \"#E5ECF6\", \"width\": 0.5}}, \"type\": \"bar\"}], \"barpolar\": [{\"marker\": {\"line\": {\"color\": \"#E5ECF6\", \"width\": 0.5}}, \"type\": \"barpolar\"}], \"carpet\": [{\"aaxis\": {\"endlinecolor\": \"#2a3f5f\", \"gridcolor\": \"white\", \"linecolor\": \"white\", \"minorgridcolor\": \"white\", \"startlinecolor\": \"#2a3f5f\"}, \"baxis\": {\"endlinecolor\": \"#2a3f5f\", \"gridcolor\": \"white\", \"linecolor\": \"white\", \"minorgridcolor\": \"white\", \"startlinecolor\": \"#2a3f5f\"}, \"type\": \"carpet\"}], \"choropleth\": [{\"colorbar\": {\"outlinewidth\": 0, \"ticks\": \"\"}, \"type\": \"choropleth\"}], \"contour\": [{\"colorbar\": {\"outlinewidth\": 0, \"ticks\": \"\"}, \"colorscale\": [[0.0, \"#0d0887\"], [0.1111111111111111, \"#46039f\"], [0.2222222222222222, \"#7201a8\"], [0.3333333333333333, \"#9c179e\"], [0.4444444444444444, \"#bd3786\"], [0.5555555555555556, \"#d8576b\"], [0.6666666666666666, \"#ed7953\"], [0.7777777777777778, \"#fb9f3a\"], [0.8888888888888888, \"#fdca26\"], [1.0, \"#f0f921\"]], \"type\": \"contour\"}], \"contourcarpet\": [{\"colorbar\": {\"outlinewidth\": 0, \"ticks\": \"\"}, \"type\": \"contourcarpet\"}], \"heatmap\": [{\"colorbar\": {\"outlinewidth\": 0, \"ticks\": \"\"}, \"colorscale\": [[0.0, \"#0d0887\"], [0.1111111111111111, \"#46039f\"], [0.2222222222222222, \"#7201a8\"], [0.3333333333333333, \"#9c179e\"], [0.4444444444444444, \"#bd3786\"], [0.5555555555555556, \"#d8576b\"], [0.6666666666666666, \"#ed7953\"], [0.7777777777777778, \"#fb9f3a\"], [0.8888888888888888, \"#fdca26\"], [1.0, \"#f0f921\"]], \"type\": \"heatmap\"}], \"heatmapgl\": [{\"colorbar\": {\"outlinewidth\": 0, \"ticks\": \"\"}, \"colorscale\": [[0.0, \"#0d0887\"], [0.1111111111111111, \"#46039f\"], [0.2222222222222222, \"#7201a8\"], [0.3333333333333333, \"#9c179e\"], [0.4444444444444444, \"#bd3786\"], [0.5555555555555556, \"#d8576b\"], [0.6666666666666666, \"#ed7953\"], [0.7777777777777778, \"#fb9f3a\"], [0.8888888888888888, \"#fdca26\"], [1.0, \"#f0f921\"]], \"type\": \"heatmapgl\"}], \"histogram\": [{\"marker\": {\"colorbar\": {\"outlinewidth\": 0, \"ticks\": \"\"}}, \"type\": \"histogram\"}], \"histogram2d\": [{\"colorbar\": {\"outlinewidth\": 0, \"ticks\": \"\"}, \"colorscale\": [[0.0, \"#0d0887\"], [0.1111111111111111, \"#46039f\"], [0.2222222222222222, \"#7201a8\"], [0.3333333333333333, \"#9c179e\"], [0.4444444444444444, \"#bd3786\"], [0.5555555555555556, \"#d8576b\"], [0.6666666666666666, \"#ed7953\"], [0.7777777777777778, \"#fb9f3a\"], [0.8888888888888888, \"#fdca26\"], [1.0, \"#f0f921\"]], \"type\": \"histogram2d\"}], \"histogram2dcontour\": [{\"colorbar\": {\"outlinewidth\": 0, \"ticks\": \"\"}, \"colorscale\": [[0.0, \"#0d0887\"], [0.1111111111111111, \"#46039f\"], [0.2222222222222222, \"#7201a8\"], [0.3333333333333333, \"#9c179e\"], [0.4444444444444444, \"#bd3786\"], [0.5555555555555556, \"#d8576b\"], [0.6666666666666666, \"#ed7953\"], [0.7777777777777778, \"#fb9f3a\"], [0.8888888888888888, \"#fdca26\"], [1.0, \"#f0f921\"]], \"type\": \"histogram2dcontour\"}], \"mesh3d\": [{\"colorbar\": {\"outlinewidth\": 0, \"ticks\": \"\"}, \"type\": \"mesh3d\"}], \"parcoords\": [{\"line\": {\"colorbar\": {\"outlinewidth\": 0, \"ticks\": \"\"}}, \"type\": \"parcoords\"}], \"pie\": [{\"automargin\": true, \"type\": \"pie\"}], \"scatter\": [{\"marker\": {\"colorbar\": {\"outlinewidth\": 0, \"ticks\": \"\"}}, \"type\": \"scatter\"}], \"scatter3d\": [{\"line\": {\"colorbar\": {\"outlinewidth\": 0, \"ticks\": \"\"}}, \"marker\": {\"colorbar\": {\"outlinewidth\": 0, \"ticks\": \"\"}}, \"type\": \"scatter3d\"}], \"scattercarpet\": [{\"marker\": {\"colorbar\": {\"outlinewidth\": 0, \"ticks\": \"\"}}, \"type\": \"scattercarpet\"}], \"scattergeo\": [{\"marker\": {\"colorbar\": {\"outlinewidth\": 0, \"ticks\": \"\"}}, \"type\": \"scattergeo\"}], \"scattergl\": [{\"marker\": {\"colorbar\": {\"outlinewidth\": 0, \"ticks\": \"\"}}, \"type\": \"scattergl\"}], \"scattermapbox\": [{\"marker\": {\"colorbar\": {\"outlinewidth\": 0, \"ticks\": \"\"}}, \"type\": \"scattermapbox\"}], \"scatterpolar\": [{\"marker\": {\"colorbar\": {\"outlinewidth\": 0, \"ticks\": \"\"}}, \"type\": \"scatterpolar\"}], \"scatterpolargl\": [{\"marker\": {\"colorbar\": {\"outlinewidth\": 0, \"ticks\": \"\"}}, \"type\": \"scatterpolargl\"}], \"scatterternary\": [{\"marker\": {\"colorbar\": {\"outlinewidth\": 0, \"ticks\": \"\"}}, \"type\": \"scatterternary\"}], \"surface\": [{\"colorbar\": {\"outlinewidth\": 0, \"ticks\": \"\"}, \"colorscale\": [[0.0, \"#0d0887\"], [0.1111111111111111, \"#46039f\"], [0.2222222222222222, \"#7201a8\"], [0.3333333333333333, \"#9c179e\"], [0.4444444444444444, \"#bd3786\"], [0.5555555555555556, \"#d8576b\"], [0.6666666666666666, \"#ed7953\"], [0.7777777777777778, \"#fb9f3a\"], [0.8888888888888888, \"#fdca26\"], [1.0, \"#f0f921\"]], \"type\": \"surface\"}], \"table\": [{\"cells\": {\"fill\": {\"color\": \"#EBF0F8\"}, \"line\": {\"color\": \"white\"}}, \"header\": {\"fill\": {\"color\": \"#C8D4E3\"}, \"line\": {\"color\": \"white\"}}, \"type\": \"table\"}]}, \"layout\": {\"annotationdefaults\": {\"arrowcolor\": \"#2a3f5f\", \"arrowhead\": 0, \"arrowwidth\": 1}, \"coloraxis\": {\"colorbar\": {\"outlinewidth\": 0, \"ticks\": \"\"}}, \"colorscale\": {\"diverging\": [[0, \"#8e0152\"], [0.1, \"#c51b7d\"], [0.2, \"#de77ae\"], [0.3, \"#f1b6da\"], [0.4, \"#fde0ef\"], [0.5, \"#f7f7f7\"], [0.6, \"#e6f5d0\"], [0.7, \"#b8e186\"], [0.8, \"#7fbc41\"], [0.9, \"#4d9221\"], [1, \"#276419\"]], \"sequential\": [[0.0, \"#0d0887\"], [0.1111111111111111, \"#46039f\"], [0.2222222222222222, \"#7201a8\"], [0.3333333333333333, \"#9c179e\"], [0.4444444444444444, \"#bd3786\"], [0.5555555555555556, \"#d8576b\"], [0.6666666666666666, \"#ed7953\"], [0.7777777777777778, \"#fb9f3a\"], [0.8888888888888888, \"#fdca26\"], [1.0, \"#f0f921\"]], \"sequentialminus\": [[0.0, \"#0d0887\"], [0.1111111111111111, \"#46039f\"], [0.2222222222222222, \"#7201a8\"], [0.3333333333333333, \"#9c179e\"], [0.4444444444444444, \"#bd3786\"], [0.5555555555555556, \"#d8576b\"], [0.6666666666666666, \"#ed7953\"], [0.7777777777777778, \"#fb9f3a\"], [0.8888888888888888, \"#fdca26\"], [1.0, \"#f0f921\"]]}, \"colorway\": [\"#636efa\", \"#EF553B\", \"#00cc96\", \"#ab63fa\", \"#FFA15A\", \"#19d3f3\", \"#FF6692\", \"#B6E880\", \"#FF97FF\", \"#FECB52\"], \"font\": {\"color\": \"#2a3f5f\"}, \"geo\": {\"bgcolor\": \"white\", \"lakecolor\": \"white\", \"landcolor\": \"#E5ECF6\", \"showlakes\": true, \"showland\": true, \"subunitcolor\": \"white\"}, \"hoverlabel\": {\"align\": \"left\"}, \"hovermode\": \"closest\", \"mapbox\": {\"style\": \"light\"}, \"paper_bgcolor\": \"white\", \"plot_bgcolor\": \"#E5ECF6\", \"polar\": {\"angularaxis\": {\"gridcolor\": \"white\", \"linecolor\": \"white\", \"ticks\": \"\"}, \"bgcolor\": \"#E5ECF6\", \"radialaxis\": {\"gridcolor\": \"white\", \"linecolor\": \"white\", \"ticks\": \"\"}}, \"scene\": {\"xaxis\": {\"backgroundcolor\": \"#E5ECF6\", \"gridcolor\": \"white\", \"gridwidth\": 2, \"linecolor\": \"white\", \"showbackground\": true, \"ticks\": \"\", \"zerolinecolor\": \"white\"}, \"yaxis\": {\"backgroundcolor\": \"#E5ECF6\", \"gridcolor\": \"white\", \"gridwidth\": 2, \"linecolor\": \"white\", \"showbackground\": true, \"ticks\": \"\", \"zerolinecolor\": \"white\"}, \"zaxis\": {\"backgroundcolor\": \"#E5ECF6\", \"gridcolor\": \"white\", \"gridwidth\": 2, \"linecolor\": \"white\", \"showbackground\": true, \"ticks\": \"\", \"zerolinecolor\": \"white\"}}, \"shapedefaults\": {\"line\": {\"color\": \"#2a3f5f\"}}, \"ternary\": {\"aaxis\": {\"gridcolor\": \"white\", \"linecolor\": \"white\", \"ticks\": \"\"}, \"baxis\": {\"gridcolor\": \"white\", \"linecolor\": \"white\", \"ticks\": \"\"}, \"bgcolor\": \"#E5ECF6\", \"caxis\": {\"gridcolor\": \"white\", \"linecolor\": \"white\", \"ticks\": \"\"}}, \"title\": {\"x\": 0.05}, \"xaxis\": {\"automargin\": true, \"gridcolor\": \"white\", \"linecolor\": \"white\", \"ticks\": \"\", \"title\": {\"standoff\": 15}, \"zerolinecolor\": \"white\", \"zerolinewidth\": 2}, \"yaxis\": {\"automargin\": true, \"gridcolor\": \"white\", \"linecolor\": \"white\", \"ticks\": \"\", \"title\": {\"standoff\": 15}, \"zerolinecolor\": \"white\", \"zerolinewidth\": 2}}}, \"title\": {\"text\": \"Residue Interactions\"}},\n",
       "                        {\"responsive\": true}\n",
       "                    ).then(function(){\n",
       "                            \n",
       "var gd = document.getElementById('9d3388a7-1ff1-4c20-91a0-ad1aa4e9dfca');\n",
       "var x = new MutationObserver(function (mutations, observer) {{\n",
       "        var display = window.getComputedStyle(gd).display;\n",
       "        if (!display || display === 'none') {{\n",
       "            console.log([gd, 'removed!']);\n",
       "            Plotly.purge(gd);\n",
       "            observer.disconnect();\n",
       "        }}\n",
       "}});\n",
       "\n",
       "// Listen for the removal of the full notebook cells\n",
       "var notebookContainer = gd.closest('#notebook-container');\n",
       "if (notebookContainer) {{\n",
       "    x.observe(notebookContainer, {childList: true});\n",
       "}}\n",
       "\n",
       "// Listen for the clearing of the current output cell\n",
       "var outputEl = gd.closest('.output');\n",
       "if (outputEl) {{\n",
       "    x.observe(outputEl, {childList: true});\n",
       "}}\n",
       "\n",
       "                        })\n",
       "                };\n",
       "                });\n",
       "            </script>\n",
       "        </div>"
      ]
     },
     "metadata": {},
     "output_type": "display_data"
    }
   ],
   "source": [
    "import plotly.graph_objects as go\n",
    "\n",
    "# data dictionary\n",
    "\n",
    "resis=map(str, list(plotdata.index))\n",
    "resis = ['res '+ s for s in resis]\n",
    "fig = go.Figure(data=[\n",
    "    go.Bar(name=\"hydrophobic\", x=resis, y=list(plotdata[\"hydrophobic\"])),\n",
    "    go.Bar(name=\"hbond\", x=resis, y=list(plotdata[\"hbond\"])),\n",
    "    go.Bar(name=\"waterbridge\", x=resis, y=list(plotdata[\"waterbridge\"])),\n",
    "    go.Bar(name=\"saltbridge\", x=resis, y=list(plotdata[\"saltbridge\"])),\n",
    "    go.Bar(name=\"pistacking\", x=resis, y=list(plotdata[\"pistacking\"])),\n",
    "    go.Bar(name=\"pication\", x=resis, y=list(plotdata[\"pication\"])),\n",
    "    go.Bar(name=\"halogen\", x=resis, y=list(plotdata[\"halogen\"])),\n",
    "    go.Bar(name=\"metal\", x=resis, y=list(plotdata[\"metal\"]))])\n",
    "\n",
    "# Change the bar mode\n",
    "fig.update_layout(barmode='stack')\n",
    "fig.update_layout(title_text='Residue Interactions')\n",
    "fig.show()"
   ]
  },
  {
   "cell_type": "markdown",
   "metadata": {},
   "source": [
    "### Heatmap"
   ]
  },
  {
   "cell_type": "code",
   "execution_count": 25,
   "metadata": {
    "scrolled": true
   },
   "outputs": [
    {
     "data": {
      "text/plain": [
       "Text(72.5,0.5,'Interaction Types')"
      ]
     },
     "execution_count": 25,
     "metadata": {},
     "output_type": "execute_result"
    },
    {
     "data": {
      "image/png": "[encoded data removed]",
      "text/plain": [
       "<Figure size 720x504 with 2 Axes>"
      ]
     },
     "metadata": {
      "needs_background": "light"
     },
     "output_type": "display_data"
    }
   ],
   "source": [
    "import seaborn as sns\n",
    "%matplotlib inline\n",
    "fig, ax = plt.subplots(figsize=(10,7)) # plot size\n",
    "sns.heatmap(plotdata.T, annot=True, cmap=\"YlGnBu\", ax=ax)\n",
    "plt.xlabel(\"Residues\")\n",
    "plt.ylabel(\"Interaction Types\")"
   ]
  },
  {
   "cell_type": "markdown",
   "metadata": {},
   "source": [
    "### Tabular \n",
    "'KLIFS-like'"
   ]
  },
  {
   "cell_type": "code",
   "execution_count": 15,
   "metadata": {},
   "outputs": [
    {
     "data": {
      "text/html": [
       "<div>\n",
       "<style scoped>\n",
       "    .dataframe tbody tr th:only-of-type {\n",
       "        vertical-align: middle;\n",
       "    }\n",
       "\n",
       "    .dataframe tbody tr th {\n",
       "        vertical-align: top;\n",
       "    }\n",
       "\n",
       "    .dataframe thead th {\n",
       "        text-align: right;\n",
       "    }\n",
       "</style>\n",
       "<table border=\"1\" class=\"dataframe\">\n",
       "  <thead>\n",
       "    <tr style=\"text-align: right;\">\n",
       "      <th></th>\n",
       "      <th>hydrophobic</th>\n",
       "      <th>hbond</th>\n",
       "      <th>waterbridge</th>\n",
       "      <th>saltbridge</th>\n",
       "      <th>pistacking</th>\n",
       "      <th>pication</th>\n",
       "      <th>halogen</th>\n",
       "      <th>metal</th>\n",
       "    </tr>\n",
       "  </thead>\n",
       "  <tbody>\n",
       "    <tr>\n",
       "      <th>25</th>\n",
       "      <td>0.105263</td>\n",
       "      <td>0.105263</td>\n",
       "      <td>0.000000</td>\n",
       "      <td>0.000000</td>\n",
       "      <td>0.000000</td>\n",
       "      <td>0.0</td>\n",
       "      <td>0.0</td>\n",
       "      <td>0.0</td>\n",
       "    </tr>\n",
       "    <tr>\n",
       "      <th>41</th>\n",
       "      <td>0.105263</td>\n",
       "      <td>0.157895</td>\n",
       "      <td>0.000000</td>\n",
       "      <td>0.052632</td>\n",
       "      <td>0.473684</td>\n",
       "      <td>0.0</td>\n",
       "      <td>0.0</td>\n",
       "      <td>0.0</td>\n",
       "    </tr>\n",
       "    <tr>\n",
       "      <th>45</th>\n",
       "      <td>0.000000</td>\n",
       "      <td>0.052632</td>\n",
       "      <td>0.000000</td>\n",
       "      <td>0.000000</td>\n",
       "      <td>0.000000</td>\n",
       "      <td>0.0</td>\n",
       "      <td>0.0</td>\n",
       "      <td>0.0</td>\n",
       "    </tr>\n",
       "    <tr>\n",
       "      <th>49</th>\n",
       "      <td>0.052632</td>\n",
       "      <td>0.000000</td>\n",
       "      <td>0.000000</td>\n",
       "      <td>0.000000</td>\n",
       "      <td>0.000000</td>\n",
       "      <td>0.0</td>\n",
       "      <td>0.0</td>\n",
       "      <td>0.0</td>\n",
       "    </tr>\n",
       "    <tr>\n",
       "      <th>142</th>\n",
       "      <td>0.000000</td>\n",
       "      <td>0.157895</td>\n",
       "      <td>0.052632</td>\n",
       "      <td>0.000000</td>\n",
       "      <td>0.000000</td>\n",
       "      <td>0.0</td>\n",
       "      <td>0.0</td>\n",
       "      <td>0.0</td>\n",
       "    </tr>\n",
       "    <tr>\n",
       "      <th>144</th>\n",
       "      <td>0.000000</td>\n",
       "      <td>0.052632</td>\n",
       "      <td>0.000000</td>\n",
       "      <td>0.000000</td>\n",
       "      <td>0.000000</td>\n",
       "      <td>0.0</td>\n",
       "      <td>0.0</td>\n",
       "      <td>0.0</td>\n",
       "    </tr>\n",
       "    <tr>\n",
       "      <th>163</th>\n",
       "      <td>0.000000</td>\n",
       "      <td>0.052632</td>\n",
       "      <td>0.000000</td>\n",
       "      <td>0.000000</td>\n",
       "      <td>0.000000</td>\n",
       "      <td>0.0</td>\n",
       "      <td>0.0</td>\n",
       "      <td>0.0</td>\n",
       "    </tr>\n",
       "    <tr>\n",
       "      <th>164</th>\n",
       "      <td>0.000000</td>\n",
       "      <td>0.000000</td>\n",
       "      <td>0.105263</td>\n",
       "      <td>0.000000</td>\n",
       "      <td>0.000000</td>\n",
       "      <td>0.0</td>\n",
       "      <td>0.0</td>\n",
       "      <td>0.0</td>\n",
       "    </tr>\n",
       "    <tr>\n",
       "      <th>165</th>\n",
       "      <td>0.263158</td>\n",
       "      <td>0.000000</td>\n",
       "      <td>0.000000</td>\n",
       "      <td>0.000000</td>\n",
       "      <td>0.000000</td>\n",
       "      <td>0.0</td>\n",
       "      <td>0.0</td>\n",
       "      <td>0.0</td>\n",
       "    </tr>\n",
       "    <tr>\n",
       "      <th>166</th>\n",
       "      <td>0.263158</td>\n",
       "      <td>0.684211</td>\n",
       "      <td>0.157895</td>\n",
       "      <td>0.000000</td>\n",
       "      <td>0.000000</td>\n",
       "      <td>0.0</td>\n",
       "      <td>0.0</td>\n",
       "      <td>0.0</td>\n",
       "    </tr>\n",
       "    <tr>\n",
       "      <th>189</th>\n",
       "      <td>0.473684</td>\n",
       "      <td>0.157895</td>\n",
       "      <td>0.052632</td>\n",
       "      <td>0.000000</td>\n",
       "      <td>0.000000</td>\n",
       "      <td>0.0</td>\n",
       "      <td>0.0</td>\n",
       "      <td>0.0</td>\n",
       "    </tr>\n",
       "    <tr>\n",
       "      <th>190</th>\n",
       "      <td>0.000000</td>\n",
       "      <td>0.105263</td>\n",
       "      <td>0.000000</td>\n",
       "      <td>0.000000</td>\n",
       "      <td>0.000000</td>\n",
       "      <td>0.0</td>\n",
       "      <td>0.0</td>\n",
       "      <td>0.0</td>\n",
       "    </tr>\n",
       "  </tbody>\n",
       "</table>\n",
       "</div>"
      ],
      "text/plain": [
       "     hydrophobic     hbond  waterbridge  saltbridge  pistacking  pication  \\\n",
       "25      0.105263  0.105263     0.000000    0.000000    0.000000       0.0   \n",
       "41      0.105263  0.157895     0.000000    0.052632    0.473684       0.0   \n",
       "45      0.000000  0.052632     0.000000    0.000000    0.000000       0.0   \n",
       "49      0.052632  0.000000     0.000000    0.000000    0.000000       0.0   \n",
       "142     0.000000  0.157895     0.052632    0.000000    0.000000       0.0   \n",
       "144     0.000000  0.052632     0.000000    0.000000    0.000000       0.0   \n",
       "163     0.000000  0.052632     0.000000    0.000000    0.000000       0.0   \n",
       "164     0.000000  0.000000     0.105263    0.000000    0.000000       0.0   \n",
       "165     0.263158  0.000000     0.000000    0.000000    0.000000       0.0   \n",
       "166     0.263158  0.684211     0.157895    0.000000    0.000000       0.0   \n",
       "189     0.473684  0.157895     0.052632    0.000000    0.000000       0.0   \n",
       "190     0.000000  0.105263     0.000000    0.000000    0.000000       0.0   \n",
       "\n",
       "     halogen  metal  \n",
       "25       0.0    0.0  \n",
       "41       0.0    0.0  \n",
       "45       0.0    0.0  \n",
       "49       0.0    0.0  \n",
       "142      0.0    0.0  \n",
       "144      0.0    0.0  \n",
       "163      0.0    0.0  \n",
       "164      0.0    0.0  \n",
       "165      0.0    0.0  \n",
       "166      0.0    0.0  \n",
       "189      0.0    0.0  \n",
       "190      0.0    0.0  "
      ]
     },
     "execution_count": 15,
     "metadata": {},
     "output_type": "execute_result"
    }
   ],
   "source": [
    "plotdata"
   ]
  },
  {
   "cell_type": "code",
   "execution_count": null,
   "metadata": {},
   "outputs": [],
   "source": []
  }
 ],
 "metadata": {
  "kernelspec": {
   "display_name": "Python 2",
   "language": "python",
   "name": "python2"
  },
  "language_info": {
   "codemirror_mode": {
    "name": "ipython",
    "version": 2
   },
   "file_extension": ".py",
   "mimetype": "text/x-python",
   "name": "python",
   "nbconvert_exporter": "python",
   "pygments_lexer": "ipython2",
   "version": "2.7.15"
  }
 },
 "nbformat": 4,
 "nbformat_minor": 2
}
