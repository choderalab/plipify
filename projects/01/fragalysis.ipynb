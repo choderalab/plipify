{
 "cells": [
  {
   "cell_type": "markdown",
   "metadata": {},
   "source": [
    "# Project 01: one protein against many ligands \n",
    "\n",
    "The purpose is to find interaction hotspots in a single target through the analysis of interactions found in a dataset of diverse small compounds.\n",
    "\n",
    "This was used in the prototype pipeline to elucidate hotspots in the sars-cov-19 protease, and we will refine it here against other datasets.\n",
    "\n",
    "The workflow itself consists of three steps:\n",
    "\n",
    "1. Obtaining and sanitizing the data\n",
    "2. Ingesting it in `plipify`\n",
    "3. Generating publication-worthy figures"
   ]
  },
  {
   "cell_type": "code",
   "execution_count": null,
   "metadata": {},
   "outputs": [],
   "source": [
    "%load_ext autoreload\n",
    "%autoreload 2"
   ]
  },
  {
   "cell_type": "code",
   "execution_count": 1,
   "metadata": {},
   "outputs": [
    {
     "output_type": "stream",
     "name": "stdout",
     "text": [
      "Downloadable targets: NUDT7A ATAD BRD1A DCP2B FAM83BA MURD NUDT4A OXA10OTA PARP14A PHIPA PTP1B SMTGR ACVR1A ATAD2A CAMK1DA DCLRE1AA FALZA HAO1A MUREECA NUDT21A NUDT4 NUDT5A NUDT7A_CRUDE smTGRNEW STAG1A TBXTA VIM2 XX02KALRNA TNCA ALAS2A EPB41L3A mArh INPP5DA nsp13 Mac1 Mpro NSP15_B MUREECOLI PGN_RS02895PGA\n"
     ]
    }
   ],
   "source": [
    "import requests\n",
    "r = requests.get(f\"https://fragalysis.diamond.ac.uk/api/targets/?format=json\")\n",
    "r.raise_for_status()\n",
    "targets = [t[\"title\"] for t in r.json()[\"results\"] if t[\"zip_archive\"]]\n",
    "print(\"Downloadable targets:\", *targets)"
   ]
  },
  {
   "cell_type": "code",
   "execution_count": 2,
   "metadata": {},
   "outputs": [],
   "source": [
    "from pathlib import Path\n",
    "\n",
    "TARGET = \"Mpro\"  # other options, see above\n",
    "\n",
    "HERE = Path(_dh[-1])\n",
    "DATA = HERE / \"data\" / TARGET\n",
    "OUT = HERE / \"output\" / TARGET\n",
    "DATA.mkdir(exist_ok=True, parents=True)\n",
    "OUT.mkdir(exist_ok=True, parents=True)"
   ]
  },
  {
   "cell_type": "markdown",
   "metadata": {},
   "source": [
    "## Obtaining and sanitizing the data\n",
    "\n",
    "We will be using data from [_Fragalysis_](), a XRC platform that generates structures for ligand collections against a given target. API endpoint is described [here](https://fragalysis.diamond.ac.uk/api/?format=api), but in short, it seems that you can download a full featured zip file using this URL: `https://fragalysis.diamond.ac.uk/media/targets/$TARGETNAME.zip`."
   ]
  },
  {
   "cell_type": "code",
   "execution_count": 3,
   "metadata": {},
   "outputs": [],
   "source": [
    "r = requests.get(f\"https://fragalysis.diamond.ac.uk/api/targets/?format=json&title={TARGET}\")\n",
    "r.raise_for_status()\n",
    "target = r.json()[\"results\"][0]\n",
    "\n",
    "if target[\"zip_archive\"] is None:\n",
    "    raise ValueError(f\"Target {TARGET} is not downloadable\")"
   ]
  },
  {
   "cell_type": "code",
   "execution_count": 4,
   "metadata": {},
   "outputs": [
    {
     "output_type": "execute_result",
     "data": {
      "text/plain": [
       "        crystal_name RealCrystalName  \\\n",
       "1     Mpro-x11271_0A     Mpro-x11271   \n",
       "2     Mpro-x11041_0A     Mpro-x11041   \n",
       "3      Mpro-x1002_0A      Mpro-x1002   \n",
       "4     Mpro-x10155_0A     Mpro-x10155   \n",
       "6      Mpro-x1101_1A      Mpro-x1101   \n",
       "...              ...             ...   \n",
       "1175   Mpro-P0039_0B      Mpro-P0039   \n",
       "1176  Mpro-x10535_0A     Mpro-x10535   \n",
       "1177   Mpro-P0240_0A      Mpro-P0240   \n",
       "1178  Mpro-x12716_0A     Mpro-x12716   \n",
       "1179   Mpro-P0039_0A      Mpro-P0039   \n",
       "\n",
       "                                                 smiles  \\\n",
       "1                COC=1C=C(Cl)C=C(CC(=O)NC=2C=NC=CC2C)C1   \n",
       "2                 CN(C(=O)CC=1C=CC=C(Cl)C1)C=2C=NC=CC2C   \n",
       "3                                          OC=1C=CC=CN1   \n",
       "4                   CC(N1CCN(Cc2cnc(Cc3ccccc3)s2)CC1)=O   \n",
       "6                         CC(C)N(C)C=1N=CN=C2N(C)N=CC12   \n",
       "...                                                 ...   \n",
       "1175  NC[C@]1(CCOC=2C=CC(Cl)=CC21)C(=O)NC=3C=NC=C4C=...   \n",
       "1176       Cl.ClC=1C=CC=C(C1)N2C(=O)NC(C2=O)C=3C=CC=NC3   \n",
       "1177     ClC=1C=CC=2CNCC(C(=O)NC=3C=NC=C4C=CC=CC34)C2C1   \n",
       "1178  Cl.Cl.NC[C@]1(CCOC=2C=CC(Cl)=CC21)C(=O)NC=3C=N...   \n",
       "1179  NC[C@]1(CCOC=2C=CC(Cl)=CC21)C(=O)NC=3C=NC=C4C=...   \n",
       "\n",
       "                                             new_smiles       alternate_name  \\\n",
       "1                                                   NaN   MAT-POS-c9973a83-1   \n",
       "2                                                   NaN  JAN-GHE-83b26c96-15   \n",
       "3                                                   NaN  AAR-POS-0daf6b7e-37   \n",
       "4                   CC(N1CCN(Cc2cnc(Cc3ccccc3)s2)CC1)=O  MED-COV-4280ac29-25   \n",
       "6                                                   NaN  AAR-POS-0daf6b7e-40   \n",
       "...                                                 ...                  ...   \n",
       "1175  NC[C@]1(CCOC=2C=CC(Cl)=CC21)C(=O)NC=3C=NC=C4C=...   EDG-MED-971238d3-5   \n",
       "1176          ClC=1C=CC=C(C1)N2C(=O)NC(C2=O)C=3C=CC=NC3  JAN-GHE-83b26c96-18   \n",
       "1177     ClC=1C=CC=2CNCC(C(=O)NC=3C=NC=C4C=CC=CC34)C2C1   BEN-DND-f2e727cd-5   \n",
       "1178  NC[C@]1(CCOC=2C=CC(Cl)=CC21)C(=O)NC=3C=NC=C4C=...   EDG-MED-971238d3-5   \n",
       "1179  NC[C@]1(CCOC=2C=CC(Cl)=CC21)C(=O)NC=3C=NC=C4C=...   EDG-MED-971238d3-5   \n",
       "\n",
       "                        site_name pdb_entry  \\\n",
       "1              Aminopyridine-like       NaN   \n",
       "2              Aminopyridine-like       NaN   \n",
       "3     XChem Screen - xtal contact      5RF4   \n",
       "4                 Chloroacetamide       NaN   \n",
       "6     XChem Screen - xtal contact      5RGR   \n",
       "...                           ...       ...   \n",
       "1175                 Isoquinoline       NaN   \n",
       "1176           Aminopyridine-like       NaN   \n",
       "1177                 Isoquinoline       NaN   \n",
       "1178                 Isoquinoline       NaN   \n",
       "1179                 Isoquinoline       NaN   \n",
       "\n",
       "                                                  ROMol  \n",
       "1     <img data-content=\"rdkit/molecule\" src=\"data:i...  \n",
       "2     <img data-content=\"rdkit/molecule\" src=\"data:i...  \n",
       "3     <img data-content=\"rdkit/molecule\" src=\"data:i...  \n",
       "4     <img data-content=\"rdkit/molecule\" src=\"data:i...  \n",
       "6     <img data-content=\"rdkit/molecule\" src=\"data:i...  \n",
       "...                                                 ...  \n",
       "1175  <img data-content=\"rdkit/molecule\" src=\"data:i...  \n",
       "1176  <img data-content=\"rdkit/molecule\" src=\"data:i...  \n",
       "1177  <img data-content=\"rdkit/molecule\" src=\"data:i...  \n",
       "1178  <img data-content=\"rdkit/molecule\" src=\"data:i...  \n",
       "1179  <img data-content=\"rdkit/molecule\" src=\"data:i...  \n",
       "\n",
       "[493 rows x 8 columns]"
      ],
      "text/html": "<div>\n<style scoped>\n    .dataframe tbody tr th:only-of-type {\n        vertical-align: middle;\n    }\n\n    .dataframe tbody tr th {\n        vertical-align: top;\n    }\n\n    .dataframe thead th {\n        text-align: right;\n    }\n</style>\n<table border=\"1\" class=\"dataframe\">\n  <thead>\n    <tr style=\"text-align: right;\">\n      <th></th>\n      <th>crystal_name</th>\n      <th>RealCrystalName</th>\n      <th>smiles</th>\n      <th>new_smiles</th>\n      <th>alternate_name</th>\n      <th>site_name</th>\n      <th>pdb_entry</th>\n      <th>ROMol</th>\n    </tr>\n  </thead>\n  <tbody>\n    <tr>\n      <th>1</th>\n      <td>Mpro-x11271_0A</td>\n      <td>Mpro-x11271</td>\n      <td>COC=1C=C(Cl)C=C(CC(=O)NC=2C=NC=CC2C)C1</td>\n      <td>NaN</td>\n      <td>MAT-POS-c9973a83-1</td>\n      <td>Aminopyridine-like</td>\n      <td>NaN</td>\n      <td><img data-content=\"rdkit/molecule\" src=\"data:image/png;base64,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\" alt=\"Mol\"/></td>\n    </tr>\n    <tr>\n      <th>2</th>\n      <td>Mpro-x11041_0A</td>\n      <td>Mpro-x11041</td>\n      <td>CN(C(=O)CC=1C=CC=C(Cl)C1)C=2C=NC=CC2C</td>\n      <td>NaN</td>\n      <td>JAN-GHE-83b26c96-15</td>\n      <td>Aminopyridine-like</td>\n      <td>NaN</td>\n      <td><img data-content=\"rdkit/molecule\" src=\"data:image/png;base64,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\" alt=\"Mol\"/></td>\n    </tr>\n    <tr>\n      <th>3</th>\n      <td>Mpro-x1002_0A</td>\n      <td>Mpro-x1002</td>\n      <td>OC=1C=CC=CN1</td>\n      <td>NaN</td>\n      <td>AAR-POS-0daf6b7e-37</td>\n      <td>XChem Screen - xtal contact</td>\n      <td>5RF4</td>\n      <td><img data-content=\"rdkit/molecule\" src=\"data:image/png;base64,iVBORw0KGgoAAAANSUhEUgAAAMgAAADICAIAAAAiOjnJAAAABmJLR0QA/wD/AP+gvaeTAAARKklEQVR4nO3deVRUZR8H8O9lEVBAUVSEyETNMuSYpGmaLWpZvprHFJc45fJ69GCIC4rGMSPLhfBAauZa4nE5prmbSeabW5pbaoqae6ksAubCojDze/+4NOXCne0+c+fO/D6Hfxie89zfcL5z586dZ5GICIypzUPrAphr4mAxIThYTAgOFhOCg8WE4GAxIThYTAgOFhOCg8WE4GAxIThYTAgOFhOCg8WE4GAxIThYTAgOFhOCg8WE4GAxIThYTAgOFhOCg8WE4GAxIThYTAgOFhOCg8WE4GAxIThYTAgOFhOCg8WE4GAxIThYTAgOFhOCg8WE4GAxIThYTAgOFhOCg8WE4GAxIThYTAgOFhOCg8WE4GAxIThYTAgOFhOCg8WE4GAxIThYTAgOFhPCS+sCNFNSgi1bAKB1azzxxIN/PXwYFy6gVSs0buzwylyC+56xrl9HTEzlj9H44F/nz0dMDLZt06Iyl+C+wTI5eBALF2pdhMtx92AFB6NGDUyciLw8rUtxLe4erKAgjB6NGzcwdqzWpbgWdw8WgKQkhIZi+XJs3651KS6EgwV/f0yfDgBxcSgr07oaV+G42w35+fmDBg2yv5+QkMzc3GA7O+nTB6+88s+vsbFYsAB79mDGDEyebGffDHBYsFavXh0fH5+nxhVyVFS148ft7SQy8r5gSRK++ALR0Zg+HQMGoGlTe/tnjghWaWnp+PHj8/Ly4uPjX3/9dTt78/aWysvtLenh255RUYiPR3o6Ro/G5s329s8cEazPPvvs0qVLLVu2TE9P9/T0dMARLXH58oOPpKTgm2+wZQu2btWiINci/OL96tWrqampADIyMpwnVY8UEIC0NAAYMwYVFVpXo3PCgzV+/Pji4uKYmJiXXnpJ9LHs168fOnfG6dPYsEHrUnRObLD27du3cuVKPz+/GTNmCD2QiubOhY8Pioq0rkPnBAbLaDSOGjWKiBITE594ePyAs2ralO/Cq0BgsDIzMw8cOBAWFpaUlCTuKDbz8kJEBMLDH/Gn5GS0aYOICAQGOrwsVyERkYh+b9++3axZs5ycnGXLlr3zzjsiDuEABQUItvderJsSdcb69NNPc3Jy2rVrN2DAAEGHEIoICQlo2BDnzmldij4JuY914cKFjIwMDw+PjIwMSZIUWt64cSM0NNSqziMjc0+cqGl5+1GjMG2aVUcAAEnCnTsoKcHYsfwJ0SYkQM+ePQEMHDjQbMvCwkJrC46KugmQ5T9jx9r4LPLyqGZNAmjrVht7cGfqX2Pt2LGjU6dO/v7+Z86cseRsVFpaalX/kuRDZMU7uLc3vGw9L6emIikJTz+NY8fg7W1jJ25K3ZxWVFS0aNECwLRp09TtWRN379KTTxJAs2ZpXYreqBys2bNnA4iIiCgtLVW3Z62sX08ABQXR9etal6IragarqKgoODgYwLp161TsVnOvv04AjRihdR26omaw4uPjAbz66qsq9ukMsrPJ25s8PenYMa1L0Q/VgpWdne3t7e3p6XnMFf/98fEEkMu9ZARSLVjyCL4RLvqGUVREwcEEkGu9yQukTrDWr18PICgo6LrrXuLOmUMARUSQq3wsEUuFYN29e/fJJ58EMMulP5RXVFCLFgSQS9xIEU6FYMljrZ5++ul79+7Z35sz+/FHAsjfn65e1boUp2dvsPLy8mrWrAlgq3t88dGzJwFkwZdV7s7eYA0ePBhAjx49VKnG+Z0/T76+JEn0yy9al+Lc7ArWkSNHPDw8qlWrdubMGbUKcn4TJhBAbduS0ah1KU7MrvFYCQkJ8vhj+eLdTSQnIzQU+/djxQqtS3FmNkdyxYoVAOrVq/fXX3+pmHRd+PprAigsjO7c0boUZ2XjGau0tHTixIkApk6dKl+8u5V330Xr1igowPz5J7SuxVnZlsfJkycDePbZZw0Gg7pJ14v9++80bPiqn5/fxYsXta7FGdkSrD///LNGjRoAdu7cqXpBOiJPEunTp4/WhTgjW4LVt29fAP3791e9Gn25cuWK/AL76aeftK7F6VgdrL1790qS5Ofnd+nSJREF6UtKSgqAli1bVlRUaF2Lc7EuWAaDoXXr1gAmT54sph6dKSkpkSd5z58/X+tanIt1wVq4cCGAxx577A5/zv7bqlWrANStW/fGjRta1+JErAjWrVu3GjRoAGDlypXiCtIjeSGdMWPGaF2IE7EiWImJiQBeeOEFI3+Xcb9ff/3V09PT29v79OnTWtfiLCwN1rlz53x8fDw8PA4cOCC0IJ0aOnQogG7dumldiLOwNFjdu3cHMGTIEKHV6FdeXl6tWrUAfPfdd1rX4hQsCtb27dsBBAQEXLt2TXRB+pWWlgbgqaeecvkBj5YwH6zy8vLIyEgAqampDihIv+7du9esWTMA6enpWteiqKiI0tLotdeoeXNq0oSef55GjqSHr3DefJO6dqXbtx/Rw5Ur1LUrKd4hNx+sjIwMAI0bNy4rK7Oiere0adMmALVq1crPz9e6lips3kxBQQSQJFFYGEVEkI9P5a///S/9+1wrSQRQYeEjOjl9mgCqV0/hOGaCVVhYWKdOHQAbN2605Wm4nzfeeAPA8OHDtS7kUXbvJi8vAigujq5cqXywtJSWLqU6dQigQYP+aSw0WHFxcQA6depk5TNwX6dOnZIn7h49elTrWu5nMFSucDJhwiP+euRI5anrf/+rfERcsE6ePOnl5eXl5XX8+HFLq2dECQkJAF555RWtC7nftm0EUHAwVXVJI0/3fvvtyl/FBeu1114DMHLkSMsKZ5VMi6OsWbNG61r+JSnJzASj3bsJoDp1Kgfz2xesKpckW7t2bVZWVu3atT/88EOVxxa6uqCgoI8//jguLm7MmDGhoaHVqlWzp7fmHh5+D+9ZbRUfH0RG4tQpAIiMrLJZVBQAFBYiPx/161c+uHcvAgIebPnnn+YPWlXiFixY4OvrO2XKFItfEewfFRUV4eHhdevWtSUH9/tVvjCy5+fxx4mIOnYkgBYtUqpbvrTPzib6+4yl8GPbGSs7O7usrOzkyZOWPHmj0ejh4S57alryZHNzcwsLC0tLS5s3b+7r62vP4aqHhsLf354e0KABgMoFMw2GKpsZjZV/9fH558EPP4Sf34MtCwowc6aZg1aVuD/++KN69eqSJO3atUshmNeuXYuNjX3vvfeUXgcuJCcnJyIiYt68ecrNnHHUcp8+BJDCW1BOTuWpSJ52Je7iXb66Up4xceHCBV9fX0mS9u/fr9CVyxg4cCCAnj17KrT5+eefJUny9fV1rnkWU6cSQG+9VWWDjRsr19ORiQtWSUlJw4YNASxevFihmTwPrG3bti4/nObw4cPyzO/ff/+9qjYGg6FNmzYAJk2a5MjazDt6lADy9aWqvhV4+20CyHQTQOgN0uXLl8PcrNTbt2/Ly24vXbpUuTddMxqNL774IoCkpCSFZl9//TWAsLAwZxxk27kzAdSrFz08Qn/tWpIk8vGhs2crHxEaLAv/m0uWLAEQEhJy8+ZN5Q71a9myZQDq169vyWts2bJljqzNUhcuVC5M2LEjZWXRrVt07x6dOkVJSeTt/eCy40KDRf86/yus/GE0Gp9//nkAycnJZjvUo5KSkscffxzAV199pdBswoQJzn5VcPo0RUc/4t5BrVq0cOF9LUUHi4gGDRoE4C2F6z6iffv2SZLk4+Nz1nQudSGTJk0C0KpVK4XPMefPn5c/x/zi5EscGQy0bRslJlLv3vSf/9CQIbRoERUUPNjs448pJeXRC2MWFFBKCs2cqXAQi4KVm5srL9Dw/fffKzSLjY0F0Lt3b0v61BEL77xYvoOQO7B0aPL06dMBNG/eXGF45JUrV/z9/QFkZWWpVJ5TiImJATBgwACFNj/++CMAf3//q7yMJBFZHqy7d+82bdoUwOzZsxWaTZkyBcAzzzxTXl6uRnna27Nnj9mZ3xUVFVFRUQCmTp3qyNqcmRXTv9atWwdza26XlpbKM4PN3pvWBYPB8NxzzwFISUlRaDZnzhy41g5C9rNuJrS8S8D777+v0Oabb74BULt27cJHfqDQlQULFgAIDw8vLi6uqo1pkMzatWsdWZuTsy5YJ0+elIdHKg/9e/nllwGMHj3avto0duvWrZCQEACrVq1SaOaqOwjZyerVZkaMGGH2/3j06FFPT08vL68TJ07YUZvGxo4dC3Mzv117ByF7WB2soqIieXrF+vXrFZoNGzYMQOfOne2oTUtnz56VZ34fPHhQoVnXrl0BxMXFOawwvbBl4bVZs2bJ16oKE8Ly8/PlmcFbtmyxozzNdOvWDcDQoUMV2mzYsMHspxm3ZUuwTPvzTp8+XaHZzJkzATRp0kR3ExJ/+OEHAAEBATk5OVW1Me0g9PnnnzuyNr2wcXFb+X6g8qR708zgmYr3/p2NaeZ3WlqaQrPU1FS4xw5CtrF9nfcePXoAGDx4sEKbrKwsAIGBgQovfWeTnp4OczO/3W0HIRvYHizTwkbK37nKM4OHDRtm84EcyTTze9OmTQrNhgwZAqB79+4OK0x37NpLZ/z48QDatWun8IH87Nmz1apV8/DwOHTokD3Hcozhw4eb/TDrnjsIWcuuYJkWj1y+fLlCs9GjRwNo3769845SIiKiEydOyDO/f/vtN4VmHTt2BDBu3DiHFaZH9m4rt3jxYrMjcW/evCnfwl69erWdhxOqS5cuABISEhTarFy50uxYbUb2B8vCBbrnzZtn9ks3ba1Zs0b+irPg4SFvfzPNLlmkPO2TqbJ1rzzbSXlXGYPBEB0dDcA5p1aXlZU1adIEwNy5cxWamXYQ4u0CzFJnF/v+/fsD6Nu3r0Kb3bt3S5JUvXr1y5cvq3JQFX3yySdmh5HxDkJWUSdYFv7Te/fuDSA2NlaVg6olNzc3MDDQ7MDXfv36AejXr5/DCtM1dYJFRB999JHZtwnT4PHdu3erdVz7vfvuuwB69eql0Mb0ds87CFlItWCZLmwXPjCL6H7JyckAoqOjnWSjw0OHDlkyuZl3ELKWasEiyz6KFxcXyxP0lixZouKhbWM0Gtu3bw/ggw8+UGi2aNEi8A5CVlIzWPT3zcPExESFNkuXLpWnFGs+bTozM9NsJaabwCtWrHBkbXqncrCOHDni6elpdtp0hw4dAEycOFHdo1uluLg4PDwcQGZmpkKzcePGmf3aij1M5WCRZV/Q7t+/X5KkDh06aHiltWvXrsDAwDZt2ijUwDsI2Uz9YFk4pGTnzp2aX7/n5OScOnVKoYElQ4PYI6kfLHKVQXC8g5A9hATLNGw3IyNDRP8OUF5eLg+/njFjhta16JKQYBHRxo0bdT3RQJ4wwjsI2UxUsEjPU6NMU9w2bNigdS16JTBY+p3MacmkXKZMYLCIaOTIkXDCXWUUyTsImV1GgCkTGyzTghnffvut0AOpSN5BKD4+XutC9E1ssIjoiy++ANCoUSNdLPFjWqpJYRwps4TwYOloUTLT4nJz5szRuhbdEx4s0s8yitOmTTO7HCazkEREEK9Xr17r1q1r1KiRfPZyQuXl5Tt27CgrK8vKypKn6zB7VLn7l7rS0tJCQkK+/PLLixcvOuaINujSpUt0dDSnShUOOmMBqKio2Lx5s2OOZZvw8HB5KhGzn+OCxdyKu+xeyRyMg8WE4GAxIThYTAgOFhOCg8WE4GAxIThYTAgOFhOCg8WE4GAxIThYTAgOFhOCg8WE4GAxIThYTAgOFhOCg8WE4GAxIThYTAgOFhOCg8WE4GAxIThYTAgOFhOCg8WE4GAxIThYTAgOFhOCg8WE4GAxIThYTAgOFhOCg8WE4GAxIThYTAgOFhOCg8WE4GAxIThYTAgOFhOCg8WE4GAxIThYTAgOFhOCg8WE4GAxIf4Pugkz4sy84GsAAAClelRYdHJka2l0UEtMIHJka2l0IDIwMjEuMDMuMwAAeJx7v2/tPQYg4AFiRgYIYIfiBkYOhgwgzczIyOagAWKwsDmABZgZ8TDYIWqZuRkYFRiZMpiYmBOYWTKYWFgTWNkymBjZEkQY2RjZWFmYmcRhNjKwe05Scdiee1sVxJmk0mmv6jlpCYgNpOweui3bD2Ln3Z62H8H+tt9iKZcqkrg9knowWwwAG7MnlvvGPm0AAACxelRYdE1PTCByZGtpdCAyMDIxLjAzLjMAAHicpZJBDgIhDEX3nOJfQFIYBuxaXBnHxIV3cO/9YykOToImk5mmgf9JeWkKBiXu+fJ8oYXPxgBJk34mM+PhichovR2TC0WRlTNaqBv+IZapFGepUg4d5bSeQnbwleKsZ95GkbsuHeN+Cnul9HPZ0gt29PKdS0+Z1lKcPLWuxYgagFBNVR8j29iMqNhM1C8VGmA2V+A8ZfMGS25kmgJ0OfAAAAB6elRYdFNNSUxFUyByZGtpdCAyMDIxLjAzLjMAAHicVczLCYBADATQVjwqZEMmyf7YIixCvFqBxbsqLjin4THMumHrOTCds3LMcCPjIsnLHpCogeXBkNjcYV0zNWFTuFYKYK1VnFpvyCXmP1W9qYtoTO/jGI7dePtkOS/5ZiAwYDYTJQAAAABJRU5ErkJggg==\" alt=\"Mol\"/></td>\n    </tr>\n    <tr>\n      <th>4</th>\n      <td>Mpro-x10155_0A</td>\n      <td>Mpro-x10155</td>\n      <td>CC(N1CCN(Cc2cnc(Cc3ccccc3)s2)CC1)=O</td>\n      <td>CC(N1CCN(Cc2cnc(Cc3ccccc3)s2)CC1)=O</td>\n      <td>MED-COV-4280ac29-25</td>\n      <td>Chloroacetamide</td>\n      <td>NaN</td>\n      <td><img data-content=\"rdkit/molecule\" src=\"data:image/png;base64,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\" alt=\"Mol\"/></td>\n    </tr>\n    <tr>\n      <th>6</th>\n      <td>Mpro-x1101_1A</td>\n      <td>Mpro-x1101</td>\n      <td>CC(C)N(C)C=1N=CN=C2N(C)N=CC12</td>\n      <td>NaN</td>\n      <td>AAR-POS-0daf6b7e-40</td>\n      <td>XChem Screen - xtal contact</td>\n      <td>5RGR</td>\n      <td><img data-content=\"rdkit/molecule\" src=\"data:image/png;base64,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\" alt=\"Mol\"/></td>\n    </tr>\n    <tr>\n      <th>...</th>\n      <td>...</td>\n      <td>...</td>\n      <td>...</td>\n      <td>...</td>\n      <td>...</td>\n      <td>...</td>\n      <td>...</td>\n      <td>...</td>\n    </tr>\n    <tr>\n      <th>1175</th>\n      <td>Mpro-P0039_0B</td>\n      <td>Mpro-P0039</td>\n      <td>NC[C@]1(CCOC=2C=CC(Cl)=CC21)C(=O)NC=3C=NC=C4C=...</td>\n      <td>NC[C@]1(CCOC=2C=CC(Cl)=CC21)C(=O)NC=3C=NC=C4C=...</td>\n      <td>EDG-MED-971238d3-5</td>\n      <td>Isoquinoline</td>\n      <td>NaN</td>\n      <td><img data-content=\"rdkit/molecule\" src=\"data:image/png;base64,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\" alt=\"Mol\"/></td>\n    </tr>\n    <tr>\n      <th>1176</th>\n      <td>Mpro-x10535_0A</td>\n      <td>Mpro-x10535</td>\n      <td>Cl.ClC=1C=CC=C(C1)N2C(=O)NC(C2=O)C=3C=CC=NC3</td>\n      <td>ClC=1C=CC=C(C1)N2C(=O)NC(C2=O)C=3C=CC=NC3</td>\n      <td>JAN-GHE-83b26c96-18</td>\n      <td>Aminopyridine-like</td>\n      <td>NaN</td>\n      <td><img data-content=\"rdkit/molecule\" src=\"data:image/png;base64,iVBORw0KGgoAAAANSUhEUgAAAMgAAADICAIAAAAiOjnJAAAABmJLR0QA/wD/AP+gvaeTAAAcM0lEQVR4nO2de1xUZf7HPzPDTRBEIkAUwwuKoERoGV4gDW+pZayYmdd0MctL5s/F6tWyZeXsZuXututryjTr5Y28FF3UHc0NkdhCklAEFUXwgnIfBhhiZr6/Px46TshlgHNmYOZ5v3r1mnM8nOcLvHme5zyX75ERETgcsZFbOwCObcLF4kgCF4sjCVwsjiRwsTiSwMXiSAIXiyMJXCyOJHCxOJLAxeJIAheLIwlcLI4kcLE4ksDF4kgCF4sjCVwsjiRwsTiSwMXiSAIXiyMJXCyOJHCxOJLAxeJIAheLIwlcLI4kcLE4ksDF4kgCF4sjCVwsjiRwsTiSwMXiSAIXiyMJXCyOJHCxOJLAxeJIgp2KpTPqqgxVwmGpvlRPeva58NdC9k/1VP/qjVetE1/3x07F+rLqy5euvSQcTs+fnlefl6JNGXpu6HOFz029NHX25dk6o25vxV4rBtmtcbB2AF2FemP9/IL5nw/4fLTbaADZddlye/2rEwX7FavWWHu94Tr73EANefV5fRz7MKsAjOgxotpQbb3ouj32K1ZaTdoLhS+wzwX1BeX6cm8Hb+uGZEvYr1gx7jEf3/cx+zw6b7Svo+/V+qvWDcmW4N2IRoY6D5XJZEJvvVRfat14ujt2KpaTzMlV7iocusvdHWWOBwce/Lj04/Dz4SNzR75842WZTOYh97BikN0aGX/lCUcK7LTG4kgNF4sjCVwsjiRwsTiSwMXiSAIXiyMJXCyOJHCxOJJg62IdPYq4OERGYvFi5OdbOxo7wqYnoX/6CatWYd8+hIZCrcaECcjMhDdfwmAJbHpKZ/58TJqERYsaD198EQEBWLfOqjHZCzbdFObnIyTkzuHw4bh40XrR2Bc2LZaHB7TaO4caDTw9rReNfWHTYo0fj+Tkxs9ESE5GVJRVA7IjbLqPpdVi6lQMGYKwMBw9Cj8/7NgBvR7vvouAAMybZ+34bBmbFguAXo9Tp1BYiNBQREQAwKFDiI2FlxdycuDra+34bBZbF0ugvh5OTpDJAGDaNBw5gtmz8fnn1g7LZrHpPpZAejoeeADbtzceqlRwd8f+/ThwwKph2TL2Idblyzh/HuvW4do1AOjfH5s2AcDKlSgvt25otop9iDVvHmbNQlUVnnuu8cyKFYiKQnExHy+VCLvpY924geHDUVGBPXswdy4AXLiA8HDU1eHwYUydau34bA37qLEA+Pvjr38FgFWrcPs2AAwZgsREAFi+HNV8N73I2I1YAJYtw6RJKC3F2rWNZ9atw8iRVFl5/L33rBqZLUJ2xZUr1LMnAXToEDuhy8qKDAiQy+UnT560bmg2hj3VWAACA/HGGwDw/POorATgHBb26KJFRqNx6dKldXV1Vg7PlrC22RZHr6eHH746ZswbL77ITtTX14eGhgLYsGGDdUOzJexPLKKrOTnOzs4ymey7775jZ9LT0xUKhYODw08//WTd2GwGexSLiN544w0AgYGB1dXV7MzatWsBhIWF/frrr9aNzTawU7EaGhoiIiIAvPTSS+xMTU3N4MGDAWzcuNG6sdkGdioWEf3888+Ojo5yuTw1NZWdOXHihEwmc3JyOnv2rHVjswHsVywiSkhIABAcHFxXV8fO/PGPfwQwZ86cDt/z+ecpObnx86FD9MUXtGkTZWU1nikupt+eGWwcOxtu+D2vv/76sGHDcnNz3377bXZm+PDhjz/+eGxs7PHjx0+fPn3hwoUbN25oNBrz7/ntt/i//2NDGcjNRW4ufvihcagfgFaL48dF/i66Jja9/astnJ2dP/7443Hjxm3atCkqKmr37t07duwAkCwsaDbBw8MjPHxZcfG77u7w9ETPno3/mX5+6CEAePZZvPwytm618HfTtbBrsQBERkauWLFCpVJt3br14MGDgYGBkZGRWq1Wq9VqNJqqqqqamhqtVltdXa3RaGprXS9caO1ur70G/LZyIj39zvnERPzznwBQWyvlN9OVsJvVDS1TXV196dKl+fPn5+TkJCcnz5w5s9nLKisra2pQXe2p1aKyEtXVqKmBVouqKmg00Gqh1WLmTKxdi3PncPo01q5FbCwUCqSlYd48jB8PAFevYvly/PKLRb9Bq2DvNRYAd3d3nU6Xk5Pj6+s7teX1M56enuZsHmMT3OPHY/hw7N6NBQsA4J574O8PAPYzaWTXnXcB1rVavHixo6OjWPd8910UF4t1s+4HbwpRV1fn7+9fWVmZk5MzbNiwTt7t228xZQoUChDhwAEMH47btzFkCPz8AECrRUoKHntMhLC7OtYe77A+n3zyCYCxY8eKeE+DgQYOJJmMiotFvGt3gjeFje3gkiVLRLynXI4hQ0BkL6NWd2PvYl25ciUlJcXNzW3OnDni3nnSJABQq8W9a7fB3sXas+dbIoqLi3N3dxf3znYull133g0GDBgAZ+dzO3c6jRkTJO7NidC3L27eRE4OOv1I0P2wQo1VUlJSUVFh+XLvRq1GURFkstDISJGtAiCT4dFHG0uxQywklk6nO3bs2IYNG0aNGuXn5/fSSy898cQTOp3OMqW3xI4dALBkSWNKB9Gx59ZQwqaQiM6cOXPs2DG1Wp2amipsVejRo4dCodBqtTNnzty/f7+Tk5NEAbROeTn8/dHQgIICBARIUkRxMfz90bMnysog3shrN0H0AYybN28mJSXFx8f37dvXtKCBAweuXr1arVbX1dWdOXPG29sbwLRp04S1UBbm738ngB57TNpSQkMJoJQUaUvpgogjllarVavVCQkJI0eOlJm0K35+fnFxcSqV6vr1602+JCsri7k1depUq7gVHk4Aff65tKWsXUteXiWbN9vdktSOi6XX6zMyMpRKZUxMjGlz5ubmFhMTo1QqMzIyWr9DTk6On5+fVdw6fZoAuuce0umkLejIke/lcvnDDz8sbTFdj3aLlZ+fr1Kp4uLievfuLcikUChGjhyZkJCgVqvr6+ub/cKCgoIdO3YYDAbTk9Zya+VKAiyxSlir1To7OysUivLycskL60q0Q6xff/116dKlpt2m4ODgVatWffnllxqNptkvMW0i2ZecPn26yTWWd6u+nry9CaAzZyxQGkVHRwM4ePCgJQprgdTU1F27dk2ZMuXTTz+tra21QIntEGvhwoW+vr69evVi3aaCgoJmL2toaDh58mRiYuKYMWMcHO6s9/L09HzyySfvFouIzp8/b0m3yspo1SqaPFnqchrZuHEjgBUrVliovLv48MMPnZycnJ2d2S/Cw8NjwYIFarXaaDRKV2g7xGJPeS1tjRKaSNPlcKZNZOsbQQW3pkyZIpFbH3xAa9Y0fr5yhdaulaKQZkhPTwcQFBRkofJMaGhoYDuRACxevHj79u0xMTHC01VwcLBSqSyWZgGGuWKdPXsWgL+/v6nmJSUlbGThvvvuazKyEB8fn5SUVFlZaX4oUru1ahV5edGXXxIRZWfT+PGil9A8er3ey8sLwOXLly1UJBERlZaWTpw4EYCzs/P27duF8zk5OevXr2c/agCOjo6zZs1KTk5uaDC0crf2Yq5YW7ZsAbBw4ULTk4888ogg07333suayKtXr3Y4mvPnz/fp00cit1atok2baOhQ0motKhYRxcbGAvjoo48sVmJWVtaAAQNYXZCenn73BXq9Xq1Wx8XFsUWzAQED/P2Nq1ff2QLZScwVa8aMGQB27txpevL999+fPHnyO++8c+bMGbEabMGtyZMni9XN1GopP59WraK9e+m112j9ekuLtXXrVnRuH2y72Ldvn5ubG4DIyMgbN26Y/lNDQ0OTi4uLizdv3jxnzkcAsf/GjKGPPqIWnsfMxSyxGhoaPDw8ABQVFXWqNPMQxS2DgTIySKmkmBhydqaoqEaxamtpyBDas8eiYl26dAnAPffc02S0RXSMRqNSqWS9qGeeeabJT89gMAQFBc2YMSMpKeluwzIyaPVq8vJq1MvFheLiSK0mVmNs3UpCrXLuHH34YRuRmCXWyZMnAYSGhpr1zYlBh926fJlUKpo9+84PCCCFgsaNo5Urae9eIqKvv6agIBo/nmpqqLRUqm/BlLS0NBcXF29v77CwMJVKJaS4EReNRjNr1iwADg4OSqXy7gsyMjIUCgXrugQEBLz22mv5+flNrqmpoU8/pUceIZms8ac3eDC9/TbFxpKXF128SER05Ag99VQbwZglVmJiIoA1wjOVRcjNzTXTrfLy8gMHDiQklA8adEcmgAYNoueeo/37iY1NshqLMWsWjR9Pc+dSQAC1NUHQKbRa7Zo1a+RyOZuTYL9Ud3f3pUuXCslIROHixYshISGsXjx27FhLlxUVFb355pssrw4AmUw2YcKEpKSCmpqmVxYWklJJAwYQQOPHU2wsvfJK4xiNaGKNHTsWQLKQ7MJStOJWQ0ODMKHEup/R0f8DqGdPiomhLVvo7iewzEwqLGz8fPMmffUVPfQQAeTmRklJksSfkpIyZMgQVoUkJCRUVFQkJSWZPvAPGTIkMTGxM487jMOHD7NRnrCwMDOfPTMyMuLj43v27Nm7t5eLS52HBy1YcKfhEzAY6MgROnGCYmPp5EmaOZP27BFJLI1G4+jo6ODgUFVVZU7E4pKbm+vv7w9g0qRJtbW1Z8+eff/996dPn96zZ0/hgdTJyemRRx75+9+/+vFH0uvbcXOdjp59lgCSySghgUTs/1RWVsbHxzOBwsLCmiQKzMvLS0xMFMZo5HJ5TExMUlJSS7NhrbNlyxbWwM2cObO9v6Oqqqpdu05FRt6p5kNDafNmunWr6ZVMrMuXadAg2r9fDLFYhoxx48a1K2IREeZ8TGUCMGLEiLVr13777bdarbYz91epyNGRAJo2jSoqRAj466+/7tevHxsiSkhIaEkXg8GgVqsXLFjQo0cP9h317t07Pj7+559/NrOgurq6hQsXshYtISGhM08GOTm0fj35+TXq5ejYtMpnYhHRxo300ENiiLVmzRoAiYmJHY1ZBDIzM11dXT08PHx8fNhoWaHQqolBSgr5+BBAQUF07lzH71NeXh4fH88siYyMPGfevcrLy1Uq1QMPPCD8zYwcOXLLli2lrT5ZXLt27cEHH2R/b2JNROr1pFZTXByNHt30nwSx6utp6FAxxGJdQuumQT9y5AiA8PBw6YooLKRRowggd3chCXz7SEpKuvfeewG4uroqlUp9u1plIiI6e/ZsQkICW6YGwMXFJS4urtlJvdTUVFaLDx48WIr8g3eNRdDBgySMNaWl0RdftHGHNsS6fv26TCZzd3e3cMrXzZs3b9u2TZgRWr9+PYBXXnlF0kK1WpozhwAaObL0rbfeMn/I98aNG08++SSzISoq6sKFC50JQ6fTJSUlzZgxQxga6NevX0JCgtArV6lUbAHc5MmTLbwa54cfyNeXYmLavrINsXbu3Ml6heLEZR56vZ494wjtHWsmjh8/LnXRRiNt3qzz9h4CYPbs2W323oxG486dO9lUYK9evVQqlYhLBgoKCv7yl78EBgaa9vGFfDjr1q3rQKXYSfLzCaC+fdu+sg2xWN9wy5Yt4sRlHmlpaQCCg4PZYUlJiVwud3FxscxCIiI6fPgwW8Y4YsSIu4cQBS5fvhwTE8N+zdOnT5doWsJgMJw8eTI+Pp4Ng/Xt29fJyWnHjh1SlGVGMOTqSgC1ubqgDbHY042FswizJOwrV65kh3v27GHVviVjuHjxIntdhZeX13/+858m/2owGFQqFXtK9fHxaTKFKhEVFRVz584FMGvWLAsU1xL3308A/e9/bVzWmljNLpWxAFFRUQAO/daFXrZsGYC//e1vloyBiDQaDes5KRQK0xmSs2fPjh49mlVUcXFxt2/ftlhIJ06cADBmzBiLlXg3c+cSQJ980sZlrYnV7FIZqbl7kThb/pGZmWnJMBhsTpdNyDz99NNVVVVKpZItxezTp4/lVxvfvHkTgKenp3Dm0KFDSqVS6rltU15/nQBq87VDrYnFsnFapp4X+Oabb9ggEDu8ePEiLLIuoBUOHDjAWj32f5lMtnz5cqvMQxAR6/wJyz7ZlNeVK1csFsC+fQTQE0+0cVmLW+z1ev33338PgK1CtBjHjx8HIHSK1Wo1O2TVhuXRaDQffPBBdHR0cHDwlClTAgMDFy1aFB4eztYRWZ7g4GAA58+fZ4csBaFwaAFYgpO2C2zJOLZUJiQkRGTh2yIsLAzAf//7X3b4hz/8AZZde9mEq1evAujXr19dXV19fX12djaAgQMHWiueZ599FsC///1vdvjCCy8AeO+99ywWgE5HDg7k4NDGlswWq4Fjx44BmMTyWvzGtWvXJE0Uc+vWrezsbFdX14cffhiAwWBg3dVHWd4Wa1BdXQ3Aw8PDxcXFycmpoaEBgOjJtMynSRXVpAKzAM7OCAyEXo9Ll1q7rEWxWDsYGRkpnLl27dqECRMmTpxYVlYmXpy/gy0kio6OZh3kzMzM8vLywYMHs/67VWBiCSY1ObQ8TKzc3FzTQ0uKBWDKlOSwsBfy8g63ck2LYv3pT39ycnJ67733hDfJODo6Ojk5nTlzJiYmRiK3WupgSVGWmXRNsazYxwLg5nbql1/+fe5cRivXtChWaGhoQEDAjz/+OHHiRNb8+fr6fvfddyEhIdK5xdpfwaQmnlmFriZWYGBgjx49rl+/zv7g/f39PT09y8rKSkpKLBaDOTa3KFb//v1PnDgxaNCg06dPT5o0qVm3SktLRQw3Ly+vqKjIx8dnxIgRAHQ6XVpamkKhmDBhgoiltJdmxbLWIyEAuVzO9r7m5eWxM0OHDoWlHwx/1xw3S2vP8AEBAaZulZeXQ0q3hIaPLbxMSUnR6XQRERFsitdadLUaC12gNRw2bJhMJsvLyzMajS1d08bgUOtuZWVliehWk4avSbNoLbqLWK3XH+Li4eHRp0+f2trawsLClq5pe9RRcCszM1M6twwGA3sO5WK1idVHHMwp1Kzh7FbcCg0NFcUtItq1a9ebb74ZEBAAoKysLCsry8XFxXS8wyrMcHH5bPz4KF9fdjhQoXj0vvv6m+QGszxWbwrNKtT8IdfCwsJBgwYBiIiIKCsrYyeLi4vZ8pL777+/pKSkw+O5Tdi7dy8svlSmeRYtIoCE9U9PP00A7dplxYh0Op1CoXBwcNDpdESk1+tdXFxkMplE+2CJKDU1dfPmzaZnPvjgAwDLli1r6UvaMQHH6q3BgwdLV28JdJF2EADYMJ7Q9lVX/+7QGjg7Ow8YMECv1+fn5wNQKBSDBw8mk+dEcdm2bdvEiRPXr1/PZkEYbbe/7ZW3qKiI7aN94IEHhHrr1q1brN4KCwsTpd6y4lKZpsTEEEBHjzYeRkcTQCdOWDOk3xae7N+/nx3GxcUB+Oyzz8QtxTS9Vnx8vLDvgaVS79Wr17Zt21r62o4kt23WrZs3b7J2NywsrKKj2/OMRuOZM2c2bNgAay+VucPo0QRQWlrjYUQEAdJuyzcDtrtk48aN7PDPf/4zgFdffVXEIlpKr3X58mW2UMDT0/PUqVMtfXkHsyabuiVsf7t169bw4cMXL17cXiGKi4tZAje2EhpARESEdZN23iEkhADKzm48DAoigPLyrBoTbd++HcC8efPY4f79+4cPH/7OO++Idf+W0mulpKT4+PgACAoKysnJaeUOHU/HLVRRpm6VlZWZaVV1dfVXX321evVqtm9RICAgYMmSJUkSZVPoAAEBBJCQXsHXlwD6fdIpy/PDDz+wn7wUN09KSmIbNyIiIkw3BqtUKpYmY9q0aW02Sp16gUCzbrWCaWp4Idcqfp8a3sLr69vG05MAErbvsU0qkj1/mQmbYXN1dRW3t9BSei2dTscSZpu/l7+zb6YQ3AoPD2/JrQ6nhu8SODgQQKzfqteTTEZyuZj5QzqK6IuShfRaTTaP3L59m2UUd3Fx+fTTT828mwivPGnWrdLSUtZtarKUSsh72z0S6tfWNia3Y1RWEkAeHlaNqRHWs37xxRdbSrLfLoT0Wl5eXmq1WjifmZnZv39/AP369WuSM6d1xHmXzs2bN1lYwcHBa9asGTVqlOkSdW9v76eeemrbtm2dTwRlacrKyN+fBg1qPCwqMncjsPSkpqaOGTMGraZ4MJMjR440u0F39+7dLBPOuHHj2pu1W7S3fxUXFw8aNEho7BwcHMaOHcu6TV1i1KAz1NRQWhodPUpFRZSXd+cJ0drs2rUrOjpaSOMWFBT01ltvXbt2rV03EdJrzZgxQ9h6pNfrTUewOtBXEfO1ciyDT2Rk5NGjRy22HV5ycnJowABasYJefplCQsiym+HMobCwUKlUCl0OluJh586d5vwKKioqAgIC5HL566+/LlR4ZWVlbK+Dg4PDP/7xj45FJaZYTTbY2AhTptC+fY2fb98mf3+y4NZn8xHSuLm6ujLDPD094+Pjm33HjCkZGRlfmCQlys3NZdM13t7eJzoxwSCaWLdu3ZLJZK6urjqp39RmSYxGcnMj0xROjz9O33xjvYDapqKiQqVSCW/FAhASEqJUKs2Zavv666979erFnsNaeleSmYgm1q5du9jQmVg37BLU1ZGb2+/OzJ9Pu3dbKZr2wdK4sVxwbGYmLi4uOTn57gzv9PtkAnPnzq25O4tyOxFNrCVLlgB49913xbphV6FvXzJ9mB05kn780XrRtBudTpecnBwXFye8ia1v374JCQmXLl0SrqmurmYbg5uMYHUG0cRiOYCzxHoVS9dBqaTYWNJoSK+nrVspMrJpxupuwvXr15VKpZDhXS6Xjx07VqVSZWdns90rHh4eImZcF0cstuDax8eny03IdB6jkbZsoXHj6MEHafly+m01RzfFaDSeOHHCtI/PMp0MGzaskxkumyAjInSaf/3rXytXrpw3bx7raXG6PhqN5osvvvjss8/CwsKKi4u3bt0q7p42h7YvMQO24NOKGRY47cXDw2PhwoULFy40Go1SZPIR4Y4GMtT61foH+HeJlcScdiJRfigRmsL0mvTIvMihLkNzQyy3tY3TxRHB1mPVxwDEuPPqinMHMcTSHAPwqDvvYHHu0NmmsNZY65XlpYe+JKykt8Ka2zg5XYrO1ljfa7+vp/oHXR/kVnFM6axYx6uPg3ewOHfRWbHUGjV4B4tzF53qY93W3/b7xa+HvEf5/eXOMue2v4BjN3SqxjqmOUag6J7R3CpOEzolloPMIaxHWIxHDIEaqEGsmDg2QAebQiOMe8v3ZtZl+jr4PtX7qXqqX1yw+NTQU6LHx+mmdLDGevrK08lVyZPdJ/dS9NpwfYO4MXFsgI6sbvi59ufTtafzQvIUMgWAeO/4i/UXxQ6M073pSI2VrcuOdItkVnE4zdIRsWSQEURYHsixYToi1ogeI9Jr0g1kED0ajs3QkT5WeI/wUa6jnil4Jt47vp7qbzTciOoZJXpknG5Nx4cb9pTvOV172k3uNr3X9CDnoAOVB+K940WPj9NNEWczBYfTBOu8D5dj83CxOJLAxeJIAheLIwlcLI4kcLE4ksDF4kgCF4sjCVwsjiRwsTiSwMXiSAIXiyMJXCyOJHCxOJLAxeJIAheLIwlcLI4kcLE4ksDF4kgCF4sjCVwsjiRwsTiSwMXiSAIXiyMJXCyOJHCxOJLAxeJIAheLIwlcLI4kcLE4ksDF4kgCF4sjCVwsjiRwsTiS8P/P4TTL+KzQlwAAAaR6VFh0cmRraXRQS0wgcmRraXQgMjAyMS4wMy4zAAB4nHu/b+09BiDgAWJGBggQBWIxIG5gFGRwAIkLMiiAKDYHDSDFzMLmkAGimRmxMdCUsDOABZjZIDQLB4RmYmcAK2BiZGNIADEY0RUQYRm7A9RsmAA3IxMDE3MGEzNLAgtrBhMrWwIbewYTG4cCB6cCJ5cGEye3AjcPAw8vAy+fBhMPPwO/QAaTgGCCoFAGk5BwgrBIBhMTewIvhwK/SIIIMxsTOxsrCzMrJwcvDzebgKCQsAi/OCyIwGHEwPaiCxQ+DG4CEw8oHbA/AGIzbW458P7X0f0g9p91yw7c6v25D8TeETjrwF7nMnsQ+8uH8AO7+deC2Yw/hQ/wPpxqB2J3btY5IMQ7BaxXVCp2v8MZPbCaHY+X73sTywq2q3j/pP3cF0LB7I/Hptp/KAPHEcO5LcftLwryg9XbOM22K/zWArZ3i0iGXfXfB2AznVttHTiN99qA2GtW+DjYLtkFFj+iOdkh0uI/mF2bu8Mhx7gNzD55e4NDybS7YLdFs7U4FH0uB5svBgCTk2lfBuyXawAAAYl6VFh0TU9MIHJka2l0IDIwMjEuMDMuMwAAeJydVMtOxDAMvPcr8gNYfibxmeWEWCQO/AMSR/5fOE03VAgkcBVpZzb1dGI73sp4Xi6Pbx9lPXzZtsJUmEvBH5e7l1dGxG28jxAIB1IQxX767/79N4nzGip3CibCAzG4V8qqkFYfiMC0trNK+bOKAWPfVRC0N82pKHRmm7FeGXMqAtJ0zwaBWFaFQYiPnLJzMi8M1bvN7JLVmlNB6FUOB7XzuV+u/1ERbr73K2AXz3mh0S97jeR77z7/WSUqQw3p8IJNUicKFavIM9as504UEYLzHkWlzXOVHl3Ce30jQ81ay+UlbnKlWzZYKOdFgLz16UWtJ1Vivng/VNyT/VIMWhWdKqg9NxlCxbgevaaSvAFxImLrt/nSU7cxGiXqQ5ME0n0NEj+2SKC6SKC2SKB+Jr7UvBDeSCCi/WsH4bXDhZaDQKSLaCFbMbFT104ttBwEouUgEPkiXsa4nCTQmH+6TvoVoyfXIb1eeyrl4XrZPgFquBsHQRR4dQAAAQ96VFh0U01JTEVTIHJka2l0IDIwMjEuMDMuMwAAeJw90DluAzEMBdCrpJwBFIL7goGr6e1DqDVyAh8+lAKkfVr4P+83vB43Pe9j8pzzZ/J5H4/X+aRJcx73+2ylr8+BQ0EUk8f1TUDqGkP+BUE4CmswYEr6uPpOIMkCDN5gjkwDwSzTWxjKqY8QkAXLmgSoImr0CLUkHZeCVaYtqZKicRmEi8QS1FRdYuwp/ZF2jMz1itgiW8qz542rE6Kwjo7KVl6yiNldaf0UFqG7SLp4J0Dw5MRlDEKM0cTFIbLJK9XXSzJ3a9K1lL+gph68yWTP7KZdtcWAscuvFJqhtC8ls/5F7fKLeq/Rix0EYtwRzs8vy45XZGeKiB8AAAAASUVORK5CYII=\" alt=\"Mol\"/></td>\n    </tr>\n    <tr>\n      <th>1177</th>\n      <td>Mpro-P0240_0A</td>\n      <td>Mpro-P0240</td>\n      <td>ClC=1C=CC=2CNCC(C(=O)NC=3C=NC=C4C=CC=CC34)C2C1</td>\n      <td>ClC=1C=CC=2CNCC(C(=O)NC=3C=NC=C4C=CC=CC34)C2C1</td>\n      <td>BEN-DND-f2e727cd-5</td>\n      <td>Isoquinoline</td>\n      <td>NaN</td>\n      <td><img data-content=\"rdkit/molecule\" src=\"data:image/png;base64,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\" alt=\"Mol\"/></td>\n    </tr>\n    <tr>\n      <th>1178</th>\n      <td>Mpro-x12716_0A</td>\n      <td>Mpro-x12716</td>\n      <td>Cl.Cl.NC[C@]1(CCOC=2C=CC(Cl)=CC21)C(=O)NC=3C=N...</td>\n      <td>NC[C@]1(CCOC=2C=CC(Cl)=CC21)C(=O)NC=3C=NC=C4C=...</td>\n      <td>EDG-MED-971238d3-5</td>\n      <td>Isoquinoline</td>\n      <td>NaN</td>\n      <td><img data-content=\"rdkit/molecule\" src=\"data:image/png;base64,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\" alt=\"Mol\"/></td>\n    </tr>\n    <tr>\n      <th>1179</th>\n      <td>Mpro-P0039_0A</td>\n      <td>Mpro-P0039</td>\n      <td>NC[C@]1(CCOC=2C=CC(Cl)=CC21)C(=O)NC=3C=NC=C4C=...</td>\n      <td>NC[C@]1(CCOC=2C=CC(Cl)=CC21)C(=O)NC=3C=NC=C4C=...</td>\n      <td>EDG-MED-971238d3-5</td>\n      <td>Isoquinoline</td>\n      <td>NaN</td>\n      <td><img data-content=\"rdkit/molecule\" src=\"data:image/png;base64,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\" alt=\"Mol\"/></td>\n    </tr>\n  </tbody>\n</table>\n<p>493 rows × 8 columns</p>\n</div>"
     },
     "metadata": {},
     "execution_count": 4
    }
   ],
   "source": [
    "import pandas as pd\n",
    "from rdkit.Chem.PandasTools import AddMoleculeColumnToFrame\n",
    "\n",
    "metadata = requests.get(target[\"metadata\"], stream=True)\n",
    "metadata = pd.read_csv(metadata.raw, index_col=0)\n",
    "AddMoleculeColumnToFrame(metadata, smilesCol=\"smiles\")\n",
    "metadata"
   ]
  },
  {
   "cell_type": "markdown",
   "metadata": {},
   "source": [
    "Prealigned PDBs for each row can be found in `data/{target}/aligned/{crystal_name}/{crystal_name}_bound.pdb`:"
   ]
  },
  {
   "cell_type": "code",
   "execution_count": 5,
   "metadata": {},
   "outputs": [],
   "source": [
    "from io import BytesIO\n",
    "from zipfile import ZipFile\n",
    "\n",
    "# If already downloaded, they should be here:\n",
    "pdbs = list((DATA / \"aligned\").glob(\"**/*_bound.pdb\"))\n",
    "\n",
    "if not pdbs:\n",
    "    archive =  requests.get(target[\"zip_archive\"], stream=True)\n",
    "    with BytesIO(archive.raw.data) as b, ZipFile(b) as z:\n",
    "        z.extractall(DATA)\n",
    "    # Reassign now\n",
    "    pdbs = list((DATA / \"aligned\").glob(\"**/*_bound.pdb\"))\n",
    "    assert pdbs, \"Couldn't find downloaded PDB structures!\""
   ]
  },
  {
   "cell_type": "markdown",
   "metadata": {},
   "source": [
    "As the directory name suggests, these are prealigned:"
   ]
  },
  {
   "cell_type": "code",
   "execution_count": 6,
   "metadata": {},
   "outputs": [
    {
     "output_type": "display_data",
     "data": {
      "text/plain": "",
      "application/vnd.jupyter.widget-view+json": {
       "version_major": 2,
       "version_minor": 0,
       "model_id": "7a3f418f5c754f9da3923cdd28e23cb7"
      }
     },
     "metadata": {}
    },
    {
     "output_type": "display_data",
     "data": {
      "text/plain": "NGLWidget()",
      "application/vnd.jupyter.widget-view+json": {
       "version_major": 2,
       "version_minor": 0,
       "model_id": "c60b09611ebb4d55a322c1fab68065f1"
      }
     },
     "metadata": {}
    }
   ],
   "source": [
    "import nglview as nv\n",
    "\n",
    "view = nv.NGLWidget()\n",
    "for pdb in pdbs[:10]:\n",
    "    structure = nv.adaptor.FileStructure(str(pdb))\n",
    "    comp = view.add_component(structure, default_representation=False)\n",
    "    comp.add_cartoon()\n",
    "    comp.add_ball_and_stick(\"LIG\")\n",
    "view.center(\"LIG\")\n",
    "view"
   ]
  },
  {
   "cell_type": "code",
   "execution_count": 7,
   "metadata": {},
   "outputs": [],
   "source": [
    "view.render_image(factor=1, trim=True, transparent=True, antialias=True);"
   ]
  },
  {
   "cell_type": "code",
   "execution_count": 8,
   "metadata": {},
   "outputs": [
    {
     "output_type": "execute_result",
     "data": {
      "image/png": "\n",
      "text/plain": [
       "<IPython.core.display.Image object>"
      ]
     },
     "metadata": {},
     "execution_count": 8
    }
   ],
   "source": [
    "view._display_image()"
   ]
  },
  {
   "cell_type": "markdown",
   "metadata": {},
   "source": [
    "Notice how binding sites are not always the same."
   ]
  },
  {
   "cell_type": "markdown",
   "metadata": {},
   "source": [
    "### tmp: Split files by chain"
   ]
  },
  {
   "cell_type": "code",
   "execution_count": 9,
   "metadata": {},
   "outputs": [
    {
     "output_type": "stream",
     "name": "stdout",
     "text": [
      "/Users/williamglass/Github/plipify/projects/01/data/Mpro/aligned/Mpro-x2694_0A/Mpro-x2694_0A_bound.pdb\n",
      "492\n"
     ]
    }
   ],
   "source": [
    "from Bio.PDB import *\n",
    "\n",
    "print(pdbs[0])\n",
    "\n",
    "for nr, filepath in enumerate(pdbs):\n",
    "    pdb_id = str(pdbs[nr]).split('/')[-1][:-4]\n",
    "    chain_id = str(pdbs[nr]).split('/')[-1].split('_')[1][-1]\n",
    "    new_filename=str(pdbs[nr])[:-4]+'_chain'+str(chain_id)+'.pdb'\n",
    "    \n",
    "    ## Read the PDB file and extract the chain from structure[0]\n",
    "    model = PDBParser(PERMISSIVE=1,QUIET=1).get_structure(pdb_id, filepath)[0]\n",
    "    ### Save new file\n",
    "    io = PDBIO()\n",
    "    io.set_structure(model[chain_id])\n",
    "    io.save(new_filename)\n",
    "print (nr)"
   ]
  },
  {
   "cell_type": "markdown",
   "metadata": {},
   "source": [
    "Update the pdb list to pdb chain list"
   ]
  },
  {
   "cell_type": "code",
   "execution_count": 10,
   "metadata": {},
   "outputs": [
    {
     "output_type": "stream",
     "name": "stdout",
     "text": [
      "[PosixPath('/Users/williamglass/Github/plipify/projects/01/data/Mpro/aligned/Mpro-x2694_0A/Mpro-x2694_0A_bound_chainA.pdb'), PosixPath('/Users/williamglass/Github/plipify/projects/01/data/Mpro/aligned/Mpro-x10871_0A/Mpro-x10871_0A_bound_chainA.pdb'), PosixPath('/Users/williamglass/Github/plipify/projects/01/data/Mpro/aligned/Mpro-x0540_0A/Mpro-x0540_0A_bound_chainA.pdb')]\n"
     ]
    }
   ],
   "source": [
    "pdbs = list((DATA / \"aligned\").glob(\"**/*_bound_chain*.pdb\"))\n",
    "print(pdbs[0:3])"
   ]
  },
  {
   "cell_type": "markdown",
   "metadata": {},
   "source": [
    "Check structures"
   ]
  },
  {
   "cell_type": "code",
   "execution_count": 11,
   "metadata": {},
   "outputs": [
    {
     "output_type": "display_data",
     "data": {
      "text/plain": "NGLWidget()",
      "application/vnd.jupyter.widget-view+json": {
       "version_major": 2,
       "version_minor": 0,
       "model_id": "19d5f8af4a024e1292e3c5833323aa9f"
      }
     },
     "metadata": {}
    }
   ],
   "source": [
    "import nglview as nv\n",
    "\n",
    "view = nv.NGLWidget()\n",
    "for pdb in pdbs[:10]:\n",
    "    structure = nv.adaptor.FileStructure(str(pdb))\n",
    "    comp = view.add_component(structure, default_representation=False)\n",
    "    comp.add_cartoon()\n",
    "    comp.add_ball_and_stick(\"LIG\")\n",
    "view.center(\"LIG\")\n",
    "view"
   ]
  },
  {
   "cell_type": "markdown",
   "metadata": {},
   "source": [
    "## Ingesting it in `plipify` \n",
    "\n",
    "TBD."
   ]
  },
  {
   "cell_type": "code",
   "execution_count": 12,
   "metadata": {},
   "outputs": [],
   "source": [
    "from plipify.core import Structure\n",
    "from plipify.fingerprints import InteractionFingerprint\n",
    "from tqdm.auto import tqdm"
   ]
  },
  {
   "cell_type": "code",
   "execution_count": 13,
   "metadata": {},
   "outputs": [
    {
     "output_type": "stream",
     "name": "stderr",
     "text": [
      "  2%|▏         | 11/493 [00:08<03:05,  2.60it/s]data/Mpro/aligned/Mpro-z7l11_0B/Mpro-z7l11_0B_bound_chainB.pdb contains 0 binding sites and we want exactly one.\n",
      " 11%|█         | 54/493 [00:32<03:02,  2.40it/s]data/Mpro/aligned/Mpro-z7l14_0B/Mpro-z7l14_0B_bound_chainB.pdb contains 0 binding sites and we want exactly one.\n",
      " 18%|█▊        | 91/493 [00:51<03:53,  1.72it/s]data/Mpro/aligned/Mpro-x1101_1A/Mpro-x1101_1A_bound_chainA.pdb contains 2 binding sites and we want exactly one.\n",
      " 20%|█▉        | 97/493 [00:54<02:26,  2.71it/s]data/Mpro/aligned/Mpro-z2zu2_1A/Mpro-z2zu2_1A_bound_chainA.pdb contains 0 binding sites and we want exactly one.\n",
      " 23%|██▎       | 114/493 [01:02<02:46,  2.28it/s]data/Mpro/aligned/Mpro-x12025_1A/Mpro-x12025_1A_bound_chainA.pdb contains 2 binding sites and we want exactly one.\n",
      " 24%|██▎       | 117/493 [01:03<02:11,  2.85it/s]data/Mpro/aligned/Mpro-z2zu2_0B/Mpro-z2zu2_0B_bound_chainB.pdb contains 0 binding sites and we want exactly one.\n",
      " 32%|███▏      | 157/493 [01:17<02:07,  2.64it/s]data/Mpro/aligned/Mpro-z7l13_0A/Mpro-z7l13_0A_bound_chainA.pdb contains 0 binding sites and we want exactly one.\n",
      " 33%|███▎      | 164/493 [01:20<01:44,  3.14it/s]data/Mpro/aligned/Mpro-z7ldx_0A/Mpro-z7ldx_0A_bound_chainA.pdb contains 0 binding sites and we want exactly one.\n",
      " 35%|███▍      | 172/493 [01:23<01:53,  2.83it/s]data/Mpro/aligned/Mpro-z4ylu_0A/Mpro-z4ylu_0A_bound_chainA.pdb contains 0 binding sites and we want exactly one.\n",
      " 39%|███▊      | 191/493 [01:32<01:43,  2.92it/s]data/Mpro/aligned/Mpro-z7l12_0A/Mpro-z7l12_0A_bound_chainA.pdb contains 0 binding sites and we want exactly one.\n",
      " 40%|███▉      | 195/493 [01:33<01:30,  3.30it/s]data/Mpro/aligned/Mpro-z5c5o_0B/Mpro-z5c5o_0B_bound_chainB.pdb contains 0 binding sites and we want exactly one.\n",
      " 45%|████▍     | 221/493 [01:42<01:26,  3.16it/s]data/Mpro/aligned/Mpro-z7d3i_0A/Mpro-z7d3i_0A_bound_chainA.pdb contains 0 binding sites and we want exactly one.\n",
      " 51%|█████     | 249/493 [01:53<01:14,  3.28it/s]data/Mpro/aligned/Mpro-z7d3i_1A/Mpro-z7d3i_1A_bound_chainA.pdb contains 0 binding sites and we want exactly one.\n",
      " 52%|█████▏    | 254/493 [01:55<01:04,  3.70it/s]data/Mpro/aligned/Mpro-z7l11_0A/Mpro-z7l11_0A_bound_chainA.pdb contains 0 binding sites and we want exactly one.\n",
      " 52%|█████▏    | 257/493 [01:55<01:01,  3.82it/s]data/Mpro/aligned/Mpro-z7kvl_0A/Mpro-z7kvl_0A_bound_chainA.pdb contains 0 binding sites and we want exactly one.\n",
      " 61%|██████▏   | 302/493 [02:15<01:00,  3.17it/s]data/Mpro/aligned/Mpro-z7l14_0A/Mpro-z7l14_0A_bound_chainA.pdb contains 0 binding sites and we want exactly one.\n",
      " 64%|██████▎   | 314/493 [02:19<01:09,  2.59it/s]data/Mpro/aligned/Mpro-x12025_0A/Mpro-x12025_0A_bound_chainA.pdb contains 2 binding sites and we want exactly one.\n",
      " 66%|██████▌   | 326/493 [02:23<00:54,  3.06it/s]data/Mpro/aligned/Mpro-z7l10_0A/Mpro-z7l10_0A_bound_chainA.pdb contains 0 binding sites and we want exactly one.\n",
      " 71%|███████   | 351/493 [02:33<00:54,  2.62it/s]data/Mpro/aligned/Mpro-x1101_0A/Mpro-x1101_0A_bound_chainA.pdb contains 2 binding sites and we want exactly one.\n",
      " 72%|███████▏  | 354/493 [02:34<00:44,  3.10it/s]data/Mpro/aligned/Mpro-z2zu2_0A/Mpro-z2zu2_0A_bound_chainA.pdb contains 0 binding sites and we want exactly one.\n",
      " 75%|███████▌  | 372/493 [02:42<00:35,  3.42it/s]data/Mpro/aligned/Mpro-z7kvr_0B/Mpro-z7kvr_0B_bound_chainB.pdb contains 0 binding sites and we want exactly one.\n",
      " 79%|███████▊  | 388/493 [02:48<00:29,  3.59it/s]data/Mpro/aligned/Mpro-z7ldx_0B/Mpro-z7ldx_0B_bound_chainB.pdb contains 0 binding sites and we want exactly one.\n",
      " 80%|███████▉  | 394/493 [02:50<00:30,  3.29it/s]data/Mpro/aligned/Mpro-z7lfp_0A/Mpro-z7lfp_0A_bound_chainA.pdb contains 0 binding sites and we want exactly one.\n",
      " 88%|████████▊ | 435/493 [03:04<00:17,  3.36it/s]data/Mpro/aligned/Mpro-z5c5o_0A/Mpro-z5c5o_0A_bound_chainA.pdb contains 0 binding sites and we want exactly one.\n",
      " 89%|████████▉ | 438/493 [03:05<00:17,  3.17it/s]data/Mpro/aligned/Mpro-z4ylu_0B/Mpro-z4ylu_0B_bound_chainB.pdb contains 0 binding sites and we want exactly one.\n",
      " 99%|█████████▊| 486/493 [03:24<00:02,  2.85it/s]data/Mpro/aligned/Mpro-z4ylu_0C/Mpro-z4ylu_0C_bound_chainC.pdb contains 0 binding sites and we want exactly one.\n",
      "100%|█████████▉| 491/493 [03:26<00:00,  2.93it/s]data/Mpro/aligned/Mpro-z4ylu_0D/Mpro-z4ylu_0D_bound_chainD.pdb contains 0 binding sites and we want exactly one.\n",
      "100%|██████████| 493/493 [03:27<00:00,  2.38it/s]\n"
     ]
    }
   ],
   "source": [
    "structures = []\n",
    "for path in tqdm(pdbs):\n",
    "    structure = Structure.from_pdbfile(str(path), ligand_name=\"LIG\")\n",
    "    if len(structure.binding_sites) != 1:\n",
    "        print(f\"{path.relative_to(HERE)} contains {len(structure.binding_sites)} binding sites and we want exactly one.\")\n",
    "        continue\n",
    "    structures.append(structure)"
   ]
  },
  {
   "cell_type": "markdown",
   "metadata": {},
   "source": [
    "### Rudimentary filter to exclude artifacts (by sequence length deviation)"
   ]
  },
  {
   "cell_type": "code",
   "execution_count": 14,
   "metadata": {},
   "outputs": [
    {
     "output_type": "stream",
     "name": "stdout",
     "text": [
      "Sequence length median and std:  304.0 1.3704707370361833\n"
     ]
    }
   ],
   "source": [
    "import pandas as pd\n",
    "lengths = pd.DataFrame([((s.identifier), len(s.sequence())) for s in structures], columns=[\"identifier\", \"length\"])\n",
    "# Remove entries where the difference sequence length - median sequence length is greater than one standard deviation\n",
    "print('Sequence length median and std: ',lengths.length.median(),lengths.length.std() )"
   ]
  },
  {
   "cell_type": "code",
   "execution_count": 15,
   "metadata": {},
   "outputs": [
    {
     "output_type": "stream",
     "name": "stdout",
     "text": [
      "493 -> 466 -> 395 = 98 structures filtered out\n"
     ]
    }
   ],
   "source": [
    "lengths = lengths[(lengths.length - lengths.length.median()).abs() < lengths.length.std()]\n",
    "filtered_structures = [s for s in structures if s.identifier in set(lengths.identifier.tolist())]\n",
    "print(len(pdbs), \"->\", len(structures), \"->\", len(filtered_structures), \"=\", len(pdbs) - len(filtered_structures), \"structures filtered out\")\n",
    "\n",
    "structures = filtered_structures"
   ]
  },
  {
   "cell_type": "code",
   "execution_count": 16,
   "metadata": {},
   "outputs": [],
   "source": [
    "from importlib import reload\n",
    "import plipify.fingerprints, plipify.core, plipify.visualization\n",
    "reload(plipify.fingerprints)\n",
    "reload(plipify.core)\n",
    "reload(plipify.visualization)\n",
    "from plipify.fingerprints import InteractionFingerprint"
   ]
  },
  {
   "cell_type": "markdown",
   "metadata": {},
   "source": [
    "### tmp fix: it seemed like the problem only occured in the 'MPro-P...' structures, so expluding them for now.\n",
    "To avoid error when generating interatcion fingerprints `ValueError: Length mismatch: Expected axis has 296 elements, new values have 305 element`"
   ]
  },
  {
   "cell_type": "code",
   "execution_count": 17,
   "metadata": {},
   "outputs": [
    {
     "output_type": "stream",
     "name": "stdout",
     "text": [
      "dict_keys(['Mpro-P', 'Mpro-x', 'Mpro-z', 'other'])\n{'Mpro-P': 35, 'Mpro-x': 359, 'Mpro-z': 1, 'other': 0}\n"
     ]
    }
   ],
   "source": [
    "# count type of structures\n",
    "structure_name_type_dict={'Mpro-P':0, 'Mpro-x':0, 'Mpro-z':0, 'other':0}\n",
    "print(structure_name_type_dict.keys())\n",
    "for s in structures:\n",
    "    name_code = s.identifier[0:6]\n",
    "    if name_code in structure_name_type_dict.keys():\n",
    "        structure_name_type_dict[name_code]+=1\n",
    "    else:\n",
    "        structure_name_type_dict['other']+=1\n",
    "print(structure_name_type_dict)"
   ]
  },
  {
   "cell_type": "code",
   "execution_count": 18,
   "metadata": {},
   "outputs": [
    {
     "output_type": "stream",
     "name": "stdout",
     "text": [
      "remaining:  360 from: 395\n"
     ]
    }
   ],
   "source": [
    "# exclude 35 Mpro-P structures\n",
    "filtered_structures = [s for s in structures if not (s.identifier.startswith('Mpro-P'))]\n",
    "print('remaining: ',len(filtered_structures), 'from:', len(structures))\n",
    "structures = filtered_structures"
   ]
  },
  {
   "cell_type": "code",
   "execution_count": 19,
   "metadata": {},
   "outputs": [],
   "source": [
    "# Review\n",
    "fp = InteractionFingerprint().calculate_fingerprint(\n",
    "        structures,\n",
    "        labeled=True, \n",
    "        as_dataframe=True, \n",
    "        remove_non_interacting_residues=True,\n",
    "        remove_empty_interaction_types=True,\n",
    "        ensure_same_sequence=False\n",
    "    )\n",
    "\n",
    "if not fp.values.shape[0]:\n",
    "    raise ValueError(\"Fingerprint is empty!\")"
   ]
  },
  {
   "cell_type": "code",
   "execution_count": 20,
   "metadata": {},
   "outputs": [
    {
     "output_type": "execute_result",
     "data": {
      "text/plain": [
       "<pandas.io.formats.style.Styler at 0x7fdaca18fd00>"
      ],
      "text/html": "<style type=\"text/css\">\n#T_d0937_row0_col0, #T_d0937_row0_col1, #T_d0937_row2_col0, #T_d0937_row2_col1, #T_d0937_row2_col5, #T_d0937_row3_col0, #T_d0937_row3_col2, #T_d0937_row5_col0, #T_d0937_row7_col4, #T_d0937_row8_col3, #T_d0937_row10_col2, #T_d0937_row11_col1, #T_d0937_row12_col6, #T_d0937_row13_col0, #T_d0937_row14_col1, #T_d0937_row15_col1, #T_d0937_row16_col0, #T_d0937_row17_col2, #T_d0937_row21_col0, #T_d0937_row23_col0, #T_d0937_row23_col2, #T_d0937_row24_col2, #T_d0937_row25_col0, #T_d0937_row26_col5, #T_d0937_row27_col0, #T_d0937_row28_col1, #T_d0937_row29_col0, #T_d0937_row30_col4, #T_d0937_row31_col0, #T_d0937_row35_col2, #T_d0937_row37_col3, #T_d0937_row38_col0, #T_d0937_row40_col3, #T_d0937_row41_col0, #T_d0937_row43_col0, #T_d0937_row44_col3, #T_d0937_row46_col1, #T_d0937_row51_col0, #T_d0937_row51_col1, #T_d0937_row51_col2, #T_d0937_row52_col0, #T_d0937_row52_col2, #T_d0937_row54_col1, #T_d0937_row55_col1, #T_d0937_row56_col2, #T_d0937_row60_col0, #T_d0937_row61_col2, #T_d0937_row62_col0, #T_d0937_row63_col1 {\n  background-color: #feffd8;\n  color: #000000;\n}\n#T_d0937_row0_col2, #T_d0937_row0_col3, #T_d0937_row0_col4, #T_d0937_row0_col5, #T_d0937_row0_col6, #T_d0937_row1_col1, #T_d0937_row1_col2, #T_d0937_row1_col3, #T_d0937_row1_col4, #T_d0937_row1_col5, #T_d0937_row1_col6, #T_d0937_row2_col2, #T_d0937_row2_col3, #T_d0937_row2_col4, #T_d0937_row2_col6, #T_d0937_row3_col1, #T_d0937_row3_col3, #T_d0937_row3_col4, #T_d0937_row3_col5, #T_d0937_row3_col6, #T_d0937_row4_col2, #T_d0937_row4_col3, #T_d0937_row4_col4, #T_d0937_row4_col5, #T_d0937_row4_col6, #T_d0937_row5_col3, #T_d0937_row5_col4, #T_d0937_row5_col5, #T_d0937_row5_col6, #T_d0937_row6_col1, #T_d0937_row6_col2, #T_d0937_row6_col3, #T_d0937_row6_col4, #T_d0937_row6_col5, #T_d0937_row6_col6, #T_d0937_row7_col0, #T_d0937_row7_col1, #T_d0937_row7_col2, #T_d0937_row7_col3, #T_d0937_row7_col5, #T_d0937_row7_col6, #T_d0937_row8_col6, #T_d0937_row9_col0, #T_d0937_row9_col1, #T_d0937_row9_col3, #T_d0937_row9_col4, #T_d0937_row9_col5, #T_d0937_row9_col6, #T_d0937_row10_col0, #T_d0937_row10_col1, #T_d0937_row10_col3, #T_d0937_row10_col4, #T_d0937_row10_col5, #T_d0937_row11_col0, #T_d0937_row11_col2, #T_d0937_row11_col3, #T_d0937_row11_col4, #T_d0937_row11_col5, #T_d0937_row11_col6, #T_d0937_row12_col1, #T_d0937_row12_col2, #T_d0937_row12_col3, #T_d0937_row12_col4, #T_d0937_row12_col5, #T_d0937_row13_col1, #T_d0937_row13_col2, #T_d0937_row13_col3, #T_d0937_row13_col4, #T_d0937_row13_col5, #T_d0937_row13_col6, #T_d0937_row14_col0, #T_d0937_row14_col2, #T_d0937_row14_col3, #T_d0937_row14_col4, #T_d0937_row14_col5, #T_d0937_row14_col6, #T_d0937_row15_col0, #T_d0937_row15_col2, #T_d0937_row15_col3, #T_d0937_row15_col4, #T_d0937_row15_col5, #T_d0937_row15_col6, #T_d0937_row16_col1, #T_d0937_row16_col2, #T_d0937_row16_col3, #T_d0937_row16_col4, #T_d0937_row16_col5, #T_d0937_row16_col6, #T_d0937_row17_col0, #T_d0937_row17_col3, #T_d0937_row17_col4, #T_d0937_row17_col5, #T_d0937_row17_col6, #T_d0937_row18_col0, #T_d0937_row18_col3, #T_d0937_row18_col4, #T_d0937_row18_col5, #T_d0937_row18_col6, #T_d0937_row19_col1, #T_d0937_row19_col2, #T_d0937_row19_col4, #T_d0937_row19_col5, #T_d0937_row19_col6, #T_d0937_row20_col1, #T_d0937_row20_col2, #T_d0937_row20_col3, #T_d0937_row20_col4, #T_d0937_row20_col5, #T_d0937_row20_col6, #T_d0937_row21_col1, #T_d0937_row21_col2, #T_d0937_row21_col3, #T_d0937_row21_col4, #T_d0937_row21_col5, #T_d0937_row21_col6, #T_d0937_row22_col1, #T_d0937_row22_col2, #T_d0937_row22_col3, #T_d0937_row22_col4, #T_d0937_row22_col5, #T_d0937_row22_col6, #T_d0937_row23_col1, #T_d0937_row23_col3, #T_d0937_row23_col4, #T_d0937_row23_col5, #T_d0937_row23_col6, #T_d0937_row24_col0, #T_d0937_row24_col1, #T_d0937_row24_col3, #T_d0937_row24_col4, #T_d0937_row24_col5, #T_d0937_row24_col6, #T_d0937_row25_col1, #T_d0937_row25_col2, #T_d0937_row25_col3, #T_d0937_row25_col4, #T_d0937_row25_col5, #T_d0937_row25_col6, #T_d0937_row26_col0, #T_d0937_row26_col1, #T_d0937_row26_col2, #T_d0937_row26_col3, #T_d0937_row26_col4, #T_d0937_row26_col6, #T_d0937_row27_col1, #T_d0937_row27_col2, #T_d0937_row27_col3, #T_d0937_row27_col4, #T_d0937_row27_col5, #T_d0937_row27_col6, #T_d0937_row28_col2, #T_d0937_row28_col3, #T_d0937_row28_col4, #T_d0937_row28_col5, #T_d0937_row28_col6, #T_d0937_row29_col1, #T_d0937_row29_col2, #T_d0937_row29_col3, #T_d0937_row29_col4, #T_d0937_row29_col5, #T_d0937_row29_col6, #T_d0937_row30_col0, #T_d0937_row30_col1, #T_d0937_row30_col2, #T_d0937_row30_col3, #T_d0937_row30_col5, #T_d0937_row30_col6, #T_d0937_row31_col1, #T_d0937_row31_col2, #T_d0937_row31_col3, #T_d0937_row31_col4, #T_d0937_row31_col5, #T_d0937_row31_col6, #T_d0937_row32_col1, #T_d0937_row32_col3, #T_d0937_row32_col4, #T_d0937_row32_col5, #T_d0937_row33_col3, #T_d0937_row33_col4, #T_d0937_row33_col5, #T_d0937_row33_col6, #T_d0937_row34_col0, #T_d0937_row34_col3, #T_d0937_row34_col4, #T_d0937_row34_col5, #T_d0937_row34_col6, #T_d0937_row35_col0, #T_d0937_row35_col3, #T_d0937_row35_col4, #T_d0937_row35_col5, #T_d0937_row35_col6, #T_d0937_row36_col0, #T_d0937_row36_col2, #T_d0937_row36_col3, #T_d0937_row36_col4, #T_d0937_row36_col5, #T_d0937_row36_col6, #T_d0937_row37_col0, #T_d0937_row37_col1, #T_d0937_row37_col4, #T_d0937_row37_col5, #T_d0937_row37_col6, #T_d0937_row38_col3, #T_d0937_row38_col4, #T_d0937_row38_col5, #T_d0937_row39_col1, #T_d0937_row39_col2, #T_d0937_row39_col3, #T_d0937_row39_col4, #T_d0937_row39_col5, #T_d0937_row39_col6, #T_d0937_row40_col4, #T_d0937_row40_col5, #T_d0937_row40_col6, #T_d0937_row41_col1, #T_d0937_row41_col2, #T_d0937_row41_col3, #T_d0937_row41_col4, #T_d0937_row41_col5, #T_d0937_row41_col6, #T_d0937_row42_col1, #T_d0937_row42_col2, #T_d0937_row42_col3, #T_d0937_row42_col4, #T_d0937_row42_col5, #T_d0937_row42_col6, #T_d0937_row43_col1, #T_d0937_row43_col2, #T_d0937_row43_col3, #T_d0937_row43_col4, #T_d0937_row43_col5, #T_d0937_row43_col6, #T_d0937_row44_col0, #T_d0937_row44_col1, #T_d0937_row44_col4, #T_d0937_row44_col5, #T_d0937_row44_col6, #T_d0937_row45_col1, #T_d0937_row45_col2, #T_d0937_row45_col4, #T_d0937_row45_col5, #T_d0937_row45_col6, #T_d0937_row46_col0, #T_d0937_row46_col2, #T_d0937_row46_col3, #T_d0937_row46_col4, #T_d0937_row46_col5, #T_d0937_row46_col6, #T_d0937_row47_col1, #T_d0937_row47_col2, #T_d0937_row47_col3, #T_d0937_row47_col4, #T_d0937_row47_col5, #T_d0937_row47_col6, #T_d0937_row48_col1, #T_d0937_row48_col2, #T_d0937_row48_col3, #T_d0937_row48_col4, #T_d0937_row48_col5, #T_d0937_row48_col6, #T_d0937_row49_col0, #T_d0937_row49_col3, #T_d0937_row49_col4, #T_d0937_row49_col5, #T_d0937_row49_col6, #T_d0937_row50_col3, #T_d0937_row50_col4, #T_d0937_row50_col5, #T_d0937_row50_col6, #T_d0937_row51_col3, #T_d0937_row51_col4, #T_d0937_row51_col5, #T_d0937_row51_col6, #T_d0937_row52_col1, #T_d0937_row52_col3, #T_d0937_row52_col4, #T_d0937_row52_col5, #T_d0937_row52_col6, #T_d0937_row53_col0, #T_d0937_row53_col2, #T_d0937_row53_col3, #T_d0937_row53_col4, #T_d0937_row53_col5, #T_d0937_row53_col6, #T_d0937_row54_col2, #T_d0937_row54_col3, #T_d0937_row54_col4, #T_d0937_row54_col5, #T_d0937_row54_col6, #T_d0937_row55_col0, #T_d0937_row55_col2, #T_d0937_row55_col3, #T_d0937_row55_col4, #T_d0937_row55_col5, #T_d0937_row55_col6, #T_d0937_row56_col0, #T_d0937_row56_col1, #T_d0937_row56_col4, #T_d0937_row56_col5, #T_d0937_row56_col6, #T_d0937_row57_col0, #T_d0937_row57_col1, #T_d0937_row57_col3, #T_d0937_row57_col4, #T_d0937_row57_col5, #T_d0937_row57_col6, #T_d0937_row58_col1, #T_d0937_row58_col2, #T_d0937_row58_col3, #T_d0937_row58_col4, #T_d0937_row58_col5, #T_d0937_row58_col6, #T_d0937_row59_col1, #T_d0937_row59_col2, #T_d0937_row59_col3, #T_d0937_row59_col4, #T_d0937_row59_col5, #T_d0937_row59_col6, #T_d0937_row60_col1, #T_d0937_row60_col2, #T_d0937_row60_col3, #T_d0937_row60_col4, #T_d0937_row60_col5, #T_d0937_row60_col6, #T_d0937_row61_col0, #T_d0937_row61_col1, #T_d0937_row61_col3, #T_d0937_row61_col4, #T_d0937_row61_col5, #T_d0937_row61_col6, #T_d0937_row62_col1, #T_d0937_row62_col2, #T_d0937_row62_col3, #T_d0937_row62_col4, #T_d0937_row62_col5, #T_d0937_row62_col6, #T_d0937_row63_col0, #T_d0937_row63_col2, #T_d0937_row63_col3, #T_d0937_row63_col4, #T_d0937_row63_col5, #T_d0937_row63_col6 {\n  background-color: #ffffd9;\n  color: #000000;\n}\n#T_d0937_row1_col0, #T_d0937_row6_col0, #T_d0937_row8_col1, #T_d0937_row10_col6, #T_d0937_row18_col1, #T_d0937_row18_col2, #T_d0937_row19_col0, #T_d0937_row19_col3, #T_d0937_row22_col0, #T_d0937_row28_col0, #T_d0937_row32_col0, #T_d0937_row32_col6, #T_d0937_row38_col6, #T_d0937_row42_col0, #T_d0937_row44_col2, #T_d0937_row45_col0, #T_d0937_row45_col3, #T_d0937_row49_col1, #T_d0937_row49_col2, #T_d0937_row56_col3, #T_d0937_row57_col2, #T_d0937_row58_col0, #T_d0937_row59_col0 {\n  background-color: #feffd6;\n  color: #000000;\n}\n#T_d0937_row4_col0 {\n  background-color: #f0f9b7;\n  color: #000000;\n}\n#T_d0937_row4_col1, #T_d0937_row5_col1, #T_d0937_row5_col2, #T_d0937_row34_col2, #T_d0937_row47_col0, #T_d0937_row54_col0 {\n  background-color: #fdfed5;\n  color: #000000;\n}\n#T_d0937_row8_col0 {\n  background-color: #e6f5b2;\n  color: #000000;\n}\n#T_d0937_row8_col2 {\n  background-color: #f7fcc7;\n  color: #000000;\n}\n#T_d0937_row8_col4 {\n  background-color: #253595;\n  color: #f1f1f1;\n}\n#T_d0937_row8_col5, #T_d0937_row50_col1 {\n  background-color: #f4fbc1;\n  color: #000000;\n}\n#T_d0937_row9_col2, #T_d0937_row17_col1, #T_d0937_row38_col1 {\n  background-color: #fdfed4;\n  color: #000000;\n}\n#T_d0937_row12_col0 {\n  background-color: #f3fabf;\n  color: #000000;\n}\n#T_d0937_row20_col0, #T_d0937_row37_col2 {\n  background-color: #fcfed1;\n  color: #000000;\n}\n#T_d0937_row32_col2 {\n  background-color: #f9fdcc;\n  color: #000000;\n}\n#T_d0937_row33_col0 {\n  background-color: #2b9fc2;\n  color: #f1f1f1;\n}\n#T_d0937_row33_col1, #T_d0937_row40_col2 {\n  background-color: #e5f5b2;\n  color: #000000;\n}\n#T_d0937_row33_col2 {\n  background-color: #eef8b3;\n  color: #000000;\n}\n#T_d0937_row34_col1 {\n  background-color: #3db2c4;\n  color: #f1f1f1;\n}\n#T_d0937_row35_col1 {\n  background-color: #50bbc2;\n  color: #000000;\n}\n#T_d0937_row36_col1 {\n  background-color: #8ed3ba;\n  color: #000000;\n}\n#T_d0937_row38_col2, #T_d0937_row50_col2 {\n  background-color: #fafdcf;\n  color: #000000;\n}\n#T_d0937_row39_col0 {\n  background-color: #3fb4c4;\n  color: #f1f1f1;\n}\n#T_d0937_row40_col0 {\n  background-color: #243d98;\n  color: #f1f1f1;\n}\n#T_d0937_row40_col1 {\n  background-color: #081d58;\n  color: #f1f1f1;\n}\n#T_d0937_row48_col0 {\n  background-color: #f1fabb;\n  color: #000000;\n}\n#T_d0937_row50_col0 {\n  background-color: #5dc0c0;\n  color: #000000;\n}\n#T_d0937_row53_col1 {\n  background-color: #f8fcca;\n  color: #000000;\n}\n</style>\n<table id=\"T_d0937_\">\n  <thead>\n    <tr>\n      <th class=\"blank level0\" >&nbsp;</th>\n      <th class=\"col_heading level0 col0\" >hydrophobic</th>\n      <th class=\"col_heading level0 col1\" >hbond-don</th>\n      <th class=\"col_heading level0 col2\" >hbond-acc</th>\n      <th class=\"col_heading level0 col3\" >saltbridge</th>\n      <th class=\"col_heading level0 col4\" >pistacking</th>\n      <th class=\"col_heading level0 col5\" >pication</th>\n      <th class=\"col_heading level0 col6\" >halogen</th>\n    </tr>\n  </thead>\n  <tbody>\n    <tr>\n      <th id=\"T_d0937_level0_row0\" class=\"row_heading level0 row0\" >6</th>\n      <td id=\"T_d0937_row0_col0\" class=\"data row0 col0\" >1</td>\n      <td id=\"T_d0937_row0_col1\" class=\"data row0 col1\" >1</td>\n      <td id=\"T_d0937_row0_col2\" class=\"data row0 col2\" >0</td>\n      <td id=\"T_d0937_row0_col3\" class=\"data row0 col3\" >0</td>\n      <td id=\"T_d0937_row0_col4\" class=\"data row0 col4\" >0</td>\n      <td id=\"T_d0937_row0_col5\" class=\"data row0 col5\" >0</td>\n      <td id=\"T_d0937_row0_col6\" class=\"data row0 col6\" >0</td>\n    </tr>\n    <tr>\n      <th id=\"T_d0937_level0_row1\" class=\"row_heading level0 row1\" >8</th>\n      <td id=\"T_d0937_row1_col0\" class=\"data row1 col0\" >2</td>\n      <td id=\"T_d0937_row1_col1\" class=\"data row1 col1\" >0</td>\n      <td id=\"T_d0937_row1_col2\" class=\"data row1 col2\" >0</td>\n      <td id=\"T_d0937_row1_col3\" class=\"data row1 col3\" >0</td>\n      <td id=\"T_d0937_row1_col4\" class=\"data row1 col4\" >0</td>\n      <td id=\"T_d0937_row1_col5\" class=\"data row1 col5\" >0</td>\n      <td id=\"T_d0937_row1_col6\" class=\"data row1 col6\" >0</td>\n    </tr>\n    <tr>\n      <th id=\"T_d0937_level0_row2\" class=\"row_heading level0 row2\" >12</th>\n      <td id=\"T_d0937_row2_col0\" class=\"data row2 col0\" >1</td>\n      <td id=\"T_d0937_row2_col1\" class=\"data row2 col1\" >1</td>\n      <td id=\"T_d0937_row2_col2\" class=\"data row2 col2\" >0</td>\n      <td id=\"T_d0937_row2_col3\" class=\"data row2 col3\" >0</td>\n      <td id=\"T_d0937_row2_col4\" class=\"data row2 col4\" >0</td>\n      <td id=\"T_d0937_row2_col5\" class=\"data row2 col5\" >1</td>\n      <td id=\"T_d0937_row2_col6\" class=\"data row2 col6\" >0</td>\n    </tr>\n    <tr>\n      <th id=\"T_d0937_level0_row3\" class=\"row_heading level0 row3\" >24</th>\n      <td id=\"T_d0937_row3_col0\" class=\"data row3 col0\" >1</td>\n      <td id=\"T_d0937_row3_col1\" class=\"data row3 col1\" >0</td>\n      <td id=\"T_d0937_row3_col2\" class=\"data row3 col2\" >1</td>\n      <td id=\"T_d0937_row3_col3\" class=\"data row3 col3\" >0</td>\n      <td id=\"T_d0937_row3_col4\" class=\"data row3 col4\" >0</td>\n      <td id=\"T_d0937_row3_col5\" class=\"data row3 col5\" >0</td>\n      <td id=\"T_d0937_row3_col6\" class=\"data row3 col6\" >0</td>\n    </tr>\n    <tr>\n      <th id=\"T_d0937_level0_row4\" class=\"row_heading level0 row4\" >25</th>\n      <td id=\"T_d0937_row4_col0\" class=\"data row4 col0\" >23</td>\n      <td id=\"T_d0937_row4_col1\" class=\"data row4 col1\" >3</td>\n      <td id=\"T_d0937_row4_col2\" class=\"data row4 col2\" >0</td>\n      <td id=\"T_d0937_row4_col3\" class=\"data row4 col3\" >0</td>\n      <td id=\"T_d0937_row4_col4\" class=\"data row4 col4\" >0</td>\n      <td id=\"T_d0937_row4_col5\" class=\"data row4 col5\" >0</td>\n      <td id=\"T_d0937_row4_col6\" class=\"data row4 col6\" >0</td>\n    </tr>\n    <tr>\n      <th id=\"T_d0937_level0_row5\" class=\"row_heading level0 row5\" >26</th>\n      <td id=\"T_d0937_row5_col0\" class=\"data row5 col0\" >1</td>\n      <td id=\"T_d0937_row5_col1\" class=\"data row5 col1\" >3</td>\n      <td id=\"T_d0937_row5_col2\" class=\"data row5 col2\" >3</td>\n      <td id=\"T_d0937_row5_col3\" class=\"data row5 col3\" >0</td>\n      <td id=\"T_d0937_row5_col4\" class=\"data row5 col4\" >0</td>\n      <td id=\"T_d0937_row5_col5\" class=\"data row5 col5\" >0</td>\n      <td id=\"T_d0937_row5_col6\" class=\"data row5 col6\" >0</td>\n    </tr>\n    <tr>\n      <th id=\"T_d0937_level0_row6\" class=\"row_heading level0 row6\" >27</th>\n      <td id=\"T_d0937_row6_col0\" class=\"data row6 col0\" >2</td>\n      <td id=\"T_d0937_row6_col1\" class=\"data row6 col1\" >0</td>\n      <td id=\"T_d0937_row6_col2\" class=\"data row6 col2\" >0</td>\n      <td id=\"T_d0937_row6_col3\" class=\"data row6 col3\" >0</td>\n      <td id=\"T_d0937_row6_col4\" class=\"data row6 col4\" >0</td>\n      <td id=\"T_d0937_row6_col5\" class=\"data row6 col5\" >0</td>\n      <td id=\"T_d0937_row6_col6\" class=\"data row6 col6\" >0</td>\n    </tr>\n    <tr>\n      <th id=\"T_d0937_level0_row7\" class=\"row_heading level0 row7\" >31</th>\n      <td id=\"T_d0937_row7_col0\" class=\"data row7 col0\" >0</td>\n      <td id=\"T_d0937_row7_col1\" class=\"data row7 col1\" >0</td>\n      <td id=\"T_d0937_row7_col2\" class=\"data row7 col2\" >0</td>\n      <td id=\"T_d0937_row7_col3\" class=\"data row7 col3\" >0</td>\n      <td id=\"T_d0937_row7_col4\" class=\"data row7 col4\" >1</td>\n      <td id=\"T_d0937_row7_col5\" class=\"data row7 col5\" >0</td>\n      <td id=\"T_d0937_row7_col6\" class=\"data row7 col6\" >0</td>\n    </tr>\n    <tr>\n      <th id=\"T_d0937_level0_row8\" class=\"row_heading level0 row8\" >41</th>\n      <td id=\"T_d0937_row8_col0\" class=\"data row8 col0\" >32</td>\n      <td id=\"T_d0937_row8_col1\" class=\"data row8 col1\" >2</td>\n      <td id=\"T_d0937_row8_col2\" class=\"data row8 col2\" >12</td>\n      <td id=\"T_d0937_row8_col3\" class=\"data row8 col3\" >1</td>\n      <td id=\"T_d0937_row8_col4\" class=\"data row8 col4\" >184</td>\n      <td id=\"T_d0937_row8_col5\" class=\"data row8 col5\" >16</td>\n      <td id=\"T_d0937_row8_col6\" class=\"data row8 col6\" >0</td>\n    </tr>\n    <tr>\n      <th id=\"T_d0937_level0_row9\" class=\"row_heading level0 row9\" >44</th>\n      <td id=\"T_d0937_row9_col0\" class=\"data row9 col0\" >0</td>\n      <td id=\"T_d0937_row9_col1\" class=\"data row9 col1\" >0</td>\n      <td id=\"T_d0937_row9_col2\" class=\"data row9 col2\" >4</td>\n      <td id=\"T_d0937_row9_col3\" class=\"data row9 col3\" >0</td>\n      <td id=\"T_d0937_row9_col4\" class=\"data row9 col4\" >0</td>\n      <td id=\"T_d0937_row9_col5\" class=\"data row9 col5\" >0</td>\n      <td id=\"T_d0937_row9_col6\" class=\"data row9 col6\" >0</td>\n    </tr>\n    <tr>\n      <th id=\"T_d0937_level0_row10\" class=\"row_heading level0 row10\" >45</th>\n      <td id=\"T_d0937_row10_col0\" class=\"data row10 col0\" >0</td>\n      <td id=\"T_d0937_row10_col1\" class=\"data row10 col1\" >0</td>\n      <td id=\"T_d0937_row10_col2\" class=\"data row10 col2\" >1</td>\n      <td id=\"T_d0937_row10_col3\" class=\"data row10 col3\" >0</td>\n      <td id=\"T_d0937_row10_col4\" class=\"data row10 col4\" >0</td>\n      <td id=\"T_d0937_row10_col5\" class=\"data row10 col5\" >0</td>\n      <td id=\"T_d0937_row10_col6\" class=\"data row10 col6\" >2</td>\n    </tr>\n    <tr>\n      <th id=\"T_d0937_level0_row11\" class=\"row_heading level0 row11\" >46</th>\n      <td id=\"T_d0937_row11_col0\" class=\"data row11 col0\" >0</td>\n      <td id=\"T_d0937_row11_col1\" class=\"data row11 col1\" >1</td>\n      <td id=\"T_d0937_row11_col2\" class=\"data row11 col2\" >0</td>\n      <td id=\"T_d0937_row11_col3\" class=\"data row11 col3\" >0</td>\n      <td id=\"T_d0937_row11_col4\" class=\"data row11 col4\" >0</td>\n      <td id=\"T_d0937_row11_col5\" class=\"data row11 col5\" >0</td>\n      <td id=\"T_d0937_row11_col6\" class=\"data row11 col6\" >0</td>\n    </tr>\n    <tr>\n      <th id=\"T_d0937_level0_row12\" class=\"row_heading level0 row12\" >49</th>\n      <td id=\"T_d0937_row12_col0\" class=\"data row12 col0\" >18</td>\n      <td id=\"T_d0937_row12_col1\" class=\"data row12 col1\" >0</td>\n      <td id=\"T_d0937_row12_col2\" class=\"data row12 col2\" >0</td>\n      <td id=\"T_d0937_row12_col3\" class=\"data row12 col3\" >0</td>\n      <td id=\"T_d0937_row12_col4\" class=\"data row12 col4\" >0</td>\n      <td id=\"T_d0937_row12_col5\" class=\"data row12 col5\" >0</td>\n      <td id=\"T_d0937_row12_col6\" class=\"data row12 col6\" >1</td>\n    </tr>\n    <tr>\n      <th id=\"T_d0937_level0_row13\" class=\"row_heading level0 row13\" >58</th>\n      <td id=\"T_d0937_row13_col0\" class=\"data row13 col0\" >1</td>\n      <td id=\"T_d0937_row13_col1\" class=\"data row13 col1\" >0</td>\n      <td id=\"T_d0937_row13_col2\" class=\"data row13 col2\" >0</td>\n      <td id=\"T_d0937_row13_col3\" class=\"data row13 col3\" >0</td>\n      <td id=\"T_d0937_row13_col4\" class=\"data row13 col4\" >0</td>\n      <td id=\"T_d0937_row13_col5\" class=\"data row13 col5\" >0</td>\n      <td id=\"T_d0937_row13_col6\" class=\"data row13 col6\" >0</td>\n    </tr>\n    <tr>\n      <th id=\"T_d0937_level0_row14\" class=\"row_heading level0 row14\" >63</th>\n      <td id=\"T_d0937_row14_col0\" class=\"data row14 col0\" >0</td>\n      <td id=\"T_d0937_row14_col1\" class=\"data row14 col1\" >1</td>\n      <td id=\"T_d0937_row14_col2\" class=\"data row14 col2\" >0</td>\n      <td id=\"T_d0937_row14_col3\" class=\"data row14 col3\" >0</td>\n      <td id=\"T_d0937_row14_col4\" class=\"data row14 col4\" >0</td>\n      <td id=\"T_d0937_row14_col5\" class=\"data row14 col5\" >0</td>\n      <td id=\"T_d0937_row14_col6\" class=\"data row14 col6\" >0</td>\n    </tr>\n    <tr>\n      <th id=\"T_d0937_level0_row15\" class=\"row_heading level0 row15\" >69</th>\n      <td id=\"T_d0937_row15_col0\" class=\"data row15 col0\" >0</td>\n      <td id=\"T_d0937_row15_col1\" class=\"data row15 col1\" >1</td>\n      <td id=\"T_d0937_row15_col2\" class=\"data row15 col2\" >0</td>\n      <td id=\"T_d0937_row15_col3\" class=\"data row15 col3\" >0</td>\n      <td id=\"T_d0937_row15_col4\" class=\"data row15 col4\" >0</td>\n      <td id=\"T_d0937_row15_col5\" class=\"data row15 col5\" >0</td>\n      <td id=\"T_d0937_row15_col6\" class=\"data row15 col6\" >0</td>\n    </tr>\n    <tr>\n      <th id=\"T_d0937_level0_row16\" class=\"row_heading level0 row16\" >73</th>\n      <td id=\"T_d0937_row16_col0\" class=\"data row16 col0\" >1</td>\n      <td id=\"T_d0937_row16_col1\" class=\"data row16 col1\" >0</td>\n      <td id=\"T_d0937_row16_col2\" class=\"data row16 col2\" >0</td>\n      <td id=\"T_d0937_row16_col3\" class=\"data row16 col3\" >0</td>\n      <td id=\"T_d0937_row16_col4\" class=\"data row16 col4\" >0</td>\n      <td id=\"T_d0937_row16_col5\" class=\"data row16 col5\" >0</td>\n      <td id=\"T_d0937_row16_col6\" class=\"data row16 col6\" >0</td>\n    </tr>\n    <tr>\n      <th id=\"T_d0937_level0_row17\" class=\"row_heading level0 row17\" >80</th>\n      <td id=\"T_d0937_row17_col0\" class=\"data row17 col0\" >0</td>\n      <td id=\"T_d0937_row17_col1\" class=\"data row17 col1\" >4</td>\n      <td id=\"T_d0937_row17_col2\" class=\"data row17 col2\" >1</td>\n      <td id=\"T_d0937_row17_col3\" class=\"data row17 col3\" >0</td>\n      <td id=\"T_d0937_row17_col4\" class=\"data row17 col4\" >0</td>\n      <td id=\"T_d0937_row17_col5\" class=\"data row17 col5\" >0</td>\n      <td id=\"T_d0937_row17_col6\" class=\"data row17 col6\" >0</td>\n    </tr>\n    <tr>\n      <th id=\"T_d0937_level0_row18\" class=\"row_heading level0 row18\" >81</th>\n      <td id=\"T_d0937_row18_col0\" class=\"data row18 col0\" >0</td>\n      <td id=\"T_d0937_row18_col1\" class=\"data row18 col1\" >2</td>\n      <td id=\"T_d0937_row18_col2\" class=\"data row18 col2\" >2</td>\n      <td id=\"T_d0937_row18_col3\" class=\"data row18 col3\" >0</td>\n      <td id=\"T_d0937_row18_col4\" class=\"data row18 col4\" >0</td>\n      <td id=\"T_d0937_row18_col5\" class=\"data row18 col5\" >0</td>\n      <td id=\"T_d0937_row18_col6\" class=\"data row18 col6\" >0</td>\n    </tr>\n    <tr>\n      <th id=\"T_d0937_level0_row19\" class=\"row_heading level0 row19\" >88</th>\n      <td id=\"T_d0937_row19_col0\" class=\"data row19 col0\" >2</td>\n      <td id=\"T_d0937_row19_col1\" class=\"data row19 col1\" >0</td>\n      <td id=\"T_d0937_row19_col2\" class=\"data row19 col2\" >0</td>\n      <td id=\"T_d0937_row19_col3\" class=\"data row19 col3\" >2</td>\n      <td id=\"T_d0937_row19_col4\" class=\"data row19 col4\" >0</td>\n      <td id=\"T_d0937_row19_col5\" class=\"data row19 col5\" >0</td>\n      <td id=\"T_d0937_row19_col6\" class=\"data row19 col6\" >0</td>\n    </tr>\n    <tr>\n      <th id=\"T_d0937_level0_row20\" class=\"row_heading level0 row20\" >90</th>\n      <td id=\"T_d0937_row20_col0\" class=\"data row20 col0\" >5</td>\n      <td id=\"T_d0937_row20_col1\" class=\"data row20 col1\" >0</td>\n      <td id=\"T_d0937_row20_col2\" class=\"data row20 col2\" >0</td>\n      <td id=\"T_d0937_row20_col3\" class=\"data row20 col3\" >0</td>\n      <td id=\"T_d0937_row20_col4\" class=\"data row20 col4\" >0</td>\n      <td id=\"T_d0937_row20_col5\" class=\"data row20 col5\" >0</td>\n      <td id=\"T_d0937_row20_col6\" class=\"data row20 col6\" >0</td>\n    </tr>\n    <tr>\n      <th id=\"T_d0937_level0_row21\" class=\"row_heading level0 row21\" >93</th>\n      <td id=\"T_d0937_row21_col0\" class=\"data row21 col0\" >1</td>\n      <td id=\"T_d0937_row21_col1\" class=\"data row21 col1\" >0</td>\n      <td id=\"T_d0937_row21_col2\" class=\"data row21 col2\" >0</td>\n      <td id=\"T_d0937_row21_col3\" class=\"data row21 col3\" >0</td>\n      <td id=\"T_d0937_row21_col4\" class=\"data row21 col4\" >0</td>\n      <td id=\"T_d0937_row21_col5\" class=\"data row21 col5\" >0</td>\n      <td id=\"T_d0937_row21_col6\" class=\"data row21 col6\" >0</td>\n    </tr>\n    <tr>\n      <th id=\"T_d0937_level0_row22\" class=\"row_heading level0 row22\" >94</th>\n      <td id=\"T_d0937_row22_col0\" class=\"data row22 col0\" >2</td>\n      <td id=\"T_d0937_row22_col1\" class=\"data row22 col1\" >0</td>\n      <td id=\"T_d0937_row22_col2\" class=\"data row22 col2\" >0</td>\n      <td id=\"T_d0937_row22_col3\" class=\"data row22 col3\" >0</td>\n      <td id=\"T_d0937_row22_col4\" class=\"data row22 col4\" >0</td>\n      <td id=\"T_d0937_row22_col5\" class=\"data row22 col5\" >0</td>\n      <td id=\"T_d0937_row22_col6\" class=\"data row22 col6\" >0</td>\n    </tr>\n    <tr>\n      <th id=\"T_d0937_level0_row23\" class=\"row_heading level0 row23\" >96</th>\n      <td id=\"T_d0937_row23_col0\" class=\"data row23 col0\" >1</td>\n      <td id=\"T_d0937_row23_col1\" class=\"data row23 col1\" >0</td>\n      <td id=\"T_d0937_row23_col2\" class=\"data row23 col2\" >1</td>\n      <td id=\"T_d0937_row23_col3\" class=\"data row23 col3\" >0</td>\n      <td id=\"T_d0937_row23_col4\" class=\"data row23 col4\" >0</td>\n      <td id=\"T_d0937_row23_col5\" class=\"data row23 col5\" >0</td>\n      <td id=\"T_d0937_row23_col6\" class=\"data row23 col6\" >0</td>\n    </tr>\n    <tr>\n      <th id=\"T_d0937_level0_row24\" class=\"row_heading level0 row24\" >97</th>\n      <td id=\"T_d0937_row24_col0\" class=\"data row24 col0\" >0</td>\n      <td id=\"T_d0937_row24_col1\" class=\"data row24 col1\" >0</td>\n      <td id=\"T_d0937_row24_col2\" class=\"data row24 col2\" >1</td>\n      <td id=\"T_d0937_row24_col3\" class=\"data row24 col3\" >0</td>\n      <td id=\"T_d0937_row24_col4\" class=\"data row24 col4\" >0</td>\n      <td id=\"T_d0937_row24_col5\" class=\"data row24 col5\" >0</td>\n      <td id=\"T_d0937_row24_col6\" class=\"data row24 col6\" >0</td>\n    </tr>\n    <tr>\n      <th id=\"T_d0937_level0_row25\" class=\"row_heading level0 row25\" >99</th>\n      <td id=\"T_d0937_row25_col0\" class=\"data row25 col0\" >1</td>\n      <td id=\"T_d0937_row25_col1\" class=\"data row25 col1\" >0</td>\n      <td id=\"T_d0937_row25_col2\" class=\"data row25 col2\" >0</td>\n      <td id=\"T_d0937_row25_col3\" class=\"data row25 col3\" >0</td>\n      <td id=\"T_d0937_row25_col4\" class=\"data row25 col4\" >0</td>\n      <td id=\"T_d0937_row25_col5\" class=\"data row25 col5\" >0</td>\n      <td id=\"T_d0937_row25_col6\" class=\"data row25 col6\" >0</td>\n    </tr>\n    <tr>\n      <th id=\"T_d0937_level0_row26\" class=\"row_heading level0 row26\" >100</th>\n      <td id=\"T_d0937_row26_col0\" class=\"data row26 col0\" >0</td>\n      <td id=\"T_d0937_row26_col1\" class=\"data row26 col1\" >0</td>\n      <td id=\"T_d0937_row26_col2\" class=\"data row26 col2\" >0</td>\n      <td id=\"T_d0937_row26_col3\" class=\"data row26 col3\" >0</td>\n      <td id=\"T_d0937_row26_col4\" class=\"data row26 col4\" >0</td>\n      <td id=\"T_d0937_row26_col5\" class=\"data row26 col5\" >1</td>\n      <td id=\"T_d0937_row26_col6\" class=\"data row26 col6\" >0</td>\n    </tr>\n    <tr>\n      <th id=\"T_d0937_level0_row27\" class=\"row_heading level0 row27\" >103</th>\n      <td id=\"T_d0937_row27_col0\" class=\"data row27 col0\" >1</td>\n      <td id=\"T_d0937_row27_col1\" class=\"data row27 col1\" >0</td>\n      <td id=\"T_d0937_row27_col2\" class=\"data row27 col2\" >0</td>\n      <td id=\"T_d0937_row27_col3\" class=\"data row27 col3\" >0</td>\n      <td id=\"T_d0937_row27_col4\" class=\"data row27 col4\" >0</td>\n      <td id=\"T_d0937_row27_col5\" class=\"data row27 col5\" >0</td>\n      <td id=\"T_d0937_row27_col6\" class=\"data row27 col6\" >0</td>\n    </tr>\n    <tr>\n      <th id=\"T_d0937_level0_row28\" class=\"row_heading level0 row28\" >105</th>\n      <td id=\"T_d0937_row28_col0\" class=\"data row28 col0\" >2</td>\n      <td id=\"T_d0937_row28_col1\" class=\"data row28 col1\" >1</td>\n      <td id=\"T_d0937_row28_col2\" class=\"data row28 col2\" >0</td>\n      <td id=\"T_d0937_row28_col3\" class=\"data row28 col3\" >0</td>\n      <td id=\"T_d0937_row28_col4\" class=\"data row28 col4\" >0</td>\n      <td id=\"T_d0937_row28_col5\" class=\"data row28 col5\" >0</td>\n      <td id=\"T_d0937_row28_col6\" class=\"data row28 col6\" >0</td>\n    </tr>\n    <tr>\n      <th id=\"T_d0937_level0_row29\" class=\"row_heading level0 row29\" >132</th>\n      <td id=\"T_d0937_row29_col0\" class=\"data row29 col0\" >1</td>\n      <td id=\"T_d0937_row29_col1\" class=\"data row29 col1\" >0</td>\n      <td id=\"T_d0937_row29_col2\" class=\"data row29 col2\" >0</td>\n      <td id=\"T_d0937_row29_col3\" class=\"data row29 col3\" >0</td>\n      <td id=\"T_d0937_row29_col4\" class=\"data row29 col4\" >0</td>\n      <td id=\"T_d0937_row29_col5\" class=\"data row29 col5\" >0</td>\n      <td id=\"T_d0937_row29_col6\" class=\"data row29 col6\" >0</td>\n    </tr>\n    <tr>\n      <th id=\"T_d0937_level0_row30\" class=\"row_heading level0 row30\" >134</th>\n      <td id=\"T_d0937_row30_col0\" class=\"data row30 col0\" >0</td>\n      <td id=\"T_d0937_row30_col1\" class=\"data row30 col1\" >0</td>\n      <td id=\"T_d0937_row30_col2\" class=\"data row30 col2\" >0</td>\n      <td id=\"T_d0937_row30_col3\" class=\"data row30 col3\" >0</td>\n      <td id=\"T_d0937_row30_col4\" class=\"data row30 col4\" >1</td>\n      <td id=\"T_d0937_row30_col5\" class=\"data row30 col5\" >0</td>\n      <td id=\"T_d0937_row30_col6\" class=\"data row30 col6\" >0</td>\n    </tr>\n    <tr>\n      <th id=\"T_d0937_level0_row31\" class=\"row_heading level0 row31\" >137</th>\n      <td id=\"T_d0937_row31_col0\" class=\"data row31 col0\" >1</td>\n      <td id=\"T_d0937_row31_col1\" class=\"data row31 col1\" >0</td>\n      <td id=\"T_d0937_row31_col2\" class=\"data row31 col2\" >0</td>\n      <td id=\"T_d0937_row31_col3\" class=\"data row31 col3\" >0</td>\n      <td id=\"T_d0937_row31_col4\" class=\"data row31 col4\" >0</td>\n      <td id=\"T_d0937_row31_col5\" class=\"data row31 col5\" >0</td>\n      <td id=\"T_d0937_row31_col6\" class=\"data row31 col6\" >0</td>\n    </tr>\n    <tr>\n      <th id=\"T_d0937_level0_row32\" class=\"row_heading level0 row32\" >140</th>\n      <td id=\"T_d0937_row32_col0\" class=\"data row32 col0\" >2</td>\n      <td id=\"T_d0937_row32_col1\" class=\"data row32 col1\" >0</td>\n      <td id=\"T_d0937_row32_col2\" class=\"data row32 col2\" >9</td>\n      <td id=\"T_d0937_row32_col3\" class=\"data row32 col3\" >0</td>\n      <td id=\"T_d0937_row32_col4\" class=\"data row32 col4\" >0</td>\n      <td id=\"T_d0937_row32_col5\" class=\"data row32 col5\" >0</td>\n      <td id=\"T_d0937_row32_col6\" class=\"data row32 col6\" >2</td>\n    </tr>\n    <tr>\n      <th id=\"T_d0937_level0_row33\" class=\"row_heading level0 row33\" >142</th>\n      <td id=\"T_d0937_row33_col0\" class=\"data row33 col0\" >122</td>\n      <td id=\"T_d0937_row33_col1\" class=\"data row33 col1\" >33</td>\n      <td id=\"T_d0937_row33_col2\" class=\"data row33 col2\" >25</td>\n      <td id=\"T_d0937_row33_col3\" class=\"data row33 col3\" >0</td>\n      <td id=\"T_d0937_row33_col4\" class=\"data row33 col4\" >0</td>\n      <td id=\"T_d0937_row33_col5\" class=\"data row33 col5\" >0</td>\n      <td id=\"T_d0937_row33_col6\" class=\"data row33 col6\" >0</td>\n    </tr>\n    <tr>\n      <th id=\"T_d0937_level0_row34\" class=\"row_heading level0 row34\" >143</th>\n      <td id=\"T_d0937_row34_col0\" class=\"data row34 col0\" >0</td>\n      <td id=\"T_d0937_row34_col1\" class=\"data row34 col1\" >109</td>\n      <td id=\"T_d0937_row34_col2\" class=\"data row34 col2\" >3</td>\n      <td id=\"T_d0937_row34_col3\" class=\"data row34 col3\" >0</td>\n      <td id=\"T_d0937_row34_col4\" class=\"data row34 col4\" >0</td>\n      <td id=\"T_d0937_row34_col5\" class=\"data row34 col5\" >0</td>\n      <td id=\"T_d0937_row34_col6\" class=\"data row34 col6\" >0</td>\n    </tr>\n    <tr>\n      <th id=\"T_d0937_level0_row35\" class=\"row_heading level0 row35\" >144</th>\n      <td id=\"T_d0937_row35_col0\" class=\"data row35 col0\" >0</td>\n      <td id=\"T_d0937_row35_col1\" class=\"data row35 col1\" >100</td>\n      <td id=\"T_d0937_row35_col2\" class=\"data row35 col2\" >1</td>\n      <td id=\"T_d0937_row35_col3\" class=\"data row35 col3\" >0</td>\n      <td id=\"T_d0937_row35_col4\" class=\"data row35 col4\" >0</td>\n      <td id=\"T_d0937_row35_col5\" class=\"data row35 col5\" >0</td>\n      <td id=\"T_d0937_row35_col6\" class=\"data row35 col6\" >0</td>\n    </tr>\n    <tr>\n      <th id=\"T_d0937_level0_row36\" class=\"row_heading level0 row36\" >145</th>\n      <td id=\"T_d0937_row36_col0\" class=\"data row36 col0\" >0</td>\n      <td id=\"T_d0937_row36_col1\" class=\"data row36 col1\" >74</td>\n      <td id=\"T_d0937_row36_col2\" class=\"data row36 col2\" >0</td>\n      <td id=\"T_d0937_row36_col3\" class=\"data row36 col3\" >0</td>\n      <td id=\"T_d0937_row36_col4\" class=\"data row36 col4\" >0</td>\n      <td id=\"T_d0937_row36_col5\" class=\"data row36 col5\" >0</td>\n      <td id=\"T_d0937_row36_col6\" class=\"data row36 col6\" >0</td>\n    </tr>\n    <tr>\n      <th id=\"T_d0937_level0_row37\" class=\"row_heading level0 row37\" >163</th>\n      <td id=\"T_d0937_row37_col0\" class=\"data row37 col0\" >0</td>\n      <td id=\"T_d0937_row37_col1\" class=\"data row37 col1\" >0</td>\n      <td id=\"T_d0937_row37_col2\" class=\"data row37 col2\" >5</td>\n      <td id=\"T_d0937_row37_col3\" class=\"data row37 col3\" >1</td>\n      <td id=\"T_d0937_row37_col4\" class=\"data row37 col4\" >0</td>\n      <td id=\"T_d0937_row37_col5\" class=\"data row37 col5\" >0</td>\n      <td id=\"T_d0937_row37_col6\" class=\"data row37 col6\" >0</td>\n    </tr>\n    <tr>\n      <th id=\"T_d0937_level0_row38\" class=\"row_heading level0 row38\" >164</th>\n      <td id=\"T_d0937_row38_col0\" class=\"data row38 col0\" >1</td>\n      <td id=\"T_d0937_row38_col1\" class=\"data row38 col1\" >4</td>\n      <td id=\"T_d0937_row38_col2\" class=\"data row38 col2\" >7</td>\n      <td id=\"T_d0937_row38_col3\" class=\"data row38 col3\" >0</td>\n      <td id=\"T_d0937_row38_col4\" class=\"data row38 col4\" >0</td>\n      <td id=\"T_d0937_row38_col5\" class=\"data row38 col5\" >0</td>\n      <td id=\"T_d0937_row38_col6\" class=\"data row38 col6\" >2</td>\n    </tr>\n    <tr>\n      <th id=\"T_d0937_level0_row39\" class=\"row_heading level0 row39\" >165</th>\n      <td id=\"T_d0937_row39_col0\" class=\"data row39 col0\" >107</td>\n      <td id=\"T_d0937_row39_col1\" class=\"data row39 col1\" >0</td>\n      <td id=\"T_d0937_row39_col2\" class=\"data row39 col2\" >0</td>\n      <td id=\"T_d0937_row39_col3\" class=\"data row39 col3\" >0</td>\n      <td id=\"T_d0937_row39_col4\" class=\"data row39 col4\" >0</td>\n      <td id=\"T_d0937_row39_col5\" class=\"data row39 col5\" >0</td>\n      <td id=\"T_d0937_row39_col6\" class=\"data row39 col6\" >0</td>\n    </tr>\n    <tr>\n      <th id=\"T_d0937_level0_row40\" class=\"row_heading level0 row40\" >166</th>\n      <td id=\"T_d0937_row40_col0\" class=\"data row40 col0\" >179</td>\n      <td id=\"T_d0937_row40_col1\" class=\"data row40 col1\" >212</td>\n      <td id=\"T_d0937_row40_col2\" class=\"data row40 col2\" >33</td>\n      <td id=\"T_d0937_row40_col3\" class=\"data row40 col3\" >1</td>\n      <td id=\"T_d0937_row40_col4\" class=\"data row40 col4\" >0</td>\n      <td id=\"T_d0937_row40_col5\" class=\"data row40 col5\" >0</td>\n      <td id=\"T_d0937_row40_col6\" class=\"data row40 col6\" >0</td>\n    </tr>\n    <tr>\n      <th id=\"T_d0937_level0_row41\" class=\"row_heading level0 row41\" >167</th>\n      <td id=\"T_d0937_row41_col0\" class=\"data row41 col0\" >1</td>\n      <td id=\"T_d0937_row41_col1\" class=\"data row41 col1\" >0</td>\n      <td id=\"T_d0937_row41_col2\" class=\"data row41 col2\" >0</td>\n      <td id=\"T_d0937_row41_col3\" class=\"data row41 col3\" >0</td>\n      <td id=\"T_d0937_row41_col4\" class=\"data row41 col4\" >0</td>\n      <td id=\"T_d0937_row41_col5\" class=\"data row41 col5\" >0</td>\n      <td id=\"T_d0937_row41_col6\" class=\"data row41 col6\" >0</td>\n    </tr>\n    <tr>\n      <th id=\"T_d0937_level0_row42\" class=\"row_heading level0 row42\" >168</th>\n      <td id=\"T_d0937_row42_col0\" class=\"data row42 col0\" >2</td>\n      <td id=\"T_d0937_row42_col1\" class=\"data row42 col1\" >0</td>\n      <td id=\"T_d0937_row42_col2\" class=\"data row42 col2\" >0</td>\n      <td id=\"T_d0937_row42_col3\" class=\"data row42 col3\" >0</td>\n      <td id=\"T_d0937_row42_col4\" class=\"data row42 col4\" >0</td>\n      <td id=\"T_d0937_row42_col5\" class=\"data row42 col5\" >0</td>\n      <td id=\"T_d0937_row42_col6\" class=\"data row42 col6\" >0</td>\n    </tr>\n    <tr>\n      <th id=\"T_d0937_level0_row43\" class=\"row_heading level0 row43\" >171</th>\n      <td id=\"T_d0937_row43_col0\" class=\"data row43 col0\" >1</td>\n      <td id=\"T_d0937_row43_col1\" class=\"data row43 col1\" >0</td>\n      <td id=\"T_d0937_row43_col2\" class=\"data row43 col2\" >0</td>\n      <td id=\"T_d0937_row43_col3\" class=\"data row43 col3\" >0</td>\n      <td id=\"T_d0937_row43_col4\" class=\"data row43 col4\" >0</td>\n      <td id=\"T_d0937_row43_col5\" class=\"data row43 col5\" >0</td>\n      <td id=\"T_d0937_row43_col6\" class=\"data row43 col6\" >0</td>\n    </tr>\n    <tr>\n      <th id=\"T_d0937_level0_row44\" class=\"row_heading level0 row44\" >172</th>\n      <td id=\"T_d0937_row44_col0\" class=\"data row44 col0\" >0</td>\n      <td id=\"T_d0937_row44_col1\" class=\"data row44 col1\" >0</td>\n      <td id=\"T_d0937_row44_col2\" class=\"data row44 col2\" >2</td>\n      <td id=\"T_d0937_row44_col3\" class=\"data row44 col3\" >1</td>\n      <td id=\"T_d0937_row44_col4\" class=\"data row44 col4\" >0</td>\n      <td id=\"T_d0937_row44_col5\" class=\"data row44 col5\" >0</td>\n      <td id=\"T_d0937_row44_col6\" class=\"data row44 col6\" >0</td>\n    </tr>\n    <tr>\n      <th id=\"T_d0937_level0_row45\" class=\"row_heading level0 row45\" >178</th>\n      <td id=\"T_d0937_row45_col0\" class=\"data row45 col0\" >2</td>\n      <td id=\"T_d0937_row45_col1\" class=\"data row45 col1\" >0</td>\n      <td id=\"T_d0937_row45_col2\" class=\"data row45 col2\" >0</td>\n      <td id=\"T_d0937_row45_col3\" class=\"data row45 col3\" >2</td>\n      <td id=\"T_d0937_row45_col4\" class=\"data row45 col4\" >0</td>\n      <td id=\"T_d0937_row45_col5\" class=\"data row45 col5\" >0</td>\n      <td id=\"T_d0937_row45_col6\" class=\"data row45 col6\" >0</td>\n    </tr>\n    <tr>\n      <th id=\"T_d0937_level0_row46\" class=\"row_heading level0 row46\" >183</th>\n      <td id=\"T_d0937_row46_col0\" class=\"data row46 col0\" >0</td>\n      <td id=\"T_d0937_row46_col1\" class=\"data row46 col1\" >1</td>\n      <td id=\"T_d0937_row46_col2\" class=\"data row46 col2\" >0</td>\n      <td id=\"T_d0937_row46_col3\" class=\"data row46 col3\" >0</td>\n      <td id=\"T_d0937_row46_col4\" class=\"data row46 col4\" >0</td>\n      <td id=\"T_d0937_row46_col5\" class=\"data row46 col5\" >0</td>\n      <td id=\"T_d0937_row46_col6\" class=\"data row46 col6\" >0</td>\n    </tr>\n    <tr>\n      <th id=\"T_d0937_level0_row47\" class=\"row_heading level0 row47\" >186</th>\n      <td id=\"T_d0937_row47_col0\" class=\"data row47 col0\" >3</td>\n      <td id=\"T_d0937_row47_col1\" class=\"data row47 col1\" >0</td>\n      <td id=\"T_d0937_row47_col2\" class=\"data row47 col2\" >0</td>\n      <td id=\"T_d0937_row47_col3\" class=\"data row47 col3\" >0</td>\n      <td id=\"T_d0937_row47_col4\" class=\"data row47 col4\" >0</td>\n      <td id=\"T_d0937_row47_col5\" class=\"data row47 col5\" >0</td>\n      <td id=\"T_d0937_row47_col6\" class=\"data row47 col6\" >0</td>\n    </tr>\n    <tr>\n      <th id=\"T_d0937_level0_row48\" class=\"row_heading level0 row48\" >187</th>\n      <td id=\"T_d0937_row48_col0\" class=\"data row48 col0\" >20</td>\n      <td id=\"T_d0937_row48_col1\" class=\"data row48 col1\" >0</td>\n      <td id=\"T_d0937_row48_col2\" class=\"data row48 col2\" >0</td>\n      <td id=\"T_d0937_row48_col3\" class=\"data row48 col3\" >0</td>\n      <td id=\"T_d0937_row48_col4\" class=\"data row48 col4\" >0</td>\n      <td id=\"T_d0937_row48_col5\" class=\"data row48 col5\" >0</td>\n      <td id=\"T_d0937_row48_col6\" class=\"data row48 col6\" >0</td>\n    </tr>\n    <tr>\n      <th id=\"T_d0937_level0_row49\" class=\"row_heading level0 row49\" >188</th>\n      <td id=\"T_d0937_row49_col0\" class=\"data row49 col0\" >0</td>\n      <td id=\"T_d0937_row49_col1\" class=\"data row49 col1\" >2</td>\n      <td id=\"T_d0937_row49_col2\" class=\"data row49 col2\" >2</td>\n      <td id=\"T_d0937_row49_col3\" class=\"data row49 col3\" >0</td>\n      <td id=\"T_d0937_row49_col4\" class=\"data row49 col4\" >0</td>\n      <td id=\"T_d0937_row49_col5\" class=\"data row49 col5\" >0</td>\n      <td id=\"T_d0937_row49_col6\" class=\"data row49 col6\" >0</td>\n    </tr>\n    <tr>\n      <th id=\"T_d0937_level0_row50\" class=\"row_heading level0 row50\" >189</th>\n      <td id=\"T_d0937_row50_col0\" class=\"data row50 col0\" >94</td>\n      <td id=\"T_d0937_row50_col1\" class=\"data row50 col1\" >16</td>\n      <td id=\"T_d0937_row50_col2\" class=\"data row50 col2\" >7</td>\n      <td id=\"T_d0937_row50_col3\" class=\"data row50 col3\" >0</td>\n      <td id=\"T_d0937_row50_col4\" class=\"data row50 col4\" >0</td>\n      <td id=\"T_d0937_row50_col5\" class=\"data row50 col5\" >0</td>\n      <td id=\"T_d0937_row50_col6\" class=\"data row50 col6\" >0</td>\n    </tr>\n    <tr>\n      <th id=\"T_d0937_level0_row51\" class=\"row_heading level0 row51\" >190</th>\n      <td id=\"T_d0937_row51_col0\" class=\"data row51 col0\" >1</td>\n      <td id=\"T_d0937_row51_col1\" class=\"data row51 col1\" >1</td>\n      <td id=\"T_d0937_row51_col2\" class=\"data row51 col2\" >1</td>\n      <td id=\"T_d0937_row51_col3\" class=\"data row51 col3\" >0</td>\n      <td id=\"T_d0937_row51_col4\" class=\"data row51 col4\" >0</td>\n      <td id=\"T_d0937_row51_col5\" class=\"data row51 col5\" >0</td>\n      <td id=\"T_d0937_row51_col6\" class=\"data row51 col6\" >0</td>\n    </tr>\n    <tr>\n      <th id=\"T_d0937_level0_row52\" class=\"row_heading level0 row52\" >191</th>\n      <td id=\"T_d0937_row52_col0\" class=\"data row52 col0\" >1</td>\n      <td id=\"T_d0937_row52_col1\" class=\"data row52 col1\" >0</td>\n      <td id=\"T_d0937_row52_col2\" class=\"data row52 col2\" >1</td>\n      <td id=\"T_d0937_row52_col3\" class=\"data row52 col3\" >0</td>\n      <td id=\"T_d0937_row52_col4\" class=\"data row52 col4\" >0</td>\n      <td id=\"T_d0937_row52_col5\" class=\"data row52 col5\" >0</td>\n      <td id=\"T_d0937_row52_col6\" class=\"data row52 col6\" >0</td>\n    </tr>\n    <tr>\n      <th id=\"T_d0937_level0_row53\" class=\"row_heading level0 row53\" >192</th>\n      <td id=\"T_d0937_row53_col0\" class=\"data row53 col0\" >0</td>\n      <td id=\"T_d0937_row53_col1\" class=\"data row53 col1\" >10</td>\n      <td id=\"T_d0937_row53_col2\" class=\"data row53 col2\" >0</td>\n      <td id=\"T_d0937_row53_col3\" class=\"data row53 col3\" >0</td>\n      <td id=\"T_d0937_row53_col4\" class=\"data row53 col4\" >0</td>\n      <td id=\"T_d0937_row53_col5\" class=\"data row53 col5\" >0</td>\n      <td id=\"T_d0937_row53_col6\" class=\"data row53 col6\" >0</td>\n    </tr>\n    <tr>\n      <th id=\"T_d0937_level0_row54\" class=\"row_heading level0 row54\" >198</th>\n      <td id=\"T_d0937_row54_col0\" class=\"data row54 col0\" >3</td>\n      <td id=\"T_d0937_row54_col1\" class=\"data row54 col1\" >1</td>\n      <td id=\"T_d0937_row54_col2\" class=\"data row54 col2\" >0</td>\n      <td id=\"T_d0937_row54_col3\" class=\"data row54 col3\" >0</td>\n      <td id=\"T_d0937_row54_col4\" class=\"data row54 col4\" >0</td>\n      <td id=\"T_d0937_row54_col5\" class=\"data row54 col5\" >0</td>\n      <td id=\"T_d0937_row54_col6\" class=\"data row54 col6\" >0</td>\n    </tr>\n    <tr>\n      <th id=\"T_d0937_level0_row55\" class=\"row_heading level0 row55\" >238</th>\n      <td id=\"T_d0937_row55_col0\" class=\"data row55 col0\" >0</td>\n      <td id=\"T_d0937_row55_col1\" class=\"data row55 col1\" >1</td>\n      <td id=\"T_d0937_row55_col2\" class=\"data row55 col2\" >0</td>\n      <td id=\"T_d0937_row55_col3\" class=\"data row55 col3\" >0</td>\n      <td id=\"T_d0937_row55_col4\" class=\"data row55 col4\" >0</td>\n      <td id=\"T_d0937_row55_col5\" class=\"data row55 col5\" >0</td>\n      <td id=\"T_d0937_row55_col6\" class=\"data row55 col6\" >0</td>\n    </tr>\n    <tr>\n      <th id=\"T_d0937_level0_row56\" class=\"row_heading level0 row56\" >240</th>\n      <td id=\"T_d0937_row56_col0\" class=\"data row56 col0\" >0</td>\n      <td id=\"T_d0937_row56_col1\" class=\"data row56 col1\" >0</td>\n      <td id=\"T_d0937_row56_col2\" class=\"data row56 col2\" >1</td>\n      <td id=\"T_d0937_row56_col3\" class=\"data row56 col3\" >2</td>\n      <td id=\"T_d0937_row56_col4\" class=\"data row56 col4\" >0</td>\n      <td id=\"T_d0937_row56_col5\" class=\"data row56 col5\" >0</td>\n      <td id=\"T_d0937_row56_col6\" class=\"data row56 col6\" >0</td>\n    </tr>\n    <tr>\n      <th id=\"T_d0937_level0_row57\" class=\"row_heading level0 row57\" >272</th>\n      <td id=\"T_d0937_row57_col0\" class=\"data row57 col0\" >0</td>\n      <td id=\"T_d0937_row57_col1\" class=\"data row57 col1\" >0</td>\n      <td id=\"T_d0937_row57_col2\" class=\"data row57 col2\" >2</td>\n      <td id=\"T_d0937_row57_col3\" class=\"data row57 col3\" >0</td>\n      <td id=\"T_d0937_row57_col4\" class=\"data row57 col4\" >0</td>\n      <td id=\"T_d0937_row57_col5\" class=\"data row57 col5\" >0</td>\n      <td id=\"T_d0937_row57_col6\" class=\"data row57 col6\" >0</td>\n    </tr>\n    <tr>\n      <th id=\"T_d0937_level0_row58\" class=\"row_heading level0 row58\" >286</th>\n      <td id=\"T_d0937_row58_col0\" class=\"data row58 col0\" >2</td>\n      <td id=\"T_d0937_row58_col1\" class=\"data row58 col1\" >0</td>\n      <td id=\"T_d0937_row58_col2\" class=\"data row58 col2\" >0</td>\n      <td id=\"T_d0937_row58_col3\" class=\"data row58 col3\" >0</td>\n      <td id=\"T_d0937_row58_col4\" class=\"data row58 col4\" >0</td>\n      <td id=\"T_d0937_row58_col5\" class=\"data row58 col5\" >0</td>\n      <td id=\"T_d0937_row58_col6\" class=\"data row58 col6\" >0</td>\n    </tr>\n    <tr>\n      <th id=\"T_d0937_level0_row59\" class=\"row_heading level0 row59\" >287</th>\n      <td id=\"T_d0937_row59_col0\" class=\"data row59 col0\" >2</td>\n      <td id=\"T_d0937_row59_col1\" class=\"data row59 col1\" >0</td>\n      <td id=\"T_d0937_row59_col2\" class=\"data row59 col2\" >0</td>\n      <td id=\"T_d0937_row59_col3\" class=\"data row59 col3\" >0</td>\n      <td id=\"T_d0937_row59_col4\" class=\"data row59 col4\" >0</td>\n      <td id=\"T_d0937_row59_col5\" class=\"data row59 col5\" >0</td>\n      <td id=\"T_d0937_row59_col6\" class=\"data row59 col6\" >0</td>\n    </tr>\n    <tr>\n      <th id=\"T_d0937_level0_row60\" class=\"row_heading level0 row60\" >294</th>\n      <td id=\"T_d0937_row60_col0\" class=\"data row60 col0\" >1</td>\n      <td id=\"T_d0937_row60_col1\" class=\"data row60 col1\" >0</td>\n      <td id=\"T_d0937_row60_col2\" class=\"data row60 col2\" >0</td>\n      <td id=\"T_d0937_row60_col3\" class=\"data row60 col3\" >0</td>\n      <td id=\"T_d0937_row60_col4\" class=\"data row60 col4\" >0</td>\n      <td id=\"T_d0937_row60_col5\" class=\"data row60 col5\" >0</td>\n      <td id=\"T_d0937_row60_col6\" class=\"data row60 col6\" >0</td>\n    </tr>\n    <tr>\n      <th id=\"T_d0937_level0_row61\" class=\"row_heading level0 row61\" >295</th>\n      <td id=\"T_d0937_row61_col0\" class=\"data row61 col0\" >0</td>\n      <td id=\"T_d0937_row61_col1\" class=\"data row61 col1\" >0</td>\n      <td id=\"T_d0937_row61_col2\" class=\"data row61 col2\" >1</td>\n      <td id=\"T_d0937_row61_col3\" class=\"data row61 col3\" >0</td>\n      <td id=\"T_d0937_row61_col4\" class=\"data row61 col4\" >0</td>\n      <td id=\"T_d0937_row61_col5\" class=\"data row61 col5\" >0</td>\n      <td id=\"T_d0937_row61_col6\" class=\"data row61 col6\" >0</td>\n    </tr>\n    <tr>\n      <th id=\"T_d0937_level0_row62\" class=\"row_heading level0 row62\" >298</th>\n      <td id=\"T_d0937_row62_col0\" class=\"data row62 col0\" >1</td>\n      <td id=\"T_d0937_row62_col1\" class=\"data row62 col1\" >0</td>\n      <td id=\"T_d0937_row62_col2\" class=\"data row62 col2\" >0</td>\n      <td id=\"T_d0937_row62_col3\" class=\"data row62 col3\" >0</td>\n      <td id=\"T_d0937_row62_col4\" class=\"data row62 col4\" >0</td>\n      <td id=\"T_d0937_row62_col5\" class=\"data row62 col5\" >0</td>\n      <td id=\"T_d0937_row62_col6\" class=\"data row62 col6\" >0</td>\n    </tr>\n    <tr>\n      <th id=\"T_d0937_level0_row63\" class=\"row_heading level0 row63\" >299</th>\n      <td id=\"T_d0937_row63_col0\" class=\"data row63 col0\" >0</td>\n      <td id=\"T_d0937_row63_col1\" class=\"data row63 col1\" >1</td>\n      <td id=\"T_d0937_row63_col2\" class=\"data row63 col2\" >0</td>\n      <td id=\"T_d0937_row63_col3\" class=\"data row63 col3\" >0</td>\n      <td id=\"T_d0937_row63_col4\" class=\"data row63 col4\" >0</td>\n      <td id=\"T_d0937_row63_col5\" class=\"data row63 col5\" >0</td>\n      <td id=\"T_d0937_row63_col6\" class=\"data row63 col6\" >0</td>\n    </tr>\n  </tbody>\n</table>\n"
     },
     "metadata": {},
     "execution_count": 20
    }
   ],
   "source": [
    "fp.style.background_gradient(axis=None, cmap=\"YlGnBu\")"
   ]
  },
  {
   "cell_type": "markdown",
   "metadata": {},
   "source": [
    "This fingerprint is too sparse, let's try to focus on the hotspots only (arbitrarily defined now as \"residue with more than 10 total interactions, regardless the type\")"
   ]
  },
  {
   "cell_type": "code",
   "execution_count": 21,
   "metadata": {},
   "outputs": [],
   "source": [
    "fp_focused = fp[fp.sum(axis=1) > 10]"
   ]
  },
  {
   "cell_type": "code",
   "execution_count": 22,
   "metadata": {},
   "outputs": [
    {
     "output_type": "execute_result",
     "data": {
      "text/plain": [
       "<pandas.io.formats.style.Styler at 0x7fdac2799670>"
      ],
      "text/html": "<style type=\"text/css\">\n#T_88010_row0_col0 {\n  background-color: #f0f9b7;\n  color: #000000;\n}\n#T_88010_row0_col1, #T_88010_row5_col2 {\n  background-color: #fdfed5;\n  color: #000000;\n}\n#T_88010_row0_col2, #T_88010_row0_col3, #T_88010_row0_col4, #T_88010_row0_col5, #T_88010_row0_col6, #T_88010_row1_col6, #T_88010_row2_col1, #T_88010_row2_col2, #T_88010_row2_col3, #T_88010_row2_col4, #T_88010_row2_col5, #T_88010_row3_col1, #T_88010_row3_col3, #T_88010_row3_col4, #T_88010_row3_col5, #T_88010_row4_col3, #T_88010_row4_col4, #T_88010_row4_col5, #T_88010_row4_col6, #T_88010_row5_col0, #T_88010_row5_col3, #T_88010_row5_col4, #T_88010_row5_col5, #T_88010_row5_col6, #T_88010_row6_col0, #T_88010_row6_col3, #T_88010_row6_col4, #T_88010_row6_col5, #T_88010_row6_col6, #T_88010_row7_col0, #T_88010_row7_col2, #T_88010_row7_col3, #T_88010_row7_col4, #T_88010_row7_col5, #T_88010_row7_col6, #T_88010_row8_col3, #T_88010_row8_col4, #T_88010_row8_col5, #T_88010_row9_col1, #T_88010_row9_col2, #T_88010_row9_col3, #T_88010_row9_col4, #T_88010_row9_col5, #T_88010_row9_col6, #T_88010_row10_col4, #T_88010_row10_col5, #T_88010_row10_col6, #T_88010_row11_col1, #T_88010_row11_col2, #T_88010_row11_col3, #T_88010_row11_col4, #T_88010_row11_col5, #T_88010_row11_col6, #T_88010_row12_col3, #T_88010_row12_col4, #T_88010_row12_col5, #T_88010_row12_col6 {\n  background-color: #ffffd9;\n  color: #000000;\n}\n#T_88010_row1_col0 {\n  background-color: #e6f5b2;\n  color: #000000;\n}\n#T_88010_row1_col1, #T_88010_row3_col0, #T_88010_row3_col6, #T_88010_row8_col6 {\n  background-color: #feffd6;\n  color: #000000;\n}\n#T_88010_row1_col2 {\n  background-color: #f7fcc7;\n  color: #000000;\n}\n#T_88010_row1_col3, #T_88010_row2_col6, #T_88010_row6_col2, #T_88010_row8_col0, #T_88010_row10_col3 {\n  background-color: #feffd8;\n  color: #000000;\n}\n#T_88010_row1_col4 {\n  background-color: #253595;\n  color: #f1f1f1;\n}\n#T_88010_row1_col5, #T_88010_row12_col1 {\n  background-color: #f4fbc1;\n  color: #000000;\n}\n#T_88010_row2_col0 {\n  background-color: #f3fabf;\n  color: #000000;\n}\n#T_88010_row3_col2 {\n  background-color: #f9fdcc;\n  color: #000000;\n}\n#T_88010_row4_col0 {\n  background-color: #2b9fc2;\n  color: #f1f1f1;\n}\n#T_88010_row4_col1, #T_88010_row10_col2 {\n  background-color: #e5f5b2;\n  color: #000000;\n}\n#T_88010_row4_col2 {\n  background-color: #eef8b3;\n  color: #000000;\n}\n#T_88010_row5_col1 {\n  background-color: #3db2c4;\n  color: #f1f1f1;\n}\n#T_88010_row6_col1 {\n  background-color: #50bbc2;\n  color: #000000;\n}\n#T_88010_row7_col1 {\n  background-color: #8ed3ba;\n  color: #000000;\n}\n#T_88010_row8_col1 {\n  background-color: #fdfed4;\n  color: #000000;\n}\n#T_88010_row8_col2, #T_88010_row12_col2 {\n  background-color: #fafdcf;\n  color: #000000;\n}\n#T_88010_row9_col0 {\n  background-color: #3fb4c4;\n  color: #f1f1f1;\n}\n#T_88010_row10_col0 {\n  background-color: #243d98;\n  color: #f1f1f1;\n}\n#T_88010_row10_col1 {\n  background-color: #081d58;\n  color: #f1f1f1;\n}\n#T_88010_row11_col0 {\n  background-color: #f1fabb;\n  color: #000000;\n}\n#T_88010_row12_col0 {\n  background-color: #5dc0c0;\n  color: #000000;\n}\n</style>\n<table id=\"T_88010_\">\n  <thead>\n    <tr>\n      <th class=\"blank level0\" >&nbsp;</th>\n      <th class=\"col_heading level0 col0\" >hydrophobic</th>\n      <th class=\"col_heading level0 col1\" >hbond-don</th>\n      <th class=\"col_heading level0 col2\" >hbond-acc</th>\n      <th class=\"col_heading level0 col3\" >saltbridge</th>\n      <th class=\"col_heading level0 col4\" >pistacking</th>\n      <th class=\"col_heading level0 col5\" >pication</th>\n      <th class=\"col_heading level0 col6\" >halogen</th>\n    </tr>\n  </thead>\n  <tbody>\n    <tr>\n      <th id=\"T_88010_level0_row0\" class=\"row_heading level0 row0\" >25</th>\n      <td id=\"T_88010_row0_col0\" class=\"data row0 col0\" >23</td>\n      <td id=\"T_88010_row0_col1\" class=\"data row0 col1\" >3</td>\n      <td id=\"T_88010_row0_col2\" class=\"data row0 col2\" >0</td>\n      <td id=\"T_88010_row0_col3\" class=\"data row0 col3\" >0</td>\n      <td id=\"T_88010_row0_col4\" class=\"data row0 col4\" >0</td>\n      <td id=\"T_88010_row0_col5\" class=\"data row0 col5\" >0</td>\n      <td id=\"T_88010_row0_col6\" class=\"data row0 col6\" >0</td>\n    </tr>\n    <tr>\n      <th id=\"T_88010_level0_row1\" class=\"row_heading level0 row1\" >41</th>\n      <td id=\"T_88010_row1_col0\" class=\"data row1 col0\" >32</td>\n      <td id=\"T_88010_row1_col1\" class=\"data row1 col1\" >2</td>\n      <td id=\"T_88010_row1_col2\" class=\"data row1 col2\" >12</td>\n      <td id=\"T_88010_row1_col3\" class=\"data row1 col3\" >1</td>\n      <td id=\"T_88010_row1_col4\" class=\"data row1 col4\" >184</td>\n      <td id=\"T_88010_row1_col5\" class=\"data row1 col5\" >16</td>\n      <td id=\"T_88010_row1_col6\" class=\"data row1 col6\" >0</td>\n    </tr>\n    <tr>\n      <th id=\"T_88010_level0_row2\" class=\"row_heading level0 row2\" >49</th>\n      <td id=\"T_88010_row2_col0\" class=\"data row2 col0\" >18</td>\n      <td id=\"T_88010_row2_col1\" class=\"data row2 col1\" >0</td>\n      <td id=\"T_88010_row2_col2\" class=\"data row2 col2\" >0</td>\n      <td id=\"T_88010_row2_col3\" class=\"data row2 col3\" >0</td>\n      <td id=\"T_88010_row2_col4\" class=\"data row2 col4\" >0</td>\n      <td id=\"T_88010_row2_col5\" class=\"data row2 col5\" >0</td>\n      <td id=\"T_88010_row2_col6\" class=\"data row2 col6\" >1</td>\n    </tr>\n    <tr>\n      <th id=\"T_88010_level0_row3\" class=\"row_heading level0 row3\" >140</th>\n      <td id=\"T_88010_row3_col0\" class=\"data row3 col0\" >2</td>\n      <td id=\"T_88010_row3_col1\" class=\"data row3 col1\" >0</td>\n      <td id=\"T_88010_row3_col2\" class=\"data row3 col2\" >9</td>\n      <td id=\"T_88010_row3_col3\" class=\"data row3 col3\" >0</td>\n      <td id=\"T_88010_row3_col4\" class=\"data row3 col4\" >0</td>\n      <td id=\"T_88010_row3_col5\" class=\"data row3 col5\" >0</td>\n      <td id=\"T_88010_row3_col6\" class=\"data row3 col6\" >2</td>\n    </tr>\n    <tr>\n      <th id=\"T_88010_level0_row4\" class=\"row_heading level0 row4\" >142</th>\n      <td id=\"T_88010_row4_col0\" class=\"data row4 col0\" >122</td>\n      <td id=\"T_88010_row4_col1\" class=\"data row4 col1\" >33</td>\n      <td id=\"T_88010_row4_col2\" class=\"data row4 col2\" >25</td>\n      <td id=\"T_88010_row4_col3\" class=\"data row4 col3\" >0</td>\n      <td id=\"T_88010_row4_col4\" class=\"data row4 col4\" >0</td>\n      <td id=\"T_88010_row4_col5\" class=\"data row4 col5\" >0</td>\n      <td id=\"T_88010_row4_col6\" class=\"data row4 col6\" >0</td>\n    </tr>\n    <tr>\n      <th id=\"T_88010_level0_row5\" class=\"row_heading level0 row5\" >143</th>\n      <td id=\"T_88010_row5_col0\" class=\"data row5 col0\" >0</td>\n      <td id=\"T_88010_row5_col1\" class=\"data row5 col1\" >109</td>\n      <td id=\"T_88010_row5_col2\" class=\"data row5 col2\" >3</td>\n      <td id=\"T_88010_row5_col3\" class=\"data row5 col3\" >0</td>\n      <td id=\"T_88010_row5_col4\" class=\"data row5 col4\" >0</td>\n      <td id=\"T_88010_row5_col5\" class=\"data row5 col5\" >0</td>\n      <td id=\"T_88010_row5_col6\" class=\"data row5 col6\" >0</td>\n    </tr>\n    <tr>\n      <th id=\"T_88010_level0_row6\" class=\"row_heading level0 row6\" >144</th>\n      <td id=\"T_88010_row6_col0\" class=\"data row6 col0\" >0</td>\n      <td id=\"T_88010_row6_col1\" class=\"data row6 col1\" >100</td>\n      <td id=\"T_88010_row6_col2\" class=\"data row6 col2\" >1</td>\n      <td id=\"T_88010_row6_col3\" class=\"data row6 col3\" >0</td>\n      <td id=\"T_88010_row6_col4\" class=\"data row6 col4\" >0</td>\n      <td id=\"T_88010_row6_col5\" class=\"data row6 col5\" >0</td>\n      <td id=\"T_88010_row6_col6\" class=\"data row6 col6\" >0</td>\n    </tr>\n    <tr>\n      <th id=\"T_88010_level0_row7\" class=\"row_heading level0 row7\" >145</th>\n      <td id=\"T_88010_row7_col0\" class=\"data row7 col0\" >0</td>\n      <td id=\"T_88010_row7_col1\" class=\"data row7 col1\" >74</td>\n      <td id=\"T_88010_row7_col2\" class=\"data row7 col2\" >0</td>\n      <td id=\"T_88010_row7_col3\" class=\"data row7 col3\" >0</td>\n      <td id=\"T_88010_row7_col4\" class=\"data row7 col4\" >0</td>\n      <td id=\"T_88010_row7_col5\" class=\"data row7 col5\" >0</td>\n      <td id=\"T_88010_row7_col6\" class=\"data row7 col6\" >0</td>\n    </tr>\n    <tr>\n      <th id=\"T_88010_level0_row8\" class=\"row_heading level0 row8\" >164</th>\n      <td id=\"T_88010_row8_col0\" class=\"data row8 col0\" >1</td>\n      <td id=\"T_88010_row8_col1\" class=\"data row8 col1\" >4</td>\n      <td id=\"T_88010_row8_col2\" class=\"data row8 col2\" >7</td>\n      <td id=\"T_88010_row8_col3\" class=\"data row8 col3\" >0</td>\n      <td id=\"T_88010_row8_col4\" class=\"data row8 col4\" >0</td>\n      <td id=\"T_88010_row8_col5\" class=\"data row8 col5\" >0</td>\n      <td id=\"T_88010_row8_col6\" class=\"data row8 col6\" >2</td>\n    </tr>\n    <tr>\n      <th id=\"T_88010_level0_row9\" class=\"row_heading level0 row9\" >165</th>\n      <td id=\"T_88010_row9_col0\" class=\"data row9 col0\" >107</td>\n      <td id=\"T_88010_row9_col1\" class=\"data row9 col1\" >0</td>\n      <td id=\"T_88010_row9_col2\" class=\"data row9 col2\" >0</td>\n      <td id=\"T_88010_row9_col3\" class=\"data row9 col3\" >0</td>\n      <td id=\"T_88010_row9_col4\" class=\"data row9 col4\" >0</td>\n      <td id=\"T_88010_row9_col5\" class=\"data row9 col5\" >0</td>\n      <td id=\"T_88010_row9_col6\" class=\"data row9 col6\" >0</td>\n    </tr>\n    <tr>\n      <th id=\"T_88010_level0_row10\" class=\"row_heading level0 row10\" >166</th>\n      <td id=\"T_88010_row10_col0\" class=\"data row10 col0\" >179</td>\n      <td id=\"T_88010_row10_col1\" class=\"data row10 col1\" >212</td>\n      <td id=\"T_88010_row10_col2\" class=\"data row10 col2\" >33</td>\n      <td id=\"T_88010_row10_col3\" class=\"data row10 col3\" >1</td>\n      <td id=\"T_88010_row10_col4\" class=\"data row10 col4\" >0</td>\n      <td id=\"T_88010_row10_col5\" class=\"data row10 col5\" >0</td>\n      <td id=\"T_88010_row10_col6\" class=\"data row10 col6\" >0</td>\n    </tr>\n    <tr>\n      <th id=\"T_88010_level0_row11\" class=\"row_heading level0 row11\" >187</th>\n      <td id=\"T_88010_row11_col0\" class=\"data row11 col0\" >20</td>\n      <td id=\"T_88010_row11_col1\" class=\"data row11 col1\" >0</td>\n      <td id=\"T_88010_row11_col2\" class=\"data row11 col2\" >0</td>\n      <td id=\"T_88010_row11_col3\" class=\"data row11 col3\" >0</td>\n      <td id=\"T_88010_row11_col4\" class=\"data row11 col4\" >0</td>\n      <td id=\"T_88010_row11_col5\" class=\"data row11 col5\" >0</td>\n      <td id=\"T_88010_row11_col6\" class=\"data row11 col6\" >0</td>\n    </tr>\n    <tr>\n      <th id=\"T_88010_level0_row12\" class=\"row_heading level0 row12\" >189</th>\n      <td id=\"T_88010_row12_col0\" class=\"data row12 col0\" >94</td>\n      <td id=\"T_88010_row12_col1\" class=\"data row12 col1\" >16</td>\n      <td id=\"T_88010_row12_col2\" class=\"data row12 col2\" >7</td>\n      <td id=\"T_88010_row12_col3\" class=\"data row12 col3\" >0</td>\n      <td id=\"T_88010_row12_col4\" class=\"data row12 col4\" >0</td>\n      <td id=\"T_88010_row12_col5\" class=\"data row12 col5\" >0</td>\n      <td id=\"T_88010_row12_col6\" class=\"data row12 col6\" >0</td>\n    </tr>\n  </tbody>\n</table>\n"
     },
     "metadata": {},
     "execution_count": 22
    }
   ],
   "source": [
    "fp_focused.style.background_gradient(axis=None, cmap=\"YlGnBu\")"
   ]
  },
  {
   "cell_type": "markdown",
   "metadata": {},
   "source": [
    "### Using nglview to color the side chains\n",
    "Adapted from this [gist](https://gist.github.com/dominiquesydow/1aa19cc5583a31bfbd58bc8a066a7705) by Dominique Sydow: "
   ]
  },
  {
   "cell_type": "code",
   "execution_count": 23,
   "metadata": {},
   "outputs": [
    {
     "output_type": "stream",
     "name": "stderr",
     "text": [
      "/Users/williamglass/opt/anaconda3/envs/plipify_dev/lib/python3.8/site-packages/pandas/core/frame.py:3607: SettingWithCopyWarning: \nA value is trying to be set on a copy of a slice from a DataFrame.\nTry using .loc[row_indexer,col_indexer] = value instead\n\nSee the caveats in the documentation: https://pandas.pydata.org/pandas-docs/stable/user_guide/indexing.html#returning-a-view-versus-a-copy\n  self._set_item(key, value)\n"
     ]
    }
   ],
   "source": [
    "# add sum column\n",
    "#cols_to_sum = fp_focused.columns[ : fp_focused.shape[1]]\n",
    "#fp_focused['IA_sum'] = fp_focused[cols_to_sum].sum(axis=1)\n",
    "fp_focused['sum'] = fp_focused.sum(axis=1)"
   ]
  },
  {
   "cell_type": "code",
   "execution_count": 24,
   "metadata": {},
   "outputs": [
    {
     "output_type": "execute_result",
     "data": {
      "text/plain": [
       "     hydrophobic  hbond-don  hbond-acc  saltbridge  pistacking  pication  \\\n",
       "25            23          3          0           0           0         0   \n",
       "41            32          2         12           1         184        16   \n",
       "49            18          0          0           0           0         0   \n",
       "140            2          0          9           0           0         0   \n",
       "142          122         33         25           0           0         0   \n",
       "143            0        109          3           0           0         0   \n",
       "144            0        100          1           0           0         0   \n",
       "145            0         74          0           0           0         0   \n",
       "164            1          4          7           0           0         0   \n",
       "165          107          0          0           0           0         0   \n",
       "166          179        212         33           1           0         0   \n",
       "187           20          0          0           0           0         0   \n",
       "189           94         16          7           0           0         0   \n",
       "\n",
       "     halogen  sum  \n",
       "25         0   26  \n",
       "41         0  247  \n",
       "49         1   19  \n",
       "140        2   13  \n",
       "142        0  180  \n",
       "143        0  112  \n",
       "144        0  101  \n",
       "145        0   74  \n",
       "164        2   14  \n",
       "165        0  107  \n",
       "166        0  425  \n",
       "187        0   20  \n",
       "189        0  117  "
      ],
      "text/html": "<div>\n<style scoped>\n    .dataframe tbody tr th:only-of-type {\n        vertical-align: middle;\n    }\n\n    .dataframe tbody tr th {\n        vertical-align: top;\n    }\n\n    .dataframe thead th {\n        text-align: right;\n    }\n</style>\n<table border=\"1\" class=\"dataframe\">\n  <thead>\n    <tr style=\"text-align: right;\">\n      <th></th>\n      <th>hydrophobic</th>\n      <th>hbond-don</th>\n      <th>hbond-acc</th>\n      <th>saltbridge</th>\n      <th>pistacking</th>\n      <th>pication</th>\n      <th>halogen</th>\n      <th>sum</th>\n    </tr>\n  </thead>\n  <tbody>\n    <tr>\n      <th>25</th>\n      <td>23</td>\n      <td>3</td>\n      <td>0</td>\n      <td>0</td>\n      <td>0</td>\n      <td>0</td>\n      <td>0</td>\n      <td>26</td>\n    </tr>\n    <tr>\n      <th>41</th>\n      <td>32</td>\n      <td>2</td>\n      <td>12</td>\n      <td>1</td>\n      <td>184</td>\n      <td>16</td>\n      <td>0</td>\n      <td>247</td>\n    </tr>\n    <tr>\n      <th>49</th>\n      <td>18</td>\n      <td>0</td>\n      <td>0</td>\n      <td>0</td>\n      <td>0</td>\n      <td>0</td>\n      <td>1</td>\n      <td>19</td>\n    </tr>\n    <tr>\n      <th>140</th>\n      <td>2</td>\n      <td>0</td>\n      <td>9</td>\n      <td>0</td>\n      <td>0</td>\n      <td>0</td>\n      <td>2</td>\n      <td>13</td>\n    </tr>\n    <tr>\n      <th>142</th>\n      <td>122</td>\n      <td>33</td>\n      <td>25</td>\n      <td>0</td>\n      <td>0</td>\n      <td>0</td>\n      <td>0</td>\n      <td>180</td>\n    </tr>\n    <tr>\n      <th>143</th>\n      <td>0</td>\n      <td>109</td>\n      <td>3</td>\n      <td>0</td>\n      <td>0</td>\n      <td>0</td>\n      <td>0</td>\n      <td>112</td>\n    </tr>\n    <tr>\n      <th>144</th>\n      <td>0</td>\n      <td>100</td>\n      <td>1</td>\n      <td>0</td>\n      <td>0</td>\n      <td>0</td>\n      <td>0</td>\n      <td>101</td>\n    </tr>\n    <tr>\n      <th>145</th>\n      <td>0</td>\n      <td>74</td>\n      <td>0</td>\n      <td>0</td>\n      <td>0</td>\n      <td>0</td>\n      <td>0</td>\n      <td>74</td>\n    </tr>\n    <tr>\n      <th>164</th>\n      <td>1</td>\n      <td>4</td>\n      <td>7</td>\n      <td>0</td>\n      <td>0</td>\n      <td>0</td>\n      <td>2</td>\n      <td>14</td>\n    </tr>\n    <tr>\n      <th>165</th>\n      <td>107</td>\n      <td>0</td>\n      <td>0</td>\n      <td>0</td>\n      <td>0</td>\n      <td>0</td>\n      <td>0</td>\n      <td>107</td>\n    </tr>\n    <tr>\n      <th>166</th>\n      <td>179</td>\n      <td>212</td>\n      <td>33</td>\n      <td>1</td>\n      <td>0</td>\n      <td>0</td>\n      <td>0</td>\n      <td>425</td>\n    </tr>\n    <tr>\n      <th>187</th>\n      <td>20</td>\n      <td>0</td>\n      <td>0</td>\n      <td>0</td>\n      <td>0</td>\n      <td>0</td>\n      <td>0</td>\n      <td>20</td>\n    </tr>\n    <tr>\n      <th>189</th>\n      <td>94</td>\n      <td>16</td>\n      <td>7</td>\n      <td>0</td>\n      <td>0</td>\n      <td>0</td>\n      <td>0</td>\n      <td>117</td>\n    </tr>\n  </tbody>\n</table>\n</div>"
     },
     "metadata": {},
     "execution_count": 24
    }
   ],
   "source": [
    "fp_focused"
   ]
  },
  {
   "cell_type": "code",
   "execution_count": 25,
   "metadata": {},
   "outputs": [
    {
     "output_type": "execute_result",
     "data": {
      "text/plain": [
       "425"
      ]
     },
     "metadata": {},
     "execution_count": 25
    }
   ],
   "source": [
    "# prepare color maps\n",
    "max_n_interactions = fp_focused[\"sum\"].max()\n",
    "max_n_interactions"
   ]
  },
  {
   "cell_type": "code",
   "execution_count": 26,
   "metadata": {},
   "outputs": [
    {
     "output_type": "execute_result",
     "data": {
      "text/plain": [
       "<matplotlib.colors.LinearSegmentedColormap at 0x7fdac27aea60>"
      ],
      "text/html": "<div style=\"vertical-align: middle;\"><strong>Reds</strong> </div><div class=\"cmap\"><img alt=\"Reds colormap\" title=\"Reds\" style=\"border: 1px solid #555;\" src=\"data:image/png;base64,iVBORw0KGgoAAAANSUhEUgAAAgAAAABACAYAAABsv8+/AAAAE3RFWHRUaXRsZQBSZWRzIGNvbG9ybWFw8oMNLwAAABl0RVh0RGVzY3JpcHRpb24AUmVkcyBjb2xvcm1hcHkxnbcAAAAwdEVYdEF1dGhvcgBNYXRwbG90bGliIHYzLjQuMiwgaHR0cHM6Ly9tYXRwbG90bGliLm9yZ6zWY90AAAAydEVYdFNvZnR3YXJlAE1hdHBsb3RsaWIgdjMuNC4yLCBodHRwczovL21hdHBsb3RsaWIub3JngnD8+gAAAlNJREFUeJzt1rtuGzEQBVAm//+xadxqUkjLxy5XlpsgwD2nsUSOhrOUBdxf9fWnWmutqlpr1drzXeuqpr93633xzfpp/7K+O/cfzNOf/VXTz51nreveUt9+WL/2r93eu7XLfFPtt/XfzH53B+f9u/53M+3u5tP5382xm/Pu9c3ZtZ1zc/anax/N8v/0H8//3B9f1bTWfzPtWruc10ZtXz9qr+tLbW+zztPXl9r9nGvt+2fqZ80ffdX226lnTU2vj0caR8yzj/drn7qcMV3N647bMufYe/U8vT9ejz7H/Y85l6/ieI7lK3ud04ZxlbWuna6w3/O8P8+zdNj8S0yfPfe99FjOHGcvd3aec7qz2uy3Vu1RY22e7XH0P3+2jr1r/2qt9zvPd/Rc69f5H9MZ5/vZz1lj1s2c1ar3PM959P7dAIA4AgAABBIAACCQAAAAgQQAAAgkAABAIAEAAAIJAAAQSAAAgEACAAAEEgAAIJAAAACBBAAACCQAAEAgAQAAAgkAABBIAACAQAIAAAQSAAAgkAAAAIEEAAAIJAAAQCABAAACCQAAEEgAAIBAAgAABBIAACCQAAAAgQQAAAgkAABAIAEAAAIJAAAQSAAAgEACAAAEEgAAIJAAAACBBAAACCQAAEAgAQAAAgkAABBIAACAQAIAAAQSAAAgkAAAAIEEAAAIJAAAQCABAAACCQAAEEgAAIBAAgAABBIAACCQAAAAgQQAAAgkAABAIAEAAAIJAAAQSAAAgEACAAAEEgAAIJAAAACBBAAACCQAAEAgAQAAAv0FViRqEPhN5nsAAAAASUVORK5CYII=\"></div><div style=\"vertical-align: middle; max-width: 514px; display: flex; justify-content: space-between;\"><div style=\"float: left;\"><div title=\"#fff5f0ff\" style=\"display: inline-block; width: 1em; height: 1em; margin: 0; vertical-align: middle; border: 1px solid #555; background-color: #fff5f0ff;\"></div> under</div><div style=\"margin: 0 auto; display: inline-block;\">bad <div title=\"#00000000\" style=\"display: inline-block; width: 1em; height: 1em; margin: 0; vertical-align: middle; border: 1px solid #555; background-color: #00000000;\"></div></div><div style=\"float: right;\">over <div title=\"#67000dff\" style=\"display: inline-block; width: 1em; height: 1em; margin: 0; vertical-align: middle; border: 1px solid #555; background-color: #67000dff;\"></div></div>",
      "image/png": "[encoded data removed]"
     },
     "metadata": {},
     "execution_count": 26
    }
   ],
   "source": [
    "from matplotlib import cm, colors\n",
    "cmap = cm.get_cmap(\"Reds\", max_n_interactions)\n",
    "cmap"
   ]
  },
  {
   "cell_type": "code",
   "execution_count": 27,
   "metadata": {},
   "outputs": [
    {
     "output_type": "stream",
     "name": "stderr",
     "text": [
      "/Users/williamglass/opt/anaconda3/envs/plipify_dev/lib/python3.8/site-packages/pandas/core/frame.py:3607: SettingWithCopyWarning: \nA value is trying to be set on a copy of a slice from a DataFrame.\nTry using .loc[row_indexer,col_indexer] = value instead\n\nSee the caveats in the documentation: https://pandas.pydata.org/pandas-docs/stable/user_guide/indexing.html#returning-a-view-versus-a-copy\n  self._set_item(key, value)\n"
     ]
    },
    {
     "output_type": "execute_result",
     "data": {
      "text/plain": [
       "     hydrophobic  hbond-don  hbond-acc  saltbridge  pistacking  pication  \\\n",
       "25            23          3          0           0           0         0   \n",
       "41            32          2         12           1         184        16   \n",
       "49            18          0          0           0           0         0   \n",
       "140            2          0          9           0           0         0   \n",
       "142          122         33         25           0           0         0   \n",
       "143            0        109          3           0           0         0   \n",
       "144            0        100          1           0           0         0   \n",
       "145            0         74          0           0           0         0   \n",
       "164            1          4          7           0           0         0   \n",
       "165          107          0          0           0           0         0   \n",
       "166          179        212         33           1           0         0   \n",
       "187           20          0          0           0           0         0   \n",
       "189           94         16          7           0           0         0   \n",
       "\n",
       "     halogen  sum    color residue_id_str  \n",
       "25         0   26  #ffebe1             25  \n",
       "41         0  247  #f34b36             41  \n",
       "49         1   19  #ffede5             49  \n",
       "140        2   13  #fff0e9            140  \n",
       "142        0  180  #fc8262            142  \n",
       "143        0  112  #fcb69c            143  \n",
       "144        0  101  #fcbea6            144  \n",
       "145        0   74  #fdd1bf            145  \n",
       "164        2   14  #ffefe8            164  \n",
       "165        0  107  #fcbaa0            165  \n",
       "166        0  425  #67000d            166  \n",
       "187        0   20  #ffede5            187  \n",
       "189        0  117  #fcb297            189  "
      ],
      "text/html": "<div>\n<style scoped>\n    .dataframe tbody tr th:only-of-type {\n        vertical-align: middle;\n    }\n\n    .dataframe tbody tr th {\n        vertical-align: top;\n    }\n\n    .dataframe thead th {\n        text-align: right;\n    }\n</style>\n<table border=\"1\" class=\"dataframe\">\n  <thead>\n    <tr style=\"text-align: right;\">\n      <th></th>\n      <th>hydrophobic</th>\n      <th>hbond-don</th>\n      <th>hbond-acc</th>\n      <th>saltbridge</th>\n      <th>pistacking</th>\n      <th>pication</th>\n      <th>halogen</th>\n      <th>sum</th>\n      <th>color</th>\n      <th>residue_id_str</th>\n    </tr>\n  </thead>\n  <tbody>\n    <tr>\n      <th>25</th>\n      <td>23</td>\n      <td>3</td>\n      <td>0</td>\n      <td>0</td>\n      <td>0</td>\n      <td>0</td>\n      <td>0</td>\n      <td>26</td>\n      <td>#ffebe1</td>\n      <td>25</td>\n    </tr>\n    <tr>\n      <th>41</th>\n      <td>32</td>\n      <td>2</td>\n      <td>12</td>\n      <td>1</td>\n      <td>184</td>\n      <td>16</td>\n      <td>0</td>\n      <td>247</td>\n      <td>#f34b36</td>\n      <td>41</td>\n    </tr>\n    <tr>\n      <th>49</th>\n      <td>18</td>\n      <td>0</td>\n      <td>0</td>\n      <td>0</td>\n      <td>0</td>\n      <td>0</td>\n      <td>1</td>\n      <td>19</td>\n      <td>#ffede5</td>\n      <td>49</td>\n    </tr>\n    <tr>\n      <th>140</th>\n      <td>2</td>\n      <td>0</td>\n      <td>9</td>\n      <td>0</td>\n      <td>0</td>\n      <td>0</td>\n      <td>2</td>\n      <td>13</td>\n      <td>#fff0e9</td>\n      <td>140</td>\n    </tr>\n    <tr>\n      <th>142</th>\n      <td>122</td>\n      <td>33</td>\n      <td>25</td>\n      <td>0</td>\n      <td>0</td>\n      <td>0</td>\n      <td>0</td>\n      <td>180</td>\n      <td>#fc8262</td>\n      <td>142</td>\n    </tr>\n    <tr>\n      <th>143</th>\n      <td>0</td>\n      <td>109</td>\n      <td>3</td>\n      <td>0</td>\n      <td>0</td>\n      <td>0</td>\n      <td>0</td>\n      <td>112</td>\n      <td>#fcb69c</td>\n      <td>143</td>\n    </tr>\n    <tr>\n      <th>144</th>\n      <td>0</td>\n      <td>100</td>\n      <td>1</td>\n      <td>0</td>\n      <td>0</td>\n      <td>0</td>\n      <td>0</td>\n      <td>101</td>\n      <td>#fcbea6</td>\n      <td>144</td>\n    </tr>\n    <tr>\n      <th>145</th>\n      <td>0</td>\n      <td>74</td>\n      <td>0</td>\n      <td>0</td>\n      <td>0</td>\n      <td>0</td>\n      <td>0</td>\n      <td>74</td>\n      <td>#fdd1bf</td>\n      <td>145</td>\n    </tr>\n    <tr>\n      <th>164</th>\n      <td>1</td>\n      <td>4</td>\n      <td>7</td>\n      <td>0</td>\n      <td>0</td>\n      <td>0</td>\n      <td>2</td>\n      <td>14</td>\n      <td>#ffefe8</td>\n      <td>164</td>\n    </tr>\n    <tr>\n      <th>165</th>\n      <td>107</td>\n      <td>0</td>\n      <td>0</td>\n      <td>0</td>\n      <td>0</td>\n      <td>0</td>\n      <td>0</td>\n      <td>107</td>\n      <td>#fcbaa0</td>\n      <td>165</td>\n    </tr>\n    <tr>\n      <th>166</th>\n      <td>179</td>\n      <td>212</td>\n      <td>33</td>\n      <td>1</td>\n      <td>0</td>\n      <td>0</td>\n      <td>0</td>\n      <td>425</td>\n      <td>#67000d</td>\n      <td>166</td>\n    </tr>\n    <tr>\n      <th>187</th>\n      <td>20</td>\n      <td>0</td>\n      <td>0</td>\n      <td>0</td>\n      <td>0</td>\n      <td>0</td>\n      <td>0</td>\n      <td>20</td>\n      <td>#ffede5</td>\n      <td>187</td>\n    </tr>\n    <tr>\n      <th>189</th>\n      <td>94</td>\n      <td>16</td>\n      <td>7</td>\n      <td>0</td>\n      <td>0</td>\n      <td>0</td>\n      <td>0</td>\n      <td>117</td>\n      <td>#fcb297</td>\n      <td>189</td>\n    </tr>\n  </tbody>\n</table>\n</div>"
     },
     "metadata": {},
     "execution_count": 27
    }
   ],
   "source": [
    "# Get residue-color map\n",
    "# NGLview needs color as hex code\n",
    "fp_focused[\"color\"] = fp_focused[\"sum\"].apply(lambda x: colors.rgb2hex(cmap(x)))\n",
    "# NGLview needs residue IDs as str\n",
    "fp_focused[\"residue_id_str\"] = fp_focused.index.astype(str)\n",
    "fp_focused"
   ]
  },
  {
   "cell_type": "code",
   "execution_count": 28,
   "metadata": {},
   "outputs": [
    {
     "output_type": "execute_result",
     "data": {
      "text/plain": [
       "[['#ffebe1', '25'],\n",
       " ['#f34b36', '41'],\n",
       " ['#ffede5', '49'],\n",
       " ['#fff0e9', '140'],\n",
       " ['#fc8262', '142'],\n",
       " ['#fcb69c', '143'],\n",
       " ['#fcbea6', '144'],\n",
       " ['#fdd1bf', '145'],\n",
       " ['#ffefe8', '164'],\n",
       " ['#fcbaa0', '165'],\n",
       " ['#67000d', '166'],\n",
       " ['#ffede5', '187'],\n",
       " ['#fcb297', '189']]"
      ]
     },
     "metadata": {},
     "execution_count": 28
    }
   ],
   "source": [
    "# convert to list as needed by nglview colorscheme\n",
    "color_residue_map = fp_focused[[\"color\", \"residue_id_str\"]].to_numpy().tolist()\n",
    "color_residue_map"
   ]
  },
  {
   "cell_type": "code",
   "execution_count": 29,
   "metadata": {},
   "outputs": [],
   "source": [
    "color_scheme = nv.color._ColorScheme(color_residue_map, label=\"#interactions\")"
   ]
  },
  {
   "cell_type": "code",
   "execution_count": 30,
   "metadata": {},
   "outputs": [
    {
     "output_type": "display_data",
     "data": {
      "text/plain": "NGLWidget()",
      "application/vnd.jupyter.widget-view+json": {
       "version_major": 2,
       "version_minor": 0,
       "model_id": "39f97dcbc9374ce39b046b4ef6c656ee"
      }
     },
     "metadata": {}
    }
   ],
   "source": [
    "view = nv.NGLWidget()\n",
    "# randomly picket pdbs[94] because it is the first one from the final selected structures: Mpro-x0072_0A_bound_chainA\n",
    "structure = nv.adaptor.FileStructure(str(pdbs[94]))\n",
    "view.add_component(structure, default_representation=False)\n",
    "\n",
    "view.add_representation(\n",
    "    \"cartoon\",\n",
    "    selection=\"protein\",\n",
    "    color=color_scheme,\n",
    ")\n",
    "\n",
    "# add selected side chains\n",
    "residue_list = fp_focused[\"residue_id_str\"].tolist()\n",
    "view.add_representation(\n",
    "    'licorice', \n",
    "    selection=f\"protein and ({' '.join([str(x) for x in residue_list])})\",\n",
    "    color=color_scheme,\n",
    ")\n",
    "\n",
    "view.add_ball_and_stick(\"LIG\")\n",
    "view.center(\"LIG\")\n",
    "view"
   ]
  },
  {
   "cell_type": "code",
   "execution_count": 31,
   "metadata": {},
   "outputs": [
    {
     "output_type": "stream",
     "name": "stdout",
     "text": [
      "0\n/Users/williamglass/Github/plipify/projects/01/data/Mpro/aligned/Mpro-P0047_0A/Mpro-P0047_0A_bound_chainA.pdb ---------- Mpro-x2694_0A_bound_chainA\n"
     ]
    }
   ],
   "source": [
    "for i, pdb in enumerate(pdbs):\n",
    "    if str(structures[0].identifier) in str(pdb):\n",
    "        print (i)\n",
    "print(pdbs[94], '----------',structures[0].identifier)"
   ]
  },
  {
   "cell_type": "code",
   "execution_count": 32,
   "metadata": {},
   "outputs": [],
   "source": [
    "from plipify.visualization import fingerprint_barplot, fingerprint_heatmap, fingerprint_table, fingerprint_nglview"
   ]
  },
  {
   "cell_type": "code",
   "execution_count": 33,
   "metadata": {},
   "outputs": [
    {
     "output_type": "display_data",
     "data": {
      "application/vnd.plotly.v1+json": {
       "config": {
        "plotlyServerURL": "https://plot.ly"
       },
       "data": [
        {
         "name": "sum",
         "type": "bar",
         "x": [
          25,
          41,
          49,
          140,
          142,
          143,
          144,
          145,
          164,
          165,
          166,
          187,
          189
         ],
         "y": [
          26,
          247,
          19,
          13,
          180,
          112,
          101,
          74,
          14,
          107,
          425,
          20,
          117
         ]
        },
        {
         "name": "saltbridge",
         "type": "bar",
         "x": [
          25,
          41,
          49,
          140,
          142,
          143,
          144,
          145,
          164,
          165,
          166,
          187,
          189
         ],
         "y": [
          0,
          1,
          0,
          0,
          0,
          0,
          0,
          0,
          0,
          0,
          1,
          0,
          0
         ]
        },
        {
         "name": "residue_id_str",
         "type": "bar",
         "x": [
          25,
          41,
          49,
          140,
          142,
          143,
          144,
          145,
          164,
          165,
          166,
          187,
          189
         ],
         "y": [
          "25",
          "41",
          "49",
          "140",
          "142",
          "143",
          "144",
          "145",
          "164",
          "165",
          "166",
          "187",
          "189"
         ]
        },
        {
         "name": "pistacking",
         "type": "bar",
         "x": [
          25,
          41,
          49,
          140,
          142,
          143,
          144,
          145,
          164,
          165,
          166,
          187,
          189
         ],
         "y": [
          0,
          184,
          0,
          0,
          0,
          0,
          0,
          0,
          0,
          0,
          0,
          0,
          0
         ]
        },
        {
         "name": "pication",
         "type": "bar",
         "x": [
          25,
          41,
          49,
          140,
          142,
          143,
          144,
          145,
          164,
          165,
          166,
          187,
          189
         ],
         "y": [
          0,
          16,
          0,
          0,
          0,
          0,
          0,
          0,
          0,
          0,
          0,
          0,
          0
         ]
        },
        {
         "name": "hydrophobic",
         "type": "bar",
         "x": [
          25,
          41,
          49,
          140,
          142,
          143,
          144,
          145,
          164,
          165,
          166,
          187,
          189
         ],
         "y": [
          23,
          32,
          18,
          2,
          122,
          0,
          0,
          0,
          1,
          107,
          179,
          20,
          94
         ]
        },
        {
         "name": "hbond-don",
         "type": "bar",
         "x": [
          25,
          41,
          49,
          140,
          142,
          143,
          144,
          145,
          164,
          165,
          166,
          187,
          189
         ],
         "y": [
          3,
          2,
          0,
          0,
          33,
          109,
          100,
          74,
          4,
          0,
          212,
          0,
          16
         ]
        },
        {
         "name": "hbond-acc",
         "type": "bar",
         "x": [
          25,
          41,
          49,
          140,
          142,
          143,
          144,
          145,
          164,
          165,
          166,
          187,
          189
         ],
         "y": [
          0,
          12,
          0,
          9,
          25,
          3,
          1,
          0,
          7,
          0,
          33,
          0,
          7
         ]
        },
        {
         "name": "halogen",
         "type": "bar",
         "x": [
          25,
          41,
          49,
          140,
          142,
          143,
          144,
          145,
          164,
          165,
          166,
          187,
          189
         ],
         "y": [
          0,
          0,
          1,
          2,
          0,
          0,
          0,
          0,
          2,
          0,
          0,
          0,
          0
         ]
        },
        {
         "name": "color",
         "type": "bar",
         "x": [
          25,
          41,
          49,
          140,
          142,
          143,
          144,
          145,
          164,
          165,
          166,
          187,
          189
         ],
         "y": [
          "#ffebe1",
          "#f34b36",
          "#ffede5",
          "#fff0e9",
          "#fc8262",
          "#fcb69c",
          "#fcbea6",
          "#fdd1bf",
          "#ffefe8",
          "#fcbaa0",
          "#67000d",
          "#ffede5",
          "#fcb297"
         ]
        }
       ],
       "layout": {
        "barmode": "stack",
        "template": {
         "data": {
          "bar": [
           {
            "error_x": {
             "color": "#2a3f5f"
            },
            "error_y": {
             "color": "#2a3f5f"
            },
            "marker": {
             "line": {
              "color": "#E5ECF6",
              "width": 0.5
             },
             "pattern": {
              "fillmode": "overlay",
              "size": 10,
              "solidity": 0.2
             }
            },
            "type": "bar"
           }
          ],
          "barpolar": [
           {
            "marker": {
             "line": {
              "color": "#E5ECF6",
              "width": 0.5
             },
             "pattern": {
              "fillmode": "overlay",
              "size": 10,
              "solidity": 0.2
             }
            },
            "type": "barpolar"
           }
          ],
          "carpet": [
           {
            "aaxis": {
             "endlinecolor": "#2a3f5f",
             "gridcolor": "white",
             "linecolor": "white",
             "minorgridcolor": "white",
             "startlinecolor": "#2a3f5f"
            },
            "baxis": {
             "endlinecolor": "#2a3f5f",
             "gridcolor": "white",
             "linecolor": "white",
             "minorgridcolor": "white",
             "startlinecolor": "#2a3f5f"
            },
            "type": "carpet"
           }
          ],
          "choropleth": [
           {
            "colorbar": {
             "outlinewidth": 0,
             "ticks": ""
            },
            "type": "choropleth"
           }
          ],
          "contour": [
           {
            "colorbar": {
             "outlinewidth": 0,
             "ticks": ""
            },
            "colorscale": [
             [
              0,
              "#0d0887"
             ],
             [
              0.1111111111111111,
              "#46039f"
             ],
             [
              0.2222222222222222,
              "#7201a8"
             ],
             [
              0.3333333333333333,
              "#9c179e"
             ],
             [
              0.4444444444444444,
              "#bd3786"
             ],
             [
              0.5555555555555556,
              "#d8576b"
             ],
             [
              0.6666666666666666,
              "#ed7953"
             ],
             [
              0.7777777777777778,
              "#fb9f3a"
             ],
             [
              0.8888888888888888,
              "#fdca26"
             ],
             [
              1,
              "#f0f921"
             ]
            ],
            "type": "contour"
           }
          ],
          "contourcarpet": [
           {
            "colorbar": {
             "outlinewidth": 0,
             "ticks": ""
            },
            "type": "contourcarpet"
           }
          ],
          "heatmap": [
           {
            "colorbar": {
             "outlinewidth": 0,
             "ticks": ""
            },
            "colorscale": [
             [
              0,
              "#0d0887"
             ],
             [
              0.1111111111111111,
              "#46039f"
             ],
             [
              0.2222222222222222,
              "#7201a8"
             ],
             [
              0.3333333333333333,
              "#9c179e"
             ],
             [
              0.4444444444444444,
              "#bd3786"
             ],
             [
              0.5555555555555556,
              "#d8576b"
             ],
             [
              0.6666666666666666,
              "#ed7953"
             ],
             [
              0.7777777777777778,
              "#fb9f3a"
             ],
             [
              0.8888888888888888,
              "#fdca26"
             ],
             [
              1,
              "#f0f921"
             ]
            ],
            "type": "heatmap"
           }
          ],
          "heatmapgl": [
           {
            "colorbar": {
             "outlinewidth": 0,
             "ticks": ""
            },
            "colorscale": [
             [
              0,
              "#0d0887"
             ],
             [
              0.1111111111111111,
              "#46039f"
             ],
             [
              0.2222222222222222,
              "#7201a8"
             ],
             [
              0.3333333333333333,
              "#9c179e"
             ],
             [
              0.4444444444444444,
              "#bd3786"
             ],
             [
              0.5555555555555556,
              "#d8576b"
             ],
             [
              0.6666666666666666,
              "#ed7953"
             ],
             [
              0.7777777777777778,
              "#fb9f3a"
             ],
             [
              0.8888888888888888,
              "#fdca26"
             ],
             [
              1,
              "#f0f921"
             ]
            ],
            "type": "heatmapgl"
           }
          ],
          "histogram": [
           {
            "marker": {
             "pattern": {
              "fillmode": "overlay",
              "size": 10,
              "solidity": 0.2
             }
            },
            "type": "histogram"
           }
          ],
          "histogram2d": [
           {
            "colorbar": {
             "outlinewidth": 0,
             "ticks": ""
            },
            "colorscale": [
             [
              0,
              "#0d0887"
             ],
             [
              0.1111111111111111,
              "#46039f"
             ],
             [
              0.2222222222222222,
              "#7201a8"
             ],
             [
              0.3333333333333333,
              "#9c179e"
             ],
             [
              0.4444444444444444,
              "#bd3786"
             ],
             [
              0.5555555555555556,
              "#d8576b"
             ],
             [
              0.6666666666666666,
              "#ed7953"
             ],
             [
              0.7777777777777778,
              "#fb9f3a"
             ],
             [
              0.8888888888888888,
              "#fdca26"
             ],
             [
              1,
              "#f0f921"
             ]
            ],
            "type": "histogram2d"
           }
          ],
          "histogram2dcontour": [
           {
            "colorbar": {
             "outlinewidth": 0,
             "ticks": ""
            },
            "colorscale": [
             [
              0,
              "#0d0887"
             ],
             [
              0.1111111111111111,
              "#46039f"
             ],
             [
              0.2222222222222222,
              "#7201a8"
             ],
             [
              0.3333333333333333,
              "#9c179e"
             ],
             [
              0.4444444444444444,
              "#bd3786"
             ],
             [
              0.5555555555555556,
              "#d8576b"
             ],
             [
              0.6666666666666666,
              "#ed7953"
             ],
             [
              0.7777777777777778,
              "#fb9f3a"
             ],
             [
              0.8888888888888888,
              "#fdca26"
             ],
             [
              1,
              "#f0f921"
             ]
            ],
            "type": "histogram2dcontour"
           }
          ],
          "mesh3d": [
           {
            "colorbar": {
             "outlinewidth": 0,
             "ticks": ""
            },
            "type": "mesh3d"
           }
          ],
          "parcoords": [
           {
            "line": {
             "colorbar": {
              "outlinewidth": 0,
              "ticks": ""
             }
            },
            "type": "parcoords"
           }
          ],
          "pie": [
           {
            "automargin": true,
            "type": "pie"
           }
          ],
          "scatter": [
           {
            "marker": {
             "colorbar": {
              "outlinewidth": 0,
              "ticks": ""
             }
            },
            "type": "scatter"
           }
          ],
          "scatter3d": [
           {
            "line": {
             "colorbar": {
              "outlinewidth": 0,
              "ticks": ""
             }
            },
            "marker": {
             "colorbar": {
              "outlinewidth": 0,
              "ticks": ""
             }
            },
            "type": "scatter3d"
           }
          ],
          "scattercarpet": [
           {
            "marker": {
             "colorbar": {
              "outlinewidth": 0,
              "ticks": ""
             }
            },
            "type": "scattercarpet"
           }
          ],
          "scattergeo": [
           {
            "marker": {
             "colorbar": {
              "outlinewidth": 0,
              "ticks": ""
             }
            },
            "type": "scattergeo"
           }
          ],
          "scattergl": [
           {
            "marker": {
             "colorbar": {
              "outlinewidth": 0,
              "ticks": ""
             }
            },
            "type": "scattergl"
           }
          ],
          "scattermapbox": [
           {
            "marker": {
             "colorbar": {
              "outlinewidth": 0,
              "ticks": ""
             }
            },
            "type": "scattermapbox"
           }
          ],
          "scatterpolar": [
           {
            "marker": {
             "colorbar": {
              "outlinewidth": 0,
              "ticks": ""
             }
            },
            "type": "scatterpolar"
           }
          ],
          "scatterpolargl": [
           {
            "marker": {
             "colorbar": {
              "outlinewidth": 0,
              "ticks": ""
             }
            },
            "type": "scatterpolargl"
           }
          ],
          "scatterternary": [
           {
            "marker": {
             "colorbar": {
              "outlinewidth": 0,
              "ticks": ""
             }
            },
            "type": "scatterternary"
           }
          ],
          "surface": [
           {
            "colorbar": {
             "outlinewidth": 0,
             "ticks": ""
            },
            "colorscale": [
             [
              0,
              "#0d0887"
             ],
             [
              0.1111111111111111,
              "#46039f"
             ],
             [
              0.2222222222222222,
              "#7201a8"
             ],
             [
              0.3333333333333333,
              "#9c179e"
             ],
             [
              0.4444444444444444,
              "#bd3786"
             ],
             [
              0.5555555555555556,
              "#d8576b"
             ],
             [
              0.6666666666666666,
              "#ed7953"
             ],
             [
              0.7777777777777778,
              "#fb9f3a"
             ],
             [
              0.8888888888888888,
              "#fdca26"
             ],
             [
              1,
              "#f0f921"
             ]
            ],
            "type": "surface"
           }
          ],
          "table": [
           {
            "cells": {
             "fill": {
              "color": "#EBF0F8"
             },
             "line": {
              "color": "white"
             }
            },
            "header": {
             "fill": {
              "color": "#C8D4E3"
             },
             "line": {
              "color": "white"
             }
            },
            "type": "table"
           }
          ]
         },
         "layout": {
          "annotationdefaults": {
           "arrowcolor": "#2a3f5f",
           "arrowhead": 0,
           "arrowwidth": 1
          },
          "autotypenumbers": "strict",
          "coloraxis": {
           "colorbar": {
            "outlinewidth": 0,
            "ticks": ""
           }
          },
          "colorscale": {
           "diverging": [
            [
             0,
             "#8e0152"
            ],
            [
             0.1,
             "#c51b7d"
            ],
            [
             0.2,
             "#de77ae"
            ],
            [
             0.3,
             "#f1b6da"
            ],
            [
             0.4,
             "#fde0ef"
            ],
            [
             0.5,
             "#f7f7f7"
            ],
            [
             0.6,
             "#e6f5d0"
            ],
            [
             0.7,
             "#b8e186"
            ],
            [
             0.8,
             "#7fbc41"
            ],
            [
             0.9,
             "#4d9221"
            ],
            [
             1,
             "#276419"
            ]
           ],
           "sequential": [
            [
             0,
             "#0d0887"
            ],
            [
             0.1111111111111111,
             "#46039f"
            ],
            [
             0.2222222222222222,
             "#7201a8"
            ],
            [
             0.3333333333333333,
             "#9c179e"
            ],
            [
             0.4444444444444444,
             "#bd3786"
            ],
            [
             0.5555555555555556,
             "#d8576b"
            ],
            [
             0.6666666666666666,
             "#ed7953"
            ],
            [
             0.7777777777777778,
             "#fb9f3a"
            ],
            [
             0.8888888888888888,
             "#fdca26"
            ],
            [
             1,
             "#f0f921"
            ]
           ],
           "sequentialminus": [
            [
             0,
             "#0d0887"
            ],
            [
             0.1111111111111111,
             "#46039f"
            ],
            [
             0.2222222222222222,
             "#7201a8"
            ],
            [
             0.3333333333333333,
             "#9c179e"
            ],
            [
             0.4444444444444444,
             "#bd3786"
            ],
            [
             0.5555555555555556,
             "#d8576b"
            ],
            [
             0.6666666666666666,
             "#ed7953"
            ],
            [
             0.7777777777777778,
             "#fb9f3a"
            ],
            [
             0.8888888888888888,
             "#fdca26"
            ],
            [
             1,
             "#f0f921"
            ]
           ]
          },
          "colorway": [
           "#636efa",
           "#EF553B",
           "#00cc96",
           "#ab63fa",
           "#FFA15A",
           "#19d3f3",
           "#FF6692",
           "#B6E880",
           "#FF97FF",
           "#FECB52"
          ],
          "font": {
           "color": "#2a3f5f"
          },
          "geo": {
           "bgcolor": "white",
           "lakecolor": "white",
           "landcolor": "#E5ECF6",
           "showlakes": true,
           "showland": true,
           "subunitcolor": "white"
          },
          "hoverlabel": {
           "align": "left"
          },
          "hovermode": "closest",
          "mapbox": {
           "style": "light"
          },
          "paper_bgcolor": "white",
          "plot_bgcolor": "#E5ECF6",
          "polar": {
           "angularaxis": {
            "gridcolor": "white",
            "linecolor": "white",
            "ticks": ""
           },
           "bgcolor": "#E5ECF6",
           "radialaxis": {
            "gridcolor": "white",
            "linecolor": "white",
            "ticks": ""
           }
          },
          "scene": {
           "xaxis": {
            "backgroundcolor": "#E5ECF6",
            "gridcolor": "white",
            "gridwidth": 2,
            "linecolor": "white",
            "showbackground": true,
            "ticks": "",
            "zerolinecolor": "white"
           },
           "yaxis": {
            "backgroundcolor": "#E5ECF6",
            "gridcolor": "white",
            "gridwidth": 2,
            "linecolor": "white",
            "showbackground": true,
            "ticks": "",
            "zerolinecolor": "white"
           },
           "zaxis": {
            "backgroundcolor": "#E5ECF6",
            "gridcolor": "white",
            "gridwidth": 2,
            "linecolor": "white",
            "showbackground": true,
            "ticks": "",
            "zerolinecolor": "white"
           }
          },
          "shapedefaults": {
           "line": {
            "color": "#2a3f5f"
           }
          },
          "ternary": {
           "aaxis": {
            "gridcolor": "white",
            "linecolor": "white",
            "ticks": ""
           },
           "baxis": {
            "gridcolor": "white",
            "linecolor": "white",
            "ticks": ""
           },
           "bgcolor": "#E5ECF6",
           "caxis": {
            "gridcolor": "white",
            "linecolor": "white",
            "ticks": ""
           }
          },
          "title": {
           "x": 0.05
          },
          "xaxis": {
           "automargin": true,
           "gridcolor": "white",
           "linecolor": "white",
           "ticks": "",
           "title": {
            "standoff": 15
           },
           "zerolinecolor": "white",
           "zerolinewidth": 2
          },
          "yaxis": {
           "automargin": true,
           "gridcolor": "white",
           "linecolor": "white",
           "ticks": "",
           "title": {
            "standoff": 15
           },
           "zerolinecolor": "white",
           "zerolinewidth": 2
          }
         }
        },
        "title": {
         "text": "Residue Interactions"
        },
        "xaxis": {
         "title": {
          "text": "Residues"
         },
         "type": "category"
        },
        "yaxis": {
         "title": {
          "text": "Interactions"
         }
        }
       }
      }
     },
     "metadata": {}
    }
   ],
   "source": [
    "fingerprint_barplot(fp_focused)"
   ]
  },
  {
   "cell_type": "code",
   "execution_count": 34,
   "metadata": {},
   "outputs": [
    {
     "output_type": "error",
     "ename": "ValueError",
     "evalue": "could not convert string to float: '#ffebe1'",
     "traceback": [
      "\u001b[0;31m---------------------------------------------------------------------------\u001b[0m",
      "\u001b[0;31mValueError\u001b[0m                                Traceback (most recent call last)",
      "\u001b[0;32m/var/folders/23/lckm6_254q9dly0fc938jm3h0000gr/T/ipykernel_69399/3220521283.py\u001b[0m in \u001b[0;36m<module>\u001b[0;34m\u001b[0m\n\u001b[0;32m----> 1\u001b[0;31m \u001b[0mfingerprint_heatmap\u001b[0m\u001b[0;34m(\u001b[0m\u001b[0mfp_focused\u001b[0m\u001b[0;34m,\u001b[0m \u001b[0mcmap\u001b[0m\u001b[0;34m=\u001b[0m\u001b[0;34m\"YlGnBu\"\u001b[0m\u001b[0;34m)\u001b[0m\u001b[0;34m;\u001b[0m\u001b[0;34m\u001b[0m\u001b[0;34m\u001b[0m\u001b[0m\n\u001b[0m",
      "\u001b[0;32m~/Github/plipify/plipify/visualization.py\u001b[0m in \u001b[0;36mfingerprint_heatmap\u001b[0;34m(fingerprint_df, cmap)\u001b[0m\n\u001b[1;32m     78\u001b[0m     \"\"\"\n\u001b[1;32m     79\u001b[0m     \u001b[0mfig\u001b[0m\u001b[0;34m,\u001b[0m \u001b[0max\u001b[0m \u001b[0;34m=\u001b[0m \u001b[0mplt\u001b[0m\u001b[0;34m.\u001b[0m\u001b[0msubplots\u001b[0m\u001b[0;34m(\u001b[0m\u001b[0mfigsize\u001b[0m\u001b[0;34m=\u001b[0m\u001b[0;34m(\u001b[0m\u001b[0;36m10\u001b[0m\u001b[0;34m,\u001b[0m \u001b[0;36m7\u001b[0m\u001b[0;34m)\u001b[0m\u001b[0;34m)\u001b[0m  \u001b[0;31m# plot size\u001b[0m\u001b[0;34m\u001b[0m\u001b[0;34m\u001b[0m\u001b[0m\n\u001b[0;32m---> 80\u001b[0;31m     \u001b[0msns\u001b[0m\u001b[0;34m.\u001b[0m\u001b[0mheatmap\u001b[0m\u001b[0;34m(\u001b[0m\u001b[0mfingerprint_df\u001b[0m\u001b[0;34m,\u001b[0m \u001b[0mannot\u001b[0m\u001b[0;34m=\u001b[0m\u001b[0;32mTrue\u001b[0m\u001b[0;34m,\u001b[0m \u001b[0mcmap\u001b[0m\u001b[0;34m=\u001b[0m\u001b[0mcmap\u001b[0m\u001b[0;34m,\u001b[0m \u001b[0max\u001b[0m\u001b[0;34m=\u001b[0m\u001b[0max\u001b[0m\u001b[0;34m,\u001b[0m \u001b[0mfmt\u001b[0m\u001b[0;34m=\u001b[0m\u001b[0;34m\"g\"\u001b[0m\u001b[0;34m)\u001b[0m\u001b[0;34m\u001b[0m\u001b[0;34m\u001b[0m\u001b[0m\n\u001b[0m\u001b[1;32m     81\u001b[0m     \u001b[0max\u001b[0m\u001b[0;34m.\u001b[0m\u001b[0mset_xlabel\u001b[0m\u001b[0;34m(\u001b[0m\u001b[0;34m\"Interaction Types\"\u001b[0m\u001b[0;34m)\u001b[0m\u001b[0;34m\u001b[0m\u001b[0;34m\u001b[0m\u001b[0m\n\u001b[1;32m     82\u001b[0m     \u001b[0max\u001b[0m\u001b[0;34m.\u001b[0m\u001b[0mset_ylabel\u001b[0m\u001b[0;34m(\u001b[0m\u001b[0;34m\"Residues\"\u001b[0m\u001b[0;34m)\u001b[0m\u001b[0;34m\u001b[0m\u001b[0;34m\u001b[0m\u001b[0m\n",
      "\u001b[0;32m~/opt/anaconda3/envs/plipify_dev/lib/python3.8/site-packages/seaborn/_decorators.py\u001b[0m in \u001b[0;36minner_f\u001b[0;34m(*args, **kwargs)\u001b[0m\n\u001b[1;32m     44\u001b[0m             )\n\u001b[1;32m     45\u001b[0m         \u001b[0mkwargs\u001b[0m\u001b[0;34m.\u001b[0m\u001b[0mupdate\u001b[0m\u001b[0;34m(\u001b[0m\u001b[0;34m{\u001b[0m\u001b[0mk\u001b[0m\u001b[0;34m:\u001b[0m \u001b[0marg\u001b[0m \u001b[0;32mfor\u001b[0m \u001b[0mk\u001b[0m\u001b[0;34m,\u001b[0m \u001b[0marg\u001b[0m \u001b[0;32min\u001b[0m \u001b[0mzip\u001b[0m\u001b[0;34m(\u001b[0m\u001b[0msig\u001b[0m\u001b[0;34m.\u001b[0m\u001b[0mparameters\u001b[0m\u001b[0;34m,\u001b[0m \u001b[0margs\u001b[0m\u001b[0;34m)\u001b[0m\u001b[0;34m}\u001b[0m\u001b[0;34m)\u001b[0m\u001b[0;34m\u001b[0m\u001b[0;34m\u001b[0m\u001b[0m\n\u001b[0;32m---> 46\u001b[0;31m         \u001b[0;32mreturn\u001b[0m \u001b[0mf\u001b[0m\u001b[0;34m(\u001b[0m\u001b[0;34m**\u001b[0m\u001b[0mkwargs\u001b[0m\u001b[0;34m)\u001b[0m\u001b[0;34m\u001b[0m\u001b[0;34m\u001b[0m\u001b[0m\n\u001b[0m\u001b[1;32m     47\u001b[0m     \u001b[0;32mreturn\u001b[0m \u001b[0minner_f\u001b[0m\u001b[0;34m\u001b[0m\u001b[0;34m\u001b[0m\u001b[0m\n\u001b[1;32m     48\u001b[0m \u001b[0;34m\u001b[0m\u001b[0m\n",
      "\u001b[0;32m~/opt/anaconda3/envs/plipify_dev/lib/python3.8/site-packages/seaborn/matrix.py\u001b[0m in \u001b[0;36mheatmap\u001b[0;34m(data, vmin, vmax, cmap, center, robust, annot, fmt, annot_kws, linewidths, linecolor, cbar, cbar_kws, cbar_ax, square, xticklabels, yticklabels, mask, ax, **kwargs)\u001b[0m\n\u001b[1;32m    533\u001b[0m     \"\"\"\n\u001b[1;32m    534\u001b[0m     \u001b[0;31m# Initialize the plotter object\u001b[0m\u001b[0;34m\u001b[0m\u001b[0;34m\u001b[0m\u001b[0;34m\u001b[0m\u001b[0m\n\u001b[0;32m--> 535\u001b[0;31m     plotter = _HeatMapper(data, vmin, vmax, cmap, center, robust, annot, fmt,\n\u001b[0m\u001b[1;32m    536\u001b[0m                           \u001b[0mannot_kws\u001b[0m\u001b[0;34m,\u001b[0m \u001b[0mcbar\u001b[0m\u001b[0;34m,\u001b[0m \u001b[0mcbar_kws\u001b[0m\u001b[0;34m,\u001b[0m \u001b[0mxticklabels\u001b[0m\u001b[0;34m,\u001b[0m\u001b[0;34m\u001b[0m\u001b[0;34m\u001b[0m\u001b[0m\n\u001b[1;32m    537\u001b[0m                           yticklabels, mask)\n",
      "\u001b[0;32m~/opt/anaconda3/envs/plipify_dev/lib/python3.8/site-packages/seaborn/matrix.py\u001b[0m in \u001b[0;36m__init__\u001b[0;34m(self, data, vmin, vmax, cmap, center, robust, annot, fmt, annot_kws, cbar, cbar_kws, xticklabels, yticklabels, mask)\u001b[0m\n\u001b[1;32m    153\u001b[0m \u001b[0;34m\u001b[0m\u001b[0m\n\u001b[1;32m    154\u001b[0m         \u001b[0;31m# Determine good default values for the colormapping\u001b[0m\u001b[0;34m\u001b[0m\u001b[0;34m\u001b[0m\u001b[0;34m\u001b[0m\u001b[0m\n\u001b[0;32m--> 155\u001b[0;31m         self._determine_cmap_params(plot_data, vmin, vmax,\n\u001b[0m\u001b[1;32m    156\u001b[0m                                     cmap, center, robust)\n\u001b[1;32m    157\u001b[0m \u001b[0;34m\u001b[0m\u001b[0m\n",
      "\u001b[0;32m~/opt/anaconda3/envs/plipify_dev/lib/python3.8/site-packages/seaborn/matrix.py\u001b[0m in \u001b[0;36m_determine_cmap_params\u001b[0;34m(self, plot_data, vmin, vmax, cmap, center, robust)\u001b[0m\n\u001b[1;32m    187\u001b[0m \u001b[0;34m\u001b[0m\u001b[0m\n\u001b[1;32m    188\u001b[0m         \u001b[0;31m# plot_data is a np.ma.array instance\u001b[0m\u001b[0;34m\u001b[0m\u001b[0;34m\u001b[0m\u001b[0;34m\u001b[0m\u001b[0m\n\u001b[0;32m--> 189\u001b[0;31m         \u001b[0mcalc_data\u001b[0m \u001b[0;34m=\u001b[0m \u001b[0mplot_data\u001b[0m\u001b[0;34m.\u001b[0m\u001b[0mastype\u001b[0m\u001b[0;34m(\u001b[0m\u001b[0mfloat\u001b[0m\u001b[0;34m)\u001b[0m\u001b[0;34m.\u001b[0m\u001b[0mfilled\u001b[0m\u001b[0;34m(\u001b[0m\u001b[0mnp\u001b[0m\u001b[0;34m.\u001b[0m\u001b[0mnan\u001b[0m\u001b[0;34m)\u001b[0m\u001b[0;34m\u001b[0m\u001b[0;34m\u001b[0m\u001b[0m\n\u001b[0m\u001b[1;32m    190\u001b[0m         \u001b[0;32mif\u001b[0m \u001b[0mvmin\u001b[0m \u001b[0;32mis\u001b[0m \u001b[0;32mNone\u001b[0m\u001b[0;34m:\u001b[0m\u001b[0;34m\u001b[0m\u001b[0;34m\u001b[0m\u001b[0m\n\u001b[1;32m    191\u001b[0m             \u001b[0;32mif\u001b[0m \u001b[0mrobust\u001b[0m\u001b[0;34m:\u001b[0m\u001b[0;34m\u001b[0m\u001b[0;34m\u001b[0m\u001b[0m\n",
      "\u001b[0;31mValueError\u001b[0m: could not convert string to float: '#ffebe1'"
     ]
    }
   ],
   "source": [
    "fingerprint_heatmap(fp_focused, cmap=\"YlGnBu\");"
   ]
  },
  {
   "cell_type": "code",
   "execution_count": null,
   "metadata": {},
   "outputs": [],
   "source": [
    "fingerprint_table(fp_focused)"
   ]
  },
  {
   "cell_type": "code",
   "execution_count": null,
   "metadata": {},
   "outputs": [],
   "source": [
    "view = fingerprint_nglview(fp_focused, structures[1])\n",
    "view.center(\"LIG\")\n",
    "view"
   ]
  },
  {
   "cell_type": "code",
   "execution_count": null,
   "metadata": {},
   "outputs": [],
   "source": [
    "view.render_image(factor=1, trim=True, transparent=True, antialias=True);"
   ]
  },
  {
   "cell_type": "code",
   "execution_count": null,
   "metadata": {},
   "outputs": [],
   "source": [
    "view._display_image()"
   ]
  },
  {
   "cell_type": "code",
   "execution_count": null,
   "metadata": {},
   "outputs": [],
   "source": [
    "structures[0].to_dataframes()"
   ]
  },
  {
   "cell_type": "code",
   "execution_count": null,
   "metadata": {},
   "outputs": [],
   "source": [
    "structures[0].view()"
   ]
  },
  {
   "cell_type": "code",
   "execution_count": null,
   "metadata": {},
   "outputs": [],
   "source": []
  },
  {
   "cell_type": "markdown",
   "metadata": {},
   "source": [
    "## Generating publication-worthy figures\n",
    "\n",
    "TBD."
   ]
  },
  {
   "source": [
    "Below is an example of 1) Creating PDB files for each interaction type found by `InteractionFingerprint().calculate_fingerprint()` and 2) Producing images of these using the PyMol API.\n",
    "\n",
    "Note: The current hard-coded view is based on MPro"
   ],
   "cell_type": "markdown",
   "metadata": {}
  },
  {
   "cell_type": "code",
   "execution_count": 35,
   "metadata": {
    "tags": []
   },
   "outputs": [],
   "source": [
    "# Using the methoxy ligand as an example\n",
    "\n",
    "from plipify.core import Structure\n",
    "methoxy = Structure.from_pdbfile(path=\"./data/Mpro/aligned/Mpro-P0157_0A/Mpro-P0157_0A_bound_chainA.pdb\")"
   ]
  },
  {
   "cell_type": "code",
   "execution_count": 36,
   "metadata": {},
   "outputs": [
    {
     "output_type": "stream",
     "name": "stdout",
     "text": [
      "Analysing hydrophobic interactions...\n",
      "/Users/williamglass/opt/anaconda3/envs/plipify_dev/lib/python3.8/site-packages/MDAnalysis/topology/base.py:203: DeprecationWarning:\n",
      "\n",
      "`np.int` is a deprecated alias for the builtin `int`. To silence this warning, use `int` by itself. Doing this will not modify any behavior and is safe. When replacing `np.int`, you may wish to use e.g. `np.int64` or `np.int32` to specify the precision. If you wish to review your current use, check the release note link for additional information.\n",
      "Deprecated in NumPy 1.20; for more details and guidance: https://numpy.org/devdocs/release/1.20.0-notes.html#deprecations\n",
      "\n",
      "/Users/williamglass/opt/anaconda3/envs/plipify_dev/lib/python3.8/site-packages/MDAnalysis/core/selection.py:690: DeprecationWarning:\n",
      "\n",
      "`np.bool` is a deprecated alias for the builtin `bool`. To silence this warning, use `bool` by itself. Doing this will not modify any behavior and is safe. If you specifically wanted the numpy scalar type, use `np.bool_` here.\n",
      "Deprecated in NumPy 1.20; for more details and guidance: https://numpy.org/devdocs/release/1.20.0-notes.html#deprecations\n",
      "\n",
      "/Users/williamglass/opt/anaconda3/envs/plipify_dev/lib/python3.8/site-packages/MDAnalysis/coordinates/PDB.py:722: UserWarning:\n",
      "\n",
      "Unit cell dimensions not found. CRYST1 record set to unitary values.\n",
      "\n",
      "/Users/williamglass/opt/anaconda3/envs/plipify_dev/lib/python3.8/site-packages/MDAnalysis/core/topologyobjects.py:600: DeprecationWarning:\n",
      "\n",
      "`np.bool` is a deprecated alias for the builtin `bool`. To silence this warning, use `bool` by itself. Doing this will not modify any behavior and is safe. If you specifically wanted the numpy scalar type, use `np.bool_` here.\n",
      "Deprecated in NumPy 1.20; for more details and guidance: https://numpy.org/devdocs/release/1.20.0-notes.html#deprecations\n",
      "\n",
      "Written sys_int_hydrophobic.pdb to output/interaction_pdbs\n",
      "Analysing hbond-don interactions...\n",
      "Written sys_int_hbond-don.pdb to output/interaction_pdbs\n",
      "Analysing hbond-acc interactions...\n",
      "Written sys_int_hbond-acc.pdb to output/interaction_pdbs\n",
      "Analysing saltbridge interactions...\n",
      "Written sys_int_saltbridge.pdb to output/interaction_pdbs\n",
      "Analysing pistacking interactions...\n",
      "Written sys_int_pistacking.pdb to output/interaction_pdbs\n",
      "Analysing pication interactions...\n",
      "Written sys_int_pication.pdb to output/interaction_pdbs\n",
      "Analysing halogen interactions...\n",
      "Written sys_int_halogen.pdb to output/interaction_pdbs\n",
      "Written sys_summed_interactions.pdb to output/interaction_pdbs\n"
     ]
    }
   ],
   "source": [
    "# Create individual PDB files based on the interaction type, this will produce PDB files with bfactor values per residue representing the number of ligand interactions at that particular site. We also set the `summed` flag to `True` to add up all interactions and generate a PDB file containing all interaction types summed together.\n",
    "\n",
    "from plipify.visualization import fingerprint_writepdb\n",
    "\n",
    "output_path = Path(\"./output/\")\n",
    "pdb_ints = fingerprint_writepdb(fingerprint_df=fp, structure=methoxy, output_path=output_path, ligand=True, summed=True)"
   ]
  },
  {
   "cell_type": "code",
   "execution_count": 37,
   "metadata": {},
   "outputs": [
    {
     "output_type": "execute_result",
     "data": {
      "text/plain": [
       "{'hydrophobic': <Structure with 300 residues, 1 ligands (0 of which were ignored) and 1 characterized binding sites. (loaded from file `output/interaction_pdbs/sys_int_hydrophobic.pdb`)>,\n",
       " 'hbond-don': <Structure with 300 residues, 1 ligands (0 of which were ignored) and 1 characterized binding sites. (loaded from file `output/interaction_pdbs/sys_int_hbond-don.pdb`)>,\n",
       " 'hbond-acc': <Structure with 300 residues, 1 ligands (0 of which were ignored) and 1 characterized binding sites. (loaded from file `output/interaction_pdbs/sys_int_hbond-acc.pdb`)>,\n",
       " 'saltbridge': <Structure with 300 residues, 1 ligands (0 of which were ignored) and 1 characterized binding sites. (loaded from file `output/interaction_pdbs/sys_int_saltbridge.pdb`)>,\n",
       " 'pistacking': <Structure with 300 residues, 1 ligands (0 of which were ignored) and 1 characterized binding sites. (loaded from file `output/interaction_pdbs/sys_int_pistacking.pdb`)>,\n",
       " 'pication': <Structure with 300 residues, 1 ligands (0 of which were ignored) and 1 characterized binding sites. (loaded from file `output/interaction_pdbs/sys_int_pication.pdb`)>,\n",
       " 'halogen': <Structure with 300 residues, 1 ligands (0 of which were ignored) and 1 characterized binding sites. (loaded from file `output/interaction_pdbs/sys_int_halogen.pdb`)>,\n",
       " 'summed_interactions': <Structure with 300 residues, 1 ligands (0 of which were ignored) and 1 characterized binding sites. (loaded from file `output/interaction_pdbs/sys_summed_interactions.pdb`)>}"
      ]
     },
     "metadata": {},
     "execution_count": 37
    }
   ],
   "source": [
    "pdb_ints"
   ]
  },
  {
   "cell_type": "code",
   "execution_count": 38,
   "metadata": {},
   "outputs": [
    {
     "output_type": "stream",
     "name": "stdout",
     "text": [
      "Launching PyMol session...\n",
      "Loading supplied PDB file...\n",
      "PyMOL>set defer_builds_mode, 3\n",
      "PyMOL>run https://github.com/Pymol-Scripts/Pymol-script-repo/raw/master/colorblindfriendly.py Setting: defer_builds_mode set to 3.\n",
      "\n",
      "Checking for colorblindfriendly colors...\n",
      "Adding colorblindfriendly colors...\n",
      "\n",
      "Color blind-friendly colors are now available:\n",
      "    cb_black\n",
      "    cb_orange\n",
      "    cb_sky_blue\n",
      "    cb_skyblue\n",
      "    cb_light_blue\n",
      "    cb_lightblue\n",
      "    cb_bluish_green\n",
      "    cb_bluishgreen\n",
      "    cb_green\n",
      "    cb_yellow\n",
      "    cb_blue\n",
      "    cb_vermillion\n",
      "    cb_red\n",
      "    cb_red_orange\n",
      "    cb_redorange\n",
      "    cb_reddish_purple\n",
      "    cb_reddishpurple\n",
      "    cb_rose\n",
      "    cb_violet\n",
      "    cb_magenta\n",
      "\n",
      "Adding cb_colors menu...\n",
      "  done.\n",
      "PyMOL>run https://raw.githubusercontent.com/speleo3/pymol-psico/master/psico/xtal.py\n",
      " Selector-Error: Invalid selection name \"system\".\n",
      "system<--\n",
      "Highlighting ligand interaction sites...\n",
      "Setting PyMol view...\n",
      "PyMOL>viewport 720,720\n",
      "Rendering PyMol image...\n",
      "Image created! Saving to output/hydrophobic_pymol_image.png\n",
      "Launching PyMol session...\n",
      "Loading supplied PDB file...\n",
      "Highlighting ligand interaction sites...\n",
      "Setting PyMol view...\n",
      "PyMOL>viewport 720,720\n",
      "Rendering PyMol image...\n",
      "Image created! Saving to output/hbond-don_pymol_image.png\n",
      "Launching PyMol session...\n",
      "Loading supplied PDB file...\n",
      "Highlighting ligand interaction sites...\n",
      "Setting PyMol view...\n",
      "PyMOL>viewport 720,720\n",
      "Rendering PyMol image...\n",
      "Image created! Saving to output/hbond-acc_pymol_image.png\n",
      "Launching PyMol session...\n",
      "Loading supplied PDB file...\n",
      "Highlighting ligand interaction sites...\n",
      "Setting PyMol view...\n",
      "PyMOL>viewport 720,720\n",
      "Rendering PyMol image...\n",
      "Image created! Saving to output/saltbridge_pymol_image.png\n",
      "Launching PyMol session...\n",
      "Loading supplied PDB file...\n",
      "Undo has been disabled. Reason: Memory exceeded\n",
      "Highlighting ligand interaction sites...\n",
      "Setting PyMol view...\n",
      "PyMOL>viewport 720,720\n",
      "Rendering PyMol image...\n",
      "Image created! Saving to output/pistacking_pymol_image.png\n",
      "Launching PyMol session...\n",
      "Loading supplied PDB file...\n",
      "Highlighting ligand interaction sites...\n",
      "Setting PyMol view...\n",
      "PyMOL>viewport 720,720\n",
      "Rendering PyMol image...\n",
      "Image created! Saving to output/pication_pymol_image.png\n",
      "Launching PyMol session...\n",
      "Loading supplied PDB file...\n",
      "Highlighting ligand interaction sites...\n",
      "Setting PyMol view...\n",
      "PyMOL>viewport 720,720\n",
      "Rendering PyMol image...\n",
      "Image created! Saving to output/halogen_pymol_image.png\n",
      "Launching PyMol session...\n",
      "Loading supplied PDB file...\n",
      "Highlighting ligand interaction sites...\n",
      "Setting PyMol view...\n",
      "PyMOL>viewport 720,720\n",
      "Rendering PyMol image...\n",
      "Image created! Saving to output/summed_interactions_pymol_image.png\n"
     ]
    }
   ],
   "source": [
    "# We will use the `VisPymol` class to make a figure of all interactions summed\n",
    "from plipify.visualization import VisPymol\n",
    "\n",
    "spectrum_cols = [\"white_green\", \"white_pink\", \"white_cyan\", \"white_red\", \"white_blue\", \"white_yellow\", \"white_orange\", \"white_purple\"]\n",
    "\n",
    "for i, interaction in enumerate(pdb_ints):\n",
    "\n",
    "    v = VisPymol(pdb=pdb_ints[interaction]._path)\n",
    "    v.load()\n",
    "    v.set_style()\n",
    "    v.create_image(surface=True, ligand_col=\"green\", spectrum_col=spectrum_cols[i])\n",
    "    v.render(name=f\"{interaction}_pymol_image\", save_path=\"./output/\")"
   ]
  },
  {
   "source": [
    "We also may want to remove the ligand from the image, this can be done with the `show_ligand` flag: "
   ],
   "cell_type": "markdown",
   "metadata": {}
  },
  {
   "cell_type": "code",
   "execution_count": 39,
   "metadata": {},
   "outputs": [
    {
     "output_type": "stream",
     "name": "stdout",
     "text": [
      "Launching PyMol session...\n",
      "Loading supplied PDB file...\n",
      "Highlighting ligand interaction sites...\n",
      "Setting PyMol view...\n",
      "PyMOL>viewport 720,720\n",
      "Rendering PyMol image...\n",
      "Image created! Saving to output/hydrophobic_pymol_image_no_ligand.png\n",
      "Launching PyMol session...\n",
      "Loading supplied PDB file...\n",
      "Highlighting ligand interaction sites...\n",
      "Setting PyMol view...\n",
      "PyMOL>viewport 720,720\n",
      "Rendering PyMol image...\n",
      "Image created! Saving to output/hbond-don_pymol_image_no_ligand.png\n",
      "Launching PyMol session...\n",
      "Loading supplied PDB file...\n",
      "Highlighting ligand interaction sites...\n",
      "Setting PyMol view...\n",
      "PyMOL>viewport 720,720\n",
      "Rendering PyMol image...\n",
      "Image created! Saving to output/hbond-acc_pymol_image_no_ligand.png\n",
      "Launching PyMol session...\n",
      "Loading supplied PDB file...\n",
      "Highlighting ligand interaction sites...\n",
      "Setting PyMol view...\n",
      "PyMOL>viewport 720,720\n",
      "Rendering PyMol image...\n",
      "Image created! Saving to output/saltbridge_pymol_image_no_ligand.png\n",
      "Launching PyMol session...\n",
      "Loading supplied PDB file...\n",
      "Highlighting ligand interaction sites...\n",
      "Setting PyMol view...\n",
      "PyMOL>viewport 720,720\n",
      "Rendering PyMol image...\n",
      "Image created! Saving to output/pistacking_pymol_image_no_ligand.png\n",
      "Launching PyMol session...\n",
      "Loading supplied PDB file...\n",
      "Highlighting ligand interaction sites...\n",
      "Setting PyMol view...\n",
      "PyMOL>viewport 720,720\n",
      "Rendering PyMol image...\n",
      "Image created! Saving to output/pication_pymol_image_no_ligand.png\n",
      "Launching PyMol session...\n",
      "Loading supplied PDB file...\n",
      "Highlighting ligand interaction sites...\n",
      "Setting PyMol view...\n",
      "PyMOL>viewport 720,720\n",
      "Rendering PyMol image...\n",
      "Image created! Saving to output/halogen_pymol_image_no_ligand.png\n",
      "Launching PyMol session...\n",
      "Loading supplied PDB file...\n",
      "Highlighting ligand interaction sites...\n",
      "Setting PyMol view...\n",
      "PyMOL>viewport 720,720\n",
      "Rendering PyMol image...\n",
      "Image created! Saving to output/summed_interactions_pymol_image_no_ligand.png\n"
     ]
    }
   ],
   "source": [
    "for i, interaction in enumerate(pdb_ints):\n",
    "\n",
    "    v = VisPymol(pdb=pdb_ints[interaction]._path)\n",
    "    v.load()\n",
    "    v.set_style()\n",
    "    v.create_image(surface=True, ligand_col=\"green\", spectrum_col=spectrum_cols[i], show_ligand=False)\n",
    "    v.render(name=f\"{interaction}_pymol_image_no_ligand\", save_path=\"./output/\")"
   ]
  },
  {
   "source": [
    "Sometimes when rendering residues as \"sticks\" they can appear to float above beta sheets. One way to get around this is to ensure beta sheets follow the backbone residues (at a cost of visual aesthetics) e.g."
   ],
   "cell_type": "markdown",
   "metadata": {}
  },
  {
   "cell_type": "code",
   "execution_count": 40,
   "metadata": {},
   "outputs": [
    {
     "output_type": "stream",
     "name": "stdout",
     "text": [
      "Launching PyMol session...\n",
      "Loading supplied PDB file...\n",
      "Highlighting ligand interaction sites...\n",
      "Setting PyMol view...\n",
      "PyMOL>viewport 720,720\n",
      "Rendering PyMol image...\n",
      "Image created! Saving to output/hydrophobic_pymol_image_no_ligand_undulating_sheets.png\n",
      "Launching PyMol session...\n",
      "Loading supplied PDB file...\n",
      "Highlighting ligand interaction sites...\n",
      "Setting PyMol view...\n",
      "PyMOL>viewport 720,720\n",
      "Rendering PyMol image...\n",
      "Image created! Saving to output/hbond-don_pymol_image_no_ligand_undulating_sheets.png\n",
      "Launching PyMol session...\n",
      "Loading supplied PDB file...\n",
      "Highlighting ligand interaction sites...\n",
      "Setting PyMol view...\n",
      "PyMOL>viewport 720,720\n",
      "Rendering PyMol image...\n",
      "Image created! Saving to output/hbond-acc_pymol_image_no_ligand_undulating_sheets.png\n",
      "Launching PyMol session...\n",
      "Loading supplied PDB file...\n",
      "Highlighting ligand interaction sites...\n",
      "Setting PyMol view...\n",
      "PyMOL>viewport 720,720\n",
      "Rendering PyMol image...\n",
      "Image created! Saving to output/saltbridge_pymol_image_no_ligand_undulating_sheets.png\n",
      "Launching PyMol session...\n",
      "Loading supplied PDB file...\n",
      "Highlighting ligand interaction sites...\n",
      "Setting PyMol view...\n",
      "PyMOL>viewport 720,720\n",
      "Rendering PyMol image...\n",
      "Image created! Saving to output/pistacking_pymol_image_no_ligand_undulating_sheets.png\n",
      "Launching PyMol session...\n",
      "Loading supplied PDB file...\n",
      "Highlighting ligand interaction sites...\n",
      "Setting PyMol view...\n",
      "PyMOL>viewport 720,720\n",
      "Rendering PyMol image...\n",
      "Image created! Saving to output/pication_pymol_image_no_ligand_undulating_sheets.png\n",
      "Launching PyMol session...\n",
      "Loading supplied PDB file...\n",
      "Highlighting ligand interaction sites...\n",
      "Setting PyMol view...\n",
      "PyMOL>viewport 720,720\n",
      "Rendering PyMol image...\n",
      "Image created! Saving to output/halogen_pymol_image_no_ligand_undulating_sheets.png\n",
      "Launching PyMol session...\n",
      "Loading supplied PDB file...\n",
      "Highlighting ligand interaction sites...\n",
      "Setting PyMol view...\n",
      "PyMOL>viewport 720,720\n",
      "Rendering PyMol image...\n",
      "Image created! Saving to output/summed_interactions_pymol_image_no_ligand_undulating_sheets.png\n"
     ]
    }
   ],
   "source": [
    "for i, interaction in enumerate(pdb_ints):\n",
    "\n",
    "    v = VisPymol(pdb=pdb_ints[interaction]._path)\n",
    "    v.load()\n",
    "    v.set_style(flat_sheets=0)\n",
    "    v.create_image(surface=True, ligand_col=\"green\", spectrum_col=spectrum_cols[i], show_ligand=False)\n",
    "    v.render(name=f\"{interaction}_pymol_image_no_ligand_undulating_sheets\", save_path=\"./output/\")"
   ]
  },
  {
   "source": [],
   "cell_type": "markdown",
   "metadata": {}
  },
  {
   "cell_type": "code",
   "execution_count": null,
   "metadata": {},
   "outputs": [],
   "source": []
  },
  {
   "source": [],
   "cell_type": "markdown",
   "metadata": {}
  }
 ],
 "metadata": {
  "kernelspec": {
   "name": "python3",
   "display_name": "Python 3.8.10 64-bit ('plipify_dev': conda)"
  },
  "language_info": {
   "codemirror_mode": {
    "name": "ipython",
    "version": 3
   },
   "file_extension": ".py",
   "mimetype": "text/x-python",
   "name": "python",
   "nbconvert_exporter": "python",
   "pygments_lexer": "ipython3",
   "version": "3.8.10"
  },
  "widgets": {
   "application/vnd.jupyter.widget-state+json": {
    "state": {},
    "version_major": 2,
    "version_minor": 0
   }
  },
  "interpreter": {
   "hash": "df02ac2ad7e1523d818f52a68d743b5daad8a3f5782a8ed9f01c5ba3106c045b"
  }
 },
 "nbformat": 4,
 "nbformat_minor": 4
}