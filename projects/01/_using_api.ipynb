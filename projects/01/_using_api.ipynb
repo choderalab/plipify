{
 "cells": [
  {
   "cell_type": "markdown",
   "metadata": {},
   "source": [
    "# Project 01: one protein against many ligands \n",
    "\n",
    "The purpose is to find interaction hotspots in a single target through the analysis of interactions found in a dataset of diverse small compounds.\n",
    "\n",
    "This was used in the prototype pipeline to elucidate hotspots in the sars-cov-19 protease, and we will refine it here against other datasets.\n",
    "\n",
    "The workflow itself consists of three steps:\n",
    "\n",
    "1. Obtaining and sanitizing the data\n",
    "2. Ingesting it in `plipify`\n",
    "3. Generating publication-worthy figures"
   ]
  },
  {
   "cell_type": "code",
   "execution_count": 1,
   "metadata": {},
   "outputs": [],
   "source": [
    "!mkdir -p data output"
   ]
  },
  {
   "cell_type": "markdown",
   "metadata": {},
   "source": [
    "## Obtaining and sanitizing the data\n",
    "\n",
    "We will be using data from [_Fragalysis_](), a XRC platform that generates structures for ligand collections against a given target. API endpoint is described [here](https://fragalysis.diamond.ac.uk/api/?format=api), but in short, it seems that you can download a full featured zip file using this URL: `https://fragalysis.diamond.ac.uk/media/targets/$TARGETNAME.zip`."
   ]
  },
  {
   "cell_type": "code",
   "execution_count": 2,
   "metadata": {},
   "outputs": [],
   "source": [
    "TARGET = \"Mpro\""
   ]
  },
  {
   "cell_type": "code",
   "execution_count": 3,
   "metadata": {},
   "outputs": [
    {
     "name": "stdout",
     "output_type": "stream",
     "text": [
      "{'id': 68, 'title': 'Mpro', 'project_id': [2], 'protein_set': [37176, 36464, 37186, 37200, 37210, 37136, 37150, 37164, 37272, 37324, 37346, 37266, 37222, 37238, 37267, 37207, 37311, 37309, 37131, 37274, 37243, 37187, 37148, 37337, 37116, 37276, 36456, 36465, 36365, 36366, 36367, 36368, 36369, 36370, 36364, 36371, 36372, 36373, 36386, 36375, 36387, 36376, 36377, 36388, 36378, 36379, 36380, 36381, 36382, 36383, 36384, 36385, 36374, 36389, 36392, 36411, 36395, 36391, 36394, 36399, 36393, 36398, 36397, 36396, 36402, 36404, 36401, 36429, 36400, 36403, 36405, 36406, 36413, 36407, 36408, 36409, 36421, 36410, 36415, 36417, 36412, 36414, 36419, 36416, 36420, 36426, 36418, 36422, 36423, 36424, 36425, 36427, 36428, 36430, 36432, 36434, 36436, 36433, 36438, 36435, 36437, 36440, 36439, 36390, 36431, 36443, 36444, 36445, 36446, 36442, 36449, 36455, 36450, 36453, 36451, 36458, 36459, 36452, 36454, 36457, 36460, 36461, 36462, 36463, 36448, 36466, 36467, 37074, 36441, 36447, 37107, 37093, 37081, 37102, 37079, 37099, 37090, 37106, 37103, 37086, 37075, 37076, 37077, 37091, 37080, 37072, 37073, 37092, 37071, 37068, 37078, 37089, 37085, 37105, 37084, 37082, 37098, 37087, 37083, 37094, 37069, 37104, 37101, 37100, 37097, 37088, 37096, 37070, 37095, 37108, 37111, 37113, 37124, 37109, 37140, 37110, 37146, 37130, 37132, 37133, 37112, 37155, 37139, 37120, 37134, 37121, 37128, 37115, 37143, 37126, 37117, 37125, 37135, 37119, 37151, 37118, 37129, 37114, 37138, 37137, 37157, 37149, 37144, 37141, 37142, 37145, 37152, 37147, 37127, 37153, 37154, 37156, 37122, 37123, 37159, 37169, 37170, 37160, 37180, 37202, 37162, 37196, 37190, 37168, 37163, 37204, 37181, 37166, 37191, 37205, 37189, 37185, 37174, 37175, 37182, 37199, 37177, 37158, 37167, 37183, 37188, 37178, 37171, 37203, 37184, 37179, 37201, 37173, 37194, 37198, 37195, 37197, 37192, 37172, 37161, 37193, 37165, 37212, 37228, 37219, 37206, 37235, 37209, 37220, 37211, 37229, 37240, 37213, 37223, 37239, 37214, 37251, 37230, 37233, 37241, 37216, 37226, 37217, 37231, 37227, 37236, 37218, 37237, 37234, 37242, 37232, 37245, 37246, 37224, 37247, 37248, 37249, 37221, 37250, 37215, 37252, 37244, 37253, 37225, 37254, 37208, 37299, 37268, 37257, 37278, 37258, 37271, 37259, 37273, 37292, 37261, 37279, 37275, 37281, 37262, 37285, 37277, 37263, 37280, 37264, 37304, 37265, 37269, 37260, 37284, 37303, 37256, 37287, 37286, 37282, 37291, 37283, 37255, 37290, 37295, 37293, 37298, 37297, 37296, 37302, 37288, 37294, 37301, 37300, 37289, 37270, 37306, 37333, 37327, 37343, 37319, 37341, 37335, 37307, 37338, 37328, 37308, 37351, 37334, 37312, 37342, 37313, 37329, 37320, 37314, 37315, 37321, 37316, 37354, 37330, 37317, 37353, 37318, 37345, 37348, 37325, 37331, 37305, 37326, 37339, 37332, 37355, 37322, 37340, 37347, 37344, 37349, 37356, 37323, 37350, 37310, 37336, 37352, 37367, 37360, 37361, 37362, 37363, 37357, 37366, 37359, 37358, 37365, 37364], 'template_protein': '/media/pdbs/Mpro-x10566_0A_apo.pdb', 'metadata': 'http://fragalysis.diamond.ac.uk/media/metadata/metadata_eXcyBx7.csv', 'zip_archive': 'http://fragalysis.diamond.ac.uk/media/targets/Mpro.zip'}\n"
     ]
    }
   ],
   "source": [
    "import requests\n",
    "\n",
    "r = requests.get(f\"https://fragalysis.diamond.ac.uk/api/targets/?format=json&title={TARGET}\")\n",
    "r.raise_for_status()\n",
    "target = r.json()[\"results\"][0]\n",
    "print(target)"
   ]
  },
  {
   "cell_type": "code",
   "execution_count": 22,
   "metadata": {},
   "outputs": [],
   "source": [
    "from pathlib import Path\n",
    "if not Path(f\"data/{TARGET}.zip\").is_file():\n",
    "    !curl -L \"{target['zip_archive']}\" -o data/{TARGET}.zip\n",
    "    !unzip -qqo data/{TARGET}.zip -d data/"
   ]
  },
  {
   "cell_type": "code",
   "execution_count": 20,
   "metadata": {},
   "outputs": [
    {
     "name": "stdout",
     "output_type": "stream",
     "text": [
      "Mpro.zip\t\t\t  Mpro_soaks.csv       crystallographic\n",
      "Mpro_cocrystallisation.csv\t  aligned\t       hits_ids.csv\n",
      "Mpro_compound_tracker_csv.csv\t  alternate_names.csv  metadata.csv\n",
      "Mpro_compound_tracker_excel.xlsx  biomol.txt\t       sites.csv\n"
     ]
    }
   ],
   "source": [
    "!ls data/"
   ]
  },
  {
   "cell_type": "markdown",
   "metadata": {},
   "source": [
    "For completeness, we'll also query the `target` API endpoint to see what we could be missing:"
   ]
  },
  {
   "cell_type": "markdown",
   "metadata": {},
   "source": [
    "Most of the contextual information can be found in `metadata.csv`, which we can load with `pandas`:"
   ]
  },
  {
   "cell_type": "code",
   "execution_count": 21,
   "metadata": {},
   "outputs": [
    {
     "data": {
      "text/html": [
       "<div>\n",
       "<style scoped>\n",
       "    .dataframe tbody tr th:only-of-type {\n",
       "        vertical-align: middle;\n",
       "    }\n",
       "\n",
       "    .dataframe tbody tr th {\n",
       "        vertical-align: top;\n",
       "    }\n",
       "\n",
       "    .dataframe thead th {\n",
       "        text-align: right;\n",
       "    }\n",
       "</style>\n",
       "<table border=\"1\" class=\"dataframe\">\n",
       "  <thead>\n",
       "    <tr style=\"text-align: right;\">\n",
       "      <th></th>\n",
       "      <th>crystal_name</th>\n",
       "      <th>RealCrystalName</th>\n",
       "      <th>smiles</th>\n",
       "      <th>new_smiles</th>\n",
       "      <th>alternate_name</th>\n",
       "      <th>site_name</th>\n",
       "      <th>pdb_entry</th>\n",
       "    </tr>\n",
       "  </thead>\n",
       "  <tbody>\n",
       "    <tr>\n",
       "      <th>1</th>\n",
       "      <td>Mpro-6lze_0A</td>\n",
       "      <td>Mpro-6lze</td>\n",
       "      <td>O=C[C@H](C[C@@H]1CCNC1=O)NC(=O)[C@H](CC1CCCCC1...</td>\n",
       "      <td>NaN</td>\n",
       "      <td>NaN</td>\n",
       "      <td>P1 - PDB structures</td>\n",
       "      <td>6LZE</td>\n",
       "    </tr>\n",
       "    <tr>\n",
       "      <th>2</th>\n",
       "      <td>Mpro-6m0k_0A</td>\n",
       "      <td>Mpro-6m0k</td>\n",
       "      <td>O=C[C@H](C[C@@H]1CCNC1=O)NC(=O)[C@H](Cc1cccc(F...</td>\n",
       "      <td>NaN</td>\n",
       "      <td>NaN</td>\n",
       "      <td>P1 - PDB structures</td>\n",
       "      <td>6M0K</td>\n",
       "    </tr>\n",
       "    <tr>\n",
       "      <th>3</th>\n",
       "      <td>Mpro-6m2n_0A</td>\n",
       "      <td>Mpro-6m2n</td>\n",
       "      <td>O=c1cc(-c2ccccc2)oc2cc(O)c(O)c(O)c12</td>\n",
       "      <td>NaN</td>\n",
       "      <td>NaN</td>\n",
       "      <td>P1 - PDB structures</td>\n",
       "      <td>6M2N</td>\n",
       "    </tr>\n",
       "    <tr>\n",
       "      <th>4</th>\n",
       "      <td>Mpro-6m2n_0B</td>\n",
       "      <td>Mpro-6m2n</td>\n",
       "      <td>O=c1cc(-c2ccccc2)oc2cc(O)c(O)c(O)c12</td>\n",
       "      <td>NaN</td>\n",
       "      <td>NaN</td>\n",
       "      <td>P1 - PDB structures</td>\n",
       "      <td>6M2N</td>\n",
       "    </tr>\n",
       "    <tr>\n",
       "      <th>5</th>\n",
       "      <td>Mpro-6m2n_0C</td>\n",
       "      <td>Mpro-6m2n</td>\n",
       "      <td>O=c1cc(-c2ccccc2)oc2cc(O)c(O)c(O)c12</td>\n",
       "      <td>NaN</td>\n",
       "      <td>NaN</td>\n",
       "      <td>P1 - PDB structures</td>\n",
       "      <td>6M2N</td>\n",
       "    </tr>\n",
       "    <tr>\n",
       "      <th>...</th>\n",
       "      <td>...</td>\n",
       "      <td>...</td>\n",
       "      <td>...</td>\n",
       "      <td>...</td>\n",
       "      <td>...</td>\n",
       "      <td>...</td>\n",
       "      <td>...</td>\n",
       "    </tr>\n",
       "    <tr>\n",
       "      <th>407</th>\n",
       "      <td>Mpro-x3348_0A</td>\n",
       "      <td>Mpro-x3348</td>\n",
       "      <td>CC(=O)N1CCN(CC1)C(C1=CC=CC=C1)C1=CC=CC=C1</td>\n",
       "      <td>CC(=O)N1CCN(CC1)C(C1=CC=CC=C1)C1=CC=CC=C1</td>\n",
       "      <td>SIM-SYN-f15aaa3a-1</td>\n",
       "      <td>A3 - Chloroacetamide</td>\n",
       "      <td>NaN</td>\n",
       "    </tr>\n",
       "    <tr>\n",
       "      <th>408</th>\n",
       "      <td>Mpro-x3351_0A</td>\n",
       "      <td>Mpro-x3351</td>\n",
       "      <td>CNCC1=CNC=2C=CC(F)=CC12</td>\n",
       "      <td>NaN</td>\n",
       "      <td>DAR-DIA-eace69ff-36</td>\n",
       "      <td>M1 - Moonshot - other</td>\n",
       "      <td>NaN</td>\n",
       "    </tr>\n",
       "    <tr>\n",
       "      <th>409</th>\n",
       "      <td>Mpro-x3351_1A</td>\n",
       "      <td>Mpro-x3351</td>\n",
       "      <td>CNCC1=CNC=2C=CC(F)=CC12</td>\n",
       "      <td>NaN</td>\n",
       "      <td>DAR-DIA-eace69ff-36</td>\n",
       "      <td>M1 - Moonshot - other</td>\n",
       "      <td>NaN</td>\n",
       "    </tr>\n",
       "    <tr>\n",
       "      <th>410</th>\n",
       "      <td>Mpro-x3359_0A</td>\n",
       "      <td>Mpro-x3359</td>\n",
       "      <td>CCNC(=O)C(N(C(=O)CC)C1=CC=C(C=C1)C(C)(C)C)C1=C...</td>\n",
       "      <td>CCNC(=O)C(N(C(=O)CC)C1=CC=C(C=C1)C(C)(C)C)C1=C...</td>\n",
       "      <td>LON-WEI-adc59df6-30</td>\n",
       "      <td>A6 - Ugi</td>\n",
       "      <td>5RL5</td>\n",
       "    </tr>\n",
       "    <tr>\n",
       "      <th>411</th>\n",
       "      <td>Mpro-x3366_0A</td>\n",
       "      <td>Mpro-x3366</td>\n",
       "      <td>CC=1C=CN=CC1NC(=O)CC=2C=CC=3NC=NC3C2</td>\n",
       "      <td>NaN</td>\n",
       "      <td>GAB-REV-70cc3ca5-18</td>\n",
       "      <td>A1 - Aminopyridine-like</td>\n",
       "      <td>NaN</td>\n",
       "    </tr>\n",
       "  </tbody>\n",
       "</table>\n",
       "<p>404 rows × 7 columns</p>\n",
       "</div>"
      ],
      "text/plain": [
       "      crystal_name RealCrystalName  \\\n",
       "1     Mpro-6lze_0A       Mpro-6lze   \n",
       "2     Mpro-6m0k_0A       Mpro-6m0k   \n",
       "3     Mpro-6m2n_0A       Mpro-6m2n   \n",
       "4     Mpro-6m2n_0B       Mpro-6m2n   \n",
       "5     Mpro-6m2n_0C       Mpro-6m2n   \n",
       "..             ...             ...   \n",
       "407  Mpro-x3348_0A      Mpro-x3348   \n",
       "408  Mpro-x3351_0A      Mpro-x3351   \n",
       "409  Mpro-x3351_1A      Mpro-x3351   \n",
       "410  Mpro-x3359_0A      Mpro-x3359   \n",
       "411  Mpro-x3366_0A      Mpro-x3366   \n",
       "\n",
       "                                                smiles  \\\n",
       "1    O=C[C@H](C[C@@H]1CCNC1=O)NC(=O)[C@H](CC1CCCCC1...   \n",
       "2    O=C[C@H](C[C@@H]1CCNC1=O)NC(=O)[C@H](Cc1cccc(F...   \n",
       "3                 O=c1cc(-c2ccccc2)oc2cc(O)c(O)c(O)c12   \n",
       "4                 O=c1cc(-c2ccccc2)oc2cc(O)c(O)c(O)c12   \n",
       "5                 O=c1cc(-c2ccccc2)oc2cc(O)c(O)c(O)c12   \n",
       "..                                                 ...   \n",
       "407          CC(=O)N1CCN(CC1)C(C1=CC=CC=C1)C1=CC=CC=C1   \n",
       "408                            CNCC1=CNC=2C=CC(F)=CC12   \n",
       "409                            CNCC1=CNC=2C=CC(F)=CC12   \n",
       "410  CCNC(=O)C(N(C(=O)CC)C1=CC=C(C=C1)C(C)(C)C)C1=C...   \n",
       "411               CC=1C=CN=CC1NC(=O)CC=2C=CC=3NC=NC3C2   \n",
       "\n",
       "                                            new_smiles       alternate_name  \\\n",
       "1                                                  NaN                  NaN   \n",
       "2                                                  NaN                  NaN   \n",
       "3                                                  NaN                  NaN   \n",
       "4                                                  NaN                  NaN   \n",
       "5                                                  NaN                  NaN   \n",
       "..                                                 ...                  ...   \n",
       "407          CC(=O)N1CCN(CC1)C(C1=CC=CC=C1)C1=CC=CC=C1   SIM-SYN-f15aaa3a-1   \n",
       "408                                                NaN  DAR-DIA-eace69ff-36   \n",
       "409                                                NaN  DAR-DIA-eace69ff-36   \n",
       "410  CCNC(=O)C(N(C(=O)CC)C1=CC=C(C=C1)C(C)(C)C)C1=C...  LON-WEI-adc59df6-30   \n",
       "411                                                NaN  GAB-REV-70cc3ca5-18   \n",
       "\n",
       "                   site_name pdb_entry  \n",
       "1        P1 - PDB structures      6LZE  \n",
       "2        P1 - PDB structures      6M0K  \n",
       "3        P1 - PDB structures      6M2N  \n",
       "4        P1 - PDB structures      6M2N  \n",
       "5        P1 - PDB structures      6M2N  \n",
       "..                       ...       ...  \n",
       "407     A3 - Chloroacetamide       NaN  \n",
       "408    M1 - Moonshot - other       NaN  \n",
       "409    M1 - Moonshot - other       NaN  \n",
       "410                 A6 - Ugi      5RL5  \n",
       "411  A1 - Aminopyridine-like       NaN  \n",
       "\n",
       "[404 rows x 7 columns]"
      ]
     },
     "execution_count": 21,
     "metadata": {},
     "output_type": "execute_result"
    }
   ],
   "source": [
    "import pandas as pd\n",
    "metadata = pd.read_csv(\"data/metadata.csv\", index_col=0)\n",
    "metadata"
   ]
  },
  {
   "cell_type": "markdown",
   "metadata": {},
   "source": [
    "With some RDKit magic, we can get the smiles represented in 2D:"
   ]
  },
  {
   "cell_type": "code",
   "execution_count": 8,
   "metadata": {},
   "outputs": [
    {
     "data": {
      "text/html": [
       "<div>\n",
       "<style scoped>\n",
       "    .dataframe tbody tr th:only-of-type {\n",
       "        vertical-align: middle;\n",
       "    }\n",
       "\n",
       "    .dataframe tbody tr th {\n",
       "        vertical-align: top;\n",
       "    }\n",
       "\n",
       "    .dataframe thead th {\n",
       "        text-align: right;\n",
       "    }\n",
       "</style>\n",
       "<table border=\"1\" class=\"dataframe\">\n",
       "  <thead>\n",
       "    <tr style=\"text-align: right;\">\n",
       "      <th></th>\n",
       "      <th>crystal_name</th>\n",
       "      <th>RealCrystalName</th>\n",
       "      <th>smiles</th>\n",
       "      <th>new_smiles</th>\n",
       "      <th>alternate_name</th>\n",
       "      <th>site_name</th>\n",
       "      <th>pdb_entry</th>\n",
       "      <th>ROMol</th>\n",
       "    </tr>\n",
       "  </thead>\n",
       "  <tbody>\n",
       "    <tr>\n",
       "      <th>1</th>\n",
       "      <td>Mpro-6lze_0A</td>\n",
       "      <td>Mpro-6lze</td>\n",
       "      <td>O=C[C@H](C[C@@H]1CCNC1=O)NC(=O)[C@H](CC1CCCCC1...</td>\n",
       "      <td>NaN</td>\n",
       "      <td>NaN</td>\n",
       "      <td>P1 - PDB structures</td>\n",
       "      <td>6LZE</td>\n",
       "      <td><img data-content=\"rdkit/molecule\" src=\"data:image/png;base64,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\" alt=\"Mol\"/></td>\n",
       "    </tr>\n",
       "    <tr>\n",
       "      <th>2</th>\n",
       "      <td>Mpro-6m0k_0A</td>\n",
       "      <td>Mpro-6m0k</td>\n",
       "      <td>O=C[C@H](C[C@@H]1CCNC1=O)NC(=O)[C@H](Cc1cccc(F...</td>\n",
       "      <td>NaN</td>\n",
       "      <td>NaN</td>\n",
       "      <td>P1 - PDB structures</td>\n",
       "      <td>6M0K</td>\n",
       "      <td><img data-content=\"rdkit/molecule\" src=\"data:image/png;base64,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\" alt=\"Mol\"/></td>\n",
       "    </tr>\n",
       "    <tr>\n",
       "      <th>3</th>\n",
       "      <td>Mpro-6m2n_0A</td>\n",
       "      <td>Mpro-6m2n</td>\n",
       "      <td>O=c1cc(-c2ccccc2)oc2cc(O)c(O)c(O)c12</td>\n",
       "      <td>NaN</td>\n",
       "      <td>NaN</td>\n",
       "      <td>P1 - PDB structures</td>\n",
       "      <td>6M2N</td>\n",
       "      <td><img data-content=\"rdkit/molecule\" src=\"data:image/png;base64,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\" alt=\"Mol\"/></td>\n",
       "    </tr>\n",
       "    <tr>\n",
       "      <th>4</th>\n",
       "      <td>Mpro-6m2n_0B</td>\n",
       "      <td>Mpro-6m2n</td>\n",
       "      <td>O=c1cc(-c2ccccc2)oc2cc(O)c(O)c(O)c12</td>\n",
       "      <td>NaN</td>\n",
       "      <td>NaN</td>\n",
       "      <td>P1 - PDB structures</td>\n",
       "      <td>6M2N</td>\n",
       "      <td><img data-content=\"rdkit/molecule\" src=\"data:image/png;base64,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\" alt=\"Mol\"/></td>\n",
       "    </tr>\n",
       "    <tr>\n",
       "      <th>5</th>\n",
       "      <td>Mpro-6m2n_0C</td>\n",
       "      <td>Mpro-6m2n</td>\n",
       "      <td>O=c1cc(-c2ccccc2)oc2cc(O)c(O)c(O)c12</td>\n",
       "      <td>NaN</td>\n",
       "      <td>NaN</td>\n",
       "      <td>P1 - PDB structures</td>\n",
       "      <td>6M2N</td>\n",
       "      <td><img data-content=\"rdkit/molecule\" src=\"data:image/png;base64,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\" alt=\"Mol\"/></td>\n",
       "    </tr>\n",
       "    <tr>\n",
       "      <th>...</th>\n",
       "      <td>...</td>\n",
       "      <td>...</td>\n",
       "      <td>...</td>\n",
       "      <td>...</td>\n",
       "      <td>...</td>\n",
       "      <td>...</td>\n",
       "      <td>...</td>\n",
       "      <td>...</td>\n",
       "    </tr>\n",
       "    <tr>\n",
       "      <th>407</th>\n",
       "      <td>Mpro-x3348_0A</td>\n",
       "      <td>Mpro-x3348</td>\n",
       "      <td>CC(=O)N1CCN(CC1)C(C1=CC=CC=C1)C1=CC=CC=C1</td>\n",
       "      <td>CC(=O)N1CCN(CC1)C(C1=CC=CC=C1)C1=CC=CC=C1</td>\n",
       "      <td>SIM-SYN-f15aaa3a-1</td>\n",
       "      <td>A3 - Chloroacetamide</td>\n",
       "      <td>NaN</td>\n",
       "      <td><img data-content=\"rdkit/molecule\" src=\"data:image/png;base64,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\" alt=\"Mol\"/></td>\n",
       "    </tr>\n",
       "    <tr>\n",
       "      <th>408</th>\n",
       "      <td>Mpro-x3351_0A</td>\n",
       "      <td>Mpro-x3351</td>\n",
       "      <td>CNCC1=CNC=2C=CC(F)=CC12</td>\n",
       "      <td>NaN</td>\n",
       "      <td>DAR-DIA-eace69ff-36</td>\n",
       "      <td>M1 - Moonshot - other</td>\n",
       "      <td>NaN</td>\n",
       "      <td><img data-content=\"rdkit/molecule\" src=\"data:image/png;base64,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\" alt=\"Mol\"/></td>\n",
       "    </tr>\n",
       "    <tr>\n",
       "      <th>409</th>\n",
       "      <td>Mpro-x3351_1A</td>\n",
       "      <td>Mpro-x3351</td>\n",
       "      <td>CNCC1=CNC=2C=CC(F)=CC12</td>\n",
       "      <td>NaN</td>\n",
       "      <td>DAR-DIA-eace69ff-36</td>\n",
       "      <td>M1 - Moonshot - other</td>\n",
       "      <td>NaN</td>\n",
       "      <td><img data-content=\"rdkit/molecule\" src=\"data:image/png;base64,iVBORw0KGgoAAAANSUhEUgAAAMgAAADICAIAAAAiOjnJAAAABmJLR0QA/wD/AP+gvaeTAAAXBElEQVR4nO2de1RTV9bAd14QEt6iQSqg+GhtZbTgY75xRm2Ltj5o7efYGV1SVj8rtS4dUatWW6sOdqS+bYuCioqPqgijFZ1SEdRq27FlXI7i+KiMikVreRkJSUhI9vfHoTGGhyTck6Rm/5Z/XI43Z+8rP0/OPffcc0SICAQhNGJXJ0A8npBYBBdILIILJBbBBRKL4AKJRXCBxCK4QGIRXCCxCC6QWAQXSCyCCyQWwQUSi+ACiUVwgcQiuEBiEVwgsQgukFgEF0gsggskFsEFEovgAolFcIHEIrhAYhFcILEILpBYBBdILIILJBbBBRKL4AKJRXCBxCK4QGIRXCCxCC6QWAQXSCyCCyQWwQWpqxMgfjVsunPn5L17lh8DpNINPXu2dDKJRbSVO/X1QVJpYmgo+1EmErVyMolF2EEHmWyAn19bzqQ+FsEFarEIOyiorv5arWbH05544n9DQlo6k8Qi7OB/AgKmP/EEO+4gk7VyJolF2IGvRNJNLm/LmdTHIrhAYhFcoK9C4tFoTSYfieS5wMC27xQnom3liEcyp7S0tqFhSbduYV5ebfwItVjEIyioqTl5755SIrHLFepjEa1xv6Fh5a1bAJDcpUunNjdXQGIRrbPmxx+rjcYYP7+xLY+FNguJRbTI97W1R6qqvESihRERrT1wbg4Si2gevdn84c2bCDA1LKxr2wZFrSGxiObZUF7+Y319Lx+fiSqVAx8nsYhmuFhXt7eiQiISLeraVdrqvKuWILEIW0yIH5aVmRETVKreCoVjlZBYhC1bf/rpqlYb4e09pXNnhyshsYiHuF5bu+3OHRHAe5GR3mLH9SCxiAeYzeaEUaNUhYXjAwNj2zYFuSXokQ7xgLS0tK9Pn+5cWrptypR2VkUPoYlGysrK+vTpU1tbe+DAgbFjx7azNvoqJBqZPn16bW3ta6+91n6roHWxduzYcePGjfbHINyfXbt25eXlBQcHf/zxx8LUiC2Qm5srEokiIyP/+9//tnQO8XhQUVHRqVMnANi+fbtQdbYolkajGTp0KACEh4dfu3ZNqHiEGzJhwgQAeP75581ms1B1tigWImo0mmHDhjG3fvjhB6FCEm7FkSNHAEChUAjbfLQmFiJqNJrnnnsOALp06UJuORm1Wl1aWlpdXV1fX88vRHh4OACsXbtW2JofPdyg1WrHjBlz/Pjx0NDQoqKi3r17C9O5I1pl//79Z86cWb16taVELpcHBQX5+Piwg7YcswOVSiWRSJqNMm3atI0bNw4cOPCbb75p6RzHaNM4llarjY+PLyoqCg0NLSwsfPrppwXMgGjKrVu3+vTpo9FoQkNDdTpdbW1tQ0NDeyoMCAhQKpVKpdLf39/f358d6/X6vLw8qVRaXFwcHR0tVPKMtg6QarXal19+ubCwUKVSFRUVkVtcGTt27Oeffz5u3LicnBxLoU6nq6mp0ev17KDtx/fv3zeZTM0GCg8P79GjR1FRkeCXYMfIu1arfeWVV44dO6ZSqQoLC5955hnBsyEAYM+ePRMnTgwICLh48eITvyyU0E5qamrq6urq6uo0Gs29e/fY8blz51asWOHr61taWsqGG4TErh5ZXV3dCy+8AAChoaGXL1cL290jELGyspL9jjMzM50QbuTIkQAwb948wWu2TyxE1Ov1o0ePHjbsVKdOeOGC4Pl4OpMmTQKAYcOGCTik1ArFxcUikcjHx6e8vFzYmu0WCxG1WuOIEQiAKhWWlAibj0fzxRdfAIBCoXDmyA57Mjhz5kxhq3VELETU63HMGATAjh3x/HlhU/JQNBpNVFQUAKxatcqZcS9cuCAWi+VyeVlZmYDVOigWItbXY3w8uSUYM2bMAIB+/foZjUZLodlsjo+PT01NNZlM/EL/6U9/AoCpU6cKWKfjYiFifT2+/HKjW//+t1AptZWKior8/Hy9Xu/swBz45z//KZFIpFLp2bNnrcszMjIAQKVSVVcLdqt09+7dDRs2WJdcuXJFKpXKZLLS0lKhorRLLLRyKygIv/9ekJRaw2g0FhcXp6amDh48WCwWSySSvn37fvjhh9wD86S+vp6N3bz33nvW5bdv3w4MDASA/fv3CxXLYDCEhYUBwFdffWVd/vrrrwPAG2+8IVSg9oqFiPX1+MorfN0qKSlZs2bNyJEjlUqlZaBELpf37dtXLBYDwIoVK7gEdgoffPABAPTq1Uun01mXs271mDFjhA23ZMkSAPj9739vXXj9+nUvLy+JRHLp0iVBogggFiLW1+PYsQiAgYH43XeCVIk///xzdnZ2UlJSRESE9cBbVFRUUlJSdnb2/fv3EXHr1q3MrWXLlgkT2LlcunTJ29tbLBbbNCH79u0DAH9//1u3bgkbUa1Wd+jQAQAKCgqsy6dMmQIAEydOFCSKMGIhosEggFs6HR49inPn4ujRE0VWL+B27tz59ddf37Vr108//dT0U5999hl7gJqSktKua3A6JpPpd7/7HQBMmzbNuryqqkqlUgHApk2beMRdvnw5AAwYMMB6tOzmzZtM8X8L0V8WTCxErK/HV19FsRjT03H+fCwqevBXFy5gK7/00lLMyMDx49HPDwEQAIcNe9fHxycuLi41NbW4uPiRo4V79uyRSqUA8Ne//lWgq3EGa9asAYCwsLCamhrr8sTERAAYOnQop2FSjUbDxD18+LB1+fTp0wFg3Lhx7Q8hpFiIaDBgQQH+8AMCYGgoWv65cnJQpXrozNu3MSsLJ01ClapRJgAUizEmBt99F0+cqLH3ds/i1tKlSwW6Gr7cuHHD19cXAA4ePGhdXlhYKBKJvL29heruNAtzOiYmxtrd27dvKxQKkUj0Xbs7NAKLxWBiDRqEM2Y0ljCxtFosKMD58zE2FkWiBz6pVDh+PGZkYDufK+zdu5e5tWTJkvZfBW9GjBgBABMmTLAurKur6969OwB89NFHXKPrdLouXboAQG5urnX5nDlzBLlj4CjWyZPo7Y3FxYi/iLVp0wOZFAqMi8PUVCwuRgHb+3379jG35s+fL1ilHNi2bRsAdOjQ4e7du9blycnJANC3b1+DwcA7h7S0NAB45plnrEdfKyoq/Pz8AODbb79tT+UcxaquxhkzsH9/bGhoFOvGDRw4EN97D0+cQH7/btnZ2W7uVkVFRUhICADs3LnTuvzMmTNsmLSY/XfkjMFg6NatGwB89tln1uULFy4EgOHDh7encr5i1dSgSoWfftpMH4srFrd4TAhpP+PHjweAl156ybrQaDT269cPAN59912nZbJlyxYA6Nmzp/VzpJqamqCgIAA4fvy4wzXzFQsRd+7E4GDctMmpYiHi/v37ZTIZAMydO9epgR/F4cOHAUCpVNo8P1m6dCn7HWu1Wqcl09DQ8OSTTwLAtm3bmiYzePBgh2vmLpbZjEOHYo8ezhYLEXNyctzNLbVazbrMH3/8sXX5pUuX5HK5SCQ6duyYk1PauXMnAERGRlq/C1RbW9uxY0cAOHr0qGPVchcLES9eRJnMBWIhYm5uLnPrnXfecUH4JiQlJQHAoEGDGhoaLIUmk2nw4MEA8NZbbzk/JZPJxN6kSE9Pty5PTU0FgP79+zs2lsZFrLIyjI1FtfpBybJl2L6+oOMcPnzY29sbAObMmeOaDH7hxIkTIpHIy8ur5OHpkevXr2dPF2yGSZ1GdnY2G6e1/ha2DKLm5eU5UCcXsaqqMD//oZKaGszPF3JYwS4sbs2ePds1GSDq9Xr2SqbN+O3NmzfZ7f2BAwdclZvZbGb3DevXr7cuX7t2LQBER0c7MBuMi1hFRQiA1sl89RUCILcXeh/NkSNHmFuzZs1ySQLz588HgKeeesrmiUJ8fDwAvPbaay7JysLnn3/O3pGpq6uzFFoGUXNycuyt0FPEQsR//OMfcrkcAJKTk53zqoKFc+fOyWQysVj89ddfW5fv2LEDAIKDg5t9uO5kBg0a1HQC0oYNG5oOorYFDxILrdyaOnWqE9xSq9VnzpzJzMxkk9mTk5NtTkhJSZFIJDa3+q4iPz+fPQxQW/WODQYDS3737t121cZRrP37MSen8U9KiluIhYhffPEFc+utt94S1q3q6uri4uKsrKz58+ePGTMmKirKMvNHpVL5+flVVFQ0/dTFixed3Hy2Alu4ymb2UWZmZtNB1EfCUazhwx/8GTDAXcRCxPz8fOZWUlKSw7/UsrKyL7/8ct26dUlJSUOGDGFT52yQy+X9+vWbMGECm6u4evVqYS9EcI4fP84aLeu5rJZB1K1bt7a9Ks/6KrRgcWvKlClt6T2Ul5cXFBQwjQYPHuzv799UI39//9jY2PHjxy9evDg7O7ukpMQyWMXWoAoJCWGzXt2ZZcuW/ec//7Ep3LVrV9NB1NbxULEQ8csvv/Tx8WnqlsFgKC0tPXToUGpqakJCQmxsrPVEewtBQUGxsbEJCQmpqamHDh0qLS1tvfH7wx/+AAB/+9vf+F+Z8DQ0NHTo0GHs2LHW3a/W8Vyx0MqtUaNGLViw4NVXX+3Vqxd7em1DeHj4iBEjZs6cmZGRcfLkycrKSntjHTt2DAACAwMFfJHLabBuVqdOnTQaTRs/4tFiIeLJkyflcjl7I8pC586d4+Li/vKXv2RkZJw6dart/01bh62NuHjxYkFqcxp37txhkx1sZte0DhexzGbb6VZNS9yHZ599FgASExP37t177tw5fm/Anj59GgB8fX1//vlnTiF4MG7cOAAYOXKkXZ/iItavi+DgYABwzhDliy++CM6dcdVO8vLyAMDPz8/elR08Xay7d++yro9zwrFlg5RKpTsMtT+Se/fusZXf0tLS7P2sp295cvnyZQB46qmnnBMuNjY2Pj6+rq7uo48+ck7E9vDOO++Ul5f/9re/nTp1qt0f5mH6rwi26kZiYqLTIp4/f54tGyT4K87Cwib5eHt7X7x40YGPe3qLdeXKFQBgI8sWFi9evGXLFoPBwCNidHT0H//4R71ez15Hdk90Ot2bb76JiIsWLXJwIWOhRf+VMXr0aAD4+9//bimpqakBAKVSye8RnmXZILfdp2ju3LkAEB0d7fBbaJ4uFns71PohxrfffgsAMTExXOMmJCQAwOTJk7lGcQzLJJ9vvvnG4Uo8Wqz6+nqpVCqVSq3HrrZv3w5NXlAWnGvXrslkMolEcvnyZa6B7MVoNMbExEC7Z3J7dB/r6tWrDQ0NUVFRbHIpo9lel+B07949MTHRZDKlpKRwDWQvK1euPHv2bNeuXdkyWg7j0WI165DTBiAWLVrk7e29Z8+e8+fP847VRq5evZqSkiISiTZt2sQWLHEYjxarWYecJlZERMSbb75pNpvdpNFCxLffflun073xxhvDhw8XoDqPhfWgt2zZYikxGo1s8THrdwr4YVk2yGZNW5ewceNGAAgNDRVk/oVHizVgwAAAOH36tKWEfTlGRkY6LYfZs2cDQHx8vNMiNkt5eTlbSNeBF3KaxaPFCggIAADrqeiHDh0CgBdffNFpOQi1bFA7EXwhXc/tY92+fVutVgcHB7MVhRhOfnQIACEhIWyBxsWLFzstqA379u07ePBgQEBAenq6UHU2M1vSQ2DfejYbxjpnrMGGefPmpaenHz169OTJk+w9GRsSExO9vLya7mQZEBDg5+enVCoVCkVQUJBSqfTy8rI3enV19cyZMwFg1apVQu1iB54sVrONk0vECgwMnDlz5pIlS95///1Tp07Z/C0i7t69u6WdLG2QyWS+vr6BgYHMPD8/v4CAAIVCoVQq09LS2LrlNsyaNevu3btDhw6dPHmyABfzC3ZshPmYkZycvH79+hUrVrDnYoyOHTtWVlaWl5fbTFbmDduhqaKioqCgIC4uzvqvzGZzbm5u050stVrt/fv379+/z8rVanUrO/x6e3vr9fqm5UVFRXFxcXK5/Pz58z169BDwijy3xWraOFVXV1dWVvr5+XXu3NnJyfj6+s6ePXvBggULFy584YUXrNe4F4vFbAXAtlBfX19XV3fv3j2NRqPVai0WNtvgabXaKVOmIOLSpUuFtQrAg8exunbtCgBXrlyxlLA56QMGDHBJPi2tvc4P1rXitJCuh4ql1WrFYrFMJrP+N2ULck6aNMlVWTW79jonLAvp/utf/+JRv4d+FV69etVsNj/55JNsvT+GS3ru1rz99ttr1qw5e/bs3Llzhw8fzjrdgYGBvr6+rDMuVCCDwTB58mSTybRgwQI2l0FwPFSsVm4JnTmIZYNcLu/fv39tbe3q1atXr17d7Ak+Pj5yuTwoKCgoKOiRx5aDkJAQ65GI5cuXl5SU9OrVa9GiRZyuxUPFcu28hpZISUk5ePCgRCJ5/vnnpVIpu92z3PrpdDq9Xs9u7u7cuWNv5QqFQqFQ+Pv7KxSKK1euiESizZs3sxfBeUBiNWI0Gq9fvy4Wi4W/P2obK1eu/OCDDyQSyfbt29le9k3R6XQ1NTV6vd7m4JHHVVVVWq1Wq9VWVlYCwIQJE/r16zdkyBB+l+OhYjVtnK5du2Y0Grt3785WoXEyq1atmjdvXutWAYCPj4/DbYz1MFjHjh3Dw8MdTbZt8LgjcHPMZjObxVZVVWUpPHDgAACMGjXK+fmsWrUKACQSyY4dO5wfnROeKFZZWRkAqB5eeF6tVp84caI9rw84BrNKLBZnZWU5OTRXPFGsgoICABgyZIirE0F26ycWi7dv3+7qXATGE6fNuPzuj7F27do5c+aIRKKNGzeyLVUfJzxRLHZLWFVVxeld57awbt262bNnM6vYPiiPG65uMl2AXq9n76mGh4evW7eO34JYLZGe/qNSqRSLxZmZmU4O7TQ8USxELCgosDzKiIiIcKZe69ahSITPPntiy5bH1ir0WLEQ0Ww2Hzp0iC3nBwCRkZEZGRl2LWXuABkZKBKhSIT2Lzj1K8NzxWIwvdgWRQDQtWtXfnpt2uQpViGJxTCZTNnZ2Zb7xG7dugmul8WqTz8VsFb3hcR6QENDw86dO3v27Mn06t27d25ujf0bqjXD5s0oFqNIhJ98IkBtvwpILFtY69WrV68+faYAYO/emJWFVvuh2s2WLY1WPbxb72MOidU8RqNx9+6Kbt0QAAEwOhpzchzZyDMzs9Gqh7eYfPwhsVrDYMCsLOzRo1GvPn0wO9sOvZhVAJiayjNLt4TEejRMr+7dH7RebdFr585Gq9ascUqWbgaJ1VaYXlFRjXr95jcP9Jo4EadOfXBmbS3GxWFREYaF4fLlrsrXxZBY9qHX4yefYFhYo14DB2JREUZEoEiEe/c2nlNdjQBYUoIu2pTeLfDEh9Dtwdsbpk+H69chIwPCwuC77+DyZQCAceNg1ixQqx86OTDQJTm6BSSWI3h5QVISXLsGaWnwf/8HAPDnP0OPHvD++67OzG0gsRzHxwemTQPLurhr10JGBnz/vUtzchtILMGIjYWkJJg2DcxmV6fiBpBYQrJsGdy6BVlZrs7DDfDQ1784ERgIK1ZAcrKr83ADqMUSmIQE+GUOjkdDYgnAxInQrVvjsUgEn34KSUkQFOTSnFwNiSUACsVDGj39NEREgE7nuoTcAM9dKlJARCIoKADrFR5lMsjLg5decl1OroZaLIILJBbBBRpuEIbNm+Ho0Qc/0hgpiSUMXl7giuWP3BcSSxgSEx/qvLvxPuJOgvpYBBdILIILJJYAxMSAv79tSUCAi7JxD2iAlOACtVgEF0gsggskFsEFEovgAolFcIHEIrhAYhFcILEILpBYBBdILIILJBbBBRKL4AKJRXCBxCK4QGIRXCCxCC6QWAQXSCyCCyQWwQUSi+ACiUVwgcQiuEBiEVwgsQgukFgEF0gsggskFsEFEovgAolFcIHEIrhAYhFcILEILpBYBBdILIILJBbBBRKL4ML/A2HvLaXHnd+3AAABJXpUWHRyZGtpdFBLTCByZGtpdCAyMDIwLjA5LjEAAHice79v7T0GIOABYkYGCOAFYj4gbmBkY0gAiTOzg2kmKJ+Jic1BA0gzs7A5ZIBoZkZ2BwsQg5EZQwaJAZHhZFAAmYkhzg20n5GJgYkZyM5gYmFNYGVLYGPPYGLnSODgzGDi5GLg5E7g5slg4mFOYONJEGFiZWZhZeNhY+fg5OZhE4c5noH3Q9CsA+LfdtqDOLadBQdiF56yA7FDnwgfsPzqCRZP6Z+/v9encx+I/frznv1H+R/sB7FL1/HsexokfQDEfpSfbd+csw4s3rRPymHWpe1g9pKDfg7RfcZgvbaPlBwkQ6eAzUx4Gubw5ZaUA4id8b/VXn/3XLC4xMl8u2PpL/eA2GIAoddGG423CGkAAAEgelRYdE1PTCByZGtpdCAyMDIwLjA5LjEAAHicnVRLasUwDNz7FLrAM/rZstZNuyl9iy56h+57fyrHicmDFh42JswgaRjJIgn6+dzev39gHt5SAhIgBcA/r7vDFyNiivSb5sZceyVlLdw6whxRhBf4T+J6dxXJVpqOWvFyVbk/r8JZCI9aa83XvFBmrb2jG2aujVdV1CoPZAXLmgpmEtPRm3L1pblEhZPb8CKVbckLhAMyP3qTSmsqklnwmC5ZkVUvRQuNraPS1rYuvEgxO3vzelF5e16FMup4mdgc4cWOYtdEecwFuS3tSwyE928ngWSSQDpJoLLHOwlUZySQTRKozbRAPiMOhGckENEZ6WQ6CBT/kTPtwYHtfCcfAK/3Lf0CGt6zeyfAoTIAAADIelRYdFNNSUxFUyByZGtpdCAyMDIwLjA5LjEAAHicHY47rkJBCEC38kpNuIQ/TG5pYqzcgLGa3hW4+Ad2kzOHA7fnbfN+fR7vLXvvy/26N8vf93IYlkgIMJpLCZyHYnppAaEuzxgkqEzFjbKqVjViFAsPOAglin9aNzJ4QT/SyUYjZE0tg26YxFI4CRevyBhNoxmc/cddHmIazHAqipLn5DldpyXo5hR9KXuVj6Oe6TDTK3qIkSxqDFGRnFWixvG7kqSsF8P1+w+cdDfyPW7GWwAAAABJRU5ErkJggg==\" alt=\"Mol\"/></td>\n",
       "    </tr>\n",
       "    <tr>\n",
       "      <th>410</th>\n",
       "      <td>Mpro-x3359_0A</td>\n",
       "      <td>Mpro-x3359</td>\n",
       "      <td>CCNC(=O)C(N(C(=O)CC)C1=CC=C(C=C1)C(C)(C)C)C1=C...</td>\n",
       "      <td>CCNC(=O)C(N(C(=O)CC)C1=CC=C(C=C1)C(C)(C)C)C1=C...</td>\n",
       "      <td>LON-WEI-adc59df6-30</td>\n",
       "      <td>A6 - Ugi</td>\n",
       "      <td>5RL5</td>\n",
       "      <td><img data-content=\"rdkit/molecule\" src=\"data:image/png;base64,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\" alt=\"Mol\"/></td>\n",
       "    </tr>\n",
       "    <tr>\n",
       "      <th>411</th>\n",
       "      <td>Mpro-x3366_0A</td>\n",
       "      <td>Mpro-x3366</td>\n",
       "      <td>CC=1C=CN=CC1NC(=O)CC=2C=CC=3NC=NC3C2</td>\n",
       "      <td>NaN</td>\n",
       "      <td>GAB-REV-70cc3ca5-18</td>\n",
       "      <td>A1 - Aminopyridine-like</td>\n",
       "      <td>NaN</td>\n",
       "      <td><img data-content=\"rdkit/molecule\" src=\"data:image/png;base64,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\" alt=\"Mol\"/></td>\n",
       "    </tr>\n",
       "  </tbody>\n",
       "</table>\n",
       "<p>404 rows × 8 columns</p>\n",
       "</div>"
      ],
      "text/plain": [
       "      crystal_name RealCrystalName  \\\n",
       "1     Mpro-6lze_0A       Mpro-6lze   \n",
       "2     Mpro-6m0k_0A       Mpro-6m0k   \n",
       "3     Mpro-6m2n_0A       Mpro-6m2n   \n",
       "4     Mpro-6m2n_0B       Mpro-6m2n   \n",
       "5     Mpro-6m2n_0C       Mpro-6m2n   \n",
       "..             ...             ...   \n",
       "407  Mpro-x3348_0A      Mpro-x3348   \n",
       "408  Mpro-x3351_0A      Mpro-x3351   \n",
       "409  Mpro-x3351_1A      Mpro-x3351   \n",
       "410  Mpro-x3359_0A      Mpro-x3359   \n",
       "411  Mpro-x3366_0A      Mpro-x3366   \n",
       "\n",
       "                                                smiles  \\\n",
       "1    O=C[C@H](C[C@@H]1CCNC1=O)NC(=O)[C@H](CC1CCCCC1...   \n",
       "2    O=C[C@H](C[C@@H]1CCNC1=O)NC(=O)[C@H](Cc1cccc(F...   \n",
       "3                 O=c1cc(-c2ccccc2)oc2cc(O)c(O)c(O)c12   \n",
       "4                 O=c1cc(-c2ccccc2)oc2cc(O)c(O)c(O)c12   \n",
       "5                 O=c1cc(-c2ccccc2)oc2cc(O)c(O)c(O)c12   \n",
       "..                                                 ...   \n",
       "407          CC(=O)N1CCN(CC1)C(C1=CC=CC=C1)C1=CC=CC=C1   \n",
       "408                            CNCC1=CNC=2C=CC(F)=CC12   \n",
       "409                            CNCC1=CNC=2C=CC(F)=CC12   \n",
       "410  CCNC(=O)C(N(C(=O)CC)C1=CC=C(C=C1)C(C)(C)C)C1=C...   \n",
       "411               CC=1C=CN=CC1NC(=O)CC=2C=CC=3NC=NC3C2   \n",
       "\n",
       "                                            new_smiles       alternate_name  \\\n",
       "1                                                  NaN                  NaN   \n",
       "2                                                  NaN                  NaN   \n",
       "3                                                  NaN                  NaN   \n",
       "4                                                  NaN                  NaN   \n",
       "5                                                  NaN                  NaN   \n",
       "..                                                 ...                  ...   \n",
       "407          CC(=O)N1CCN(CC1)C(C1=CC=CC=C1)C1=CC=CC=C1   SIM-SYN-f15aaa3a-1   \n",
       "408                                                NaN  DAR-DIA-eace69ff-36   \n",
       "409                                                NaN  DAR-DIA-eace69ff-36   \n",
       "410  CCNC(=O)C(N(C(=O)CC)C1=CC=C(C=C1)C(C)(C)C)C1=C...  LON-WEI-adc59df6-30   \n",
       "411                                                NaN  GAB-REV-70cc3ca5-18   \n",
       "\n",
       "                   site_name pdb_entry  \\\n",
       "1        P1 - PDB structures      6LZE   \n",
       "2        P1 - PDB structures      6M0K   \n",
       "3        P1 - PDB structures      6M2N   \n",
       "4        P1 - PDB structures      6M2N   \n",
       "5        P1 - PDB structures      6M2N   \n",
       "..                       ...       ...   \n",
       "407     A3 - Chloroacetamide       NaN   \n",
       "408    M1 - Moonshot - other       NaN   \n",
       "409    M1 - Moonshot - other       NaN   \n",
       "410                 A6 - Ugi      5RL5   \n",
       "411  A1 - Aminopyridine-like       NaN   \n",
       "\n",
       "                                                 ROMol  \n",
       "1    <img data-content=\"rdkit/molecule\" src=\"data:i...  \n",
       "2    <img data-content=\"rdkit/molecule\" src=\"data:i...  \n",
       "3    <img data-content=\"rdkit/molecule\" src=\"data:i...  \n",
       "4    <img data-content=\"rdkit/molecule\" src=\"data:i...  \n",
       "5    <img data-content=\"rdkit/molecule\" src=\"data:i...  \n",
       "..                                                 ...  \n",
       "407  <img data-content=\"rdkit/molecule\" src=\"data:i...  \n",
       "408  <img data-content=\"rdkit/molecule\" src=\"data:i...  \n",
       "409  <img data-content=\"rdkit/molecule\" src=\"data:i...  \n",
       "410  <img data-content=\"rdkit/molecule\" src=\"data:i...  \n",
       "411  <img data-content=\"rdkit/molecule\" src=\"data:i...  \n",
       "\n",
       "[404 rows x 8 columns]"
      ]
     },
     "execution_count": 8,
     "metadata": {},
     "output_type": "execute_result"
    }
   ],
   "source": [
    "from rdkit.Chem.PandasTools import AddMoleculeColumnToFrame\n",
    "AddMoleculeColumnToFrame(metadata, smilesCol=\"smiles\")\n",
    "metadata"
   ]
  },
  {
   "cell_type": "markdown",
   "metadata": {},
   "source": [
    "Prealigned PDBs for each row can be found in `data/aligned/{crystal_name}/{crystal_name}_bound.pdb`:"
   ]
  },
  {
   "cell_type": "code",
   "execution_count": 9,
   "metadata": {},
   "outputs": [
    {
     "data": {
      "application/vnd.jupyter.widget-view+json": {
       "model_id": "9877afd190f64705aaebe9969a3a57b1",
       "version_major": 2,
       "version_minor": 0
      },
      "text/plain": []
     },
     "metadata": {},
     "output_type": "display_data"
    },
    {
     "data": {
      "application/vnd.jupyter.widget-view+json": {
       "model_id": "545b0a7a664b4708b2447a004d50e9f8",
       "version_major": 2,
       "version_minor": 0
      },
      "text/plain": [
       "NGLWidget()"
      ]
     },
     "metadata": {},
     "output_type": "display_data"
    }
   ],
   "source": [
    "import nglview as nv\n",
    "\n",
    "view = nv.show_structure_file(f\"data/aligned/{metadata.crystal_name[1]}/{metadata.crystal_name[1]}_bound.pdb\")\n",
    "view"
   ]
  },
  {
   "cell_type": "markdown",
   "metadata": {},
   "source": [
    "As the directory name suggests, these are prealigned:"
   ]
  },
  {
   "cell_type": "code",
   "execution_count": 10,
   "metadata": {},
   "outputs": [
    {
     "data": {
      "application/vnd.jupyter.widget-view+json": {
       "model_id": "edc67e2cb5f2410e8e4ab41e405bf1dc",
       "version_major": 2,
       "version_minor": 0
      },
      "text/plain": [
       "NGLWidget()"
      ]
     },
     "metadata": {},
     "output_type": "display_data"
    }
   ],
   "source": [
    "from time import sleep\n",
    "view = nv.NGLWidget()\n",
    "for i in range(1, 5):\n",
    "    structure = nv.adaptor.FileStructure(f\"data/aligned/{metadata.crystal_name[i]}/{metadata.crystal_name[i]}_bound.pdb\")\n",
    "    view.add_component(structure)\n",
    "view"
   ]
  },
  {
   "cell_type": "markdown",
   "metadata": {},
   "source": [
    "Notice how binding sites are not always the same."
   ]
  },
  {
   "cell_type": "markdown",
   "metadata": {},
   "source": [
    "What the zip archive does not include is information about the interactions, but this is indeed available in the API! Getting that information requires several steps, though:"
   ]
  },
  {
   "cell_type": "code",
   "execution_count": 11,
   "metadata": {},
   "outputs": [],
   "source": [
    "def interactions_for_structure(target_id):\n",
    "    \"\"\"\n",
    "    1. Get all compounds associated with target\n",
    "    2. Interactions can be queried by pairs of protein residue and compound\n",
    "    3. \n",
    "    \"\"\"\n",
    "    r = requests.get(f\"https://fragalysis.diamond.ac.uk/api/molgroup/?target_id={target_id}&group_type=MC\")\n",
    "    r.raise_for_status()\n",
    "    molgroups = r.json()\n",
    "    ligands = []\n",
    "    for molgroup in molgroups[\"results\"]:\n",
    "        r = requests.get(f\"https://fragalysis.diamond.ac.uk/api/molecules/?mol_groups={molgroup['id']}&mol_type=PR\")\n",
    "        r.raise_for_status()\n",
    "        ligands.extend(r.json()[\"results\"])\n",
    "        \n",
    "    interaction_points = []\n",
    "#     # TODO\n",
    "#     for ligand in ligands:\n",
    "#         url = f\"https://fragalysis.diamond.ac.uk/api/interactionpoints/?mol_id={ligand['cmpd_id']}\"\n",
    "#         while url:\n",
    "#             r = requests.get(url)\n",
    "#             r.raise_for_status()\n",
    "#             data = r.json()\n",
    "#             interaction_points.extend(data[\"results\"])\n",
    "#             url = data[\"next\"]\n",
    "        \n",
    "                        \n",
    "    return ligands, interaction_points"
   ]
  },
  {
   "cell_type": "code",
   "execution_count": 12,
   "metadata": {},
   "outputs": [],
   "source": [
    "ligands, interactions = interactions_for_structure(68)"
   ]
  },
  {
   "cell_type": "code",
   "execution_count": 13,
   "metadata": {},
   "outputs": [
    {
     "data": {
      "text/plain": [
       "{'id': 37159,\n",
       " 'smiles': 'CC(=O)Nc1cnccc1C',\n",
       " 'cmpd_id': 3830,\n",
       " 'prot_id': 37070,\n",
       " 'protein_code': 'Mpro-x0107A:MAK-UNK-6435e6c2-8',\n",
       " 'mol_type': 'PR',\n",
       " 'molecule_protein': '/media/pdbs/Mpro-x0107_0A_apo.pdb',\n",
       " 'lig_id': 'LIG',\n",
       " 'chain_id': 'Z',\n",
       " 'sdf_info': '\\n     RDKit          3D\\n\\n 11 11  0  0  0  0  0  0  0  0999 V2000\\n   10.0930   -0.7090   22.5610 C   0  0  0  0  0  0  0  0  0  0  0  0\\n    9.1970   -0.0850   21.4940 C   0  0  0  0  0  0  0  0  0  0  0  0\\n    7.0950   -0.1380   20.0970 C   0  0  0  0  0  0  0  0  0  0  0  0\\n    7.4670   -0.2020   18.7610 C   0  0  0  0  0  0  0  0  0  0  0  0\\n    5.5850    0.9230   18.1010 C   0  0  0  0  0  0  0  0  0  0  0  0\\n    5.1320    1.0430   19.4080 C   0  0  0  0  0  0  0  0  0  0  0  0\\n    5.9020    0.4960   20.4350 C   0  0  0  0  0  0  0  0  0  0  0  0\\n    5.4610    0.5980   21.8930 C   0  0  0  0  0  0  0  0  0  0  0  0\\n    7.9490   -0.7270   21.1170 N   0  0  0  0  0  0  0  0  0  0  0  0\\n    6.7150    0.3200   17.8100 N   0  0  0  0  0  0  0  0  0  0  0  0\\n    9.5230    0.9280   20.9800 O   0  0  0  0  0  0  0  0  0  0  0  0\\n  2  1  1  0\\n  4  3  2  0\\n  6  5  1  0\\n  7  6  2  0\\n  7  3  1  0\\n  8  7  1  0\\n  9  3  1  0\\n  9  2  1  0\\n 10  5  2  0\\n 10  4  1  0\\n 11  2  2  0\\nM  END\\n',\n",
       " 'x_com': None,\n",
       " 'y_com': None,\n",
       " 'z_com': None,\n",
       " 'mw': 150.08,\n",
       " 'logp': 1.35,\n",
       " 'tpsa': 41.99,\n",
       " 'ha': 11,\n",
       " 'hacc': 2,\n",
       " 'hdon': 1,\n",
       " 'rots': 1,\n",
       " 'rings': 1,\n",
       " 'velec': 58}"
      ]
     },
     "execution_count": 13,
     "metadata": {},
     "output_type": "execute_result"
    }
   ],
   "source": [
    "ligands[0]"
   ]
  },
  {
   "cell_type": "code",
   "execution_count": 14,
   "metadata": {},
   "outputs": [
    {
     "data": {
      "text/plain": [
       "391"
      ]
     },
     "execution_count": 14,
     "metadata": {},
     "output_type": "execute_result"
    }
   ],
   "source": [
    "len(ligands)"
   ]
  },
  {
   "cell_type": "markdown",
   "metadata": {},
   "source": [
    "## Ingesting it in `plipify` \n",
    "\n",
    "TBD."
   ]
  },
  {
   "cell_type": "code",
   "execution_count": 15,
   "metadata": {},
   "outputs": [],
   "source": [
    "from plipify.plip_fingerprints import read_residues\n",
    "from plipify.core import Structure\n",
    "from plipify.fingerprints import InteractionFingerprint\n",
    "from tqdm.auto import tqdm\n",
    "from pathlib import Path"
   ]
  },
  {
   "cell_type": "code",
   "execution_count": 25,
   "metadata": {},
   "outputs": [],
   "source": [
    "indices = list(range(20, 193))\n",
    "\n",
    "def calculate_fingerprints(structure_folder, ligand_identifier=\"LIG\"):\n",
    "    structures = [Structure.from_pdbfile(str(path), ligand_identifier=ligand_identifier)\n",
    "                  for path in tqdm(Path(structure_folder).glob(\"**/*_bound.pdb\"))]\n",
    "   \n",
    "    return InteractionFingerprint(indices).calculate_fingerprint(\n",
    "        structures,\n",
    "        labeled=True, \n",
    "        as_dataframe=True, \n",
    "        remove_non_interacting_residues=True\n",
    "    )"
   ]
  },
  {
   "cell_type": "code",
   "execution_count": 26,
   "metadata": {},
   "outputs": [
    {
     "data": {
      "application/vnd.jupyter.widget-view+json": {
       "model_id": "a2f75f57ed6e4c2283f288caed046f77",
       "version_major": 2,
       "version_minor": 0
      },
      "text/plain": [
       "HBox(children=(HTML(value=''), FloatProgress(value=1.0, bar_style='info', layout=Layout(width='20px'), max=1.0…"
      ]
     },
     "metadata": {},
     "output_type": "display_data"
    },
    {
     "name": "stdout",
     "output_type": "stream",
     "text": [
      "\n",
      "! Warning, could not process structure <plipify.core.Structure object at 0x7f294dec38e0> due to error ValueError No residue with such sequence index: 20, None!\n",
      "! Warning, could not process structure <plipify.core.Structure object at 0x7f294d7177c0> due to error ValueError No residue with such sequence index: 20, None!\n",
      "! Warning, could not process structure <plipify.core.Structure object at 0x7f294d7f7940> due to error ValueError No residue with such sequence index: 46, None!\n",
      "! Warning, could not process structure <plipify.core.Structure object at 0x7f294dcb3130> due to error ValueError No residue with such sequence index: 20, None!\n",
      "! Warning, could not process structure <plipify.core.Structure object at 0x7f294d6a6dc0> due to error ValueError No residue with such sequence index: 145, None!\n",
      "! Warning, could not process structure <plipify.core.Structure object at 0x7f294db48850> due to error ValueError No residue with such sequence index: 20, None!\n",
      "! Warning, could not process structure <plipify.core.Structure object at 0x7f294d50b940> due to error ValueError No residue with such sequence index: 20, None!\n",
      "! Warning, could not process structure <plipify.core.Structure object at 0x7f294dc1f6a0> due to error ValueError No residue with such sequence index: 46, None!\n",
      "! Warning, could not process structure <plipify.core.Structure object at 0x7f294d50b250> due to error ValueError No residue with such sequence index: 20, None!\n",
      "! Warning, could not process structure <plipify.core.Structure object at 0x7f294de00100> due to error ValueError No residue with such sequence index: 20, None!\n",
      "! Warning, could not process structure <plipify.core.Structure object at 0x7f294ce8b4f0> due to error ValueError No residue with such sequence index: 145, None!\n",
      "! Warning, could not process structure <plipify.core.Structure object at 0x7f294caf9550> due to error ValueError No residue with such sequence index: 20, None!\n",
      "! Warning, could not process structure <plipify.core.Structure object at 0x7f294df3a070> due to error ValueError No residue with such sequence index: 145, None!\n",
      "! Warning, could not process structure <plipify.core.Structure object at 0x7f294db63640> due to error ValueError No residue with such sequence index: 20, None!\n",
      "! Warning, could not process structure <plipify.core.Structure object at 0x7f294c2a2bb0> due to error ValueError No residue with such sequence index: 20, None!\n",
      "! Warning, could not process structure <plipify.core.Structure object at 0x7f294cdab7f0> due to error ValueError No residue with such sequence index: 20, None!\n",
      "! Warning, could not process structure <plipify.core.Structure object at 0x7f294c579700> due to error ValueError No residue with such sequence index: 45, None!\n",
      "! Warning, could not process structure <plipify.core.Structure object at 0x7f294c730430> due to error ValueError No residue with such sequence index: 20, None!\n",
      "! Warning, could not process structure <plipify.core.Structure object at 0x7f294d10af10> due to error ValueError No residue with such sequence index: 20, None!\n",
      "! Warning, could not process structure <plipify.core.Structure object at 0x7f294c7e4a00> due to error ValueError No residue with such sequence index: 145, None!\n",
      "! Warning, could not process structure <plipify.core.Structure object at 0x7f294c2709a0> due to error ValueError No residue with such sequence index: 20, None!\n",
      "! Warning, could not process structure <plipify.core.Structure object at 0x7f294c9f1b50> due to error ValueError No residue with such sequence index: 47, None!\n",
      "! Warning, could not process structure <plipify.core.Structure object at 0x7f294ca9c400> due to error ValueError No residue with such sequence index: 20, None!\n",
      "! Warning, could not process structure <plipify.core.Structure object at 0x7f294c4e2790> due to error ValueError No residue with such sequence index: 20, None!\n",
      "! Warning, could not process structure <plipify.core.Structure object at 0x7f294c4f3b80> due to error ValueError No residue with such sequence index: 20, None!\n",
      "! Warning, could not process structure <plipify.core.Structure object at 0x7f294ca69e80> due to error ValueError No residue with such sequence index: 145, None!\n",
      "! Warning, could not process structure <plipify.core.Structure object at 0x7f294d7a12e0> due to error ValueError No residue with such sequence index: 20, None!\n",
      "! Warning, could not process structure <plipify.core.Structure object at 0x7f294c4d7220> due to error ValueError No residue with such sequence index: 46, None!\n",
      "! Warning, could not process structure <plipify.core.Structure object at 0x7f2937a80bb0> due to error ValueError No residue with such sequence index: 20, None!\n",
      "! Warning, could not process structure <plipify.core.Structure object at 0x7f294cdc3d90> due to error ValueError No residue with such sequence index: 20, None!\n",
      "! Warning, could not process structure <plipify.core.Structure object at 0x7f294d1fb850> due to error ValueError No residue with such sequence index: 20, None!\n",
      "! Warning, could not process structure <plipify.core.Structure object at 0x7f294c7bb850> due to error ValueError No residue with such sequence index: 20, None!\n",
      "! Warning, could not process structure <plipify.core.Structure object at 0x7f2937cc9610> due to error ValueError No residue with such sequence index: 20, None!\n",
      "! Warning, could not process structure <plipify.core.Structure object at 0x7f294dbf7a00> due to error ValueError No residue with such sequence index: 20, None!\n",
      "! Warning, could not process structure <plipify.core.Structure object at 0x7f294db32dc0> due to error ValueError No residue with such sequence index: 45, None!\n",
      "! Warning, could not process structure <plipify.core.Structure object at 0x7f294d011cd0> due to error ValueError No residue with such sequence index: 46, None!\n",
      "! Warning, could not process structure <plipify.core.Structure object at 0x7f29374bf820> due to error ValueError No residue with such sequence index: 20, None!\n"
     ]
    },
    {
     "ename": "AssertionError",
     "evalue": "",
     "output_type": "error",
     "traceback": [
      "\u001b[0;31m---------------------------------------------------------------------------\u001b[0m",
      "\u001b[0;31mAssertionError\u001b[0m                            Traceback (most recent call last)",
      "\u001b[0;32m<ipython-input-26-75868c5154c5>\u001b[0m in \u001b[0;36m<module>\u001b[0;34m\u001b[0m\n\u001b[0;32m----> 1\u001b[0;31m \u001b[0mfp\u001b[0m \u001b[0;34m=\u001b[0m \u001b[0mcalculate_fingerprints\u001b[0m\u001b[0;34m(\u001b[0m\u001b[0;34m\"data/aligned/\"\u001b[0m\u001b[0;34m)\u001b[0m\u001b[0;34m\u001b[0m\u001b[0;34m\u001b[0m\u001b[0m\n\u001b[0m\u001b[1;32m      2\u001b[0m \u001b[0mfp\u001b[0m\u001b[0;34m\u001b[0m\u001b[0;34m\u001b[0m\u001b[0m\n",
      "\u001b[0;32m<ipython-input-25-e07584397a1f>\u001b[0m in \u001b[0;36mcalculate_fingerprints\u001b[0;34m(structure_folder, ligand_identifier)\u001b[0m\n\u001b[1;32m      5\u001b[0m                   for path in tqdm(Path(structure_folder).glob(\"**/*_bound.pdb\"))]\n\u001b[1;32m      6\u001b[0m \u001b[0;34m\u001b[0m\u001b[0m\n\u001b[0;32m----> 7\u001b[0;31m     return InteractionFingerprint(indices).calculate_fingerprint(\n\u001b[0m\u001b[1;32m      8\u001b[0m         \u001b[0mstructures\u001b[0m\u001b[0;34m,\u001b[0m\u001b[0;34m\u001b[0m\u001b[0;34m\u001b[0m\u001b[0m\n\u001b[1;32m      9\u001b[0m         \u001b[0mlabeled\u001b[0m\u001b[0;34m=\u001b[0m\u001b[0;32mTrue\u001b[0m\u001b[0;34m,\u001b[0m\u001b[0;34m\u001b[0m\u001b[0;34m\u001b[0m\u001b[0m\n",
      "\u001b[0;32m~/devel/py/volkamerlab/plipify/plipify/fingerprints.py\u001b[0m in \u001b[0;36mcalculate_fingerprint\u001b[0;34m(self, structures, labeled, cumulative, as_dataframe, remove_non_interacting_residues)\u001b[0m\n\u001b[1;32m     71\u001b[0m \u001b[0;34m\u001b[0m\u001b[0m\n\u001b[1;32m     72\u001b[0m         \u001b[0;32mif\u001b[0m \u001b[0mcumulative\u001b[0m\u001b[0;34m:\u001b[0m\u001b[0;34m\u001b[0m\u001b[0;34m\u001b[0m\u001b[0m\n\u001b[0;32m---> 73\u001b[0;31m             \u001b[0mcumul_fp\u001b[0m \u001b[0;34m=\u001b[0m \u001b[0mself\u001b[0m\u001b[0;34m.\u001b[0m\u001b[0m_acumulate_fingerprints\u001b[0m\u001b[0;34m(\u001b[0m\u001b[0mfingerprints\u001b[0m\u001b[0;34m)\u001b[0m\u001b[0;34m\u001b[0m\u001b[0;34m\u001b[0m\u001b[0m\n\u001b[0m\u001b[1;32m     74\u001b[0m             \u001b[0;32mif\u001b[0m \u001b[0mlabeled\u001b[0m \u001b[0;32mand\u001b[0m \u001b[0mas_dataframe\u001b[0m\u001b[0;34m:\u001b[0m\u001b[0;34m\u001b[0m\u001b[0;34m\u001b[0m\u001b[0m\n\u001b[1;32m     75\u001b[0m                 \u001b[0mplotdata\u001b[0m \u001b[0;34m=\u001b[0m \u001b[0mdefaultdict\u001b[0m\u001b[0;34m(\u001b[0m\u001b[0mlist\u001b[0m\u001b[0;34m)\u001b[0m\u001b[0;34m\u001b[0m\u001b[0;34m\u001b[0m\u001b[0m\n",
      "\u001b[0;32m~/devel/py/volkamerlab/plipify/plipify/fingerprints.py\u001b[0m in \u001b[0;36m_acumulate_fingerprints\u001b[0;34m(self, fingerprints)\u001b[0m\n\u001b[1;32m    116\u001b[0m                 \u001b[0;32mfor\u001b[0m \u001b[0mattr\u001b[0m \u001b[0;32min\u001b[0m \u001b[0;34m(\u001b[0m\u001b[0;34m\"name\"\u001b[0m\u001b[0;34m,\u001b[0m \u001b[0;34m\"seq_index\"\u001b[0m\u001b[0;34m,\u001b[0m \u001b[0;34m\"chain\"\u001b[0m\u001b[0;34m)\u001b[0m\u001b[0;34m:\u001b[0m\u001b[0;34m\u001b[0m\u001b[0;34m\u001b[0m\u001b[0m\n\u001b[1;32m    117\u001b[0m                     \u001b[0mattrs\u001b[0m \u001b[0;34m=\u001b[0m \u001b[0;34m[\u001b[0m\u001b[0mgetattr\u001b[0m\u001b[0;34m(\u001b[0m\u001b[0mlabel\u001b[0m\u001b[0;34m[\u001b[0m\u001b[0;34m\"residue\"\u001b[0m\u001b[0;34m]\u001b[0m\u001b[0;34m,\u001b[0m \u001b[0mattr\u001b[0m\u001b[0;34m)\u001b[0m \u001b[0;32mfor\u001b[0m \u001b[0mlabel\u001b[0m \u001b[0;32min\u001b[0m \u001b[0mlabels\u001b[0m\u001b[0;34m]\u001b[0m\u001b[0;34m\u001b[0m\u001b[0;34m\u001b[0m\u001b[0m\n\u001b[0;32m--> 118\u001b[0;31m                     \u001b[0;32massert\u001b[0m \u001b[0mall\u001b[0m\u001b[0;34m(\u001b[0m\u001b[0;34m[\u001b[0m\u001b[0mattrs\u001b[0m\u001b[0;34m[\u001b[0m\u001b[0;36m0\u001b[0m\u001b[0;34m]\u001b[0m \u001b[0;34m==\u001b[0m \u001b[0mattr_\u001b[0m \u001b[0;32mfor\u001b[0m \u001b[0mattr_\u001b[0m \u001b[0;32min\u001b[0m \u001b[0mattrs\u001b[0m\u001b[0;34m[\u001b[0m\u001b[0;36m1\u001b[0m\u001b[0;34m:\u001b[0m\u001b[0;34m]\u001b[0m\u001b[0;34m]\u001b[0m\u001b[0;34m)\u001b[0m\u001b[0;34m\u001b[0m\u001b[0;34m\u001b[0m\u001b[0m\n\u001b[0m\u001b[1;32m    119\u001b[0m                 \u001b[0;32massert\u001b[0m \u001b[0mall\u001b[0m\u001b[0;34m(\u001b[0m\u001b[0;34m[\u001b[0m\u001b[0mlabels\u001b[0m\u001b[0;34m[\u001b[0m\u001b[0;36m0\u001b[0m\u001b[0;34m]\u001b[0m\u001b[0;34m[\u001b[0m\u001b[0;34m\"type\"\u001b[0m\u001b[0;34m]\u001b[0m \u001b[0;34m==\u001b[0m \u001b[0mlabel\u001b[0m\u001b[0;34m[\u001b[0m\u001b[0;34m\"type\"\u001b[0m\u001b[0;34m]\u001b[0m \u001b[0;32mfor\u001b[0m \u001b[0mlabel\u001b[0m \u001b[0;32min\u001b[0m \u001b[0mlabels\u001b[0m\u001b[0;34m[\u001b[0m\u001b[0;36m1\u001b[0m\u001b[0;34m:\u001b[0m\u001b[0;34m]\u001b[0m\u001b[0;34m]\u001b[0m\u001b[0;34m)\u001b[0m\u001b[0;34m\u001b[0m\u001b[0;34m\u001b[0m\u001b[0m\n\u001b[1;32m    120\u001b[0m                 \u001b[0mold_res\u001b[0m \u001b[0;34m=\u001b[0m \u001b[0mlabels\u001b[0m\u001b[0;34m[\u001b[0m\u001b[0;36m0\u001b[0m\u001b[0;34m]\u001b[0m\u001b[0;34m[\u001b[0m\u001b[0;34m\"residue\"\u001b[0m\u001b[0;34m]\u001b[0m\u001b[0;34m\u001b[0m\u001b[0;34m\u001b[0m\u001b[0m\n",
      "\u001b[0;31mAssertionError\u001b[0m: "
     ]
    }
   ],
   "source": [
    "fp = calculate_fingerprints(\"data/aligned/\")\n",
    "fp"
   ]
  },
  {
   "cell_type": "markdown",
   "metadata": {},
   "source": [
    "## Generating publication-worthy figures\n",
    "\n",
    "TBD."
   ]
  }
 ],
 "metadata": {
  "kernelspec": {
   "display_name": "Python 3",
   "language": "python",
   "name": "python3"
  },
  "language_info": {
   "codemirror_mode": {
    "name": "ipython",
    "version": 3
   },
   "file_extension": ".py",
   "mimetype": "text/x-python",
   "name": "python",
   "nbconvert_exporter": "python",
   "pygments_lexer": "ipython3",
   "version": "3.9.0"
  },
  "widgets": {
   "application/vnd.jupyter.widget-state+json": {
    "state": {},
    "version_major": 2,
    "version_minor": 0
   }
  }
 },
 "nbformat": 4,
 "nbformat_minor": 4
}
